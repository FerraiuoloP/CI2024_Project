{
 "cells": [
  {
   "cell_type": "code",
   "execution_count": 1,
   "metadata": {},
   "outputs": [],
   "source": [
    "import numpy as np\n",
    "from icecream import ic\n",
    "from tqdm import tqdm\n",
    "import cProfile \n",
    "import time\n",
    "import warnings\n",
    "import math"
   ]
  },
  {
   "cell_type": "code",
   "execution_count": 2,
   "metadata": {},
   "outputs": [
    {
     "data": {
      "text/plain": [
       "{'divide': 'warn', 'over': 'warn', 'under': 'ignore', 'invalid': 'warn'}"
      ]
     },
     "execution_count": 2,
     "metadata": {},
     "output_type": "execute_result"
    }
   ],
   "source": [
    "# Warning settings\n",
    "np.seterr(all=\"ignore\") #ignore np warnings, the output will be nan or inf and will be handled correctly in the code. (using np.errstate slows down the code)\n",
    "# warnings.filterwarnings(\"ignore\", category=RuntimeWarning)"
   ]
  },
  {
   "cell_type": "markdown",
   "metadata": {},
   "source": [
    "### Load a problem"
   ]
  },
  {
   "cell_type": "code",
   "execution_count": 110,
   "metadata": {},
   "outputs": [
    {
     "name": "stdout",
     "output_type": "stream",
     "text": [
      "Problem number: 1, variables: 1, train size: 400, test size: 100\n"
     ]
    }
   ],
   "source": [
    "# Configuration\n",
    "TRAIN_TEST_RATIO=0.8\n",
    "PROBLEM_NUMBER=1\n",
    "\n",
    "# Load problem data with context manager protocol\n",
    "with np.load(f'data/problem_{PROBLEM_NUMBER}.npz') as problem:\n",
    "    x_1 = problem['x']\n",
    "    y_1 = problem['y']\n",
    "\n",
    "# Shuffle the data\n",
    "permutation = np.random.permutation(len(y_1))\n",
    "x_1 = x_1[:, permutation]\n",
    "y_1 = y_1[permutation]\n",
    "\n",
    "# Determine train test split sizes\n",
    "problem_len=len(y_1)\n",
    "train_size=int(TRAIN_TEST_RATIO*problem_len)\n",
    "\n",
    "# Split data\n",
    "x_train=x_1[:, :train_size]\n",
    "y_train=y_1[:train_size]\n",
    "\n",
    "x_test=x_1[:, train_size:]\n",
    "y_test=y_1[train_size:]\n",
    "\n",
    "# To view the npz file, run python -m npzviewer \n",
    "# Print dataset information\n",
    "print(f\"Problem number: {PROBLEM_NUMBER}, variables: {x_1.shape[0]}, train size: {train_size}, test size: {problem_len-train_size}\")"
   ]
  },
  {
   "cell_type": "markdown",
   "metadata": {},
   "source": [
    "### Numpy functions definition"
   ]
  },
  {
   "cell_type": "code",
   "execution_count": 98,
   "metadata": {},
   "outputs": [],
   "source": [
    "unary_ops = [\n",
    "    np.negative,\n",
    "    np.abs,\n",
    "    np.sqrt,\n",
    "    np.exp,\n",
    "    np.log,\n",
    "    np.sin,\n",
    "    np.cos,\n",
    "    np.tan,\n",
    "    # np.arcsin,\n",
    "    # np.arccos,\n",
    "    # np.arctan,\n",
    "    # np.ceil,\n",
    "    # np.floor\n",
    "]\n",
    "\n",
    "binary_ops = [\n",
    "    np.add,\n",
    "    np.subtract,\n",
    "    np.multiply,\n",
    "    np.divide,\n",
    "    np.power,\n",
    "    # np.maximum,\n",
    "    # np.minimum,\n",
    "    # np.mod\n",
    "]"
   ]
  },
  {
   "cell_type": "markdown",
   "metadata": {},
   "source": [
    "### Symbolic regression class"
   ]
  },
  {
   "cell_type": "code",
   "execution_count": 111,
   "metadata": {},
   "outputs": [],
   "source": [
    "from tree import Tree\n",
    "\n",
    "class SymbolicRegression:\n",
    "    def __init__(self, population_size, max_generations, mutation_rate, elitism_size, grow_full_ratio):\n",
    "        self.population_size = population_size\n",
    "        self.max_generations = max_generations\n",
    "        self.mutation_rate = mutation_rate\n",
    "        self.elitism_size = elitism_size\n",
    "        self.grow_full_ratio = grow_full_ratio\n",
    "\n",
    "        self.unary_ops = unary_ops\n",
    "        self.binary_ops = binary_ops\n",
    "        self.best_fitness_history = []\n",
    "        self.random_parents_generations = self.max_generations * 0.005   # random parents selection generations\n",
    "\n",
    "        self.population = np.array([\n",
    "            Tree(\"grow\") if i < int(population_size * self.grow_full_ratio) else Tree(\"full\")\n",
    "            for i in range(population_size)\n",
    "        ])\n",
    "\n",
    "    # Parents selection methods\n",
    "    def select_parents_fitness_age(self, n_elems=2):\n",
    "        \"\"\"\n",
    "        Evolves a population considering how long the genotype has been in the population and fitness.\n",
    "        Reference: Age-fitness pareto optimization https://dl.acm.org/doi/10.1145/1830483.1830584\n",
    "        \"\"\"\n",
    "        return sorted(self.population, key=lambda tree: (-tree.fitness, -tree.age))[:n_elems]\n",
    "\n",
    "    def select_parents_fitness_proportional(self, n_elems=2, epsilon=1e-10):\n",
    "        \"\"\"\n",
    "        Individuals with lower fitness have an higher probability to be selected.\n",
    "        Premature convergence if few individuals have significantly better fitness than others.\n",
    "        \"\"\"\n",
    "        fitnesses = [tree.fitness for tree in self.population]\n",
    "        inverted_fitnesses = [1 / (fitness + epsilon) for fitness in fitnesses]  # avoid division by zero\n",
    "        probabilities = inverted_fitnesses / sum(inverted_fitnesses)\n",
    "        parent1, parent2 = np.random.choice(self.population, size=n_elems, p=probabilities, replace=False)\n",
    "        return parent1, parent2\n",
    "    \n",
    "    def select_parents_lexicase(self):  # TODO: implement this\n",
    "        pass\n",
    "\n",
    "    def select_parents_rank_based(self, n_elems=2):\n",
    "        \"\"\"\n",
    "        Rank-based selection method.\n",
    "        Assigns probabilities based on inversed ranks instead of absolute fitness values.\n",
    "        \"\"\"\n",
    "        fitnesses = np.array([tree.fitness for tree in self.population])\n",
    "        ranks = np.argsort(fitnesses)\n",
    "        inversed_ranks = len(fitnesses) - ranks\n",
    "        probabilities = inversed_ranks / np.sum(inversed_ranks)\n",
    "        return np.random.choice(self.population, n_elems, p=probabilities,replace=False)\n",
    "    \n",
    "    def select_parents_tournament(self):\n",
    "        tournament_size = 7\n",
    "        tournament = list(np.random.choice(self.population, tournament_size,replace=False))\n",
    "        tournament.sort(key=lambda x: x.fitness)\n",
    "        return tournament[0], tournament[1]\n",
    "    \n",
    "    def select_parents(self):\n",
    "        # if np.random.rand() < 0:\n",
    "            # return self.select_parents_tournament()\n",
    "        # else:\n",
    "        return self.select_parents_fitness_proportional()\n",
    "\n",
    "    # Mutation\n",
    "    def mutate(self, tree):\n",
    "        if np.random.rand() < self.mutation_rate:\n",
    "            if np.random.rand() < 0.5:\n",
    "                tree.mutate_subtree()\n",
    "            else:\n",
    "                tree.mutate_single_node()\n",
    "\n",
    "    def offspring_generation(self, current_generation):\n",
    "        new_population = np.array([])\n",
    "\n",
    "        # Elitism   \n",
    "        elite_individuals = self.population[:self.elitism_size]\n",
    "        new_population = elite_individuals\n",
    "\n",
    "        # Main loop\n",
    "        while len(new_population) < self.population_size: # //2:\n",
    "            # encourage exploration in initial generations\n",
    "            if current_generation < self.random_parents_generations:\n",
    "                parent1, parent2 = np.random.choice(self.population, size=2, replace=False)\n",
    "            else:\n",
    "                parent1, parent2 = self.select_parents()\n",
    "            # generate offsprings\n",
    "            offsprings=np.array([])\n",
    "            if(np.random.rand() < 0.1):\n",
    "                parent_clone=parent1.copy_tree()\n",
    "                self.mutate(parent_clone)\n",
    "                Tree.collapse_branch(parent_clone.root)\n",
    "                parent_clone.compute_fitness()\n",
    "                # if(parent_clone not in new_population):\n",
    "                offsprings = np.append(offsprings, [parent_clone])\n",
    "\n",
    "            else:    \n",
    "                offspring1,offspring2=Tree.crossover(parent1, parent2)\n",
    "                if(offspring1 is not None or offspring2 is not None):\n",
    "                    Tree.collapse_branch(offspring1.root)\n",
    "                    Tree.collapse_branch(offspring2.root)\n",
    "                \n",
    "                    # self.mutate(offspring1)\n",
    "                    # self.mutate(offspring2)\n",
    "\n",
    "                    #Trying stuff\n",
    "                    # offspring1.compute_fitness()\n",
    "                    # offspring2.compute_fitness()\n",
    "                    # tmp_fitnesses=[tree.fitness for tree in new_population]\n",
    "                    # if offspring1.fitness not in tmp_fitnesses:\n",
    "                    #     offsprings.append(offspring1)\n",
    "                    # if offspring2.fitness not in tmp_fitnesses:\n",
    "                    #     offsprings.append(offspring2)\n",
    "                    \n",
    "                    offspring1.compute_fitness()\n",
    "                    offspring2.compute_fitness()\n",
    "                    #if osspring1 is not alredy in population, already defined the eq as the fitness comparison\n",
    "                    # if offspring1 not in new_population:\n",
    "                    #     offsprings = np.append(offsprings, [offspring1])\n",
    "                    # if offspring2 not in new_population:\n",
    "                    #     offsprings = np.append(offsprings, [offspring2])\n",
    "                    \n",
    "\n",
    "                    offsprings = np.append(offsprings, [offspring1, offspring2])\n",
    "\n",
    "            new_population=np.concatenate((new_population,offsprings))\n",
    "                \n",
    "        return new_population\n",
    "\n",
    "\n",
    "    def evolve(self):\n",
    "        best_tree = None\n",
    "        best_fitness = np.inf\n",
    "        take_over = False\n",
    "        # self.population.sort(key=lambda x: x.fitness) \n",
    "        #numpy sort of population over fitness\n",
    "        self.population.sort()\n",
    "        # print(f\"Initial best fitness: {self.population[0].fitness}\")\n",
    "        # print(f\"Initial best fitness: {self.population[1].fitness}\")\n",
    "        # print(f\"Initial best fitness: {self.population[2].fitness}\")\n",
    "        # print(f\"Initial worst fitness: {self.population[-1].fitness}\")\n",
    "\n",
    "\n",
    "\n",
    "        for generation in tqdm(range(self.max_generations)):\n",
    "            \n",
    "            if take_over:\n",
    "                #trasform the population in set and then back to list to remove duplicates\n",
    "                self.population=np.unique(self.population)\n",
    "                #sort the population based on fitness\n",
    "                self.population.sort()\n",
    "                self.population = self.population[:int(self.population_size*0.1)]\n",
    "                new_trees = np.array([Tree(\"grow\") for _ in range(int(self.population_size*0.3))]+[Tree(\"grow\") for _ in range(int(self.population_size*0.3))])\n",
    "                self.population=np.concatenate((self.population,new_trees))\n",
    "            \n",
    "            \n",
    "            new_population=self.offspring_generation(generation)\n",
    "\n",
    "            # for tree in new_population:\n",
    "            #     tree.compute_fitness()\n",
    "                \n",
    "            self.population=np.concatenate((self.population,new_population))\n",
    "            \n",
    "            generation_fitnesses = [tree.fitness for tree in self.population]\n",
    "            generation_best_fitness = min(generation_fitnesses)\n",
    "\n",
    "            if generation_best_fitness < best_fitness:\n",
    "                best_fitness = generation_best_fitness\n",
    "                best_tree = self.population[np.argmin(generation_fitnesses)]\n",
    "                self.best_fitness_history.append(best_fitness)\n",
    "            #trim the population to the best population_size\n",
    "            self.population.sort()\n",
    "            self.population = self.population[:self.population_size]\n",
    "            # print(f\"Generation {generation + 1}, Best Fitness: {best_fitness}\")\n",
    "            \n",
    "\n",
    "            n_best = [elem for elem in self.population if elem.fitness == self.population[0].fitness]\n",
    "            take_over = False\n",
    "            if len(n_best) > 0.9 * self.population_size:\n",
    "                    take_over = True\n",
    "                    # print(f\"Takeover at {generation} gen\")     \n",
    "            if(generation%50==0):\n",
    "                print(f\"Generation {generation + 1}, Best Fitness: {best_fitness}, Best Formula: {best_tree.to_np_formula()}\")\n",
    "            if best_fitness <= 1e-33:\n",
    "                break   \n",
    "        return best_tree, best_fitness\n"
   ]
  },
  {
   "cell_type": "code",
   "execution_count": 112,
   "metadata": {},
   "outputs": [],
   "source": [
    "#Problem definition\n",
    "POPULATION_SIZE = 1000\n",
    "MAX_GENERATIONS = 1000\n",
    "MUTATION_RATE = 0.1\n",
    "ELITISM_SIZE = 2\n",
    "GROW_FULL_RATIO = 1\n",
    "#TREE_DEPTH = math.ceil(math.log(x_train.shape[0],2))+1 #FIXME: temporary solution,IDK if it's good. (it's the depth to contain all the variables+1)\n",
    "#print(\"Tree depth:\",TREE_DEPTH)\n",
    "TREE_DEPTH = 4\n",
    "VAR_NUM = x_train.shape[0]\n",
    "CONST_RANGE=10 # Constats will be in the range [-CONST_RANGE, CONST_RANGE]\n",
    "\n",
    "\n",
    "Tree.set_params(unary_ops, binary_ops, VAR_NUM, 10,TREE_DEPTH, x_train, y_train, x_test, y_test)\n",
    "regressor = SymbolicRegression(\n",
    "    POPULATION_SIZE,\n",
    "    MAX_GENERATIONS,\n",
    "    MUTATION_RATE,\n",
    "    ELITISM_SIZE,\n",
    "    GROW_FULL_RATIO\n",
    "    #(x_train, y_train)   # per lexicase\n",
    ")"
   ]
  },
  {
   "cell_type": "code",
   "execution_count": 113,
   "metadata": {},
   "outputs": [
    {
     "name": "stderr",
     "output_type": "stream",
     "text": [
      "  0%|          | 0/1000 [00:00<?, ?it/s]"
     ]
    },
    {
     "name": "stderr",
     "output_type": "stream",
     "text": [
      "  0%|          | 0/1000 [00:00<?, ?it/s]"
     ]
    },
    {
     "name": "stdout",
     "output_type": "stream",
     "text": [
      "Generation 1, Best Fitness: 6.98149604840373e-34, Best Formula: np.sin(x[0])\n",
      "Best Formula:\n",
      "\n",
      "np.sin(x[0])\n",
      "Train Fitness: 6.98149604840373e-34\n",
      "Test Fitness: 7.703719777548943e-34\n",
      "Train-Test Discrepancy: -7.222237291452134e-35\n",
      "All Fitness: 7.125940794232773e-34\n",
      "Best Fitness History: [np.float64(6.98149604840373e-34)], changed 1 times\n",
      "Best Tree:\n"
     ]
    },
    {
     "name": "stderr",
     "output_type": "stream",
     "text": [
      "\n"
     ]
    },
    {
     "data": {
      "image/png": "[encoded data removed]",
      "text/plain": [
       "<Figure size 1200x800 with 1 Axes>"
      ]
     },
     "metadata": {},
     "output_type": "display_data"
    }
   ],
   "source": [
    "#UNCOMMENT TO PROFILE THE CODE (and comment the rest of the code)\n",
    "# cProfile.run(\"regressor.evolve()\",sort=\"tottime\") #for profiling so we can see the time taken by each function\n",
    "#the output will include the following columns:\n",
    "#tottime: Total time spent in the function (excluding time spent in other functions it calls).\n",
    "#cumtime: Cumulative time spent in the function (including time spent in sub-functions).\n",
    "\n",
    "\n",
    "# Execute the algorithm\n",
    "best_tree, best_fitness = regressor.evolve()\n",
    "\n",
    "# Print the formula\n",
    "print(\"Best Formula:\\n\")\n",
    "print(best_tree.to_np_formula())\n",
    "\n",
    "# Print the fitness\n",
    "print(f\"Train Fitness: {best_fitness}\")\n",
    "best_tree.compute_fitness(test=\"test\")\n",
    "print(f\"Test Fitness: {best_tree.fitness}\")\n",
    "print(f\"Train-Test Discrepancy: {best_fitness-best_tree.fitness}\")\n",
    "best_tree.compute_fitness(test=\"all\")\n",
    "print(f\"All Fitness: {best_tree.fitness}\")\n",
    "\n",
    "# Print the best tree\n",
    "print(f\"Best Fitness History: {regressor.best_fitness_history}, changed {len(regressor.best_fitness_history)} times\")\n",
    "print(\"Best Tree:\")\n",
    "best_tree.add_drawing()"
   ]
  },
  {
   "cell_type": "code",
   "execution_count": 135,
   "metadata": {},
   "outputs": [
    {
     "name": "stdout",
     "output_type": "stream",
     "text": [
      "Collapsed formula: np.sin(x[0])\n",
      "Best Tree after collapsing:\n"
     ]
    },
    {
     "data": {
      "image/png": "[encoded data removed]",
      "text/plain": [
       "<Figure size 1200x800 with 1 Axes>"
      ]
     },
     "metadata": {},
     "output_type": "display_data"
    }
   ],
   "source": [
    "#Collapse branches that can be simplified\n",
    "Tree.collapse_branch(best_tree.root,0,force_collapse=True)\n",
    "print(f\"Collapsed formula: {best_tree.to_np_formula()}\")\n",
    "print(\"Best Tree after collapsing:\")\n",
    "best_tree.add_drawing()\n"
   ]
  },
  {
   "cell_type": "code",
   "execution_count": 136,
   "metadata": {},
   "outputs": [],
   "source": [
    "\n",
    "# def test_formula(x):\n",
    "#     pass\n",
    "\n",
    "\n",
    "\n",
    "# x_tot=np.concatenate((x_train,x_test),axis=1)\n",
    "# y_tot=np.concatenate((y_train,y_test))\n",
    "# squared_errors = 0\n",
    "# for i in range(1):\n",
    "#     y_pred = test_formula(x_tot[:, i])\n",
    "                 \n",
    "#     squared_errors += np.square(y_tot[i] - y_pred) \n",
    "\n",
    "# print( squared_errors / x_tot.shape[1])\n",
    "   \n",
    "\n",
    "# def testing(tree):\n",
    "#    tree.compute_fitness()\n",
    "#    tree.compute_fitness2()\n",
    "\n",
    "# cProfile.run(\"testing(best_tree)\",sort=\"tottime\") #for profiling so we can see the time taken by each function\n",
    "\n",
    "\n",
    "# best_tree.compute_fitness()\n",
    "# print(best_tree.fitness)\n",
    "# best_tree.compute_fitness2()\n",
    "# print(best_tree.fitness)\n"
   ]
  }
 ],
 "metadata": {
  "kernelspec": {
   "display_name": "CI2024",
   "language": "python",
   "name": "python3"
  },
  "language_info": {
   "codemirror_mode": {
    "name": "ipython",
    "version": 3
   },
   "file_extension": ".py",
   "mimetype": "text/x-python",
   "name": "python",
   "nbconvert_exporter": "python",
   "pygments_lexer": "ipython3",
   "version": "3.10.11"
  }
 },
 "nbformat": 4,
 "nbformat_minor": 2
}
