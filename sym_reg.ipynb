{
 "cells": [
  {
   "cell_type": "code",
   "execution_count": 2,
   "metadata": {},
   "outputs": [],
   "source": [
    "import numpy as np\n",
    "from icecream import ic\n",
    "from tqdm import tqdm\n",
    "import cProfile \n",
    "import time\n",
    "import warnings\n",
    "import math\n",
    "\n"
   ]
  },
  {
   "cell_type": "code",
   "execution_count": 2,
   "metadata": {},
   "outputs": [
    {
     "data": {
      "text/plain": [
       "{'divide': 'warn', 'over': 'warn', 'under': 'ignore', 'invalid': 'warn'}"
      ]
     },
     "execution_count": 2,
     "metadata": {},
     "output_type": "execute_result"
    }
   ],
   "source": [
    "# Warning settings\n",
    "np.seterr(all=\"ignore\") #ignore np warnings, the output will be nan or inf and will be handled correctly in the code. (using np.errstate slows down the code)\n",
    "# warnings.filterwarnings(\"ignore\", category=RuntimeWarning)"
   ]
  },
  {
   "cell_type": "markdown",
   "metadata": {},
   "source": [
    "### Load a problem"
   ]
  },
  {
   "cell_type": "code",
   "execution_count": 3,
   "metadata": {},
   "outputs": [
    {
     "name": "stdout",
     "output_type": "stream",
     "text": [
      "Problem number: 8, variables: 6, train size: 20000, test size: 30000\n"
     ]
    }
   ],
   "source": [
    "# Configuration\n",
    "TRAIN_TEST_RATIO=0.4\n",
    "PROBLEM_NUMBER=8\n",
    "\n",
    "# Load problem data with context manager protocol\n",
    "with np.load(f'data/problem_{PROBLEM_NUMBER}.npz') as problem:\n",
    "    x_1 = problem['x']\n",
    "    y_1 = problem['y']\n",
    "\n",
    "# Shuffle the data\n",
    "permutation = np.random.permutation(len(y_1))\n",
    "x_1 = x_1[:, permutation]\n",
    "y_1 = y_1[permutation]\n",
    "\n",
    "# Determine train test split sizes\n",
    "problem_len=len(y_1)\n",
    "train_size=int(TRAIN_TEST_RATIO*problem_len)\n",
    "\n",
    "# Split data\n",
    "x_train=x_1[:, :train_size]\n",
    "y_train=y_1[:train_size]\n",
    "\n",
    "x_test=x_1[:, train_size:]\n",
    "y_test=y_1[train_size:]\n",
    "\n",
    "# To view the npz file, run python -m npzviewer \n",
    "# Print dataset information\n",
    "print(f\"Problem number: {PROBLEM_NUMBER}, variables: {x_1.shape[0]}, train size: {train_size}, test size: {problem_len-train_size}\")\n"
   ]
  },
  {
   "cell_type": "markdown",
   "metadata": {},
   "source": [
    "### Numpy functions definition"
   ]
  },
  {
   "cell_type": "code",
   "execution_count": 4,
   "metadata": {},
   "outputs": [],
   "source": [
    "unary_ops = [\n",
    "    np.negative,\n",
    "    np.abs,\n",
    "    np.sqrt,\n",
    "    np.exp,\n",
    "    np.log,\n",
    "    np.sin,\n",
    "    np.cos,\n",
    "    np.tan,\n",
    "    np.arcsin,\n",
    "    np.arccos,\n",
    "    np.arctan,\n",
    "    np.square\n",
    "    # np.ceil,\n",
    "    # np.floor\n",
    "]\n",
    "\n",
    "binary_ops = [\n",
    "    np.add,\n",
    "    np.subtract,\n",
    "    np.multiply,\n",
    "    np.divide,\n",
    "    np.power,\n",
    "    # np.maximum,\n",
    "    # np.minimum,\n",
    "    np.mod\n",
    "]"
   ]
  },
  {
   "cell_type": "markdown",
   "metadata": {},
   "source": [
    "### Symbolic regression class"
   ]
  },
  {
   "cell_type": "code",
   "execution_count": 5,
   "metadata": {},
   "outputs": [],
   "source": [
    "from tree import Tree\n",
    "\n",
    "class SymbolicRegression:\n",
    "    def __init__(self, population_size, max_generations, mutation_rate, elitism_size, grow_full_ratio,random_parents_min_ratio,random_parents_max_ratio):\n",
    "        self.population_size = population_size\n",
    "        self.max_generations = max_generations\n",
    "        self.mutation_rate = mutation_rate\n",
    "        self.elitism_size = elitism_size\n",
    "        self.grow_full_ratio = grow_full_ratio\n",
    "\n",
    "        self.unary_ops = unary_ops\n",
    "        self.binary_ops = binary_ops\n",
    "        self.best_fitness_history = []\n",
    "        # self.random_parents_generations = self.max_generations * 0.005   # random parents selection generations\n",
    "  \n",
    "        self.random_parents_min_ratio=random_parents_min_ratio\n",
    "        self.random_parents_max_ratio=random_parents_max_ratio\n",
    "        self.random_parents_ratio=self.random_parents_min_ratio\n",
    "\n",
    "        self.population = np.array([\n",
    "            Tree(\"grow\") if i < int(population_size * self.grow_full_ratio) else Tree(\"full\")\n",
    "            for i in range(population_size)\n",
    "        ])\n",
    "\n",
    "    # Parents selection methods\n",
    "    def select_parents_fitness_age(self, n_elems=2):\n",
    "        \"\"\"\n",
    "        Evolves a population considering how long the genotype has been in the population and fitness.\n",
    "        Reference: Age-fitness pareto optimization https://dl.acm.org/doi/10.1145/1830483.1830584\n",
    "        \"\"\"\n",
    "        return sorted(self.population, key=lambda tree: (-tree.fitness, -tree.age))[:n_elems]\n",
    "\n",
    "    def select_parents_fitness_proportional(self, n_elems=2, epsilon=1e-10):\n",
    "        \"\"\"\n",
    "        Individuals with lower fitness have an higher probability to be selected.\n",
    "        Premature convergence if few individuals have significantly better fitness than others.\n",
    "        \"\"\"\n",
    "        fitnesses = [tree.fitness for tree in self.population]\n",
    "        inverted_fitnesses = [1 / (fitness + epsilon) for fitness in fitnesses]  # avoid division by zero\n",
    "        probabilities = inverted_fitnesses / sum(inverted_fitnesses)\n",
    "        parent1, parent2 = np.random.choice(self.population, size=n_elems, p=probabilities, replace=False)\n",
    "        return parent1, parent2\n",
    "    \n",
    "    def select_parents_lexicase(self):  # TODO: implement this\n",
    "        pass\n",
    "\n",
    "    def select_parents_rank_based(self, n_elems=2):\n",
    "        \"\"\"\n",
    "        Rank-based selection method.\n",
    "        Assigns probabilities based on inversed ranks instead of absolute fitness values.\n",
    "        \"\"\"\n",
    "        fitnesses = np.array([tree.fitness for tree in self.population])\n",
    "        ranks = np.argsort(fitnesses)\n",
    "        inversed_ranks = len(fitnesses) - ranks\n",
    "        probabilities = inversed_ranks / np.sum(inversed_ranks)\n",
    "        return np.random.choice(self.population, n_elems, p=probabilities,replace=False)\n",
    "    \n",
    "    def select_parents_tournament(self):\n",
    "        tournament_size = 7\n",
    "        tournament = list(np.random.choice(self.population, tournament_size,replace=False))\n",
    "        tournament.sort(key=lambda x: x.fitness)\n",
    "        return tournament[0], tournament[1]\n",
    "    \n",
    "    def select_parents(self):\n",
    "        # if np.random.rand() < 0:\n",
    "            # return self.select_parents_tournament()\n",
    "        # else:\n",
    "        return self.select_parents_fitness_proportional()\n",
    "\n",
    "    # Mutation\n",
    "    def mutate(self, tree):\n",
    "        # if np.random.rand() < self.mutation_rate:\n",
    "            if np.random.rand() < 0.5:\n",
    "                tree.mutate_subtree()\n",
    "            else:\n",
    "                #pick a random number between 1 and 5\n",
    "                mutation_n=np.random.randint(1,6)\n",
    "                tree.mutate_single_node(num_mutations=mutation_n)\n",
    "\n",
    "    def offspring_generation(self, current_generation):\n",
    "        new_population = np.array([])\n",
    "\n",
    "        # Elitism   \n",
    "        # elite_individuals = self.population[:self.elitism_size]\n",
    "        # elite_individuals=np.unique(elite_individuals)\n",
    "\n",
    "        offsprings=np.array([])\n",
    "        # Main loop\n",
    "        while len(offsprings) < self.population_size//2: # //2:\n",
    "            # encourage exploration in initial generations\n",
    "            if np.random.random() < self.random_parents_ratio:\n",
    "                parent1, parent2 = np.random.choice(self.population, size=2, replace=False)\n",
    "            else:\n",
    "                parent1, parent2 = self.select_parents()\n",
    "            # generate offsprings\n",
    "         \n",
    "            if(np.random.rand() < self.mutation_rate):\n",
    "                parent_clone=parent1.copy_tree()\n",
    "                self.mutate(parent_clone)\n",
    "                Tree.collapse_branch(parent_clone.root)\n",
    "                parent_clone.compute_fitness()\n",
    "                # if(parent_clone not in new_population):\n",
    "                offsprings = np.append(offsprings, [parent_clone])\n",
    "\n",
    "            else:    \n",
    "                offspring1,offspring2=Tree.crossover(parent1, parent2)\n",
    "                if(offspring1 is not None or offspring2 is not None):\n",
    "                    Tree.collapse_branch(offspring1.root)\n",
    "                    Tree.collapse_branch(offspring2.root)\n",
    "                \n",
    "                    # self.mutate(offspring1)\n",
    "                    # self.mutate(offspring2)\n",
    "\n",
    "                    #Trying stuff\n",
    "                    # offspring1.compute_fitness()\n",
    "                    # offspring2.compute_fitness()\n",
    "                    # tmp_fitnesses=[tree.fitness for tree in new_population]\n",
    "                    # if offspring1.fitness not in tmp_fitnesses:\n",
    "                    #     offsprings.append(offspring1)\n",
    "                    # if offspring2.fitness not in tmp_fitnesses:\n",
    "                    #     offsprings.append(offspring2)\n",
    "                    \n",
    "                    offspring1.compute_fitness()\n",
    "                    offspring2.compute_fitness()\n",
    "                    #if osspring1 is not alredy in population, already defined the eq as the fitness comparison\n",
    "                    # if offspring1 not in new_population:\n",
    "                    #     offsprings = np.append(offsprings, [offspring1])\n",
    "                    # if offspring2 not in new_population:\n",
    "                    #     offsprings = np.append(offsprings, [offspring2])\n",
    "                    \n",
    "\n",
    "                    offsprings = np.append(offsprings, [offspring1, offspring2])\n",
    "\n",
    "            # new_population=np.concatenate((new_population,offsprings))\n",
    "                \n",
    "        return offsprings\n",
    "\n",
    "       \n",
    "    def evolve(self, verbose=True):\n",
    "        best_tree = None\n",
    "        best_fitness = np.inf\n",
    "        take_over = False\n",
    "        bad_increment=0\n",
    "        checkpoint=np.array([])\n",
    "        best_fitness_true=np.inf\n",
    "        # self.population.sort(key=lambda x: x.fitness) \n",
    "        #numpy sort of population over fitness\n",
    "        self.population.sort()\n",
    "        # print(f\"Initial best fitness: {self.population[0].fitness}\")\n",
    "        # print(f\"Initial best fitness: {self.population[1].fitness}\")\n",
    "        # print(f\"Initial best fitness: {self.population[2].fitness}\")\n",
    "        # print(f\"Initial worst fitness: {self.population[-1].fitness}\")\n",
    "\n",
    "\n",
    "\n",
    "        for generation in tqdm(range(self.max_generations)):\n",
    "            \n",
    "            if take_over:\n",
    "                print(f\"Takeover at {generation} gen\")\n",
    "                #trasform the population in set and then back to list to remove duplicates\n",
    "                self.population=np.unique(self.population)\n",
    "                #sort the population based on fitness\n",
    "                # self.population.sort()\n",
    "                # self.population = self.population[:int(self.population_size*0.1)]\n",
    "                #count self.population size\n",
    "                remaining_trees=len(self.population)\n",
    "                # print(f\"Takeover at {generation} gen, remaining trees: {remaining_trees}\")\n",
    "                new_trees = np.array([Tree(\"grow\") for _ in range(int(self.population_size-remaining_trees))])\n",
    "                self.population=np.concatenate((self.population,new_trees))\n",
    "                \n",
    "            \n",
    "            \n",
    "            \n",
    "\n",
    "            # for tree in new_population:\n",
    "            #     tree.compute_fitness()\n",
    "            new_population = self.offspring_generation(current_generation=generation)\n",
    "            \n",
    "            self.population=np.concatenate((self.population,new_population))\n",
    "            \n",
    "            # generation_fitnesses = [tree.fitness for tree in self.population]\n",
    "            # generation_best_fitness = min(generation_fitnesses)\n",
    "\n",
    "  \n",
    "            \n",
    "            #trim the population to the best population_size\n",
    "            self.population.sort()\n",
    "            self.population = self.population[:self.population_size]\n",
    "            # print(f\"Generation {generation + 1}, Best Fitness: {best_fitness}\")\n",
    "\n",
    "\n",
    "\n",
    "            \n",
    "            if(best_fitness-self.population[0].fitness > 10000):\n",
    "                # checkpoint=self.population\n",
    "                # print(f\"Reset bad_increment at {generation} gen\")\n",
    "                bad_increment=0\n",
    "                if self.random_parents_ratio>self.random_parents_min_ratio:\n",
    "                    self.random_parents_ratio=self.random_parents_min_ratio\n",
    "                else:\n",
    "                    bad_increment+=1\n",
    "                    if self.random_parents_ratio<self.random_parents_max_ratio:\n",
    "                        self.random_parents_ratio+=0.05\n",
    "\n",
    "\n",
    "            if self.population[0].fitness < best_fitness:\n",
    "                best_tree = self.population[0]\n",
    "                best_fitness = best_tree.fitness\n",
    "                self.best_fitness_history.append(best_fitness)\n",
    "                if(best_fitness<best_fitness_true):\n",
    "                    best_fitness_true=best_fitness\n",
    "            \n",
    "            \n",
    "\n",
    "\n",
    "        \n",
    "                \n",
    "           \n",
    "\n",
    "\n",
    "            take_over = False\n",
    "            if bad_increment>50:\n",
    "                print(f\"----- New population at {generation} gen\")\n",
    "            #     #concatenate the checkpoint to the population\n",
    "            #     # self.population=np.concatenate((self.population,checkpoint))\n",
    "            #     # regressor2=SymbolicRegression(100, 100, 0.5, 10, 1)\n",
    "            #     # best_tree_tmp, _=regressor2.evolve(verbose=False)\n",
    "            #     # print(f\"Best fitness of the checkpoint: {best_tree_tmp.fitness}\")\n",
    "            #     # self.population=np.concatenate((self.population,[best_tree_tmp]))\n",
    "            #     # take_over=True\n",
    "                bad_increment=0\n",
    "                self.population=np.array([Tree(\"grow\") for _ in range(self.population_size)])\n",
    "                self.population.sort()\n",
    "                self.random_parents_ratio=self.random_parents_min_ratio\n",
    "                \n",
    "                \n",
    "\n",
    "                \n",
    "            \n",
    "\n",
    "            n_best = [elem for elem in self.population if elem.fitness == self.population[0].fitness]\n",
    "            \n",
    "            if len(n_best) > 0.9 * self.population_size:\n",
    "                    take_over = True\n",
    "                    # print(f\"Takeover at {generation} gen\")   \n",
    "\n",
    "            if(generation%50==0 and verbose):\n",
    "                print(f\"Generation {generation + 1}, Best Fitness: {best_fitness}, Best fitness true:{best_fitness_true} Rand ratio: {self.random_parents_ratio} Best Formula: {best_tree.to_np_formula()}\")\n",
    "            if best_fitness <= 1e-33:\n",
    "                break   \n",
    "        return best_tree, best_fitness\n"
   ]
  },
  {
   "cell_type": "code",
   "execution_count": 6,
   "metadata": {},
   "outputs": [],
   "source": [
    "#Problem definition\n",
    "POPULATION_SIZE = 100\n",
    "MAX_GENERATIONS = 100000\n",
    "MUTATION_RATE = 0.35\n",
    "ELITISM_SIZE = 2\n",
    "GROW_FULL_RATIO = 1\n",
    "#TREE_DEPTH = math.ceil(math.log(x_train.shape[0],2))+1 #FIXME: temporary solution,IDK if it's good. (it's the depth to contain all the variables+1)\n",
    "#print(\"Tree depth:\",TREE_DEPTH)\n",
    "TREE_DEPTH = 10\n",
    "VAR_NUM = x_train.shape[0]\n",
    "CONST_RANGE=20 # Constats will be in the range [-CONST_RANGE, CONST_RANGE]\n",
    "RANDOM_PARENTS_MIN_RATIO=0.1\n",
    "RANDOM_PARENTS_MAX_RATIO=0.5\n",
    "\n",
    "\n",
    "Tree.set_params(unary_ops, binary_ops, VAR_NUM, CONST_RANGE,TREE_DEPTH, x_train, y_train, x_test, y_test)\n",
    "regressor = SymbolicRegression(\n",
    "    POPULATION_SIZE,\n",
    "    MAX_GENERATIONS,\n",
    "    MUTATION_RATE,\n",
    "    ELITISM_SIZE,\n",
    "    GROW_FULL_RATIO,\n",
    "    RANDOM_PARENTS_MIN_RATIO,\n",
    "    RANDOM_PARENTS_MAX_RATIO\n",
    "\n",
    "    #(x_train, y_train)   # per lexicase\n",
    ")"
   ]
  },
  {
   "cell_type": "code",
   "execution_count": 7,
   "metadata": {},
   "outputs": [
    {
     "name": "stderr",
     "output_type": "stream",
     "text": [
      "  0%|          | 2/100000 [00:00<3:44:31,  7.42it/s]"
     ]
    },
    {
     "name": "stdout",
     "output_type": "stream",
     "text": [
      "Generation 1, Best Fitness: 22736468.304518152, Best fitness true:22736468.304518152 Rand ratio: 0.15000000000000002 Best Formula: np.remainder(np.negative(np.subtract(np.add(np.subtract(np.divide(18.025114417957973, -10.634050463695178), np.add(-16.787353471103938, x[5])), np.subtract(np.subtract(-0.5326050708671382, -15.713612067239794), np.divide(x[5], -12.5818687663944))), np.divide(np.divide(np.power(8.436781132251166, -7.2053057177586375), np.divide(3.2600204969935795, -13.986695980866601)), np.remainder(np.multiply(x[5], -1.2777392903188343), np.multiply(x[0], x[1]))))), np.multiply(np.remainder(np.remainder(np.subtract(np.multiply(x[1], -13.591521470829555), np.subtract(-6.977060995867506, x[2])), np.divide(np.add(x[4], 14.661829023200148), np.add(x[2], 16.76192191797496))), np.subtract(np.add(np.subtract(x[2], 4.217651083605109), np.add(14.172947189714542, x[5])), np.power(13.863455447366313, np.add(12.44625841049156, x[3])))), np.divide(np.sqrt(np.exp(np.multiply(x[1], 1.453376542924051))), np.multiply(np.divide(np.divide(7.939497552076169, 7.214056972243782), np.subtract(-1.102310592039089, 0.7867305033226231)), np.subtract(np.add(-16.211446262425213, x[1]), np.power(14.76544130569281, -6.086052851854049))))))\n"
     ]
    },
    {
     "name": "stderr",
     "output_type": "stream",
     "text": [
      "  0%|          | 52/100000 [00:08<4:40:44,  5.93it/s]"
     ]
    },
    {
     "name": "stdout",
     "output_type": "stream",
     "text": [
      "Generation 51, Best Fitness: 21394751.53930623, Best fitness true:21394751.53930623 Rand ratio: 0.1 Best Formula: np.remainder(np.negative(np.subtract(np.add(np.square(-13.074764074968206), np.add(np.square(17.934099252072933), -6.086052851854049)), np.multiply(np.divide(np.power(8.436781132251166, -7.2053057177586375), np.remainder(-8.644925007271045, -13.986695980866601)), np.remainder(np.multiply(x[5], -1.2777392903188343), np.multiply(x[0], x[1]))))), np.multiply(np.remainder(np.remainder(np.subtract(np.multiply(x[1], -16.211446262425213), np.subtract(-6.977060995867506, x[2])), np.divide(np.add(x[4], 14.661829023200148), np.add(x[2], 16.76192191797496))), np.subtract(14.661829023200148, np.power(13.863455447366313, np.add(np.multiply(x[5], -10.087579990358204), x[3])))), np.divide(np.subtract(-0.5326050708671382, -15.713612067239794), np.multiply(-15.054644044459252, np.subtract(np.add(-16.211446262425213, x[1]), 14.661829023200148)))))\n"
     ]
    },
    {
     "name": "stderr",
     "output_type": "stream",
     "text": [
      "  0%|          | 102/100000 [00:16<4:43:31,  5.87it/s]"
     ]
    },
    {
     "name": "stdout",
     "output_type": "stream",
     "text": [
      "Generation 101, Best Fitness: 13518147.57698684, Best fitness true:13518147.57698684 Rand ratio: 0.15000000000000002 Best Formula: np.remainder(np.negative(np.subtract(np.add(np.square(np.subtract(-0.5326050708671382, np.multiply(-13.848331590115555, -7.2053057177586375))), -6.086052851854049), np.add(-16.211446262425213, np.remainder(np.multiply(x[5], -1.2777392903188343), np.multiply(x[0], x[1]))))), np.multiply(np.remainder(np.remainder(14.661829023200148, np.divide(np.add(x[4], 14.661829023200148), np.add(np.square(-13.986695980866601), -15.054644044459252))), np.subtract(np.add(np.subtract(x[2], np.divide(x[5], -12.5818687663944)), np.add(np.multiply(-13.848331590115555, np.sqrt(17.975654942009342)), x[5])), np.power(13.863455447366313, np.add(np.multiply(x[5], -1.2777392903188343), np.subtract(np.subtract(np.cos(x[3]), -3.882794588807048), 5.136014685266282))))), np.divide(np.subtract(3.2600204969935795, np.multiply(-13.848331590115555, np.sqrt(17.975654942009342))), np.multiply(-15.054644044459252, np.subtract(-1.2777392903188343, 7.214056972243782)))))\n"
     ]
    },
    {
     "name": "stderr",
     "output_type": "stream",
     "text": [
      "  0%|          | 152/100000 [00:24<5:05:21,  5.45it/s]"
     ]
    },
    {
     "name": "stdout",
     "output_type": "stream",
     "text": [
      "Generation 151, Best Fitness: 11896936.135306403, Best fitness true:11896936.135306403 Rand ratio: 0.1 Best Formula: np.remainder(np.negative(np.subtract(np.add(np.square(np.subtract(8.436781132251166, np.multiply(-13.848331590115555, np.sqrt(17.975654942009342)))), np.multiply(-13.848331590115555, np.sqrt(17.975654942009342))), np.add(-16.211446262425213, np.remainder(5.136014685266282, np.multiply(x[0], x[1]))))), np.multiply(np.remainder(np.multiply(14.661829023200148, np.divide(np.add(x[4], 14.661829023200148), np.sqrt(np.multiply(np.sqrt(17.975654942009342), np.sqrt(17.975654942009342))))), np.subtract(np.add(np.subtract(x[2], np.add(-1.2777392903188343, -13.986695980866601)), np.multiply(x[5], 11.53102199646574)), np.power(13.863455447366313, np.add(np.multiply(x[5], -1.2777392903188343), np.subtract(np.subtract(np.cos(x[3]), -3.882794588807048), 5.136014685266282))))), np.subtract(17.718959563433543, np.multiply(-11.684700547512001, np.sqrt(17.975654942009342)))))\n"
     ]
    },
    {
     "name": "stderr",
     "output_type": "stream",
     "text": [
      "  0%|          | 202/100000 [00:32<3:35:37,  7.71it/s]"
     ]
    },
    {
     "name": "stdout",
     "output_type": "stream",
     "text": [
      "Generation 201, Best Fitness: 8479265.457438989, Best fitness true:8479265.457438989 Rand ratio: 0.1 Best Formula: np.remainder(np.negative(np.subtract(np.add(np.square(np.subtract(8.436781132251166, np.multiply(17.975654942009342, np.multiply(x[5], -1.2777392903188343)))), np.multiply(-13.848331590115555, np.sqrt(17.975654942009342))), np.add(5.136014685266282, np.remainder(-13.848331590115555, np.multiply(x[0], x[1]))))), np.multiply(np.remainder(np.multiply(14.661829023200148, np.divide(np.add(x[4], 14.661829023200148), np.sqrt(np.multiply(np.sqrt(17.975654942009342), np.sqrt(11.53102199646574))))), np.subtract(np.add(np.subtract(x[2], np.add(-13.848331590115555, -13.986695980866601)), np.multiply(x[5], 11.53102199646574)), np.power(np.square(8.436781132251166), np.add(np.multiply(x[5], -1.2777392903188343), np.subtract(np.subtract(np.cos(x[3]), -3.882794588807048), 5.136014685266282))))), np.subtract(13.863455447366313, np.multiply(-11.684700547512001, np.sqrt(17.975654942009342)))))\n"
     ]
    },
    {
     "name": "stderr",
     "output_type": "stream",
     "text": [
      "  0%|          | 252/100000 [00:39<4:29:56,  6.16it/s]"
     ]
    },
    {
     "name": "stdout",
     "output_type": "stream",
     "text": [
      "Generation 251, Best Fitness: 4704020.146173436, Best fitness true:4704020.146173436 Rand ratio: 0.1 Best Formula: np.remainder(np.negative(np.subtract(np.add(np.square(np.subtract(8.436781132251166, np.multiply(-13.848331590115555, np.multiply(x[5], -1.2777392903188343)))), np.multiply(np.multiply(x[5], np.negative(np.sin(np.cos(-3.882794588807048)))), np.sqrt(np.sqrt(17.975654942009342)))), np.add(-10.582433395125005, np.remainder(-13.848331590115555, np.multiply(x[0], x[1]))))), np.multiply(np.remainder(np.multiply(14.661829023200148, np.divide(np.add(x[4], 14.661829023200148), np.multiply(17.975654942009342, np.multiply(x[5], -1.2777392903188343)))), np.subtract(np.add(np.subtract(x[2], np.add(np.cos(-11.182497094881182), -13.986695980866601)), np.multiply(x[5], np.multiply(-3.5071096870574863, -11.360536228622955))), np.power(np.square(-15.713612067239794), np.add(np.multiply(x[5], -1.2777392903188343), np.subtract(np.subtract(np.cos(x[3]), -3.882794588807048), -1.2777392903188343))))), np.subtract(13.863455447366313, np.multiply(-11.684700547512001, np.sqrt(17.975654942009342)))))\n"
     ]
    },
    {
     "name": "stderr",
     "output_type": "stream",
     "text": [
      "  0%|          | 302/100000 [00:48<5:00:08,  5.54it/s]"
     ]
    },
    {
     "name": "stdout",
     "output_type": "stream",
     "text": [
      "Generation 301, Best Fitness: 3452818.795159198, Best fitness true:3452818.795159198 Rand ratio: 0.1 Best Formula: np.remainder(np.negative(np.subtract(np.add(np.add(np.square(np.subtract(11.643724252739595, np.multiply(np.multiply(np.sqrt(17.975654942009342), np.sqrt(17.975654942009342)), np.multiply(x[5], -1.2777392903188343)))), np.remainder(np.subtract(17.975654942009342, -16.341046650117143), np.subtract(np.absolute(np.remainder(np.subtract(x[4], 11.643724252739595), np.add(-9.604861537957984, -8.06888603751624))), -13.848331590115555))), np.sqrt(17.975654942009342)), np.add(-13.848331590115555, np.remainder(13.863455447366313, np.multiply(x[0], x[1]))))), np.multiply(np.remainder(np.subtract(np.sqrt(17.975654942009342), np.multiply(np.multiply(x[5], np.negative(np.sin(np.cos(np.sqrt(17.975654942009342))))), np.sqrt(11.53102199646574))), np.subtract(np.add(np.subtract(x[2], np.add(np.multiply(x[5], -1.2777392903188343), -0.05276698271999081)), np.multiply(x[5], 11.53102199646574)), np.power(np.square(8.436781132251166), np.add(np.multiply(x[5], -1.2777392903188343), np.subtract(np.subtract(np.cos(x[3]), -3.882794588807048), 5.136014685266282))))), np.subtract(np.multiply(np.multiply(x[5], np.negative(np.sin(np.cos(np.sqrt(17.975654942009342))))), np.sqrt(11.53102199646574)), np.multiply(np.multiply(-11.684700547512001, np.sqrt(17.975654942009342)), np.sqrt(17.975654942009342)))))\n"
     ]
    },
    {
     "name": "stderr",
     "output_type": "stream",
     "text": [
      "  0%|          | 352/100000 [00:58<5:09:21,  5.37it/s]"
     ]
    },
    {
     "name": "stdout",
     "output_type": "stream",
     "text": [
      "Generation 351, Best Fitness: 3385906.634725327, Best fitness true:3385906.634725327 Rand ratio: 0.1 Best Formula: np.remainder(np.negative(np.subtract(np.add(np.add(np.square(np.subtract(11.53102199646574, np.multiply(np.multiply(np.sqrt(17.975654942009342), np.sqrt(17.975654942009342)), np.multiply(x[5], -1.2777392903188343)))), np.remainder(np.subtract(17.975654942009342, -16.341046650117143), np.subtract(np.absolute(np.remainder(np.subtract(x[4], 11.643724252739595), np.add(-9.604861537957984, -8.06888603751624))), -13.848331590115555))), np.sqrt(np.sqrt(17.975654942009342))), np.add(-13.848331590115555, np.remainder(-13.848331590115555, np.multiply(x[0], x[1]))))), np.multiply(np.remainder(np.subtract(np.sqrt(17.975654942009342), np.multiply(np.multiply(x[5], np.negative(np.sin(np.cos(np.sqrt(17.975654942009342))))), np.sqrt(11.53102199646574))), np.subtract(np.add(np.subtract(x[2], np.add(np.multiply(x[5], -1.2777392903188343), -0.05276698271999081)), np.multiply(x[5], 11.53102199646574)), np.power(np.square(8.436781132251166), np.add(np.multiply(x[5], -13.848331590115555), np.subtract(np.subtract(np.cos(x[3]), np.add(-9.604861537957984, -8.06888603751624)), 5.136014685266282))))), np.subtract(np.multiply(np.multiply(x[5], np.negative(np.sin(np.cos(np.sqrt(17.975654942009342))))), np.sqrt(11.53102199646574)), np.multiply(np.multiply(-11.684700547512001, np.sqrt(17.975654942009342)), np.sqrt(17.975654942009342)))))\n"
     ]
    },
    {
     "name": "stderr",
     "output_type": "stream",
     "text": [
      "  0%|          | 402/100000 [01:07<5:13:50,  5.29it/s]"
     ]
    },
    {
     "name": "stdout",
     "output_type": "stream",
     "text": [
      "Generation 401, Best Fitness: 3364060.099686883, Best fitness true:3364060.099686883 Rand ratio: 0.1 Best Formula: np.remainder(np.negative(np.subtract(np.add(np.add(np.square(np.subtract(11.53102199646574, np.multiply(np.multiply(np.sqrt(17.975654942009342), np.sqrt(17.975654942009342)), np.multiply(x[5], -1.2777392903188343)))), np.remainder(np.subtract(np.sqrt(17.975654942009342), np.multiply(x[5], -1.2777392903188343)), np.subtract(np.absolute(np.remainder(np.add(x[4], 11.643724252739595), np.add(-9.604861537957984, -8.06888603751624))), np.multiply(x[5], 11.53102199646574)))), np.sqrt(np.cos(17.975654942009342))), np.add(-13.848331590115555, np.remainder(-13.848331590115555, np.multiply(x[0], x[1]))))), np.multiply(np.remainder(np.subtract(np.sqrt(17.975654942009342), np.multiply(np.multiply(x[5], np.negative(np.sin(np.cos(np.sqrt(17.975654942009342))))), np.sqrt(11.53102199646574))), np.subtract(np.add(np.subtract(x[2], np.add(np.multiply(x[5], -1.2777392903188343), -0.05276698271999081)), np.multiply(x[5], 11.53102199646574)), np.power(np.square(8.436781132251166), np.add(np.multiply(x[5], -13.848331590115555), np.subtract(np.subtract(np.cos(x[3]), np.add(-9.604861537957984, -8.06888603751624)), 5.136014685266282))))), np.subtract(np.multiply(np.multiply(x[5], np.negative(np.sin(np.cos(np.sqrt(np.sqrt(17.975654942009342)))))), np.sqrt(11.53102199646574)), np.multiply(np.multiply(-11.684700547512001, np.sqrt(17.975654942009342)), np.sqrt(17.975654942009342)))))\n"
     ]
    },
    {
     "name": "stderr",
     "output_type": "stream",
     "text": [
      "  0%|          | 451/100000 [01:17<6:27:19,  4.28it/s]"
     ]
    },
    {
     "name": "stdout",
     "output_type": "stream",
     "text": [
      "Generation 451, Best Fitness: 3314886.2900159126, Best fitness true:3314886.2900159126 Rand ratio: 0.1 Best Formula: np.remainder(np.negative(np.subtract(np.add(np.add(np.square(np.subtract(11.53102199646574, np.multiply(np.multiply(np.sqrt(17.975654942009342), np.sqrt(17.975654942009342)), np.multiply(x[5], -1.2777392903188343)))), np.remainder(np.subtract(17.975654942009342, -16.341046650117143), np.subtract(np.absolute(np.remainder(np.subtract(x[4], 11.643724252739595), -1.2777392903188343)), np.sqrt(17.975654942009342)))), np.sqrt(17.975654942009342)), np.add(np.multiply(np.multiply(x[5], 11.53102199646574), np.sqrt(11.53102199646574)), np.remainder(-13.848331590115555, np.multiply(x[0], x[1]))))), np.multiply(np.remainder(np.subtract(np.sqrt(17.975654942009342), np.multiply(np.multiply(x[5], np.negative(np.sin(np.cos(np.sqrt(17.975654942009342))))), np.sqrt(11.53102199646574))), np.subtract(np.add(np.subtract(x[2], np.add(np.add(np.multiply(x[5], -1.2777392903188343), -0.05276698271999081), -0.05276698271999081)), np.multiply(x[5], 11.53102199646574)), np.power(np.square(8.436781132251166), np.add(np.multiply(x[5], -10.46360018120383), np.subtract(np.subtract(np.cos(x[3]), np.add(-9.604861537957984, -8.06888603751624)), 5.136014685266282))))), np.subtract(np.sqrt(11.53102199646574), np.multiply(np.multiply(-11.684700547512001, np.sqrt(17.975654942009342)), np.sqrt(17.975654942009342)))))\n"
     ]
    },
    {
     "name": "stderr",
     "output_type": "stream",
     "text": [
      "  1%|          | 501/100000 [01:27<5:51:41,  4.72it/s]"
     ]
    },
    {
     "name": "stdout",
     "output_type": "stream",
     "text": [
      "Generation 501, Best Fitness: 3245371.6631241133, Best fitness true:3245371.6631241133 Rand ratio: 0.15000000000000002 Best Formula: np.remainder(np.negative(np.subtract(np.add(np.add(np.square(np.subtract(11.53102199646574, np.multiply(np.multiply(np.sqrt(17.975654942009342), np.sqrt(17.975654942009342)), np.multiply(x[5], -1.2777392903188343)))), np.remainder(np.subtract(np.sqrt(17.975654942009342), np.cos(np.sqrt(17.975654942009342))), np.subtract(np.absolute(np.remainder(np.subtract(x[4], 11.643724252739595), np.add(17.975654942009342, 8.436781132251166))), 17.975654942009342))), np.sqrt(17.975654942009342)), np.add(np.multiply(np.multiply(x[5], 11.53102199646574), np.sqrt(17.975654942009342)), np.remainder(-13.848331590115555, np.multiply(x[0], x[1]))))), np.multiply(np.remainder(np.subtract(np.sqrt(17.975654942009342), np.multiply(np.multiply(x[5], np.negative(np.sin(np.cos(np.sqrt(17.975654942009342))))), np.sqrt(11.53102199646574))), np.subtract(np.add(np.subtract(x[2], np.add(np.add(np.multiply(x[5], -1.2777392903188343), -0.05276698271999081), -0.05276698271999081)), np.multiply(x[5], 11.53102199646574)), np.power(np.square(8.436781132251166), np.add(np.multiply(x[5], -10.46360018120383), np.subtract(np.subtract(np.cos(x[3]), np.add(-9.604861537957984, -8.06888603751624)), 5.136014685266282))))), np.subtract(np.remainder(np.multiply(x[5], np.sqrt(11.53102199646574)), np.sqrt(11.53102199646574)), np.multiply(np.multiply(-11.684700547512001, np.sqrt(17.975654942009342)), np.sqrt(17.975654942009342)))))\n"
     ]
    },
    {
     "name": "stderr",
     "output_type": "stream",
     "text": [
      "  1%|          | 551/100000 [01:39<6:44:09,  4.10it/s]"
     ]
    },
    {
     "name": "stdout",
     "output_type": "stream",
     "text": [
      "Generation 551, Best Fitness: 2997249.819699366, Best fitness true:2997249.819699366 Rand ratio: 0.15000000000000002 Best Formula: np.remainder(np.negative(np.subtract(np.add(np.add(np.square(np.subtract(11.53102199646574, np.multiply(np.multiply(np.sqrt(17.975654942009342), np.sqrt(17.975654942009342)), np.multiply(x[5], -1.2777392903188343)))), np.remainder(np.subtract(np.sqrt(11.53102199646574), -16.341046650117143), np.subtract(np.absolute(np.remainder(np.subtract(x[4], 11.643724252739595), 8.252623676845964)), np.sqrt(17.975654942009342)))), np.sqrt(17.975654942009342)), np.add(np.multiply(np.multiply(x[5], 11.53102199646574), 5.136014685266282), np.remainder(-13.848331590115555, np.multiply(x[0], x[1]))))), np.multiply(np.remainder(np.subtract(np.remainder(np.multiply(x[5], np.sqrt(11.53102199646574)), np.sqrt(np.subtract(np.remainder(np.multiply(x[5], 11.53102199646574), np.sqrt(11.53102199646574)), np.multiply(np.multiply(-11.684700547512001, np.sqrt(17.975654942009342)), np.sqrt(17.975654942009342))))), np.multiply(np.multiply(x[5], np.negative(np.sin(np.cos(np.sqrt(17.975654942009342))))), np.sqrt(7.454367409402064))), np.subtract(np.add(np.subtract(x[2], np.add(np.add(np.multiply(x[5], -1.2777392903188343), -0.05276698271999081), -0.05276698271999081)), np.multiply(x[5], 11.53102199646574)), np.power(np.square(8.436781132251166), np.add(np.multiply(x[5], -10.46360018120383), np.subtract(np.subtract(np.cos(x[3]), np.add(-9.604861537957984, -8.06888603751624)), 5.136014685266282))))), np.subtract(np.remainder(np.multiply(x[5], np.sqrt(11.53102199646574)), np.sqrt(np.subtract(np.remainder(np.multiply(x[5], 11.53102199646574), np.sqrt(11.53102199646574)), np.multiply(np.multiply(-11.684700547512001, np.sqrt(17.975654942009342)), np.sqrt(17.975654942009342))))), np.multiply(np.multiply(-11.684700547512001, np.sqrt(17.975654942009342)), np.sqrt(17.975654942009342)))))\n"
     ]
    },
    {
     "name": "stderr",
     "output_type": "stream",
     "text": [
      "  1%|          | 601/100000 [01:53<8:22:50,  3.29it/s]"
     ]
    },
    {
     "name": "stdout",
     "output_type": "stream",
     "text": [
      "Generation 601, Best Fitness: 2778750.8470953144, Best fitness true:2778750.8470953144 Rand ratio: 0.15000000000000002 Best Formula: np.remainder(np.negative(np.subtract(np.add(np.add(np.square(np.subtract(11.53102199646574, np.multiply(17.975654942009342, np.multiply(x[5], -1.2777392903188343)))), np.remainder(np.subtract(np.sqrt(11.53102199646574), -16.341046650117143), np.subtract(np.absolute(np.remainder(np.subtract(x[4], 11.643724252739595), np.add(17.975654942009342, 8.436781132251166))), 17.975654942009342))), np.sqrt(np.subtract(np.sqrt(11.53102199646574), -16.341046650117143))), np.add(np.multiply(np.multiply(x[5], 11.53102199646574), 5.136014685266282), np.remainder(8.436781132251166, np.multiply(x[0], x[1]))))), np.multiply(np.remainder(np.subtract(np.remainder(np.multiply(x[5], np.sqrt(11.53102199646574)), np.sqrt(np.subtract(np.remainder(np.multiply(x[5], np.multiply(x[5], -1.2777392903188343)), np.sqrt(11.53102199646574)), np.multiply(np.multiply(-11.684700547512001, np.sqrt(17.975654942009342)), np.sqrt(17.975654942009342))))), np.multiply(np.multiply(x[5], np.negative(np.sin(np.cos(np.sqrt(17.975654942009342))))), np.sqrt(np.sqrt(np.sqrt(17.975654942009342))))), np.subtract(np.add(np.subtract(x[2], np.add(np.add(np.multiply(x[5], -1.2777392903188343), -0.05276698271999081), -0.05276698271999081)), np.multiply(x[5], 11.53102199646574)), np.power(np.square(8.436781132251166), np.add(np.multiply(x[5], -10.46360018120383), np.subtract(np.subtract(np.cos(x[3]), np.add(-9.604861537957984, -8.06888603751624)), 8.436781132251166))))), np.subtract(np.remainder(np.multiply(x[5], np.sqrt(11.53102199646574)), np.sqrt(np.subtract(np.remainder(np.multiply(x[5], np.sqrt(11.53102199646574)), np.sqrt(np.sqrt(17.975654942009342))), np.multiply(np.multiply(-11.684700547512001, np.sqrt(17.975654942009342)), np.sqrt(17.975654942009342))))), np.multiply(np.multiply(-11.684700547512001, np.sqrt(17.975654942009342)), np.sqrt(17.975654942009342)))))\n"
     ]
    },
    {
     "name": "stderr",
     "output_type": "stream",
     "text": [
      "  1%|          | 651/100000 [02:09<8:29:24,  3.25it/s]"
     ]
    },
    {
     "name": "stdout",
     "output_type": "stream",
     "text": [
      "Generation 651, Best Fitness: 2541557.0616105185, Best fitness true:2541557.0616105185 Rand ratio: 0.15000000000000002 Best Formula: np.remainder(np.negative(np.subtract(np.add(np.add(np.square(np.subtract(11.53102199646574, np.multiply(np.multiply(np.sqrt(17.975654942009342), np.sqrt(17.975654942009342)), np.multiply(x[5], -1.2777392903188343)))), np.remainder(np.add(np.add(np.multiply(x[5], -1.2777392903188343), -0.05276698271999081), -0.05276698271999081), np.subtract(np.absolute(x[4]), np.sqrt(17.975654942009342)))), np.remainder(np.multiply(x[5], np.sqrt(11.53102199646574)), np.sqrt(np.subtract(np.remainder(np.multiply(x[5], 11.53102199646574), 11.53102199646574), np.multiply(np.multiply(-11.684700547512001, np.sqrt(11.53102199646574)), np.sqrt(17.975654942009342)))))), np.add(np.multiply(np.multiply(x[5], 11.53102199646574), 5.136014685266282), np.remainder(-13.848331590115555, np.multiply(x[0], x[1]))))), np.multiply(np.remainder(np.subtract(np.remainder(np.multiply(x[5], np.sqrt(11.53102199646574)), np.sqrt(np.subtract(np.remainder(np.sqrt(17.975654942009342), np.sqrt(np.sqrt(17.975654942009342))), np.multiply(np.multiply(-11.684700547512001, np.sqrt(17.975654942009342)), np.sqrt(17.975654942009342))))), np.multiply(np.multiply(x[5], np.negative(np.sin(np.cos(np.sqrt(3.2071848784420176))))), np.sqrt(7.454367409402064))), np.subtract(np.add(np.subtract(x[2], np.add(np.add(np.multiply(x[5], -1.2777392903188343), -0.05276698271999081), -0.05276698271999081)), np.multiply(x[5], 11.53102199646574)), np.power(np.square(8.436781132251166), np.add(np.multiply(x[5], -10.46360018120383), np.subtract(np.subtract(np.cos(x[3]), np.add(-9.604861537957984, -8.06888603751624)), -1.2777392903188343))))), np.subtract(np.remainder(np.multiply(x[5], np.sqrt(np.sqrt(17.975654942009342))), np.sqrt(np.subtract(np.remainder(np.sqrt(17.975654942009342), np.sqrt(np.sqrt(17.975654942009342))), np.multiply(np.multiply(-11.684700547512001, np.sqrt(17.975654942009342)), np.sqrt(17.975654942009342))))), np.multiply(np.multiply(-11.684700547512001, np.sqrt(17.975654942009342)), 8.252623676845964))))\n"
     ]
    },
    {
     "name": "stderr",
     "output_type": "stream",
     "text": [
      "  1%|          | 701/100000 [02:26<10:17:24,  2.68it/s]"
     ]
    },
    {
     "name": "stdout",
     "output_type": "stream",
     "text": [
      "Generation 701, Best Fitness: 2423043.5375882066, Best fitness true:2423043.5375882066 Rand ratio: 0.1 Best Formula: np.remainder(np.negative(np.subtract(np.add(np.add(np.square(np.subtract(11.53102199646574, np.multiply(np.multiply(np.sqrt(17.975654942009342), np.sqrt(17.975654942009342)), np.multiply(x[5], -1.2777392903188343)))), np.remainder(np.subtract(np.cos(np.sqrt(17.975654942009342)), -16.341046650117143), np.subtract(np.absolute(np.remainder(np.subtract(x[4], 11.643724252739595), 17.975654942009342)), np.sqrt(17.975654942009342)))), np.remainder(np.multiply(x[5], np.sqrt(11.53102199646574)), np.sqrt(np.subtract(np.remainder(np.multiply(x[5], 11.53102199646574), np.sqrt(np.sqrt(17.975654942009342))), np.multiply(np.multiply(-11.684700547512001, np.sqrt(11.53102199646574)), np.sqrt(17.975654942009342)))))), np.add(np.multiply(np.multiply(x[5], 8.252623676845964), 5.136014685266282), np.remainder(-13.848331590115555, np.multiply(x[0], x[1]))))), np.multiply(np.remainder(np.subtract(np.remainder(np.multiply(x[5], np.sqrt(11.53102199646574)), np.sqrt(np.subtract(np.remainder(np.sqrt(17.975654942009342), np.sqrt(11.53102199646574)), np.multiply(np.multiply(-11.684700547512001, np.sqrt(17.975654942009342)), np.sqrt(17.975654942009342))))), np.multiply(np.multiply(x[5], np.negative(np.sin(np.cos(np.sqrt(3.2071848784420176))))), np.sqrt(7.454367409402064))), np.subtract(np.add(np.subtract(np.sin(np.remainder(np.add(np.remainder(x[2], x[2]), 17.975654942009342), np.remainder(np.divide(x[5], x[3]), 7.606620264421515))), np.add(np.add(np.multiply(x[5], -1.2777392903188343), -0.05276698271999081), -0.05276698271999081)), np.multiply(x[5], 11.643724252739595)), np.power(np.sqrt(np.subtract(np.remainder(np.multiply(x[5], np.sqrt(11.53102199646574)), -1.2777392903188343), np.multiply(np.multiply(-11.684700547512001, np.sqrt(17.975654942009342)), np.sqrt(17.975654942009342)))), np.add(np.multiply(x[5], -10.46360018120383), np.subtract(np.subtract(np.sqrt(17.975654942009342), np.add(-16.341046650117143, -16.341046650117143)), 17.758298143526773))))), np.subtract(np.remainder(np.multiply(x[5], np.sqrt(11.53102199646574)), np.sqrt(np.subtract(np.remainder(np.sqrt(17.975654942009342), np.sqrt(np.sqrt(17.975654942009342))), np.multiply(np.multiply(-11.684700547512001, np.sqrt(17.975654942009342)), np.sqrt(17.975654942009342))))), np.multiply(np.multiply(-11.684700547512001, np.sqrt(17.975654942009342)), 8.252623676845964))))\n"
     ]
    },
    {
     "name": "stderr",
     "output_type": "stream",
     "text": [
      "  1%|          | 751/100000 [02:45<10:13:31,  2.70it/s]"
     ]
    },
    {
     "name": "stdout",
     "output_type": "stream",
     "text": [
      "Generation 751, Best Fitness: 2376217.729057399, Best fitness true:2376217.729057399 Rand ratio: 0.15000000000000002 Best Formula: np.remainder(np.negative(np.subtract(np.add(np.add(np.square(np.subtract(11.441335325541772, np.multiply(np.multiply(np.sqrt(17.975654942009342), np.sqrt(17.975654942009342)), np.multiply(x[5], -1.2777392903188343)))), np.add(np.subtract(np.cos(np.sqrt(17.975654942009342)), -16.341046650117143), np.subtract(np.negative(np.remainder(np.subtract(x[4], 5.136014685266282), np.sqrt(11.53102199646574))), np.sqrt(17.975654942009342)))), np.remainder(np.multiply(x[5], np.sqrt(11.53102199646574)), np.sqrt(np.subtract(np.remainder(np.multiply(x[5], 11.53102199646574), np.sqrt(np.sqrt(17.975654942009342))), np.multiply(np.multiply(-11.684700547512001, np.sqrt(11.53102199646574)), np.sqrt(17.975654942009342)))))), np.add(np.multiply(np.multiply(x[5], 11.53102199646574), np.sqrt(11.53102199646574)), np.remainder(-13.848331590115555, np.multiply(x[0], x[1]))))), np.multiply(np.remainder(np.subtract(np.remainder(np.multiply(x[5], np.sqrt(11.53102199646574)), np.sqrt(np.subtract(np.remainder(np.sqrt(17.975654942009342), np.sqrt(11.53102199646574)), np.multiply(np.multiply(-11.684700547512001, np.sqrt(17.975654942009342)), np.sqrt(17.975654942009342))))), np.multiply(np.multiply(x[5], np.negative(np.sin(np.cos(np.sqrt(3.2071848784420176))))), np.sqrt(7.454367409402064))), np.subtract(np.add(np.subtract(np.sin(np.remainder(np.add(np.remainder(x[2], x[2]), 15.533809442060772), np.remainder(np.divide(x[5], x[3]), x[2]))), np.add(np.add(np.multiply(x[5], -1.2777392903188343), -0.05276698271999081), np.remainder(np.remainder(x[5], np.sqrt(11.53102199646574)), -1.2777392903188343))), np.multiply(x[5], 11.643724252739595)), np.power(np.sqrt(np.subtract(np.remainder(np.multiply(x[5], np.sqrt(11.53102199646574)), -1.2777392903188343), np.multiply(np.multiply(-1.2777392903188343, np.sqrt(11.53102199646574)), np.sqrt(17.975654942009342)))), np.add(np.multiply(x[5], -10.46360018120383), np.subtract(np.subtract(np.sqrt(17.975654942009342), np.add(-16.341046650117143, -16.341046650117143)), 17.758298143526773))))), np.subtract(np.remainder(np.multiply(x[5], np.sqrt(11.53102199646574)), np.sqrt(np.subtract(np.remainder(np.multiply(np.multiply(-11.684700547512001, np.sqrt(11.53102199646574)), np.sqrt(17.975654942009342)), np.sqrt(np.sqrt(17.975654942009342))), np.multiply(np.multiply(-11.684700547512001, np.sqrt(17.975654942009342)), np.sqrt(17.975654942009342))))), np.multiply(np.multiply(-11.684700547512001, np.sqrt(17.975654942009342)), 8.252623676845964))))\n"
     ]
    },
    {
     "name": "stderr",
     "output_type": "stream",
     "text": [
      "  1%|          | 801/100000 [03:04<10:13:04,  2.70it/s]"
     ]
    },
    {
     "name": "stdout",
     "output_type": "stream",
     "text": [
      "Generation 801, Best Fitness: 2237708.9482373437, Best fitness true:2237708.9482373437 Rand ratio: 0.15000000000000002 Best Formula: np.remainder(np.negative(np.subtract(np.add(np.add(np.square(np.subtract(11.53102199646574, np.multiply(np.multiply(np.sqrt(17.975654942009342), np.sqrt(17.975654942009342)), np.multiply(x[5], -1.2777392903188343)))), np.remainder(np.subtract(np.remainder(np.sqrt(17.975654942009342), np.sqrt(np.sqrt(17.975654942009342))), np.multiply(np.multiply(-11.684700547512001, np.sqrt(17.975654942009342)), np.sqrt(17.975654942009342))), np.subtract(np.absolute(np.remainder(np.subtract(x[4], 11.643724252739595), 17.975654942009342)), np.sqrt(17.975654942009342)))), np.remainder(np.multiply(x[5], np.sqrt(11.53102199646574)), np.sqrt(np.subtract(np.remainder(np.multiply(x[5], 11.53102199646574), np.sqrt(np.sqrt(17.975654942009342))), np.multiply(np.multiply(-11.684700547512001, np.sqrt(11.53102199646574)), np.sqrt(17.975654942009342)))))), np.add(np.multiply(np.multiply(x[5], 11.53102199646574), 5.136014685266282), np.remainder(np.sqrt(17.975654942009342), np.multiply(x[0], x[1]))))), np.multiply(np.remainder(np.subtract(np.remainder(np.multiply(x[5], np.sqrt(11.53102199646574)), np.sqrt(np.subtract(np.remainder(np.sqrt(17.975654942009342), np.sqrt(np.sqrt(17.975654942009342))), np.multiply(np.multiply(-11.684700547512001, np.sqrt(17.975654942009342)), np.sqrt(17.975654942009342))))), np.multiply(np.multiply(x[5], np.negative(np.sin(np.cos(np.sqrt(3.2071848784420176))))), np.sqrt(7.454367409402064))), np.subtract(np.add(np.subtract(np.sin(np.remainder(np.multiply(x[5], 5.136014685266282), np.remainder(np.divide(x[5], x[3]), x[2]))), np.add(np.add(np.multiply(x[5], 4.995431340355946), -0.05276698271999081), -0.05276698271999081)), np.multiply(x[5], 11.643724252739595)), np.power(np.sqrt(np.subtract(np.remainder(np.multiply(x[5], np.sqrt(11.53102199646574)), 19.84934517934137), np.multiply(np.multiply(-0.5914438722850015, np.sqrt(17.975654942009342)), np.sqrt(np.sqrt(4.929325753808019))))), np.add(np.multiply(x[5], -10.46360018120383), np.subtract(np.subtract(np.sqrt(17.975654942009342), np.add(-18.351217660849358, -16.341046650117143)), 17.758298143526773))))), np.subtract(np.remainder(np.multiply(x[5], np.sqrt(11.53102199646574)), np.sqrt(np.subtract(np.remainder(np.remainder(np.sqrt(17.975654942009342), np.sqrt(np.sqrt(17.975654942009342))), np.sqrt(np.sqrt(17.975654942009342))), np.multiply(np.multiply(-11.684700547512001, np.sqrt(17.975654942009342)), np.sqrt(17.975654942009342))))), np.multiply(np.multiply(-11.684700547512001, np.sqrt(np.subtract(np.remainder(np.multiply(x[5], np.sqrt(11.53102199646574)), 19.84934517934137), np.multiply(np.multiply(-0.5914438722850015, np.sqrt(17.975654942009342)), np.sqrt(np.sqrt(4.929325753808019)))))), 8.252623676845964))))\n"
     ]
    },
    {
     "name": "stderr",
     "output_type": "stream",
     "text": [
      "  1%|          | 851/100000 [03:23<10:27:01,  2.64it/s]"
     ]
    },
    {
     "name": "stdout",
     "output_type": "stream",
     "text": [
      "Generation 851, Best Fitness: 2057621.7517431702, Best fitness true:2057621.7517431702 Rand ratio: 0.1 Best Formula: np.remainder(np.negative(np.subtract(np.add(np.add(np.square(np.subtract(11.53102199646574, np.multiply(np.multiply(np.sqrt(17.975654942009342), np.sqrt(17.975654942009342)), np.multiply(x[5], -1.2777392903188343)))), np.remainder(11.53102199646574, np.subtract(np.absolute(np.remainder(np.subtract(x[4], 11.643724252739595), 17.975654942009342)), np.sqrt(17.975654942009342)))), np.remainder(np.multiply(x[5], -0.05276698271999081), np.sqrt(np.subtract(np.remainder(np.sqrt(np.sqrt(17.975654942009342)), np.sqrt(np.sqrt(17.975654942009342))), np.multiply(np.multiply(-11.684700547512001, np.sqrt(11.53102199646574)), np.sqrt(17.975654942009342)))))), np.add(np.multiply(np.multiply(x[5], 11.53102199646574), 5.136014685266282), np.remainder(np.sqrt(17.975654942009342), np.multiply(x[0], x[1]))))), np.multiply(np.remainder(np.subtract(np.remainder(np.multiply(x[5], np.sqrt(11.53102199646574)), np.sqrt(np.subtract(np.remainder(np.sqrt(17.975654942009342), np.sqrt(np.sqrt(17.975654942009342))), np.multiply(np.multiply(-11.684700547512001, np.sqrt(17.975654942009342)), np.sqrt(17.975654942009342))))), np.multiply(np.multiply(x[5], np.negative(np.sin(np.cos(np.sqrt(3.2071848784420176))))), np.sqrt(7.454367409402064))), np.subtract(np.add(np.subtract(np.sin(np.remainder(np.multiply(x[5], 5.136014685266282), np.remainder(np.divide(x[5], x[3]), x[2]))), np.add(np.multiply(-0.5914438722850015, np.sqrt(17.975654942009342)), -0.05276698271999081)), np.multiply(x[5], 11.643724252739595)), np.power(np.sqrt(np.subtract(np.remainder(np.multiply(x[5], np.sqrt(11.53102199646574)), 19.84934517934137), np.multiply(np.multiply(-0.5914438722850015, np.sqrt(17.975654942009342)), np.sqrt(np.sqrt(4.929325753808019))))), np.add(np.multiply(x[5], -10.46360018120383), np.subtract(np.subtract(np.sqrt(17.975654942009342), np.add(-18.351217660849358, np.add(0.7458272303368609, -12.85243864609901))), 17.758298143526773))))), np.subtract(np.remainder(np.multiply(x[5], np.sqrt(11.53102199646574)), np.sqrt(np.subtract(np.remainder(np.remainder(np.sqrt(17.975654942009342), np.sqrt(np.sqrt(17.975654942009342))), np.sqrt(np.sqrt(17.975654942009342))), np.multiply(np.multiply(-11.684700547512001, np.sqrt(17.975654942009342)), np.sqrt(17.975654942009342))))), np.multiply(np.multiply(-11.684700547512001, np.sqrt(np.subtract(np.remainder(np.multiply(x[5], np.sqrt(11.53102199646574)), 19.84934517934137), np.multiply(np.multiply(-0.5914438722850015, np.sqrt(17.975654942009342)), np.sqrt(np.sqrt(17.975654942009342)))))), 8.252623676845964))))\n"
     ]
    },
    {
     "name": "stderr",
     "output_type": "stream",
     "text": [
      "  1%|          | 901/100000 [03:43<10:49:23,  2.54it/s]"
     ]
    },
    {
     "name": "stdout",
     "output_type": "stream",
     "text": [
      "Generation 901, Best Fitness: 2032038.7273976605, Best fitness true:2032038.7273976605 Rand ratio: 0.15000000000000002 Best Formula: np.remainder(np.negative(np.subtract(np.add(np.add(np.square(np.subtract(11.53102199646574, np.multiply(np.multiply(np.sqrt(17.975654942009342), np.sqrt(17.975654942009342)), np.multiply(x[5], -1.2777392903188343)))), np.remainder(np.subtract(np.remainder(np.sqrt(17.975654942009342), np.multiply(x[5], -1.2777392903188343)), np.multiply(np.multiply(-11.684700547512001, np.sqrt(17.975654942009342)), np.sqrt(np.sqrt(17.975654942009342)))), np.subtract(np.absolute(np.remainder(np.subtract(x[4], 11.643724252739595), 17.975654942009342)), 11.53102199646574))), np.remainder(np.multiply(x[5], -0.05276698271999081), np.sqrt(np.subtract(np.remainder(np.multiply(x[5], 11.53102199646574), np.sqrt(np.sqrt(17.975654942009342))), np.multiply(np.multiply(-0.5914438722850015, np.sqrt(17.975654942009342)), np.sqrt(np.sqrt(17.975654942009342))))))), np.add(np.multiply(np.multiply(x[5], 11.53102199646574), 5.136014685266282), np.remainder(np.sqrt(17.975654942009342), np.multiply(x[0], x[1]))))), np.multiply(np.remainder(np.subtract(np.remainder(np.multiply(x[5], np.sqrt(11.53102199646574)), np.sqrt(np.subtract(np.remainder(np.sqrt(17.975654942009342), np.sqrt(np.sqrt(17.975654942009342))), np.multiply(np.multiply(-11.684700547512001, np.sqrt(17.975654942009342)), np.sqrt(17.975654942009342))))), np.multiply(np.multiply(x[5], np.negative(np.sin(np.cos(np.sqrt(3.2071848784420176))))), np.sqrt(7.454367409402064))), np.subtract(np.add(np.subtract(np.sin(np.remainder(np.multiply(x[5], 5.136014685266282), np.remainder(np.divide(x[5], x[3]), x[2]))), np.add(np.multiply(-0.5914438722850015, np.tan(17.975654942009342)), -0.05276698271999081)), np.multiply(x[5], 12.252571408146245)), np.power(np.sqrt(5.136014685266282), np.add(np.multiply(x[5], -10.46360018120383), np.subtract(np.subtract(17.975654942009342, np.add(-18.351217660849358, np.sqrt(11.53102199646574))), 17.758298143526773))))), np.subtract(np.remainder(np.multiply(x[5], np.sqrt(11.53102199646574)), np.sqrt(np.subtract(np.remainder(np.remainder(np.sqrt(17.975654942009342), np.sqrt(np.sqrt(17.975654942009342))), np.sqrt(np.sqrt(17.975654942009342))), np.multiply(np.multiply(-11.684700547512001, np.sqrt(17.975654942009342)), np.sqrt(17.975654942009342))))), np.multiply(np.multiply(-11.684700547512001, np.sqrt(np.subtract(np.remainder(np.multiply(x[5], np.sqrt(12.105800391765747)), 19.84934517934137), np.multiply(np.multiply(-0.5914438722850015, np.sqrt(17.975654942009342)), np.sqrt(np.sqrt(17.975654942009342)))))), 8.252623676845964))))\n"
     ]
    },
    {
     "name": "stderr",
     "output_type": "stream",
     "text": [
      "  1%|          | 951/100000 [04:04<10:50:21,  2.54it/s]"
     ]
    },
    {
     "name": "stdout",
     "output_type": "stream",
     "text": [
      "Generation 951, Best Fitness: 1678410.0987823026, Best fitness true:1678410.0987823026 Rand ratio: 0.1 Best Formula: np.remainder(np.negative(np.subtract(np.add(np.add(np.square(np.subtract(11.53102199646574, np.multiply(np.multiply(np.sqrt(17.975654942009342), np.sqrt(17.975654942009342)), np.multiply(x[5], -1.2777392903188343)))), np.remainder(np.subtract(np.remainder(np.sqrt(17.975654942009342), np.multiply(x[5], -1.2777392903188343)), np.multiply(np.multiply(-11.684700547512001, np.sqrt(17.975654942009342)), np.sqrt(np.sqrt(17.975654942009342)))), np.subtract(np.absolute(np.remainder(17.975654942009342, 17.975654942009342)), np.sqrt(17.975654942009342)))), np.multiply(np.multiply(x[5], np.negative(np.sin(np.multiply(np.power(8.575625458584845, 2.200653819896644), np.add(x[4], -16.527270061357626))))), np.sqrt(7.454367409402064))), np.add(np.multiply(np.multiply(x[5], 11.53102199646574), 5.136014685266282), np.remainder(np.sqrt(17.975654942009342), np.multiply(x[0], x[1]))))), np.multiply(np.remainder(np.subtract(np.remainder(np.multiply(x[5], np.sqrt(11.53102199646574)), np.sin(np.subtract(np.remainder(np.sqrt(17.975654942009342), np.multiply(np.sqrt(17.975654942009342), np.sqrt(17.975654942009342))), np.multiply(np.multiply(-11.684700547512001, np.sqrt(17.975654942009342)), np.sqrt(17.975654942009342))))), np.multiply(np.multiply(x[5], np.negative(np.sin(np.cos(np.sqrt(3.2071848784420176))))), np.sqrt(np.sqrt(11.53102199646574)))), np.subtract(np.add(np.subtract(np.sin(np.remainder(np.multiply(x[5], 5.136014685266282), np.remainder(np.divide(x[5], x[3]), x[2]))), np.add(np.multiply(-0.5914438722850015, np.multiply(-11.684700547512001, np.sqrt(17.975654942009342))), -0.05276698271999081)), np.multiply(x[5], 12.252571408146245)), np.power(np.sqrt(np.subtract(np.remainder(np.multiply(x[5], np.sqrt(11.53102199646574)), 19.84934517934137), np.multiply(np.multiply(-0.5914438722850015, np.sqrt(7.454367409402064)), np.sqrt(np.sqrt(4.929325753808019))))), np.add(np.multiply(x[5], -10.46360018120383), np.subtract(np.subtract(17.975654942009342, np.subtract(np.sqrt(4.929325753808019), np.sqrt(11.53102199646574))), 17.758298143526773))))), np.subtract(np.remainder(np.multiply(x[5], np.absolute(11.53102199646574)), np.sqrt(np.subtract(np.remainder(np.remainder(np.sqrt(17.975654942009342), np.sqrt(np.sqrt(17.975654942009342))), np.sqrt(np.divide(np.multiply(-18.179463735767673, 14.886072688540864), np.divide(13.801317296797976, -10.596936124557338)))), np.multiply(np.multiply(-11.684700547512001, np.sqrt(17.975654942009342)), np.sqrt(17.975654942009342))))), np.multiply(np.multiply(-11.684700547512001, np.sqrt(np.subtract(np.remainder(np.multiply(x[5], np.sqrt(11.53102199646574)), 19.84934517934137), np.multiply(np.multiply(-0.5914438722850015, np.sqrt(17.975654942009342)), np.sqrt(np.sqrt(17.975654942009342)))))), 8.252623676845964))))\n"
     ]
    },
    {
     "name": "stderr",
     "output_type": "stream",
     "text": [
      "  1%|          | 1001/100000 [04:23<10:41:08,  2.57it/s]"
     ]
    },
    {
     "name": "stdout",
     "output_type": "stream",
     "text": [
      "Generation 1001, Best Fitness: 1635002.6837592823, Best fitness true:1635002.6837592823 Rand ratio: 0.15000000000000002 Best Formula: np.remainder(np.negative(np.subtract(np.add(np.add(np.square(np.subtract(11.53102199646574, np.multiply(np.multiply(np.sqrt(17.975654942009342), np.sqrt(17.975654942009342)), np.multiply(x[5], -1.2777392903188343)))), np.remainder(np.subtract(np.remainder(np.sqrt(17.975654942009342), np.multiply(x[5], -1.2777392903188343)), np.multiply(np.multiply(-11.684700547512001, np.sqrt(17.975654942009342)), np.sqrt(np.sqrt(17.975654942009342)))), np.subtract(np.absolute(np.remainder(17.975654942009342, 17.975654942009342)), np.multiply(np.multiply(np.sqrt(17.975654942009342), np.sqrt(17.975654942009342)), np.multiply(x[5], -1.2777392903188343))))), np.multiply(np.multiply(x[5], np.negative(np.sin(np.multiply(np.power(11.53102199646574, 4.929325753808019), np.add(x[4], -16.527270061357626))))), np.sqrt(7.454367409402064))), np.add(np.multiply(np.multiply(x[5], np.absolute(11.53102199646574)), 5.136014685266282), np.remainder(np.sqrt(17.975654942009342), np.multiply(x[0], x[1]))))), np.multiply(np.remainder(np.subtract(np.remainder(np.multiply(x[5], np.sqrt(11.53102199646574)), np.sin(np.subtract(np.remainder(np.sqrt(np.sqrt(3.2071848784420176)), np.multiply(np.sqrt(17.975654942009342), np.sqrt(17.975654942009342))), np.multiply(np.multiply(-11.684700547512001, np.sqrt(17.975654942009342)), np.sqrt(17.975654942009342))))), np.multiply(np.multiply(x[5], np.negative(np.sin(np.cos(np.sqrt(3.2071848784420176))))), np.sqrt(7.454367409402064))), np.subtract(np.add(np.subtract(np.sin(np.remainder(np.multiply(x[5], 5.136014685266282), np.remainder(np.divide(x[5], x[3]), x[2]))), np.add(np.multiply(-0.5914438722850015, np.multiply(-11.684700547512001, np.sqrt(17.975654942009342))), -0.05276698271999081)), np.multiply(x[5], 12.252571408146245)), np.power(np.sqrt(np.subtract(np.remainder(np.multiply(x[5], np.sqrt(11.53102199646574)), 19.84934517934137), np.multiply(np.multiply(-0.5914438722850015, np.sqrt(7.454367409402064)), np.sqrt(np.sqrt(4.929325753808019))))), np.add(np.multiply(x[5], -10.46360018120383), np.subtract(np.subtract(17.975654942009342, np.subtract(17.975654942009342, np.sqrt(11.53102199646574))), 17.758298143526773))))), np.subtract(np.remainder(np.multiply(x[5], np.absolute(11.53102199646574)), np.sqrt(np.subtract(np.remainder(np.remainder(np.sqrt(17.975654942009342), np.sqrt(np.sqrt(17.975654942009342))), np.sqrt(np.divide(np.multiply(-18.179463735767673, 14.886072688540864), np.divide(13.801317296797976, -10.596936124557338)))), np.multiply(np.multiply(-11.684700547512001, np.sqrt(17.975654942009342)), np.sqrt(17.975654942009342))))), np.multiply(np.multiply(-11.684700547512001, np.sqrt(np.subtract(np.remainder(np.multiply(x[5], np.sqrt(11.53102199646574)), 19.84934517934137), np.multiply(np.multiply(-0.5914438722850015, np.sqrt(17.975654942009342)), np.sqrt(12.252571408146245))))), 8.252623676845964))))\n"
     ]
    },
    {
     "name": "stderr",
     "output_type": "stream",
     "text": [
      "  1%|          | 1051/100000 [04:42<10:50:04,  2.54it/s]"
     ]
    },
    {
     "name": "stdout",
     "output_type": "stream",
     "text": [
      "Generation 1051, Best Fitness: 1585464.3039853638, Best fitness true:1585464.3039853638 Rand ratio: 0.15000000000000002 Best Formula: np.remainder(np.negative(np.subtract(np.add(np.add(np.square(np.subtract(11.53102199646574, np.multiply(np.multiply(np.sqrt(17.975654942009342), np.sqrt(17.975654942009342)), np.multiply(x[5], -1.2777392903188343)))), np.remainder(np.subtract(np.remainder(np.sqrt(17.975654942009342), np.multiply(x[5], -1.2777392903188343)), np.multiply(np.multiply(-11.684700547512001, np.sqrt(17.975654942009342)), np.sqrt(np.sqrt(17.975654942009342)))), np.subtract(np.absolute(np.remainder(17.975654942009342, 17.975654942009342)), np.multiply(np.multiply(np.sqrt(17.975654942009342), np.sqrt(17.975654942009342)), np.multiply(x[5], -1.2777392903188343))))), np.multiply(np.multiply(x[5], np.negative(np.sin(np.multiply(np.power(11.53102199646574, 2.200653819896644), np.add(x[4], -16.527270061357626))))), np.sqrt(7.454367409402064))), np.add(np.multiply(np.multiply(x[5], 11.53102199646574), 5.136014685266282), np.remainder(np.sqrt(17.975654942009342), np.multiply(x[0], x[1]))))), np.multiply(np.remainder(np.subtract(np.remainder(np.multiply(x[5], np.multiply(-0.5914438722850015, np.sqrt(np.divide(np.subtract(5.994680585313027, 18.134286279615964), np.add(-8.250795412954002, -8.219798544425888))))), np.sin(np.subtract(np.remainder(np.multiply(x[5], np.sqrt(11.53102199646574)), 19.84934517934137), np.multiply(np.multiply(-11.684700547512001, np.sqrt(17.975654942009342)), np.sqrt(17.975654942009342))))), np.multiply(np.multiply(x[5], np.negative(np.sin(np.cos(np.sqrt(3.2071848784420176))))), np.sqrt(7.454367409402064))), np.subtract(np.add(np.subtract(np.sin(np.remainder(np.multiply(x[5], 5.136014685266282), np.multiply(np.divide(x[3], 17.975654942009342), x[2]))), np.add(np.multiply(-0.5914438722850015, np.multiply(-11.684700547512001, np.sqrt(17.975654942009342))), -0.05276698271999081)), np.multiply(x[5], 12.252571408146245)), np.power(np.absolute(np.subtract(np.remainder(np.multiply(x[5], np.sqrt(11.53102199646574)), 19.84934517934137), np.remainder(np.multiply(-0.5914438722850015, np.sqrt(7.454367409402064)), np.sqrt(np.sqrt(4.929325753808019))))), np.add(np.absolute(17.975654942009342), np.subtract(np.subtract(17.975654942009342, np.subtract(17.975654942009342, np.sqrt(11.53102199646574))), np.multiply(-0.5914438722850015, np.multiply(-11.684700547512001, np.sqrt(17.975654942009342)))))))), np.subtract(np.remainder(np.multiply(x[5], np.absolute(11.53102199646574)), np.sqrt(np.subtract(np.remainder(np.remainder(np.sqrt(17.975654942009342), np.sqrt(np.sqrt(17.975654942009342))), np.sqrt(np.divide(np.multiply(-18.179463735767673, 14.886072688540864), np.divide(13.801317296797976, -10.596936124557338)))), np.multiply(np.multiply(-11.684700547512001, np.sqrt(17.975654942009342)), np.sqrt(17.975654942009342))))), np.multiply(np.multiply(-11.684700547512001, np.sqrt(np.subtract(np.remainder(np.multiply(x[5], np.sqrt(11.53102199646574)), 19.84934517934137), np.multiply(np.multiply(-0.5914438722850015, np.sqrt(17.975654942009342)), np.sqrt(12.252571408146245))))), 8.252623676845964))))\n"
     ]
    },
    {
     "name": "stderr",
     "output_type": "stream",
     "text": [
      "  1%|          | 1101/100000 [05:01<9:48:37,  2.80it/s] "
     ]
    },
    {
     "name": "stdout",
     "output_type": "stream",
     "text": [
      "Generation 1101, Best Fitness: 1548224.836772015, Best fitness true:1548224.836772015 Rand ratio: 0.1 Best Formula: np.remainder(np.negative(np.subtract(np.add(np.add(np.square(np.subtract(11.53102199646574, np.multiply(np.multiply(np.sqrt(17.975654942009342), np.sqrt(17.975654942009342)), np.multiply(x[5], -1.2777392903188343)))), np.remainder(np.subtract(np.remainder(np.sqrt(17.975654942009342), np.multiply(x[5], -1.2777392903188343)), np.multiply(np.multiply(-11.684700547512001, np.sqrt(13.801317296797976)), np.sqrt(np.sqrt(17.975654942009342)))), np.subtract(np.absolute(np.remainder(17.975654942009342, np.divide(18.706407494270877, 13.585369201436869))), np.multiply(np.multiply(np.sqrt(17.975654942009342), np.sqrt(17.975654942009342)), np.multiply(x[5], -1.2777392903188343))))), np.multiply(np.multiply(x[5], np.negative(np.sin(np.multiply(np.power(11.53102199646574, 2.200653819896644), np.add(x[4], -16.527270061357626))))), np.sqrt(7.454367409402064))), np.add(np.multiply(np.multiply(x[5], 11.53102199646574), 5.136014685266282), np.remainder(np.sqrt(17.975654942009342), np.multiply(x[0], x[1]))))), np.multiply(np.remainder(np.subtract(np.remainder(np.divide(x[5], np.multiply(-0.5914438722850015, np.sqrt(17.975654942009342))), np.sin(np.subtract(np.remainder(np.multiply(x[5], np.sqrt(11.53102199646574)), 19.84934517934137), np.multiply(np.multiply(-11.684700547512001, np.sqrt(7.454367409402064)), np.sqrt(17.975654942009342))))), np.multiply(np.multiply(x[5], np.negative(np.sin(np.cos(np.sqrt(3.2071848784420176))))), np.sqrt(7.454367409402064))), np.subtract(np.add(np.subtract(np.sin(np.remainder(np.multiply(x[5], 5.136014685266282), np.multiply(np.divide(x[3], 17.975654942009342), x[2]))), np.add(np.multiply(-0.5914438722850015, np.multiply(-11.684700547512001, np.sqrt(17.975654942009342))), -0.05276698271999081)), np.multiply(x[5], 12.252571408146245)), np.power(np.absolute(np.subtract(np.remainder(np.multiply(x[5], np.sqrt(11.53102199646574)), 19.84934517934137), np.multiply(-0.5914438722850015, np.multiply(-11.684700547512001, np.sqrt(17.975654942009342))))), np.add(np.absolute(17.975654942009342), np.subtract(np.sin(np.cos(np.sqrt(3.2071848784420176))), np.multiply(-0.5914438722850015, np.multiply(-11.684700547512001, np.sqrt(17.975654942009342)))))))), np.subtract(np.remainder(np.multiply(x[5], np.absolute(11.53102199646574)), np.sqrt(np.subtract(np.remainder(np.remainder(np.sqrt(17.975654942009342), np.sqrt(np.sqrt(17.975654942009342))), np.sqrt(np.divide(np.multiply(-18.179463735767673, 14.886072688540864), np.divide(13.801317296797976, -10.596936124557338)))), np.multiply(np.multiply(-11.684700547512001, np.sqrt(17.975654942009342)), np.sqrt(17.975654942009342))))), np.multiply(np.multiply(-11.684700547512001, np.sqrt(np.subtract(np.remainder(np.multiply(x[5], np.sqrt(11.53102199646574)), 19.84934517934137), np.multiply(np.multiply(-0.5914438722850015, np.sqrt(17.975654942009342)), np.sqrt(12.252571408146245))))), 8.252623676845964))))\n"
     ]
    },
    {
     "name": "stderr",
     "output_type": "stream",
     "text": [
      "  1%|          | 1151/100000 [05:21<10:37:38,  2.58it/s]"
     ]
    },
    {
     "name": "stdout",
     "output_type": "stream",
     "text": [
      "Generation 1151, Best Fitness: 1536453.534501879, Best fitness true:1536453.534501879 Rand ratio: 0.1 Best Formula: np.remainder(np.negative(np.subtract(np.add(np.add(np.square(np.subtract(11.53102199646574, np.multiply(np.multiply(np.sqrt(17.975654942009342), np.sqrt(17.975654942009342)), np.multiply(x[5], -1.2777392903188343)))), np.remainder(np.subtract(np.remainder(np.sqrt(17.975654942009342), -10.596936124557338), np.multiply(np.multiply(-11.684700547512001, np.sqrt(17.975654942009342)), np.sqrt(np.sqrt(17.975654942009342)))), np.subtract(np.absolute(np.remainder(17.975654942009342, -1.2777392903188343)), np.multiply(np.multiply(np.sqrt(19.84934517934137), np.sqrt(17.975654942009342)), np.multiply(x[5], -1.2777392903188343))))), np.multiply(np.multiply(x[5], np.negative(np.sin(np.multiply(np.sqrt(17.975654942009342), np.add(x[4], -16.527270061357626))))), np.multiply(x[5], np.sqrt(11.53102199646574)))), np.add(np.multiply(np.multiply(x[5], 11.53102199646574), 5.136014685266282), np.remainder(np.sqrt(np.subtract(np.remainder(np.multiply(x[5], np.sqrt(11.53102199646574)), 19.84934517934137), np.multiply(np.multiply(-0.5914438722850015, np.sqrt(17.975654942009342)), np.sqrt(17.975654942009342)))), np.multiply(x[0], x[1]))))), np.multiply(np.remainder(np.subtract(np.remainder(np.divide(x[5], np.multiply(-0.5914438722850015, np.sqrt(17.975654942009342))), np.sin(np.subtract(np.remainder(np.multiply(x[5], np.sqrt(11.53102199646574)), 19.84934517934137), np.multiply(np.multiply(-11.684700547512001, np.sqrt(7.454367409402064)), np.sqrt(17.975654942009342))))), np.multiply(np.multiply(x[5], np.negative(np.sin(np.cos(np.sqrt(3.2071848784420176))))), np.sqrt(7.454367409402064))), np.subtract(np.add(np.subtract(np.sin(np.remainder(np.multiply(x[5], 5.136014685266282), np.multiply(np.divide(x[3], 17.975654942009342), x[2]))), np.add(np.multiply(-0.5914438722850015, np.multiply(-11.684700547512001, np.sqrt(17.975654942009342))), -0.05276698271999081)), np.multiply(x[5], 12.252571408146245)), np.power(np.absolute(np.subtract(np.remainder(np.remainder(np.log(13.456388313901165), np.sqrt(11.53102199646574)), 19.84934517934137), np.remainder(np.multiply(-0.5914438722850015, np.sqrt(7.454367409402064)), np.sqrt(np.sqrt(4.929325753808019))))), np.add(np.absolute(17.975654942009342), np.subtract(np.sin(np.cos(np.sqrt(3.2071848784420176))), np.multiply(-0.5914438722850015, np.multiply(-11.684700547512001, np.sqrt(13.801317296797976)))))))), np.subtract(np.remainder(np.multiply(x[5], np.absolute(11.53102199646574)), np.sqrt(np.subtract(np.remainder(np.remainder(np.sqrt(17.975654942009342), np.sqrt(np.sqrt(14.886072688540864))), np.multiply(x[5], 12.252571408146245)), np.multiply(np.multiply(-11.684700547512001, np.sqrt(17.975654942009342)), np.sqrt(17.975654942009342))))), np.multiply(np.multiply(-11.684700547512001, np.sqrt(np.subtract(np.remainder(np.multiply(x[5], np.sqrt(11.53102199646574)), 19.84934517934137), np.multiply(np.multiply(-0.5914438722850015, np.sqrt(17.975654942009342)), np.sqrt(12.252571408146245))))), 8.252623676845964))))\n"
     ]
    },
    {
     "name": "stderr",
     "output_type": "stream",
     "text": [
      "  1%|          | 1201/100000 [05:40<11:14:39,  2.44it/s]"
     ]
    },
    {
     "name": "stdout",
     "output_type": "stream",
     "text": [
      "Generation 1201, Best Fitness: 1526594.4884476804, Best fitness true:1526594.4884476804 Rand ratio: 0.1 Best Formula: np.remainder(np.negative(np.subtract(np.add(np.add(np.square(np.subtract(11.53102199646574, np.multiply(np.multiply(np.sqrt(17.975654942009342), np.sqrt(17.975654942009342)), np.multiply(x[5], -1.2777392903188343)))), np.remainder(np.subtract(np.remainder(np.sqrt(17.975654942009342), np.sqrt(np.sqrt(17.975654942009342))), np.multiply(np.multiply(-11.684700547512001, np.sqrt(17.975654942009342)), np.sqrt(np.sqrt(17.975654942009342)))), np.subtract(np.absolute(np.remainder(17.975654942009342, -1.2777392903188343)), np.multiply(np.multiply(np.sqrt(19.84934517934137), np.sqrt(17.975654942009342)), np.multiply(x[5], -1.2777392903188343))))), np.multiply(np.multiply(x[5], np.negative(np.sin(np.multiply(np.sqrt(17.975654942009342), np.add(x[4], -16.527270061357626))))), np.remainder(np.remainder(np.sqrt(17.975654942009342), np.sqrt(np.sqrt(14.886072688540864))), np.multiply(x[5], 12.252571408146245)))), np.add(np.multiply(np.multiply(x[5], 11.53102199646574), 5.136014685266282), np.remainder(np.sqrt(np.subtract(np.remainder(np.multiply(x[5], np.sqrt(11.53102199646574)), 19.84934517934137), np.multiply(np.subtract(np.power(19.72606255901936, -4.5827277160705115), np.divide(-8.746980899393652, -4.1867648894441345)), np.sqrt(12.252571408146245)))), np.multiply(x[0], x[1]))))), np.multiply(np.remainder(np.subtract(np.remainder(np.divide(x[5], np.multiply(-0.5914438722850015, np.sqrt(17.975654942009342))), np.sin(np.subtract(np.remainder(np.multiply(x[5], np.sqrt(11.53102199646574)), 19.84934517934137), np.multiply(np.multiply(-11.684700547512001, np.sqrt(7.454367409402064)), np.sqrt(17.975654942009342))))), np.multiply(np.multiply(x[5], np.negative(np.sin(np.cos(np.sqrt(3.2071848784420176))))), np.sqrt(7.454367409402064))), np.subtract(np.add(np.subtract(np.sin(np.remainder(np.multiply(x[5], 5.136014685266282), np.multiply(np.divide(x[3], 17.975654942009342), np.cos(x[2])))), np.add(np.multiply(-0.5914438722850015, np.multiply(-11.684700547512001, np.sqrt(17.975654942009342))), -0.05276698271999081)), np.multiply(x[5], 12.252571408146245)), np.power(np.absolute(np.subtract(np.remainder(np.remainder(np.log(13.456388313901165), np.multiply(5.136014685266282, 2.350161598397662)), 19.84934517934137), np.remainder(np.multiply(-0.5914438722850015, np.sqrt(7.454367409402064)), np.sqrt(np.sqrt(4.929325753808019))))), np.add(np.absolute(17.975654942009342), np.subtract(np.sin(np.add(np.remainder(-4.004275101807542, 4.990085968205488), np.multiply(-9.734113877613266, 0.013666518415391238))), np.multiply(-0.5914438722850015, np.multiply(-11.684700547512001, np.sqrt(13.801317296797976)))))))), np.subtract(np.remainder(np.multiply(x[5], np.absolute(11.53102199646574)), np.sqrt(np.subtract(np.remainder(np.remainder(-0.5914438722850015, np.sqrt(np.sqrt(14.886072688540864))), np.multiply(x[5], 12.252571408146245)), np.multiply(np.multiply(-11.684700547512001, np.sqrt(17.975654942009342)), np.sqrt(17.975654942009342))))), np.multiply(np.multiply(-11.684700547512001, np.sqrt(np.subtract(np.remainder(np.multiply(x[5], np.sqrt(11.53102199646574)), 19.84934517934137), np.multiply(np.multiply(-0.5914438722850015, np.sqrt(17.975654942009342)), np.sqrt(12.252571408146245))))), 8.252623676845964))))\n"
     ]
    },
    {
     "name": "stderr",
     "output_type": "stream",
     "text": [
      "  1%|▏         | 1251/100000 [06:01<10:51:24,  2.53it/s]"
     ]
    },
    {
     "name": "stdout",
     "output_type": "stream",
     "text": [
      "Generation 1251, Best Fitness: 1513133.9597224565, Best fitness true:1513133.9597224565 Rand ratio: 0.1 Best Formula: np.remainder(np.negative(np.subtract(np.add(np.add(np.square(np.subtract(11.53102199646574, np.multiply(np.multiply(np.sqrt(17.975654942009342), np.sqrt(17.975654942009342)), np.multiply(x[5], -1.2777392903188343)))), np.remainder(np.subtract(np.remainder(np.remainder(-11.684700547512001, np.multiply(5.136014685266282, 2.350161598397662)), np.multiply(x[5], -1.2777392903188343)), np.multiply(np.multiply(-11.684700547512001, np.sqrt(17.975654942009342)), np.sqrt(np.sqrt(17.975654942009342)))), np.subtract(np.absolute(np.remainder(17.975654942009342, -1.2777392903188343)), np.multiply(np.multiply(np.sqrt(19.84934517934137), np.sqrt(17.975654942009342)), np.multiply(x[5], -1.2777392903188343))))), np.multiply(np.multiply(x[5], np.negative(np.sin(5.136014685266282))), np.remainder(np.remainder(np.multiply(x[5], np.sqrt(11.53102199646574)), 19.84934517934137), np.multiply(x[5], 12.252571408146245)))), np.add(np.multiply(np.multiply(x[5], 11.53102199646574), 5.136014685266282), np.remainder(np.sqrt(np.subtract(np.remainder(np.multiply(x[5], np.sqrt(11.53102199646574)), 19.84934517934137), np.multiply(np.subtract(np.power(19.72606255901936, -4.5827277160705115), np.divide(-8.746980899393652, -4.1867648894441345)), np.sqrt(12.252571408146245)))), np.multiply(x[0], x[1]))))), np.multiply(np.remainder(np.subtract(np.remainder(np.divide(x[5], np.multiply(-0.5914438722850015, np.sqrt(17.975654942009342))), np.sin(np.subtract(np.remainder(np.multiply(x[5], np.sqrt(11.53102199646574)), 19.84934517934137), np.multiply(np.multiply(-11.684700547512001, np.sqrt(7.454367409402064)), np.sqrt(17.975654942009342))))), np.multiply(np.multiply(x[5], np.negative(np.sin(np.cos(np.sqrt(3.2071848784420176))))), np.sqrt(7.454367409402064))), np.subtract(np.add(np.subtract(np.sin(np.remainder(np.multiply(x[5], 5.136014685266282), np.multiply(np.divide(x[3], 17.975654942009342), np.cos(x[2])))), np.add(np.multiply(-0.5914438722850015, np.multiply(-11.684700547512001, np.sqrt(17.975654942009342))), -0.05276698271999081)), np.multiply(x[5], 12.252571408146245)), np.power(np.absolute(np.subtract(np.remainder(np.remainder(np.log(13.456388313901165), 19.84934517934137), 19.84934517934137), np.remainder(np.multiply(-0.5914438722850015, np.sqrt(7.454367409402064)), np.sqrt(np.sqrt(4.929325753808019))))), np.add(np.absolute(17.975654942009342), np.subtract(np.sin(np.subtract(np.divide(13.801317296797976, -12.906379664443492), np.sin(x[4]))), np.multiply(-0.5914438722850015, np.multiply(-11.684700547512001, np.sqrt(13.801317296797976)))))))), np.subtract(np.remainder(np.multiply(x[5], np.absolute(11.53102199646574)), np.sqrt(np.subtract(np.remainder(np.remainder(np.sqrt(17.975654942009342), np.sqrt(np.sqrt(14.886072688540864))), np.sqrt(19.84934517934137)), np.multiply(np.multiply(-11.684700547512001, np.sqrt(17.975654942009342)), np.sqrt(17.975654942009342))))), np.multiply(np.multiply(-11.684700547512001, np.sqrt(np.subtract(np.remainder(np.multiply(x[5], np.sqrt(11.53102199646574)), 19.84934517934137), np.multiply(np.multiply(-0.5914438722850015, np.sqrt(17.975654942009342)), np.sqrt(12.252571408146245))))), 8.252623676845964))))\n"
     ]
    },
    {
     "name": "stderr",
     "output_type": "stream",
     "text": [
      "  1%|▏         | 1301/100000 [06:23<12:53:03,  2.13it/s]"
     ]
    },
    {
     "name": "stdout",
     "output_type": "stream",
     "text": [
      "Generation 1301, Best Fitness: 1496675.6729555945, Best fitness true:1496675.6729555945 Rand ratio: 0.1 Best Formula: np.remainder(np.negative(np.subtract(np.add(np.add(np.square(np.subtract(11.53102199646574, np.multiply(np.multiply(np.sqrt(17.975654942009342), np.sqrt(17.975654942009342)), np.multiply(x[5], -1.2777392903188343)))), np.remainder(np.subtract(np.remainder(np.remainder(-11.684700547512001, np.multiply(5.136014685266282, 2.350161598397662)), np.sqrt(4.929325753808019)), np.multiply(np.multiply(-11.684700547512001, np.sqrt(17.975654942009342)), np.sqrt(np.sqrt(17.975654942009342)))), np.subtract(np.remainder(np.multiply(x[5], np.sqrt(11.53102199646574)), 19.84934517934137), np.multiply(np.multiply(np.sqrt(19.84934517934137), np.sqrt(17.975654942009342)), np.multiply(x[5], -1.2777392903188343))))), np.multiply(np.multiply(x[5], np.negative(np.sin(5.136014685266282))), np.remainder(np.remainder(np.multiply(x[5], np.sqrt(11.53102199646574)), 19.84934517934137), np.multiply(x[5], 17.975654942009342)))), np.add(np.multiply(np.multiply(x[5], 11.53102199646574), np.absolute(np.remainder(17.975654942009342, -1.2777392903188343))), np.remainder(np.sqrt(7.454367409402064), np.multiply(x[0], x[1]))))), np.multiply(np.remainder(np.subtract(np.remainder(np.divide(x[5], np.multiply(-0.5914438722850015, np.sqrt(17.975654942009342))), np.sin(np.subtract(np.remainder(np.multiply(x[5], np.sqrt(11.53102199646574)), 17.975654942009342), np.multiply(np.multiply(-11.684700547512001, np.sqrt(7.454367409402064)), np.sqrt(17.975654942009342))))), np.multiply(np.multiply(x[5], np.negative(np.sin(np.cos(np.sqrt(3.2071848784420176))))), np.sqrt(7.454367409402064))), np.subtract(np.add(np.subtract(np.sin(np.remainder(np.sqrt(11.53102199646574), np.multiply(np.divide(x[3], 13.456388313901165), np.cos(x[2])))), np.add(np.multiply(-0.5914438722850015, np.multiply(-11.684700547512001, np.sqrt(17.975654942009342))), -0.05276698271999081)), np.multiply(x[5], 12.252571408146245)), np.power(np.absolute(np.subtract(np.remainder(np.multiply(x[5], np.sqrt(11.53102199646574)), 19.84934517934137), np.multiply(np.multiply(-0.5914438722850015, np.sqrt(17.975654942009342)), np.sqrt(12.252571408146245)))), np.add(np.absolute(17.975654942009342), np.subtract(np.sin(np.subtract(np.divide(13.801317296797976, -12.906379664443492), np.sin(x[4]))), np.multiply(-0.5914438722850015, np.multiply(-11.684700547512001, np.sqrt(13.801317296797976)))))))), np.subtract(np.remainder(np.multiply(x[5], np.absolute(11.53102199646574)), np.sqrt(np.subtract(np.remainder(np.remainder(np.sqrt(17.975654942009342), np.sqrt(np.sqrt(14.886072688540864))), np.sqrt(7.454367409402064)), np.multiply(np.multiply(-11.684700547512001, np.sqrt(17.975654942009342)), np.sqrt(17.975654942009342))))), np.multiply(np.multiply(-11.684700547512001, np.sqrt(np.subtract(np.remainder(np.multiply(x[5], np.sqrt(11.53102199646574)), 19.84934517934137), np.multiply(np.multiply(-0.5914438722850015, np.sqrt(17.975654942009342)), np.sqrt(12.252571408146245))))), 8.252623676845964))))\n"
     ]
    },
    {
     "name": "stderr",
     "output_type": "stream",
     "text": [
      "  1%|▏         | 1351/100000 [06:47<14:01:43,  1.95it/s]"
     ]
    },
    {
     "name": "stdout",
     "output_type": "stream",
     "text": [
      "Generation 1351, Best Fitness: 1401571.58191044, Best fitness true:1401571.58191044 Rand ratio: 0.1 Best Formula: np.remainder(np.negative(np.subtract(np.add(np.add(np.square(np.subtract(11.53102199646574, np.multiply(np.multiply(np.sqrt(17.975654942009342), np.sqrt(17.975654942009342)), np.multiply(x[5], -1.2777392903188343)))), np.remainder(np.subtract(np.remainder(np.remainder(-11.684700547512001, np.sqrt(11.53102199646574)), -11.684700547512001), np.multiply(np.multiply(-11.684700547512001, np.sqrt(17.975654942009342)), np.sqrt(np.sqrt(17.975654942009342)))), np.subtract(np.remainder(np.multiply(x[5], np.sqrt(11.53102199646574)), 19.84934517934137), np.multiply(np.multiply(np.sqrt(19.84934517934137), np.sqrt(17.975654942009342)), np.multiply(x[5], -1.2777392903188343))))), np.multiply(np.multiply(x[5], np.multiply(x[5], -1.2777392903188343)), np.remainder(np.remainder(np.multiply(x[5], np.sqrt(np.sqrt(11.059610812811176))), 19.84934517934137), np.multiply(x[5], 12.252571408146245)))), np.add(np.multiply(x[5], 12.252571408146245), np.remainder(np.sqrt(np.subtract(np.remainder(np.multiply(x[5], np.sqrt(11.53102199646574)), 3.23625620905171), np.multiply(np.subtract(np.power(19.72606255901936, -4.5827277160705115), np.divide(-8.746980899393652, -4.1867648894441345)), np.sqrt(12.252571408146245)))), np.multiply(x[0], x[1]))))), np.multiply(np.remainder(np.subtract(np.remainder(np.divide(x[5], np.multiply(-0.5914438722850015, np.sqrt(17.975654942009342))), np.sin(np.subtract(np.remainder(np.multiply(x[5], np.sqrt(11.53102199646574)), 19.84934517934137), np.multiply(np.multiply(-11.684700547512001, np.sqrt(7.454367409402064)), np.sqrt(17.975654942009342))))), np.multiply(np.multiply(x[5], np.negative(np.sin(np.cos(np.sqrt(3.2071848784420176))))), np.sqrt(7.454367409402064))), np.subtract(np.add(np.subtract(np.sin(np.remainder(np.multiply(x[5], np.multiply(x[5], -1.2777392903188343)), np.multiply(np.divide(x[3], 17.975654942009342), np.cos(x[2])))), np.add(np.multiply(-0.5914438722850015, np.multiply(-11.684700547512001, np.sqrt(17.975654942009342))), -0.05276698271999081)), np.multiply(x[5], 12.252571408146245)), np.power(np.absolute(np.multiply(x[5], np.sqrt(11.53102199646574))), np.add(np.remainder(np.remainder(np.multiply(x[5], np.sqrt(11.53102199646574)), 13.027515715676785), np.multiply(x[5], 12.252571408146245)), np.subtract(np.sin(np.subtract(np.divide(13.801317296797976, -12.906379664443492), np.sin(x[4]))), np.multiply(-0.5914438722850015, np.multiply(-11.684700547512001, np.sqrt(3.23625620905171)))))))), np.subtract(np.remainder(np.multiply(x[5], np.absolute(11.53102199646574)), np.sqrt(np.subtract(np.remainder(np.remainder(np.sqrt(17.975654942009342), np.tan(np.sqrt(11.53102199646574))), np.sqrt(19.84934517934137)), np.multiply(np.multiply(-11.684700547512001, np.sqrt(17.975654942009342)), np.sqrt(17.975654942009342))))), np.multiply(np.multiply(-11.684700547512001, np.sqrt(np.subtract(np.remainder(np.multiply(x[5], np.sqrt(11.53102199646574)), 19.84934517934137), np.multiply(np.multiply(-0.5914438722850015, np.sqrt(17.975654942009342)), np.sqrt(12.252571408146245))))), 8.252623676845964))))\n"
     ]
    },
    {
     "name": "stderr",
     "output_type": "stream",
     "text": [
      "  1%|▏         | 1401/100000 [07:12<13:48:42,  1.98it/s]"
     ]
    },
    {
     "name": "stdout",
     "output_type": "stream",
     "text": [
      "Generation 1401, Best Fitness: 1355100.8546430469, Best fitness true:1355100.8546430469 Rand ratio: 0.15000000000000002 Best Formula: np.remainder(np.negative(np.subtract(np.add(np.add(np.square(np.subtract(12.252571408146245, np.multiply(np.multiply(np.sqrt(17.975654942009342), np.sqrt(17.975654942009342)), np.multiply(x[5], -1.2777392903188343)))), np.remainder(np.subtract(np.remainder(np.remainder(-11.684700547512001, np.sqrt(11.53102199646574)), np.multiply(x[5], -1.2777392903188343)), np.multiply(np.multiply(-11.684700547512001, np.sqrt(17.975654942009342)), np.sqrt(np.sqrt(17.975654942009342)))), np.subtract(np.remainder(np.multiply(x[5], np.sqrt(11.53102199646574)), 19.84934517934137), np.multiply(np.multiply(np.sqrt(19.84934517934137), np.sqrt(17.975654942009342)), np.multiply(x[5], -1.2777392903188343))))), np.multiply(np.multiply(x[5], np.multiply(x[5], -1.2777392903188343)), np.remainder(np.remainder(np.multiply(x[5], np.sqrt(np.sqrt(7.454367409402064))), 19.84934517934137), np.multiply(x[5], 12.252571408146245)))), np.add(np.multiply(np.multiply(-0.5914438722850015, np.sqrt(17.975654942009342)), np.sqrt(12.252571408146245)), np.remainder(np.sqrt(np.subtract(np.remainder(np.multiply(x[5], np.sqrt(11.53102199646574)), 19.84934517934137), np.multiply(np.subtract(np.power(19.72606255901936, -4.5827277160705115), np.divide(-8.746980899393652, -4.1867648894441345)), np.sqrt(12.252571408146245)))), np.multiply(x[0], x[1]))))), np.multiply(np.remainder(np.subtract(np.remainder(np.divide(x[5], np.multiply(-0.5914438722850015, np.sqrt(17.975654942009342))), np.sin(np.subtract(np.remainder(np.multiply(x[5], np.sqrt(11.53102199646574)), 19.84934517934137), np.multiply(np.multiply(-11.684700547512001, np.sqrt(7.454367409402064)), np.sqrt(17.975654942009342))))), np.multiply(np.multiply(x[5], np.negative(np.sin(np.cos(np.sqrt(3.2071848784420176))))), np.sqrt(7.454367409402064))), np.subtract(np.add(np.subtract(np.sin(np.remainder(np.multiply(x[5], -1.2777392903188343), np.multiply(np.divide(x[3], 17.975654942009342), np.cos(x[2])))), np.add(np.multiply(-0.5914438722850015, np.multiply(-11.684700547512001, np.sqrt(17.975654942009342))), -0.05276698271999081)), np.multiply(x[5], 12.252571408146245)), np.power(np.absolute(np.multiply(x[5], np.sqrt(11.53102199646574))), np.add(np.remainder(np.remainder(np.multiply(x[5], np.sqrt(11.53102199646574)), 13.027515715676785), np.multiply(x[5], 17.975654942009342)), np.subtract(np.sin(np.subtract(np.divide(13.801317296797976, -12.906379664443492), np.sin(x[4]))), np.multiply(-0.5914438722850015, np.multiply(-11.684700547512001, np.divide(-8.746980899393652, -4.1867648894441345)))))))), np.subtract(np.remainder(np.multiply(x[5], np.absolute(11.53102199646574)), np.sqrt(np.subtract(np.remainder(np.remainder(np.multiply(x[5], np.sqrt(11.53102199646574)), np.sqrt(np.sqrt(11.53102199646574))), np.sqrt(19.84934517934137)), np.multiply(np.multiply(-11.684700547512001, np.sqrt(17.975654942009342)), np.sqrt(19.84934517934137))))), np.multiply(np.multiply(-11.684700547512001, np.sqrt(np.subtract(np.remainder(np.multiply(x[5], np.sqrt(11.53102199646574)), 19.84934517934137), np.multiply(np.multiply(-0.5914438722850015, np.sqrt(17.975654942009342)), np.sqrt(12.252571408146245))))), 8.252623676845964))))\n"
     ]
    },
    {
     "name": "stderr",
     "output_type": "stream",
     "text": [
      "  1%|▏         | 1451/100000 [07:39<14:40:04,  1.87it/s]"
     ]
    },
    {
     "name": "stdout",
     "output_type": "stream",
     "text": [
      "Generation 1451, Best Fitness: 1290779.6102621355, Best fitness true:1290779.6102621355 Rand ratio: 0.15000000000000002 Best Formula: np.remainder(np.negative(np.subtract(np.add(np.add(np.square(np.subtract(12.252571408146245, np.multiply(np.multiply(np.sqrt(17.975654942009342), np.sqrt(17.975654942009342)), np.multiply(x[5], -1.2777392903188343)))), np.remainder(np.subtract(np.remainder(np.remainder(-11.684700547512001, np.sqrt(11.53102199646574)), np.multiply(x[5], -1.2777392903188343)), np.multiply(np.multiply(-11.684700547512001, np.sqrt(17.975654942009342)), np.sqrt(np.sqrt(17.975654942009342)))), np.multiply(np.remainder(np.multiply(x[5], np.sqrt(11.53102199646574)), 19.84934517934137), np.multiply(np.multiply(np.sqrt(19.84934517934137), np.sqrt(17.975654942009342)), np.subtract(x[5], -1.2777392903188343))))), np.multiply(np.multiply(x[5], np.multiply(x[5], -1.2777392903188343)), np.remainder(np.remainder(np.multiply(x[5], np.sqrt(np.sqrt(7.454367409402064))), 19.84934517934137), np.multiply(x[5], 12.252571408146245)))), np.add(np.multiply(np.multiply(-0.5914438722850015, np.sqrt(17.975654942009342)), np.sqrt(12.252571408146245)), np.remainder(np.sqrt(np.subtract(np.remainder(np.multiply(x[5], np.sqrt(11.53102199646574)), 19.84934517934137), np.multiply(np.subtract(np.power(19.72606255901936, -4.5827277160705115), np.divide(-8.746980899393652, -4.1867648894441345)), np.sqrt(12.252571408146245)))), np.multiply(x[0], x[1]))))), np.multiply(np.remainder(np.subtract(np.remainder(np.divide(x[5], np.multiply(-0.5914438722850015, np.sqrt(17.975654942009342))), np.sin(np.subtract(np.remainder(np.multiply(x[5], np.sqrt(11.53102199646574)), np.add(np.subtract(-9.256865948034028, 8.306837659086604), np.divide(-6.910832046836877, 10.887375480902545))), np.multiply(np.multiply(6.8633198274227, np.sqrt(7.454367409402064)), np.sqrt(17.975654942009342))))), np.multiply(np.multiply(x[5], np.negative(np.sin(np.cos(np.sqrt(3.2071848784420176))))), np.sqrt(7.454367409402064))), np.subtract(np.add(np.subtract(np.sin(np.remainder(np.subtract(x[5], -1.2777392903188343), np.multiply(np.divide(x[3], 17.975654942009342), np.cos(x[2])))), np.add(np.multiply(-0.5914438722850015, np.multiply(-11.684700547512001, np.sqrt(17.975654942009342))), -0.05276698271999081)), np.multiply(x[5], 12.252571408146245)), np.power(np.absolute(np.multiply(x[5], np.sqrt(11.53102199646574))), np.add(np.remainder(np.remainder(np.multiply(x[5], np.sqrt(11.53102199646574)), 13.027515715676785), np.multiply(x[5], 17.975654942009342)), np.subtract(np.sin(np.subtract(np.divide(13.801317296797976, -12.906379664443492), np.sin(x[4]))), np.multiply(-0.5914438722850015, np.multiply(-11.684700547512001, np.divide(-8.746980899393652, -4.1867648894441345)))))))), np.subtract(np.remainder(np.multiply(x[5], np.absolute(11.53102199646574)), np.sqrt(np.subtract(12.252571408146245, np.multiply(np.multiply(-11.684700547512001, np.sqrt(17.975654942009342)), np.sqrt(19.84934517934137))))), np.multiply(np.multiply(-11.684700547512001, np.sqrt(np.subtract(np.remainder(np.multiply(x[5], np.sqrt(11.53102199646574)), 19.84934517934137), np.multiply(np.multiply(-0.5914438722850015, np.sqrt(17.975654942009342)), np.sqrt(12.252571408146245))))), 8.252623676845964))))\n"
     ]
    },
    {
     "name": "stderr",
     "output_type": "stream",
     "text": [
      "  2%|▏         | 1501/100000 [08:05<13:58:12,  1.96it/s]"
     ]
    },
    {
     "name": "stdout",
     "output_type": "stream",
     "text": [
      "Generation 1501, Best Fitness: 1028815.8958886395, Best fitness true:1028815.8958886395 Rand ratio: 0.1 Best Formula: np.remainder(np.negative(np.subtract(np.add(np.add(np.square(np.subtract(12.252571408146245, np.multiply(np.multiply(np.sqrt(17.975654942009342), np.sqrt(17.975654942009342)), np.multiply(x[5], -1.2777392903188343)))), np.remainder(np.subtract(np.remainder(np.remainder(-11.684700547512001, np.sqrt(11.53102199646574)), np.multiply(x[5], np.remainder(6.892296446499252, -14.531326819032158))), np.multiply(np.multiply(-11.684700547512001, np.sqrt(17.975654942009342)), np.sqrt(np.sqrt(17.975654942009342)))), np.multiply(np.remainder(np.multiply(x[5], np.sqrt(11.53102199646574)), 19.84934517934137), np.multiply(np.multiply(17.975654942009342, np.sqrt(17.975654942009342)), np.subtract(x[5], -1.2777392903188343))))), np.multiply(np.multiply(x[5], np.multiply(x[5], -1.2777392903188343)), np.remainder(np.remainder(np.multiply(x[5], np.sqrt(np.sqrt(7.454367409402064))), 19.84934517934137), np.multiply(x[5], np.multiply(np.sqrt(17.975654942009342), np.sqrt(17.975654942009342)))))), np.add(np.multiply(13.027515715676785, np.sqrt(np.multiply(-0.5914438722850015, np.multiply(-11.684700547512001, np.sqrt(17.975654942009342))))), np.remainder(16.8529104439138, np.multiply(x[0], x[1]))))), np.multiply(np.remainder(np.subtract(np.remainder(np.divide(x[5], np.multiply(-0.5914438722850015, np.sqrt(17.975654942009342))), np.sin(np.subtract(np.remainder(np.multiply(x[5], np.sqrt(11.53102199646574)), 19.84934517934137), np.multiply(np.multiply(6.8633198274227, np.sqrt(7.454367409402064)), np.sqrt(17.975654942009342))))), np.multiply(np.multiply(x[5], np.negative(np.sin(np.cos(np.sqrt(3.2071848784420176))))), np.sqrt(7.454367409402064))), np.subtract(np.add(np.subtract(np.sin(np.remainder(np.multiply(x[5], -1.2777392903188343), np.multiply(np.divide(x[3], 17.975654942009342), np.cos(x[2])))), np.add(np.multiply(-0.5914438722850015, np.multiply(-11.684700547512001, np.sqrt(17.975654942009342))), -0.05276698271999081)), np.multiply(x[5], 12.252571408146245)), np.power(np.absolute(np.multiply(x[5], np.sqrt(17.975654942009342))), np.add(np.remainder(np.remainder(np.multiply(x[5], np.cos(11.53102199646574)), 13.027515715676785), np.multiply(x[5], 17.975654942009342)), np.subtract(np.sin(np.subtract(np.divide(13.801317296797976, -12.906379664443492), np.sin(x[4]))), np.multiply(-0.5914438722850015, np.multiply(-11.684700547512001, np.divide(-8.746980899393652, -4.1867648894441345)))))))), np.subtract(np.remainder(np.multiply(x[5], np.absolute(11.53102199646574)), np.sqrt(np.subtract(np.power(np.remainder(np.multiply(x[5], -11.684700547512001), np.sqrt(np.power(19.84934517934137, -8.56890127190061))), np.sqrt(19.84934517934137)), np.multiply(np.multiply(-11.684700547512001, np.sqrt(17.975654942009342)), np.sqrt(19.84934517934137))))), np.multiply(np.multiply(-11.684700547512001, np.sqrt(np.subtract(np.remainder(np.multiply(x[5], np.sqrt(11.53102199646574)), 19.84934517934137), np.multiply(np.multiply(-0.5914438722850015, np.sqrt(17.975654942009342)), np.sqrt(11.53102199646574))))), 8.252623676845964))))\n"
     ]
    },
    {
     "name": "stderr",
     "output_type": "stream",
     "text": [
      "  2%|▏         | 1551/100000 [08:30<12:59:12,  2.11it/s]"
     ]
    },
    {
     "name": "stdout",
     "output_type": "stream",
     "text": [
      "Generation 1551, Best Fitness: 989563.3697866697, Best fitness true:989563.3697866697 Rand ratio: 0.15000000000000002 Best Formula: np.remainder(np.negative(np.subtract(np.add(np.add(np.square(np.subtract(12.252571408146245, np.multiply(np.multiply(np.sqrt(17.975654942009342), np.sqrt(17.975654942009342)), np.multiply(x[5], -1.2777392903188343)))), np.remainder(np.subtract(np.remainder(np.remainder(-11.684700547512001, np.sqrt(11.53102199646574)), np.multiply(x[5], np.remainder(6.892296446499252, -14.531326819032158))), np.multiply(np.multiply(-11.684700547512001, np.sqrt(17.975654942009342)), np.sqrt(np.sqrt(17.975654942009342)))), np.multiply(np.remainder(np.multiply(x[5], np.absolute(11.53102199646574)), 19.84934517934137), np.multiply(np.multiply(12.252571408146245, np.sqrt(17.975654942009342)), np.subtract(x[5], -1.2777392903188343))))), np.multiply(np.multiply(x[5], np.multiply(x[5], -1.2777392903188343)), np.remainder(np.remainder(np.multiply(x[5], 19.84934517934137), 19.84934517934137), np.multiply(x[5], 19.84934517934137)))), np.add(np.multiply(np.multiply(x[5], np.negative(np.sin(np.cos(np.sqrt(3.2071848784420176))))), np.sqrt(7.454367409402064)), np.remainder(16.8529104439138, np.multiply(x[0], x[1]))))), np.multiply(np.remainder(np.subtract(np.remainder(np.divide(x[5], np.multiply(-0.5914438722850015, np.sqrt(17.975654942009342))), np.sin(np.subtract(np.remainder(np.multiply(x[5], np.sqrt(13.027515715676785)), 19.84934517934137), np.multiply(np.multiply(6.8633198274227, np.sqrt(7.454367409402064)), np.sqrt(17.975654942009342))))), np.multiply(np.multiply(x[5], np.negative(np.sin(np.cos(np.sqrt(3.2071848784420176))))), np.sqrt(7.454367409402064))), np.subtract(np.add(np.subtract(np.sin(np.remainder(np.multiply(x[5], np.multiply(x[5], -1.2777392903188343)), np.multiply(np.divide(x[3], 17.975654942009342), np.cos(x[2])))), np.add(np.multiply(-0.5914438722850015, np.multiply(-11.684700547512001, np.sqrt(17.975654942009342))), -0.05276698271999081)), np.multiply(x[5], 12.252571408146245)), np.power(np.absolute(np.multiply(x[5], np.sqrt(11.53102199646574))), np.add(np.divide(x[5], np.remainder(6.892296446499252, -14.531326819032158)), np.subtract(np.sin(np.subtract(np.divide(13.801317296797976, -12.906379664443492), np.sin(x[4]))), np.multiply(-0.5914438722850015, np.multiply(-11.684700547512001, np.divide(-8.746980899393652, -4.1867648894441345)))))))), np.subtract(np.remainder(np.multiply(x[5], np.absolute(11.53102199646574)), np.sqrt(np.subtract(np.power(np.remainder(np.multiply(x[5], -11.684700547512001), np.sqrt(np.power(11.573716236536793, -8.56890127190061))), np.sqrt(19.84934517934137)), np.multiply(np.multiply(-11.684700547512001, np.sqrt(17.975654942009342)), np.sqrt(19.84934517934137))))), np.multiply(np.multiply(-11.684700547512001, np.sqrt(np.subtract(np.remainder(np.multiply(x[5], np.sqrt(11.53102199646574)), 19.84934517934137), np.multiply(np.multiply(-0.5914438722850015, np.sqrt(17.975654942009342)), np.sqrt(12.252571408146245))))), 8.252623676845964))))\n"
     ]
    },
    {
     "name": "stderr",
     "output_type": "stream",
     "text": [
      "  2%|▏         | 1601/100000 [08:53<13:09:00,  2.08it/s]"
     ]
    },
    {
     "name": "stdout",
     "output_type": "stream",
     "text": [
      "Generation 1601, Best Fitness: 861792.2554108445, Best fitness true:861792.2554108445 Rand ratio: 0.15000000000000002 Best Formula: np.remainder(np.negative(np.subtract(np.add(np.add(np.square(np.subtract(12.252571408146245, np.multiply(np.multiply(np.sqrt(17.975654942009342), np.sqrt(17.975654942009342)), np.multiply(x[5], -1.2777392903188343)))), np.remainder(np.subtract(np.remainder(np.remainder(np.sqrt(7.454367409402064), np.sqrt(11.53102199646574)), np.multiply(x[5], np.remainder(6.892296446499252, -14.531326819032158))), np.multiply(np.multiply(-11.684700547512001, np.sqrt(17.975654942009342)), np.sqrt(np.sqrt(17.975654942009342)))), np.multiply(np.remainder(np.multiply(x[5], 7.454367409402064), 19.84934517934137), np.multiply(np.multiply(17.975654942009342, np.sqrt(17.975654942009342)), np.subtract(x[5], -1.2777392903188343))))), np.multiply(np.multiply(x[5], np.multiply(x[5], -1.2777392903188343)), np.remainder(np.remainder(np.remainder(np.multiply(x[5], np.sqrt(11.53102199646574)), 19.84934517934137), 19.84934517934137), np.multiply(x[5], 19.84934517934137)))), np.add(np.multiply(np.multiply(x[5], np.negative(np.sin(np.cos(np.sqrt(3.2071848784420176))))), np.sqrt(7.454367409402064)), np.remainder(16.8529104439138, np.multiply(x[0], x[1]))))), np.multiply(np.remainder(np.subtract(np.remainder(np.divide(x[5], np.multiply(-0.5914438722850015, np.sqrt(17.975654942009342))), np.sin(np.subtract(np.remainder(np.multiply(x[5], np.sqrt(13.027515715676785)), 19.84934517934137), np.multiply(np.multiply(6.8633198274227, np.sqrt(7.454367409402064)), np.sqrt(17.975654942009342))))), np.multiply(np.multiply(x[5], np.negative(np.sin(np.cos(np.sqrt(3.2071848784420176))))), np.sqrt(11.53102199646574))), np.subtract(np.add(np.subtract(np.sin(np.remainder(np.multiply(x[5], np.multiply(x[5], -1.2777392903188343)), np.multiply(np.divide(x[3], 17.975654942009342), np.cos(x[2])))), np.add(np.multiply(-0.5914438722850015, np.multiply(-11.684700547512001, np.sqrt(17.975654942009342))), -0.05276698271999081)), np.multiply(x[5], 12.252571408146245)), np.power(np.absolute(np.multiply(x[5], np.sqrt(np.sqrt(17.975654942009342)))), np.add(np.divide(x[5], np.multiply(-0.5914438722850015, 19.84934517934137)), np.subtract(np.sin(np.subtract(np.divide(13.801317296797976, -0.5914438722850015), np.sin(x[4]))), np.multiply(np.multiply(x[5], -1.2777392903188343), np.multiply(-11.684700547512001, np.divide(-8.746980899393652, -4.1867648894441345)))))))), np.subtract(np.remainder(-1.2777392903188343, np.sqrt(np.subtract(np.power(np.remainder(np.multiply(x[5], -11.684700547512001), np.sqrt(np.power(11.573716236536793, -0.05276698271999081))), np.sqrt(19.84934517934137)), np.multiply(np.multiply(-11.684700547512001, np.sqrt(17.975654942009342)), np.sqrt(19.84934517934137))))), np.multiply(np.multiply(-11.684700547512001, np.sqrt(np.subtract(np.remainder(np.multiply(x[5], np.sqrt(11.53102199646574)), 19.84934517934137), np.multiply(np.multiply(-0.5914438722850015, np.sqrt(17.975654942009342)), np.sqrt(12.252571408146245))))), 8.252623676845964))))\n"
     ]
    },
    {
     "name": "stderr",
     "output_type": "stream",
     "text": [
      "  2%|▏         | 1651/100000 [09:17<12:47:41,  2.14it/s]"
     ]
    },
    {
     "name": "stdout",
     "output_type": "stream",
     "text": [
      "Generation 1651, Best Fitness: 815093.3757474646, Best fitness true:815093.3757474646 Rand ratio: 0.15000000000000002 Best Formula: np.remainder(np.negative(np.subtract(np.add(np.add(np.square(np.subtract(12.252571408146245, np.multiply(np.multiply(np.sqrt(17.975654942009342), np.sqrt(17.975654942009342)), np.multiply(x[5], -1.2777392903188343)))), np.remainder(np.subtract(np.remainder(np.remainder(np.sqrt(7.454367409402064), np.sqrt(11.53102199646574)), np.multiply(x[5], np.remainder(6.892296446499252, -14.531326819032158))), np.multiply(np.multiply(-11.684700547512001, 12.252571408146245), np.sqrt(np.sqrt(17.975654942009342)))), np.multiply(np.remainder(np.multiply(x[5], 7.454367409402064), 19.84934517934137), np.multiply(np.multiply(17.975654942009342, np.sqrt(17.975654942009342)), np.subtract(x[5], -1.2777392903188343))))), np.multiply(np.multiply(x[5], np.multiply(x[5], -1.2777392903188343)), np.remainder(np.remainder(np.remainder(np.multiply(x[5], np.sqrt(11.53102199646574)), 19.84934517934137), 19.84934517934137), np.multiply(x[5], 19.84934517934137)))), np.add(np.multiply(x[5], np.absolute(11.53102199646574)), np.remainder(16.8529104439138, np.multiply(x[0], x[1]))))), np.multiply(np.remainder(np.subtract(np.remainder(np.divide(x[5], np.multiply(-0.5914438722850015, np.sqrt(17.975654942009342))), np.sin(np.subtract(np.remainder(np.multiply(x[5], np.sqrt(13.027515715676785)), 19.84934517934137), np.multiply(np.multiply(6.8633198274227, np.sqrt(7.454367409402064)), np.sqrt(17.975654942009342))))), np.multiply(np.multiply(x[5], np.negative(np.sin(np.cos(np.sqrt(3.2071848784420176))))), np.sqrt(7.454367409402064))), np.subtract(np.add(np.subtract(np.sin(np.remainder(np.remainder(np.multiply(x[5], 7.454367409402064), 19.84934517934137), np.multiply(np.divide(x[3], 17.975654942009342), np.cos(x[2])))), np.add(np.multiply(-0.5914438722850015, np.multiply(-11.684700547512001, np.sqrt(17.975654942009342))), -0.05276698271999081)), np.multiply(x[5], 12.252571408146245)), np.power(12.252571408146245, np.add(np.divide(x[5], np.multiply(11.53102199646574, 19.84934517934137)), np.subtract(np.sin(np.subtract(np.divide(13.801317296797976, -0.5914438722850015), np.sin(x[4]))), np.multiply(np.multiply(x[5], -1.2777392903188343), np.multiply(-11.684700547512001, np.divide(-8.746980899393652, -4.1867648894441345)))))))), np.subtract(np.remainder(np.multiply(x[5], np.absolute(11.573716236536793)), np.sqrt(np.subtract(np.power(np.remainder(np.multiply(x[5], -11.684700547512001), np.sqrt(np.power(11.573716236536793, -11.684700547512001))), np.sqrt(19.84934517934137)), np.multiply(np.multiply(-11.684700547512001, np.sqrt(16.8529104439138)), np.sqrt(19.84934517934137))))), np.multiply(np.multiply(-11.684700547512001, np.sqrt(np.subtract(np.remainder(np.multiply(x[5], np.sqrt(11.53102199646574)), 19.84934517934137), np.multiply(np.multiply(-0.5914438722850015, np.sqrt(17.975654942009342)), np.sqrt(12.252571408146245))))), 8.252623676845964))))\n"
     ]
    },
    {
     "name": "stderr",
     "output_type": "stream",
     "text": [
      "  2%|▏         | 1701/100000 [09:42<14:12:19,  1.92it/s]"
     ]
    },
    {
     "name": "stdout",
     "output_type": "stream",
     "text": [
      "Generation 1701, Best Fitness: 790141.4386013224, Best fitness true:790141.4386013224 Rand ratio: 0.1 Best Formula: np.remainder(np.negative(np.subtract(np.add(np.add(np.square(np.subtract(12.252571408146245, np.multiply(np.multiply(np.sqrt(17.975654942009342), np.sqrt(17.975654942009342)), np.multiply(x[5], -1.2777392903188343)))), np.remainder(np.subtract(np.remainder(17.975654942009342, np.multiply(x[5], np.remainder(6.892296446499252, -14.531326819032158))), np.multiply(np.multiply(-11.684700547512001, np.sqrt(19.84934517934137)), 8.252623676845964)), np.multiply(np.remainder(np.multiply(x[5], 7.454367409402064), 19.84934517934137), np.multiply(np.multiply(17.975654942009342, np.sqrt(17.975654942009342)), np.subtract(x[5], -1.2777392903188343))))), np.multiply(np.multiply(x[5], np.multiply(x[5], -1.2777392903188343)), np.remainder(np.remainder(np.remainder(np.multiply(x[5], np.sqrt(11.53102199646574)), 17.975654942009342), 19.84934517934137), np.multiply(x[5], 19.84934517934137)))), np.add(np.multiply(np.sqrt(np.subtract(np.remainder(np.multiply(x[5], np.sqrt(11.53102199646574)), 19.84934517934137), np.multiply(np.multiply(-0.5914438722850015, np.sqrt(17.975654942009342)), np.sqrt(12.252571408146245)))), np.sqrt(7.454367409402064)), np.remainder(16.8529104439138, np.multiply(x[0], x[1]))))), np.multiply(np.remainder(np.subtract(np.remainder(np.divide(x[5], np.remainder(-0.5914438722850015, np.sqrt(17.975654942009342))), np.sin(np.subtract(np.remainder(np.multiply(x[5], np.sqrt(13.027515715676785)), 19.84934517934137), np.multiply(np.multiply(6.8633198274227, np.sqrt(7.454367409402064)), np.sqrt(17.975654942009342))))), np.multiply(np.multiply(x[5], np.negative(np.sin(np.cos(np.sqrt(3.2071848784420176))))), np.sqrt(7.454367409402064))), np.subtract(np.add(np.subtract(np.sin(np.remainder(np.multiply(x[5], np.multiply(x[5], -1.2777392903188343)), np.multiply(np.divide(x[3], 17.975654942009342), np.cos(x[2])))), np.add(np.multiply(-0.5914438722850015, np.multiply(-11.684700547512001, np.sqrt(17.975654942009342))), np.power(11.573716236536793, -8.56890127190061))), np.multiply(x[5], 12.252571408146245)), np.power(np.absolute(np.multiply(x[5], np.sqrt(11.53102199646574))), np.add(np.divide(x[5], np.multiply(-0.5914438722850015, 19.84934517934137)), np.subtract(np.sin(np.subtract(np.divide(13.801317296797976, -0.5914438722850015), np.sin(x[4]))), np.multiply(np.multiply(x[5], -1.2777392903188343), np.multiply(-11.684700547512001, np.divide(-8.746980899393652, -4.1867648894441345)))))))), np.subtract(np.remainder(np.multiply(x[5], np.absolute(11.53102199646574)), np.sqrt(np.subtract(np.power(np.remainder(np.multiply(x[5], -11.684700547512001), np.sqrt(np.power(11.573716236536793, -8.56890127190061))), np.sqrt(19.84934517934137)), np.multiply(np.multiply(-11.684700547512001, np.absolute(17.975654942009342)), np.sqrt(np.sqrt(17.975654942009342)))))), np.multiply(np.multiply(-11.684700547512001, np.sqrt(np.subtract(np.remainder(np.multiply(x[5], np.sqrt(12.252571408146245)), 19.84934517934137), np.multiply(np.multiply(-0.5914438722850015, np.sqrt(17.975654942009342)), np.sqrt(12.252571408146245))))), 8.252623676845964))))\n"
     ]
    },
    {
     "name": "stderr",
     "output_type": "stream",
     "text": [
      "  2%|▏         | 1751/100000 [10:08<13:53:17,  1.97it/s]"
     ]
    },
    {
     "name": "stdout",
     "output_type": "stream",
     "text": [
      "Generation 1751, Best Fitness: 771952.4711070465, Best fitness true:771952.4711070465 Rand ratio: 0.15000000000000002 Best Formula: np.remainder(np.negative(np.subtract(np.add(np.add(np.square(np.subtract(12.252571408146245, np.multiply(np.multiply(np.sqrt(17.975654942009342), np.sqrt(17.975654942009342)), np.multiply(x[5], -1.2777392903188343)))), np.remainder(np.subtract(np.remainder(17.975654942009342, np.multiply(x[5], np.remainder(6.892296446499252, -14.531326819032158))), np.multiply(np.multiply(-11.684700547512001, np.sqrt(19.84934517934137)), 8.252623676845964)), np.multiply(np.remainder(np.multiply(x[5], 7.454367409402064), 19.84934517934137), np.multiply(np.multiply(17.975654942009342, np.sqrt(17.975654942009342)), np.subtract(x[5], -1.2777392903188343))))), np.multiply(np.multiply(x[5], np.multiply(x[5], -1.2777392903188343)), np.remainder(np.remainder(np.remainder(np.multiply(x[5], np.sqrt(11.53102199646574)), 17.975654942009342), 19.84934517934137), np.subtract(12.252571408146245, np.multiply(np.multiply(np.sqrt(17.975654942009342), np.sqrt(17.975654942009342)), np.multiply(x[5], -1.2777392903188343)))))), np.add(np.sqrt(np.subtract(np.power(np.remainder(np.multiply(x[5], -11.684700547512001), np.sqrt(np.power(11.573716236536793, -8.56890127190061))), np.sqrt(19.84934517934137)), np.multiply(np.multiply(-11.684700547512001, np.absolute(17.975654942009342)), np.sqrt(np.sqrt(17.975654942009342))))), np.remainder(16.8529104439138, np.multiply(x[0], x[1]))))), np.multiply(np.remainder(np.subtract(np.remainder(np.divide(x[5], np.remainder(-0.5914438722850015, np.sqrt(17.975654942009342))), np.sin(np.subtract(np.remainder(np.multiply(x[5], np.sqrt(13.027515715676785)), 19.84934517934137), np.multiply(np.multiply(6.8633198274227, np.sqrt(7.454367409402064)), np.sqrt(17.975654942009342))))), np.multiply(np.multiply(x[5], np.negative(np.sin(np.cos(np.sqrt(3.2071848784420176))))), np.sqrt(7.454367409402064))), np.subtract(np.add(np.subtract(np.sin(np.remainder(np.multiply(x[5], np.multiply(x[5], -1.2777392903188343)), np.multiply(np.divide(x[3], 17.975654942009342), np.cos(x[2])))), np.add(np.multiply(-0.5914438722850015, np.multiply(-11.684700547512001, np.sqrt(17.975654942009342))), np.power(11.573716236536793, -8.56890127190061))), np.multiply(x[5], 12.252571408146245)), np.power(np.absolute(np.multiply(x[5], np.sqrt(11.53102199646574))), np.add(np.divide(x[5], np.multiply(-0.5914438722850015, 19.84934517934137)), np.subtract(np.sin(np.subtract(np.divide(13.801317296797976, -0.5914438722850015), np.sin(x[4]))), np.multiply(np.multiply(x[5], -1.2777392903188343), np.multiply(-11.684700547512001, np.divide(-8.746980899393652, -4.1867648894441345)))))))), np.subtract(np.remainder(np.multiply(x[5], np.absolute(11.53102199646574)), np.sqrt(np.subtract(np.power(np.remainder(np.multiply(x[5], -11.684700547512001), np.sqrt(np.power(11.573716236536793, -8.56890127190061))), np.sqrt(19.84934517934137)), np.multiply(np.multiply(-11.684700547512001, np.absolute(17.975654942009342)), np.sqrt(np.sqrt(17.975654942009342)))))), np.multiply(np.multiply(-11.684700547512001, np.sqrt(np.subtract(np.remainder(np.multiply(x[5], np.sqrt(12.252571408146245)), 19.84934517934137), np.multiply(np.multiply(-0.5914438722850015, np.sqrt(17.975654942009342)), np.sqrt(12.252571408146245))))), 8.252623676845964))))\n"
     ]
    },
    {
     "name": "stderr",
     "output_type": "stream",
     "text": [
      "  2%|▏         | 1801/100000 [10:34<14:48:06,  1.84it/s]"
     ]
    },
    {
     "name": "stdout",
     "output_type": "stream",
     "text": [
      "Generation 1801, Best Fitness: 768293.0093916993, Best fitness true:768293.0093916993 Rand ratio: 0.15000000000000002 Best Formula: np.remainder(np.negative(np.subtract(np.add(np.add(np.square(np.subtract(12.252571408146245, np.multiply(np.multiply(np.sqrt(17.975654942009342), np.sqrt(17.975654942009342)), np.multiply(x[5], -1.2777392903188343)))), np.remainder(np.subtract(np.remainder(17.975654942009342, np.multiply(x[5], np.remainder(6.892296446499252, -14.531326819032158))), np.multiply(np.multiply(-11.684700547512001, np.sqrt(11.53102199646574)), 8.252623676845964)), np.multiply(np.remainder(np.multiply(x[5], 7.454367409402064), 19.84934517934137), np.multiply(np.multiply(17.975654942009342, np.sqrt(17.975654942009342)), np.subtract(x[5], -1.2777392903188343))))), np.multiply(np.multiply(x[5], np.multiply(x[5], -1.2777392903188343)), np.remainder(np.remainder(np.remainder(np.multiply(x[5], np.sqrt(11.53102199646574)), 17.975654942009342), 19.84934517934137), np.subtract(12.252571408146245, np.multiply(np.multiply(np.sqrt(17.975654942009342), np.sqrt(17.975654942009342)), np.multiply(x[5], -1.2777392903188343)))))), np.add(np.sqrt(np.subtract(np.power(np.remainder(np.multiply(x[5], -11.684700547512001), np.divide(np.power(13.97267688408769, -6.8315155920269675), np.exp(-15.775681892231642))), np.sqrt(19.84934517934137)), np.multiply(np.multiply(-11.684700547512001, np.absolute(17.975654942009342)), np.sqrt(np.sqrt(17.975654942009342))))), np.remainder(16.8529104439138, np.multiply(x[0], x[1]))))), np.multiply(np.remainder(np.subtract(np.remainder(np.divide(x[5], np.remainder(-0.5914438722850015, np.sqrt(17.975654942009342))), np.sin(np.subtract(np.remainder(np.multiply(x[5], np.sqrt(13.027515715676785)), 19.84934517934137), np.multiply(np.multiply(6.8633198274227, np.sqrt(7.454367409402064)), np.sqrt(17.975654942009342))))), np.multiply(np.multiply(x[5], np.negative(np.sin(np.cos(np.sqrt(3.2071848784420176))))), np.sqrt(7.454367409402064))), np.subtract(np.add(np.subtract(np.sin(np.remainder(np.multiply(x[5], np.multiply(x[5], -1.2777392903188343)), np.multiply(np.divide(x[3], 17.975654942009342), np.cos(x[2])))), np.add(np.multiply(-0.5914438722850015, np.multiply(-11.684700547512001, np.sqrt(17.975654942009342))), np.power(11.573716236536793, -8.56890127190061))), np.multiply(x[5], 12.252571408146245)), np.power(np.absolute(np.multiply(x[5], np.sqrt(11.53102199646574))), np.add(np.divide(x[5], np.multiply(-0.5914438722850015, 19.84934517934137)), np.subtract(np.sin(np.subtract(np.divide(17.975654942009342, -0.5914438722850015), np.sin(x[4]))), np.multiply(np.multiply(x[5], -1.2777392903188343), np.multiply(-11.684700547512001, np.divide(-8.746980899393652, -4.1867648894441345)))))))), np.subtract(np.remainder(np.multiply(x[5], np.absolute(11.53102199646574)), np.sqrt(np.subtract(np.power(np.remainder(np.multiply(x[5], -11.684700547512001), np.sqrt(np.power(11.573716236536793, -8.56890127190061))), np.sqrt(19.84934517934137)), np.multiply(np.multiply(-11.684700547512001, np.absolute(17.975654942009342)), np.sqrt(np.sqrt(17.975654942009342)))))), np.multiply(np.multiply(-11.684700547512001, np.sqrt(np.subtract(np.remainder(np.multiply(x[5], np.sqrt(12.252571408146245)), 19.84934517934137), np.multiply(np.multiply(-0.5914438722850015, np.sqrt(17.975654942009342)), np.sqrt(12.252571408146245))))), 8.252623676845964))))\n"
     ]
    },
    {
     "name": "stderr",
     "output_type": "stream",
     "text": [
      "  2%|▏         | 1851/100000 [11:01<14:50:04,  1.84it/s]"
     ]
    },
    {
     "name": "stdout",
     "output_type": "stream",
     "text": [
      "Generation 1851, Best Fitness: 754796.3856556254, Best fitness true:754796.3856556254 Rand ratio: 0.15000000000000002 Best Formula: np.remainder(np.negative(np.subtract(np.add(np.add(np.square(np.subtract(12.252571408146245, np.multiply(np.multiply(np.sqrt(17.975654942009342), np.sqrt(17.975654942009342)), np.multiply(x[5], -1.2777392903188343)))), np.remainder(np.subtract(np.remainder(17.975654942009342, np.add(x[5], np.remainder(6.892296446499252, -14.531326819032158))), np.multiply(np.multiply(-11.684700547512001, np.sqrt(17.975654942009342)), 8.252623676845964)), np.multiply(np.remainder(np.multiply(x[5], 7.454367409402064), 19.84934517934137), np.multiply(np.multiply(17.975654942009342, np.sqrt(19.84934517934137)), np.subtract(x[5], -1.2777392903188343))))), np.multiply(np.multiply(x[5], np.multiply(x[5], -1.2777392903188343)), np.remainder(np.remainder(np.remainder(np.multiply(x[5], np.sqrt(11.53102199646574)), 17.975654942009342), 19.84934517934137), np.subtract(12.252571408146245, np.multiply(np.multiply(np.sqrt(17.975654942009342), np.sqrt(19.84934517934137)), np.multiply(x[5], -1.2777392903188343)))))), np.add(np.sqrt(np.subtract(np.power(np.remainder(np.multiply(x[5], -11.684700547512001), np.divide(np.power(13.97267688408769, -6.8315155920269675), np.exp(-15.775681892231642))), np.sqrt(19.84934517934137)), np.multiply(np.multiply(-11.684700547512001, np.absolute(17.975654942009342)), np.sqrt(np.sqrt(17.975654942009342))))), np.remainder(np.sin(np.cos(np.sqrt(3.2071848784420176))), np.multiply(x[0], x[1]))))), np.multiply(np.remainder(np.subtract(np.remainder(np.divide(x[5], np.remainder(-0.5914438722850015, np.sqrt(17.975654942009342))), np.sin(np.subtract(np.remainder(np.multiply(x[5], np.sqrt(13.027515715676785)), 19.84934517934137), np.multiply(np.multiply(6.8633198274227, np.sqrt(7.454367409402064)), np.sqrt(17.975654942009342))))), np.multiply(np.multiply(x[5], np.negative(np.sin(np.cos(np.sqrt(3.2071848784420176))))), np.sqrt(7.454367409402064))), np.subtract(np.add(np.subtract(np.sin(np.remainder(np.multiply(x[5], np.multiply(x[5], -11.684700547512001)), np.multiply(np.divide(x[3], 17.975654942009342), np.cos(x[2])))), np.add(np.multiply(-0.5914438722850015, np.multiply(-11.684700547512001, np.sqrt(17.975654942009342))), np.power(11.573716236536793, -8.56890127190061))), np.multiply(x[5], 12.252571408146245)), np.power(np.absolute(np.multiply(x[5], np.sqrt(11.53102199646574))), np.add(np.divide(x[5], np.multiply(-0.5914438722850015, 19.84934517934137)), np.subtract(np.sin(np.subtract(np.divide(17.975654942009342, -0.5914438722850015), np.sin(x[4]))), np.multiply(np.multiply(x[5], -1.2777392903188343), np.multiply(-11.684700547512001, np.divide(-8.746980899393652, -4.1867648894441345)))))))), np.subtract(np.remainder(np.multiply(x[5], np.absolute(11.53102199646574)), np.sqrt(np.subtract(np.power(np.remainder(np.subtract(x[5], -11.684700547512001), np.sqrt(np.power(11.573716236536793, -8.56890127190061))), np.sqrt(19.84934517934137)), np.multiply(np.multiply(-11.684700547512001, np.absolute(17.975654942009342)), np.sqrt(np.sqrt(17.975654942009342)))))), np.multiply(np.multiply(-11.684700547512001, np.sqrt(np.subtract(np.remainder(np.multiply(x[5], np.sqrt(12.252571408146245)), 19.84934517934137), np.multiply(np.multiply(-0.5914438722850015, np.sqrt(17.975654942009342)), np.sqrt(12.252571408146245))))), 8.252623676845964))))\n"
     ]
    },
    {
     "name": "stderr",
     "output_type": "stream",
     "text": [
      "  2%|▏         | 1901/100000 [11:28<14:45:53,  1.85it/s]"
     ]
    },
    {
     "name": "stdout",
     "output_type": "stream",
     "text": [
      "Generation 1901, Best Fitness: 733897.544175338, Best fitness true:733897.544175338 Rand ratio: 0.15000000000000002 Best Formula: np.remainder(np.negative(np.subtract(np.add(np.add(np.square(np.subtract(12.252571408146245, np.multiply(np.multiply(np.sqrt(17.975654942009342), np.sqrt(17.975654942009342)), np.multiply(x[5], -1.2777392903188343)))), np.remainder(np.subtract(np.remainder(np.multiply(np.sqrt(17.975654942009342), np.sqrt(17.975654942009342)), np.add(x[5], np.remainder(6.892296446499252, -14.531326819032158))), np.multiply(np.multiply(-11.684700547512001, np.sqrt(11.53102199646574)), 8.252623676845964)), np.multiply(np.remainder(np.multiply(x[5], 7.454367409402064), 19.84934517934137), np.multiply(np.multiply(19.84934517934137, np.sqrt(19.244962665137678)), np.subtract(x[5], -1.2777392903188343))))), np.multiply(np.multiply(x[5], np.multiply(x[5], -1.2777392903188343)), np.remainder(np.remainder(np.remainder(np.multiply(x[5], np.sqrt(11.53102199646574)), 17.975654942009342), 19.84934517934137), np.subtract(12.252571408146245, np.multiply(19.84934517934137, np.multiply(x[5], -1.2777392903188343)))))), np.add(np.sqrt(np.subtract(np.power(np.remainder(np.multiply(x[5], -11.684700547512001), np.divide(np.power(13.97267688408769, -6.8315155920269675), np.exp(-15.775681892231642))), np.sqrt(19.84934517934137)), np.multiply(np.multiply(-11.684700547512001, np.absolute(np.sqrt(11.53102199646574))), np.sqrt(np.sqrt(17.975654942009342))))), np.remainder(16.8529104439138, np.multiply(x[0], x[1]))))), np.multiply(np.remainder(np.subtract(np.remainder(np.divide(x[5], np.remainder(-0.5914438722850015, np.sqrt(17.975654942009342))), np.sin(np.subtract(np.remainder(np.multiply(x[5], np.sqrt(13.027515715676785)), 19.84934517934137), np.multiply(np.multiply(6.8633198274227, np.sqrt(7.454367409402064)), np.sqrt(17.975654942009342))))), np.multiply(np.multiply(x[5], np.negative(np.sin(np.cos(np.sqrt(3.2071848784420176))))), np.sqrt(7.454367409402064))), np.subtract(np.add(np.subtract(np.sin(np.remainder(np.multiply(x[5], np.multiply(x[5], -1.2777392903188343)), np.multiply(np.divide(x[3], 17.975654942009342), np.cos(x[2])))), np.add(np.multiply(-0.5914438722850015, np.multiply(-11.684700547512001, np.sqrt(17.975654942009342))), np.power(11.573716236536793, -8.56890127190061))), np.multiply(x[5], 12.252571408146245)), np.power(np.absolute(np.multiply(x[5], np.sqrt(11.53102199646574))), np.add(np.divide(x[5], np.multiply(-0.5914438722850015, 19.84934517934137)), np.subtract(np.sin(np.subtract(np.divide(3.2071848784420176, -0.5914438722850015), np.sin(x[4]))), np.multiply(np.multiply(x[5], -1.2777392903188343), np.multiply(-1.2777392903188343, np.divide(-8.746980899393652, -4.1867648894441345)))))))), np.subtract(np.remainder(np.multiply(x[5], np.absolute(11.53102199646574)), np.sqrt(np.subtract(np.power(np.remainder(np.subtract(x[5], -11.684700547512001), np.sqrt(np.power(11.573716236536793, -8.56890127190061))), np.sqrt(19.84934517934137)), np.multiply(np.multiply(-11.684700547512001, np.absolute(17.975654942009342)), np.sqrt(np.sqrt(17.975654942009342)))))), np.multiply(np.multiply(-11.684700547512001, np.sqrt(np.subtract(np.remainder(np.multiply(x[5], np.sqrt(12.252571408146245)), 19.84934517934137), np.multiply(np.multiply(-0.5914438722850015, np.sqrt(17.975654942009342)), np.sqrt(12.252571408146245))))), 8.252623676845964))))\n"
     ]
    },
    {
     "name": "stderr",
     "output_type": "stream",
     "text": [
      "  2%|▏         | 1951/100000 [11:55<14:36:43,  1.86it/s]"
     ]
    },
    {
     "name": "stdout",
     "output_type": "stream",
     "text": [
      "Generation 1951, Best Fitness: 726326.8830466911, Best fitness true:726326.8830466911 Rand ratio: 0.15000000000000002 Best Formula: np.remainder(np.negative(np.subtract(np.add(np.add(np.square(np.subtract(12.252571408146245, np.multiply(np.multiply(np.sqrt(17.975654942009342), np.sqrt(17.975654942009342)), np.multiply(x[5], -1.2777392903188343)))), np.remainder(np.subtract(np.remainder(np.multiply(np.sqrt(17.975654942009342), np.sqrt(17.975654942009342)), np.add(x[5], np.remainder(6.892296446499252, -14.531326819032158))), np.multiply(np.multiply(-11.684700547512001, np.sqrt(11.53102199646574)), 8.252623676845964)), np.multiply(np.remainder(np.multiply(x[5], 7.454367409402064), 19.84934517934137), np.multiply(np.multiply(19.84934517934137, np.sqrt(19.244962665137678)), np.subtract(x[5], -1.2777392903188343))))), np.multiply(np.multiply(x[5], np.multiply(x[5], -1.2777392903188343)), np.remainder(np.remainder(np.remainder(np.multiply(x[5], np.sqrt(11.53102199646574)), 17.975654942009342), 19.84934517934137), np.subtract(np.exp(-11.684700547512001), np.multiply(19.84934517934137, np.multiply(x[5], -1.2777392903188343)))))), np.add(np.sqrt(np.subtract(np.power(np.remainder(np.multiply(x[5], -11.684700547512001), np.divide(np.power(13.97267688408769, -6.8315155920269675), np.exp(-15.775681892231642))), np.divide(np.power(13.97267688408769, -6.8315155920269675), np.exp(-15.775681892231642))), np.multiply(np.multiply(-11.684700547512001, np.absolute(np.sqrt(11.53102199646574))), np.sqrt(np.sqrt(17.975654942009342))))), np.remainder(16.8529104439138, np.multiply(x[0], x[1]))))), np.multiply(np.remainder(np.subtract(np.remainder(np.divide(x[5], np.remainder(-0.5914438722850015, np.sqrt(17.975654942009342))), np.sin(np.subtract(np.remainder(np.multiply(x[5], np.sqrt(13.027515715676785)), 19.84934517934137), np.multiply(np.multiply(6.8633198274227, np.sqrt(7.454367409402064)), np.sqrt(17.975654942009342))))), np.multiply(np.multiply(x[5], np.negative(np.sin(np.cos(np.sqrt(3.2071848784420176))))), np.sqrt(7.454367409402064))), np.subtract(np.add(np.subtract(np.sin(np.remainder(np.multiply(x[5], np.multiply(x[5], -1.2777392903188343)), np.multiply(np.divide(x[3], 17.975654942009342), np.cos(x[2])))), np.add(np.multiply(-0.5914438722850015, np.multiply(-11.684700547512001, np.sqrt(17.975654942009342))), np.power(11.573716236536793, -8.56890127190061))), np.multiply(x[5], 12.252571408146245)), np.power(np.absolute(np.multiply(x[5], np.sqrt(11.53102199646574))), np.add(np.divide(x[5], np.multiply(-0.5914438722850015, 19.84934517934137)), np.subtract(np.sin(np.subtract(np.divide(3.2071848784420176, -0.5914438722850015), np.sin(x[4]))), np.multiply(np.multiply(x[5], -1.2777392903188343), np.multiply(-1.2777392903188343, np.divide(-8.746980899393652, -4.1867648894441345)))))))), np.subtract(np.remainder(np.multiply(x[5], np.absolute(11.53102199646574)), np.sqrt(np.subtract(np.power(np.remainder(np.subtract(x[5], -11.684700547512001), np.sqrt(np.power(19.84934517934137, -13.63024863653527))), np.sqrt(19.84934517934137)), np.multiply(np.multiply(-11.684700547512001, np.absolute(17.975654942009342)), np.sqrt(np.sqrt(17.975654942009342)))))), np.multiply(np.multiply(-11.684700547512001, np.sqrt(np.subtract(np.remainder(np.multiply(x[5], np.sqrt(12.252571408146245)), 19.84934517934137), np.multiply(np.multiply(-0.5914438722850015, np.sqrt(17.975654942009342)), np.sqrt(12.252571408146245))))), 8.252623676845964))))\n"
     ]
    },
    {
     "name": "stderr",
     "output_type": "stream",
     "text": [
      "  2%|▏         | 2001/100000 [12:22<14:33:25,  1.87it/s]"
     ]
    },
    {
     "name": "stdout",
     "output_type": "stream",
     "text": [
      "Generation 2001, Best Fitness: 715472.8382273387, Best fitness true:715472.8382273387 Rand ratio: 0.15000000000000002 Best Formula: np.remainder(np.negative(np.subtract(np.add(np.add(np.square(np.subtract(12.252571408146245, np.multiply(np.multiply(np.sqrt(17.975654942009342), np.sqrt(17.975654942009342)), np.multiply(x[5], -1.2777392903188343)))), np.remainder(np.subtract(np.remainder(np.multiply(np.sqrt(17.975654942009342), np.sqrt(12.252571408146245)), np.add(x[5], np.remainder(6.892296446499252, -14.531326819032158))), np.multiply(np.multiply(-11.684700547512001, np.sqrt(11.53102199646574)), 8.252623676845964)), np.multiply(np.remainder(np.multiply(x[5], 7.454367409402064), 19.84934517934137), np.multiply(np.multiply(19.84934517934137, np.sqrt(19.244962665137678)), np.subtract(x[5], -1.2777392903188343))))), np.multiply(np.multiply(x[5], np.multiply(x[5], -1.2777392903188343)), np.remainder(np.remainder(np.remainder(np.multiply(x[5], -11.684700547512001), 17.975654942009342), 19.84934517934137), np.subtract(-1.2777392903188343, np.multiply(19.84934517934137, np.multiply(x[5], -1.2777392903188343)))))), np.add(np.sqrt(np.subtract(np.power(np.remainder(np.subtract(x[5], -11.684700547512001), np.sqrt(np.power(19.84934517934137, -13.63024863653527))), np.sqrt(19.84934517934137)), np.multiply(np.multiply(-11.684700547512001, np.absolute(17.975654942009342)), np.remainder(np.multiply(x[5], np.sqrt(12.252571408146245)), 17.975654942009342)))), np.remainder(16.8529104439138, np.multiply(x[0], x[1]))))), np.multiply(np.remainder(np.subtract(np.remainder(np.divide(x[5], np.remainder(-0.5914438722850015, np.sqrt(17.975654942009342))), np.sin(np.subtract(np.remainder(np.multiply(x[5], np.sqrt(13.027515715676785)), 19.84934517934137), np.multiply(np.multiply(np.arctan(6.992308739142143), np.sqrt(7.454367409402064)), np.sqrt(17.975654942009342))))), np.multiply(np.multiply(x[5], np.negative(np.sin(np.cos(np.sqrt(3.2071848784420176))))), np.sqrt(7.454367409402064))), np.subtract(np.add(np.subtract(np.sin(np.remainder(np.multiply(x[5], np.multiply(x[5], -1.2777392903188343)), np.multiply(np.divide(x[3], 17.975654942009342), np.cos(x[2])))), np.add(np.multiply(-0.5914438722850015, np.multiply(-11.684700547512001, np.sqrt(17.975654942009342))), np.power(12.346659537114057, -8.56890127190061))), np.multiply(x[5], 12.252571408146245)), np.power(np.absolute(np.multiply(np.multiply(x[5], -1.2777392903188343), np.multiply(x[5], np.absolute(11.53102199646574)))), np.add(np.divide(x[5], np.divide(-8.746980899393652, -4.1867648894441345)), np.subtract(np.sin(np.subtract(np.divide(3.2071848784420176, -0.5914438722850015), np.sin(x[4]))), np.multiply(np.multiply(x[5], -1.2777392903188343), np.multiply(-1.2777392903188343, np.divide(-8.746980899393652, -4.1867648894441345)))))))), np.subtract(np.remainder(np.multiply(x[5], np.absolute(11.53102199646574)), np.sqrt(np.subtract(np.power(np.remainder(np.subtract(x[5], -11.684700547512001), np.sqrt(np.power(11.573716236536793, -15.775681892231642))), np.sqrt(19.84934517934137)), np.multiply(np.multiply(-11.684700547512001, np.absolute(17.975654942009342)), np.sqrt(np.sqrt(17.975654942009342)))))), np.multiply(np.multiply(-11.684700547512001, np.sqrt(np.subtract(np.remainder(np.multiply(x[5], np.sqrt(12.252571408146245)), 17.975654942009342), np.multiply(np.multiply(-0.5914438722850015, np.sqrt(17.975654942009342)), np.sqrt(12.252571408146245))))), 8.252623676845964))))\n"
     ]
    },
    {
     "name": "stderr",
     "output_type": "stream",
     "text": [
      "  2%|▏         | 2051/100000 [12:49<15:07:19,  1.80it/s]"
     ]
    },
    {
     "name": "stdout",
     "output_type": "stream",
     "text": [
      "Generation 2051, Best Fitness: 712551.6297067906, Best fitness true:712551.6297067906 Rand ratio: 0.15000000000000002 Best Formula: np.remainder(np.negative(np.subtract(np.add(np.add(np.square(np.subtract(12.252571408146245, np.multiply(np.multiply(np.sqrt(17.975654942009342), np.sqrt(17.975654942009342)), np.multiply(x[5], -1.2777392903188343)))), np.remainder(np.subtract(np.remainder(np.sqrt(17.975654942009342), np.add(x[5], np.remainder(6.892296446499252, -14.531326819032158))), np.multiply(np.multiply(-11.684700547512001, np.sqrt(11.53102199646574)), 8.252623676845964)), np.multiply(np.remainder(np.multiply(x[5], 7.454367409402064), 19.84934517934137), np.multiply(np.multiply(19.84934517934137, np.sqrt(19.244962665137678)), np.subtract(x[5], -1.2777392903188343))))), np.multiply(np.multiply(x[5], np.multiply(x[5], -1.2777392903188343)), np.remainder(np.remainder(np.remainder(np.multiply(x[5], -11.684700547512001), 17.975654942009342), 19.84934517934137), np.subtract(-1.2777392903188343, np.multiply(19.84934517934137, np.multiply(x[5], -1.2777392903188343)))))), np.add(np.sqrt(np.subtract(np.power(np.remainder(np.subtract(x[5], -11.684700547512001), np.sqrt(np.power(19.84934517934137, -13.63024863653527))), np.sqrt(19.84934517934137)), np.multiply(np.multiply(np.multiply(-11.684700547512001, np.sqrt(17.975654942009342)), np.absolute(17.975654942009342)), np.remainder(np.multiply(x[5], np.sqrt(12.252571408146245)), 17.975654942009342)))), np.remainder(16.8529104439138, np.multiply(x[0], x[1]))))), np.multiply(np.remainder(np.subtract(np.remainder(np.divide(x[5], np.remainder(-0.5914438722850015, np.sqrt(17.975654942009342))), np.sin(np.subtract(np.remainder(np.multiply(x[5], np.sqrt(13.027515715676785)), 19.84934517934137), np.multiply(np.multiply(np.arctan(6.992308739142143), np.sqrt(7.454367409402064)), np.sqrt(17.975654942009342))))), np.multiply(np.multiply(x[5], np.negative(np.sin(np.cos(np.sqrt(3.2071848784420176))))), np.sqrt(7.454367409402064))), np.subtract(np.add(np.subtract(np.sin(np.remainder(np.multiply(x[5], np.multiply(x[5], -1.2777392903188343)), np.multiply(np.divide(x[3], 17.975654942009342), np.cos(x[2])))), np.add(np.multiply(-0.5914438722850015, np.multiply(-11.684700547512001, np.sqrt(17.975654942009342))), np.power(12.346659537114057, -8.56890127190061))), np.multiply(x[5], 12.252571408146245)), np.power(np.absolute(np.multiply(17.975654942009342, np.subtract(x[5], -1.2777392903188343))), np.add(np.divide(x[5], np.divide(-8.746980899393652, -4.1867648894441345)), np.subtract(np.sin(np.subtract(np.divide(3.2071848784420176, 17.975654942009342), np.sin(x[4]))), np.multiply(np.multiply(x[5], -1.2777392903188343), np.multiply(-1.2777392903188343, np.divide(-8.746980899393652, -4.1867648894441345)))))))), np.subtract(np.remainder(np.multiply(x[5], np.absolute(11.53102199646574)), np.sqrt(np.subtract(np.power(np.remainder(np.subtract(x[5], -11.684700547512001), np.sqrt(np.power(11.573716236536793, -15.775681892231642))), np.sqrt(19.84934517934137)), np.multiply(np.multiply(-11.684700547512001, np.absolute(17.975654942009342)), np.sqrt(np.sqrt(17.975654942009342)))))), np.multiply(np.multiply(-11.684700547512001, np.sqrt(np.subtract(np.remainder(np.multiply(x[5], np.sqrt(12.252571408146245)), 17.975654942009342), np.multiply(np.multiply(-0.5914438722850015, np.sqrt(17.975654942009342)), np.sqrt(12.252571408146245))))), 8.252623676845964))))\n"
     ]
    },
    {
     "name": "stderr",
     "output_type": "stream",
     "text": [
      "  2%|▏         | 2101/100000 [13:16<14:57:42,  1.82it/s]"
     ]
    },
    {
     "name": "stdout",
     "output_type": "stream",
     "text": [
      "Generation 2101, Best Fitness: 701864.1936638396, Best fitness true:701864.1936638396 Rand ratio: 0.15000000000000002 Best Formula: np.remainder(np.negative(np.subtract(np.add(np.add(np.square(np.subtract(12.252571408146245, np.multiply(np.multiply(np.sqrt(17.975654942009342), np.sqrt(17.975654942009342)), np.multiply(x[5], -1.2777392903188343)))), np.remainder(np.subtract(np.remainder(np.multiply(np.sqrt(17.975654942009342), np.sqrt(12.252571408146245)), np.add(x[5], np.remainder(6.892296446499252, -14.531326819032158))), np.multiply(np.multiply(-11.684700547512001, np.sqrt(11.53102199646574)), 8.252623676845964)), np.multiply(np.remainder(np.multiply(x[5], 7.454367409402064), 19.244962665137678), np.multiply(np.multiply(19.84934517934137, np.sqrt(19.244962665137678)), np.subtract(x[5], -1.2777392903188343))))), np.multiply(np.multiply(x[5], np.multiply(x[5], -1.2777392903188343)), np.remainder(np.remainder(np.remainder(np.multiply(x[5], -11.684700547512001), 17.975654942009342), 19.84934517934137), np.subtract(-1.2777392903188343, np.multiply(19.84934517934137, np.multiply(x[5], -1.2777392903188343)))))), np.add(np.sqrt(np.subtract(np.power(np.remainder(np.subtract(x[5], -11.684700547512001), np.sqrt(np.power(19.84934517934137, -13.63024863653527))), np.sqrt(19.84934517934137)), np.multiply(np.multiply(np.multiply(-11.684700547512001, np.sqrt(11.53102199646574)), np.absolute(17.975654942009342)), np.remainder(np.multiply(x[5], np.sqrt(12.252571408146245)), 17.975654942009342)))), np.remainder(16.8529104439138, np.multiply(x[0], x[1]))))), np.multiply(np.remainder(np.subtract(np.remainder(np.divide(x[5], np.remainder(-0.5914438722850015, np.sqrt(17.975654942009342))), np.sin(np.subtract(np.remainder(np.multiply(x[5], np.sqrt(13.027515715676785)), 19.84934517934137), np.multiply(np.multiply(np.arctan(6.992308739142143), np.sqrt(7.454367409402064)), np.sqrt(17.975654942009342))))), np.multiply(np.multiply(x[5], np.negative(np.sin(np.cos(np.sqrt(3.2071848784420176))))), np.sqrt(7.454367409402064))), np.subtract(np.add(np.subtract(np.sin(np.remainder(np.multiply(x[5], np.multiply(x[5], -1.2777392903188343)), np.multiply(np.divide(x[3], 17.975654942009342), np.cos(x[2])))), np.add(np.multiply(-0.5914438722850015, np.multiply(-11.684700547512001, np.sqrt(17.975654942009342))), np.power(12.346659537114057, -8.56890127190061))), np.multiply(x[5], 12.252571408146245)), np.power(np.absolute(np.multiply(17.975654942009342, np.multiply(x[5], np.absolute(11.53102199646574)))), np.add(np.divide(x[5], np.divide(-8.746980899393652, -4.1867648894441345)), np.subtract(np.sin(x[4]), np.multiply(np.multiply(x[5], -1.2777392903188343), np.multiply(-1.2777392903188343, np.divide(-8.746980899393652, -4.1867648894441345)))))))), np.subtract(np.remainder(np.multiply(x[5], np.absolute(11.53102199646574)), np.sqrt(np.subtract(np.remainder(np.remainder(np.subtract(x[5], -11.684700547512001), np.sqrt(np.power(11.573716236536793, -15.775681892231642))), np.sqrt(19.84934517934137)), np.multiply(np.multiply(-11.684700547512001, np.absolute(17.975654942009342)), np.sqrt(np.sqrt(17.975654942009342)))))), np.multiply(np.multiply(-11.684700547512001, np.sqrt(np.subtract(np.remainder(np.multiply(x[5], np.sqrt(12.252571408146245)), 17.975654942009342), np.multiply(np.multiply(-0.5914438722850015, np.sqrt(17.975654942009342)), np.sqrt(12.252571408146245))))), 8.252623676845964))))\n"
     ]
    },
    {
     "name": "stderr",
     "output_type": "stream",
     "text": [
      "  2%|▏         | 2151/100000 [13:44<14:59:18,  1.81it/s]"
     ]
    },
    {
     "name": "stdout",
     "output_type": "stream",
     "text": [
      "Generation 2151, Best Fitness: 694785.1219594101, Best fitness true:694785.1219594101 Rand ratio: 0.15000000000000002 Best Formula: np.remainder(np.negative(np.subtract(np.add(np.add(np.square(np.subtract(12.252571408146245, np.multiply(np.multiply(np.sqrt(17.975654942009342), np.sqrt(17.975654942009342)), np.multiply(x[5], -1.2777392903188343)))), np.remainder(np.subtract(np.remainder(np.multiply(np.sqrt(17.975654942009342), np.sqrt(12.252571408146245)), np.add(x[5], np.remainder(6.892296446499252, -14.531326819032158))), np.multiply(np.multiply(-11.684700547512001, np.sqrt(11.53102199646574)), 8.252623676845964)), np.multiply(np.remainder(np.multiply(x[5], 7.454367409402064), 19.244962665137678), np.multiply(np.multiply(19.84934517934137, np.sqrt(19.244962665137678)), np.subtract(x[5], -1.2777392903188343))))), np.multiply(np.multiply(x[5], np.multiply(x[5], -1.2777392903188343)), np.remainder(np.remainder(np.remainder(np.multiply(x[5], -11.684700547512001), 17.975654942009342), 19.84934517934137), np.subtract(np.sqrt(17.975654942009342), np.multiply(19.84934517934137, np.multiply(x[5], -1.2777392903188343)))))), np.add(np.sqrt(np.subtract(np.power(np.remainder(np.subtract(x[5], -11.684700547512001), np.sqrt(np.power(19.84934517934137, -13.63024863653527))), np.sqrt(19.84934517934137)), np.multiply(np.multiply(np.multiply(-11.684700547512001, np.sqrt(11.53102199646574)), np.absolute(17.975654942009342)), np.remainder(np.multiply(x[5], np.sqrt(12.252571408146245)), 17.975654942009342)))), np.remainder(16.8529104439138, np.multiply(x[0], x[1]))))), np.multiply(np.remainder(np.subtract(np.remainder(np.divide(x[5], np.remainder(-0.5914438722850015, np.sqrt(17.975654942009342))), np.sin(np.subtract(np.remainder(np.multiply(x[5], np.sqrt(13.027515715676785)), 19.84934517934137), np.multiply(np.multiply(np.arctan(6.992308739142143), np.sqrt(7.454367409402064)), np.sqrt(17.975654942009342))))), np.multiply(np.multiply(x[5], np.negative(np.sin(np.cos(np.sqrt(3.2071848784420176))))), np.sqrt(7.454367409402064))), np.subtract(np.add(np.subtract(np.sin(np.remainder(np.multiply(x[5], np.multiply(x[5], -1.2777392903188343)), np.multiply(np.divide(x[3], 17.975654942009342), np.cos(x[2])))), np.add(np.multiply(-0.5914438722850015, np.multiply(-11.684700547512001, np.sqrt(17.975654942009342))), np.power(12.346659537114057, -8.56890127190061))), np.multiply(x[5], 12.252571408146245)), np.power(np.absolute(np.multiply(17.975654942009342, np.multiply(x[5], np.absolute(11.53102199646574)))), np.add(np.divide(x[5], np.divide(-8.746980899393652, -4.1867648894441345)), np.subtract(np.sin(x[4]), np.multiply(np.multiply(x[5], -1.2777392903188343), np.multiply(-1.2777392903188343, np.divide(-8.746980899393652, -4.1867648894441345)))))))), np.subtract(np.remainder(np.multiply(x[5], np.absolute(11.53102199646574)), np.sqrt(np.subtract(np.remainder(np.remainder(np.subtract(x[5], -11.684700547512001), np.subtract(np.subtract(17.975654942009342, 17.64423543755433), -9.561628961817226)), np.sqrt(19.84934517934137)), np.multiply(np.multiply(-11.684700547512001, np.absolute(17.975654942009342)), np.sqrt(np.sqrt(17.975654942009342)))))), np.multiply(np.multiply(-11.684700547512001, np.sqrt(np.subtract(np.remainder(np.multiply(x[5], np.sqrt(12.252571408146245)), 17.975654942009342), np.multiply(np.multiply(-0.5914438722850015, np.sqrt(17.975654942009342)), np.sqrt(12.252571408146245))))), 8.252623676845964))))\n"
     ]
    },
    {
     "name": "stderr",
     "output_type": "stream",
     "text": [
      "  2%|▏         | 2186/100000 [14:04<10:29:51,  2.59it/s]\n"
     ]
    },
    {
     "ename": "KeyboardInterrupt",
     "evalue": "",
     "output_type": "error",
     "traceback": [
      "\u001b[1;31m---------------------------------------------------------------------------\u001b[0m",
      "\u001b[1;31mKeyboardInterrupt\u001b[0m                         Traceback (most recent call last)",
      "Cell \u001b[1;32mIn[7], line 9\u001b[0m\n\u001b[0;32m      1\u001b[0m \u001b[38;5;66;03m#UNCOMMENT TO PROFILE THE CODE (and comment the rest of the code)\u001b[39;00m\n\u001b[0;32m      2\u001b[0m \u001b[38;5;66;03m# cProfile.run(\"regressor.evolve()\",sort=\"tottime\") #for profiling so we can see the time taken by each function\u001b[39;00m\n\u001b[0;32m      3\u001b[0m \u001b[38;5;66;03m#the output will include the following columns:\u001b[39;00m\n\u001b[1;32m   (...)\u001b[0m\n\u001b[0;32m      7\u001b[0m \n\u001b[0;32m      8\u001b[0m \u001b[38;5;66;03m# Execute the algorithm\u001b[39;00m\n\u001b[1;32m----> 9\u001b[0m best_tree, best_fitness \u001b[38;5;241m=\u001b[39m \u001b[43mregressor\u001b[49m\u001b[38;5;241;43m.\u001b[39;49m\u001b[43mevolve\u001b[49m\u001b[43m(\u001b[49m\u001b[43m)\u001b[49m\n\u001b[0;32m     11\u001b[0m \u001b[38;5;66;03m# Print the formula\u001b[39;00m\n\u001b[0;32m     12\u001b[0m \u001b[38;5;28mprint\u001b[39m(\u001b[38;5;124m\"\u001b[39m\u001b[38;5;124mBest Formula:\u001b[39m\u001b[38;5;130;01m\\n\u001b[39;00m\u001b[38;5;124m\"\u001b[39m)\n",
      "Cell \u001b[1;32mIn[5], line 177\u001b[0m, in \u001b[0;36mSymbolicRegression.evolve\u001b[1;34m(self, verbose)\u001b[0m\n\u001b[0;32m    169\u001b[0m     \u001b[38;5;28mself\u001b[39m\u001b[38;5;241m.\u001b[39mpopulation\u001b[38;5;241m=\u001b[39mnp\u001b[38;5;241m.\u001b[39mconcatenate((\u001b[38;5;28mself\u001b[39m\u001b[38;5;241m.\u001b[39mpopulation,new_trees))\n\u001b[0;32m    175\u001b[0m \u001b[38;5;66;03m# for tree in new_population:\u001b[39;00m\n\u001b[0;32m    176\u001b[0m \u001b[38;5;66;03m#     tree.compute_fitness()\u001b[39;00m\n\u001b[1;32m--> 177\u001b[0m new_population \u001b[38;5;241m=\u001b[39m \u001b[38;5;28;43mself\u001b[39;49m\u001b[38;5;241;43m.\u001b[39;49m\u001b[43moffspring_generation\u001b[49m\u001b[43m(\u001b[49m\u001b[43mcurrent_generation\u001b[49m\u001b[38;5;241;43m=\u001b[39;49m\u001b[43mgeneration\u001b[49m\u001b[43m)\u001b[49m\n\u001b[0;32m    179\u001b[0m \u001b[38;5;28mself\u001b[39m\u001b[38;5;241m.\u001b[39mpopulation\u001b[38;5;241m=\u001b[39mnp\u001b[38;5;241m.\u001b[39mconcatenate((\u001b[38;5;28mself\u001b[39m\u001b[38;5;241m.\u001b[39mpopulation,new_population))\n\u001b[0;32m    181\u001b[0m \u001b[38;5;66;03m# generation_fitnesses = [tree.fitness for tree in self.population]\u001b[39;00m\n\u001b[0;32m    182\u001b[0m \u001b[38;5;66;03m# generation_best_fitness = min(generation_fitnesses)\u001b[39;00m\n\u001b[0;32m    183\u001b[0m \n\u001b[0;32m    184\u001b[0m \n\u001b[0;32m    185\u001b[0m \n\u001b[0;32m    186\u001b[0m \u001b[38;5;66;03m#trim the population to the best population_size\u001b[39;00m\n",
      "Cell \u001b[1;32mIn[5], line 123\u001b[0m, in \u001b[0;36mSymbolicRegression.offspring_generation\u001b[1;34m(self, current_generation)\u001b[0m\n\u001b[0;32m    109\u001b[0m Tree\u001b[38;5;241m.\u001b[39mcollapse_branch(offspring2\u001b[38;5;241m.\u001b[39mroot)\n\u001b[0;32m    111\u001b[0m \u001b[38;5;66;03m# self.mutate(offspring1)\u001b[39;00m\n\u001b[0;32m    112\u001b[0m \u001b[38;5;66;03m# self.mutate(offspring2)\u001b[39;00m\n\u001b[0;32m    113\u001b[0m \n\u001b[1;32m   (...)\u001b[0m\n\u001b[0;32m    120\u001b[0m \u001b[38;5;66;03m# if offspring2.fitness not in tmp_fitnesses:\u001b[39;00m\n\u001b[0;32m    121\u001b[0m \u001b[38;5;66;03m#     offsprings.append(offspring2)\u001b[39;00m\n\u001b[1;32m--> 123\u001b[0m \u001b[43moffspring1\u001b[49m\u001b[38;5;241;43m.\u001b[39;49m\u001b[43mcompute_fitness\u001b[49m\u001b[43m(\u001b[49m\u001b[43m)\u001b[49m\n\u001b[0;32m    124\u001b[0m offspring2\u001b[38;5;241m.\u001b[39mcompute_fitness()\n\u001b[0;32m    125\u001b[0m \u001b[38;5;66;03m#if osspring1 is not alredy in population, already defined the eq as the fitness comparison\u001b[39;00m\n\u001b[0;32m    126\u001b[0m \u001b[38;5;66;03m# if offspring1 not in new_population:\u001b[39;00m\n\u001b[0;32m    127\u001b[0m \u001b[38;5;66;03m#     offsprings = np.append(offsprings, [offspring1])\u001b[39;00m\n\u001b[0;32m    128\u001b[0m \u001b[38;5;66;03m# if offspring2 not in new_population:\u001b[39;00m\n\u001b[0;32m    129\u001b[0m \u001b[38;5;66;03m#     offsprings = np.append(offsprings, [offspring2])\u001b[39;00m\n",
      "File \u001b[1;32mc:\\Users\\Ferra\\Desktop\\reqr\\CI2024_Project2\\tree.py:589\u001b[0m, in \u001b[0;36mTree.compute_fitness\u001b[1;34m(self, test)\u001b[0m\n\u001b[0;32m    586\u001b[0m eval_formula \u001b[38;5;241m=\u001b[39m \u001b[38;5;28meval\u001b[39m(\u001b[38;5;124mf\u001b[39m\u001b[38;5;124m\"\u001b[39m\u001b[38;5;124mlambda x: \u001b[39m\u001b[38;5;132;01m{\u001b[39;00mformula\u001b[38;5;132;01m}\u001b[39;00m\u001b[38;5;124m\"\u001b[39m,{\u001b[38;5;124m\"\u001b[39m\u001b[38;5;124mnp\u001b[39m\u001b[38;5;124m\"\u001b[39m: np, \u001b[38;5;124m\"\u001b[39m\u001b[38;5;124mnan\u001b[39m\u001b[38;5;124m\"\u001b[39m: np\u001b[38;5;241m.\u001b[39mnan, \u001b[38;5;124m\"\u001b[39m\u001b[38;5;124minf\u001b[39m\u001b[38;5;124m\"\u001b[39m: np\u001b[38;5;241m.\u001b[39minf}) \n\u001b[0;32m    588\u001b[0m \u001b[38;5;66;03m# Exploiting np broadcasting\u001b[39;00m\n\u001b[1;32m--> 589\u001b[0m y_pred \u001b[38;5;241m=\u001b[39m \u001b[43meval_formula\u001b[49m\u001b[43m(\u001b[49m\u001b[43mx_data\u001b[49m\u001b[43m)\u001b[49m  \n\u001b[0;32m    592\u001b[0m \u001b[38;5;28;01mif\u001b[39;00m np\u001b[38;5;241m.\u001b[39many(np\u001b[38;5;241m.\u001b[39misnan(y_pred)) \u001b[38;5;129;01mor\u001b[39;00m np\u001b[38;5;241m.\u001b[39many(np\u001b[38;5;241m.\u001b[39misinf(y_pred)):\n\u001b[0;32m    593\u001b[0m     \u001b[38;5;28mself\u001b[39m\u001b[38;5;241m.\u001b[39mfitness \u001b[38;5;241m=\u001b[39m np\u001b[38;5;241m.\u001b[39minf\n",
      "File \u001b[1;32m<string>:1\u001b[0m, in \u001b[0;36m<lambda>\u001b[1;34m(x)\u001b[0m\n",
      "\u001b[1;31mKeyboardInterrupt\u001b[0m: "
     ]
    }
   ],
   "source": [
    "#UNCOMMENT TO PROFILE THE CODE (and comment the rest of the code)\n",
    "# cProfile.run(\"regressor.evolve()\",sort=\"tottime\") #for profiling so we can see the time taken by each function\n",
    "#the output will include the following columns:\n",
    "#tottime: Total time spent in the function (excluding time spent in other functions it calls).\n",
    "#cumtime: Cumulative time spent in the function (including time spent in sub-functions).\n",
    "\n",
    "\n",
    "# Execute the algorithm\n",
    "best_tree, best_fitness = regressor.evolve()\n",
    "\n",
    "# Print the formula\n",
    "print(\"Best Formula:\\n\")\n",
    "print(best_tree.to_np_formula())\n",
    "\n",
    "# Print the fitness\n",
    "print(f\"Train Fitness: {best_fitness}\")\n",
    "best_tree.compute_fitness(test=\"test\")\n",
    "print(f\"Test Fitness: {best_tree.fitness}\")\n",
    "print(f\"Train-Test Discrepancy: {best_fitness-best_tree.fitness}\")\n",
    "best_tree.compute_fitness(test=\"all\")\n",
    "print(f\"All Fitness: {best_tree.fitness}\")\n",
    "\n",
    "# Print the best tree\n",
    "print(f\"Best Fitness History: {regressor.best_fitness_history}, changed {len(regressor.best_fitness_history)} times\")\n",
    "print(\"Best Tree:\")\n",
    "best_tree.add_drawing()"
   ]
  },
  {
   "cell_type": "code",
   "execution_count": null,
   "metadata": {},
   "outputs": [
    {
     "name": "stdout",
     "output_type": "stream",
     "text": [
      "Collapsed formula: np.add(np.multiply(np.power(np.exp(np.multiply(np.cos(np.multiply(np.divide(6.482802899893645, x[1]), x[0])), x[0])), x[1]), np.power(np.exp(np.remainder(np.sin(np.multiply(1.1877872024296954, x[0])), np.multiply(np.divide(np.divide(np.remainder(x[0], 2.301058663141874), -1.5725919920029887), -2.678140949294181), np.divide(np.multiply(np.sin(x[0]), -0.8065672979000382), -0.10638834059264468)))), x[1])), np.power(np.add(np.power(np.exp(np.multiply(1.3031914273616296, np.divide(np.multiply(np.sin(x[0]), -0.9154561729697624), -0.41200087995525503))), x[1]), np.power(np.exp(np.remainder(np.subtract(x[0], x[1]), np.divide(np.multiply(np.sin(x[0]), -2.2597688168481858), -0.8619946046528506))), x[1])), np.cos(np.remainder(np.negative(np.multiply(0.9308912357816175, x[0])), np.remainder(np.arctan(np.multiply(0.5986738605992377, x[0])), np.divide(x[1], -0.7412890935391182))))))\n",
      "Best Tree after collapsing:\n"
     ]
    },
    {
     "data": {
      "image/png": "[encoded data removed]",
      "text/plain": [
       "<Figure size 1200x800 with 1 Axes>"
      ]
     },
     "metadata": {},
     "output_type": "display_data"
    }
   ],
   "source": [
    "#Collapse branches that can be simplified\n",
    "Tree.collapse_branch(best_tree.root,0,force_collapse=True)\n",
    "print(f\"Collapsed formula: {best_tree.to_np_formula()}\")\n",
    "print(\"Best Tree after collapsing:\")\n",
    "best_tree.add_drawing()\n"
   ]
  },
  {
   "cell_type": "code",
   "execution_count": 4,
   "metadata": {},
   "outputs": [
    {
     "name": "stdout",
     "output_type": "stream",
     "text": [
      "Loss: 13512.84438062582\n"
     ]
    }
   ],
   "source": [
    "\n",
    "formula=\"np.add(np.add(np.add(np.negative(np.multiply(np.multiply(np.multiply(np.add(x[5], np.cos(x[5])), 3.4533832170538705), np.add(x[5], np.add(x[5], np.cos(x[5])))), np.add(np.arcsin(np.multiply(np.divide(x[1], x[1]), np.cos(x[5]))), np.subtract(-0.389689725373902, np.subtract(np.tan(-4.984096873650183), np.cos(x[5])))))), np.multiply(np.add(np.multiply(np.multiply(np.add(x[5], 2.080092470343727), np.subtract(np.tan(-4.984096873650183), np.cos(x[5]))), np.add(np.subtract(3.4309959358615156, np.cos(x[5])), np.add(x[5], np.tan(-0.389689725373902)))), np.remainder(np.subtract(np.remainder(np.remainder(x[0], -4.016052312078411), np.remainder(x[5], 0.5710703648287252)), np.multiply(np.add(x[5], -4.984096873650183), np.multiply(-4.984096873650183, -2.36468023785525))), np.add(np.power(np.exp(x[5]), np.exp(-2.8005131036155184)), np.multiply(-4.984096873650183, 4.133039144069876)))), np.log(np.absolute(np.divide(np.divide(np.remainder(-1.5367767873214087, -2.36468023785525), np.add(x[5], -0.389689725373902)), np.cos(x[5])))))), np.add(np.multiply(np.multiply(np.multiply(-4.984096873650183, np.multiply(np.add(x[5], -0.389689725373902), 2.080092470343727)), -4.984096873650183), np.subtract(np.subtract(np.multiply(np.add(x[5], -0.389689725373902), np.add(x[5], np.add(x[5], -0.389689725373902))), x[4]), np.subtract(np.subtract(np.multiply(-4.984096873650183, -0.389689725373902), np.multiply(np.add(x[5], -2.36468023785525), 2.080092470343727)), x[4]))), np.add(np.divide(np.divide(np.remainder(np.add(x[5], np.power(2.301856003875895, -0.7510053705938358)), np.subtract(np.multiply(-4.984096873650183, 4.409196301610551), np.power(1.0169514555518528, x[2]))), np.divide(-0.389689725373902, np.subtract(np.sqrt(1.434410461293174), -4.984096873650183))), np.add(x[5], np.multiply(np.add(x[5], np.add(x[5], -1.7164765881635526)), np.add(x[5], -1.443672924613927)))), np.subtract(np.subtract(np.subtract(np.power(np.multiply(-4.8178556037767954, -4.984096873650183), np.add(x[5], -2.36468023785525)), np.multiply(np.multiply(-2.8005131036155184, x[3]), np.multiply(3.869784458158531, 4.133039144069876))), np.subtract(np.multiply(np.multiply(-4.984096873650183, -2.36468023785525), np.subtract(1.0169514555518528, -4.016052312078411)), np.multiply(np.add(x[5], -4.984096873650183), np.multiply(-4.984096873650183, -2.36468023785525)))), np.power(np.subtract(np.square(x[4]), np.subtract(-0.389689725373902, np.multiply(-3.678457221325331, -2.36468023785525))), 2.2240019148334644))))), np.multiply(-4.8178556037767954, np.multiply(np.multiply(np.add(x[5], np.multiply(np.cos(x[5]), -1.250447150656191)), np.multiply(np.remainder(np.remainder(np.sqrt(1.4450372354510659), np.add(x[5], 2.080092470343727)), np.add(x[5], np.multiply(np.cos(x[5]), -3.1415842920398673))), np.multiply(np.add(x[5], np.add(x[5], np.tan(-0.389689725373902))), np.remainder(np.add(4.133039144069876, np.absolute(0.9693457069170766)), x[5])))), 2.2240019148334644)))\"\n",
    "\n",
    "# Define the formula evaluation\n",
    "def test_formula(formula, x):\n",
    "    eval_formula = eval(\n",
    "        f\"lambda x: {formula}\",\n",
    "        {\"np\": np, \"nan\": np.nan, \"inf\": np.inf}\n",
    "    )\n",
    "    return eval_formula(x)\n",
    "\n",
    "\n",
    "def mse_loss(x, y_true):\n",
    "    squared_errors = 0\n",
    "    for i in range(x.shape[0]):  # Iterate over rows (samples)\n",
    "            y_pred = test_formula(formula, x[i])  # Pass one sample (row) at a time\n",
    "            squared_errors += np.square(y_true[i] - y_pred)\n",
    "     \n",
    "    return squared_errors / x.shape[0]  # Mean of squared errors\n",
    "\n",
    "\n",
    "x_tot=np.concatenate((x_train,x_test),axis=1)\n",
    "y_tot=np.concatenate((y_train,y_test))\n",
    "# Compute the loss\n",
    "loss = mse_loss(x_tot.T, y_tot)\n",
    "print(f\"Loss: {loss}\")\n"
   ]
  },
  {
   "cell_type": "code",
   "execution_count": 50,
   "metadata": {},
   "outputs": [],
   "source": [
    "# np.set_printoptions(precision=20)\n",
    "\n",
    "# def test_formula(formula,x):\n",
    "#     eval_formula = eval(f\"lambda x: {formula}\",{\"np\": np, \"nan\": np.nan, \"inf\": np.inf}) \n",
    "#     return eval_formula(x)\n",
    "    \n",
    "    \n",
    "\n",
    "\n",
    "\n",
    "x_tot=np.concatenate((x_train,x_test),axis=1)\n",
    "y_tot=np.concatenate((y_train,y_test))\n",
    "# squared_errors = 0\n",
    "# formula=\"np.subtract(np.multiply(np.add(np.remainder(5.093641049654384, x[1]), -11.825531918684032), x[1]), np.multiply(np.divide(np.subtract(5.093641049654384, x[2]), 1.954435340287917), np.add(np.add(-5.5958438948421225, x[1]), np.cos(x[0]))))\"\n",
    "# for i in range(x_tot.shape[1]):\n",
    "#     y_pred = test_formula(formula,x_tot[:, i])\n",
    "                 \n",
    "#     squared_errors += np.square(y_tot[i] - y_pred) \n",
    "\n",
    "# print( squared_errors / x_tot.shape[1])\n",
    "   \n",
    "\n"
   ]
  },
  {
   "cell_type": "code",
   "execution_count": 51,
   "metadata": {},
   "outputs": [
    {
     "name": "stdout",
     "output_type": "stream",
     "text": [
      "Transformed Formula:\n",
      "np.add(np.multiply(np.power(np.exp(np.multiply(np.cos(np.multiply(np.divide(c[0], x[1]), x[0])), x[0])), x[1]), np.power(np.exp(np.remainder(np.sin(np.multiply(c[1], x[0])), np.multiply(np.divide(np.divide(np.remainder(x[0], c[2]), c[3]), c[4]), np.divide(np.multiply(np.sin(x[0]), c[5]), c[6])))), x[1])), np.power(np.add(np.power(np.exp(np.multiply(c[7], np.divide(np.multiply(np.sin(x[0]), c[8]), c[9]))), x[1]), np.power(np.exp(np.remainder(np.subtract(x[0], x[1]), np.divide(np.multiply(np.sin(x[0]), c[10]), c[11]))), x[1])), np.cos(np.remainder(np.negative(np.multiply(c[12], x[0])), np.remainder(np.arctan(np.multiply(c[13], x[0])), np.divide(x[1], c[14]))))))\n",
      "Extracted Constants:\n",
      "[6.482802899893645, 1.1877872024296954, 2.301058663141874, -1.5725919920029887, -2.678140949294181, -0.8065672979000382, -0.10638834059264468, 1.3031914273616296, -0.9154561729697624, -0.41200087995525503, -2.2597688168481858, -0.8619946046528506, 0.9308912357816175, 0.5986738605992377, -0.7412890935391182]\n"
     ]
    }
   ],
   "source": [
    "import re\n",
    "\n",
    "def extract_constants(formula):\n",
    "    \"\"\"\n",
    "    Takes a formula string and extracts constants, replacing them with c[i].\n",
    "    \n",
    "    Parameters:\n",
    "    formula (str): Input formula string.\n",
    "    \n",
    "    Returns:\n",
    "    tuple: A tuple containing:\n",
    "        - Transformed formula string with constants replaced by c[i].\n",
    "        - List of extracted constants.\n",
    "    \"\"\"\n",
    "    constants = []\n",
    "    \n",
    "    # Regex to identify constants (floating-point or integers)\n",
    "    # Matches patterns that are standalone constants, not part of variable names or functions\n",
    "    constant_pattern = r'(?<![a-zA-Z_0-9\\[])([-+]?\\d*\\.\\d+|[-+]?\\d+)(?![a-zA-Z_0-9\\]])'\n",
    "    \n",
    "    def replace_constant(match):\n",
    "        \"\"\"\n",
    "        Replace matched constant with a placeholder c[i].\n",
    "        \"\"\"\n",
    "        constants.append(float(match.group()))\n",
    "        return f'c[{len(constants) - 1}]'\n",
    "    \n",
    "    # Replace constants in the formula and populate the constants list\n",
    "    transformed_formula = re.sub(constant_pattern, replace_constant, formula)\n",
    "    \n",
    "    return transformed_formula, constants\n",
    "\n",
    "\n",
    "transformed_formula, initial_constants = extract_constants(best_tree.to_np_formula())\n",
    "print(\"Transformed Formula:\")\n",
    "print(transformed_formula)\n",
    "print(\"Extracted Constants:\")\n",
    "print(initial_constants)\n"
   ]
  },
  {
   "cell_type": "code",
   "execution_count": 52,
   "metadata": {},
   "outputs": [
    {
     "ename": "ModuleNotFoundError",
     "evalue": "No module named 'scipy'",
     "output_type": "error",
     "traceback": [
      "\u001b[1;31m---------------------------------------------------------------------------\u001b[0m",
      "\u001b[1;31mModuleNotFoundError\u001b[0m                       Traceback (most recent call last)",
      "Cell \u001b[1;32mIn[52], line 3\u001b[0m\n\u001b[0;32m      1\u001b[0m \u001b[38;5;28;01mimport\u001b[39;00m\u001b[38;5;250m \u001b[39m\u001b[38;5;21;01mnumpy\u001b[39;00m\u001b[38;5;250m \u001b[39m\u001b[38;5;28;01mas\u001b[39;00m\u001b[38;5;250m \u001b[39m\u001b[38;5;21;01mnp\u001b[39;00m\n\u001b[0;32m      2\u001b[0m \u001b[38;5;28;01mimport\u001b[39;00m\u001b[38;5;250m \u001b[39m\u001b[38;5;21;01mrandom\u001b[39;00m\n\u001b[1;32m----> 3\u001b[0m \u001b[38;5;28;01mfrom\u001b[39;00m\u001b[38;5;250m \u001b[39m\u001b[38;5;21;01mscipy\u001b[39;00m\u001b[38;5;21;01m.\u001b[39;00m\u001b[38;5;21;01moptimize\u001b[39;00m\u001b[38;5;250m \u001b[39m\u001b[38;5;28;01mimport\u001b[39;00m minimize\n\u001b[0;32m      5\u001b[0m \u001b[38;5;66;03m# Collapsed formula\u001b[39;00m\n\u001b[0;32m      6\u001b[0m \u001b[38;5;66;03m# Optimal constants: [2.2946656427373533, 6.572177222819985, -6.452300905347215, 10.98892020920567]\u001b[39;00m\n\u001b[0;32m      7\u001b[0m \n\u001b[0;32m      8\u001b[0m \u001b[38;5;66;03m# Initial constants\u001b[39;00m\n\u001b[0;32m     11\u001b[0m x_tot_t \u001b[38;5;241m=\u001b[39m x_tot\u001b[38;5;241m.\u001b[39mT\n",
      "\u001b[1;31mModuleNotFoundError\u001b[0m: No module named 'scipy'"
     ]
    }
   ],
   "source": [
    "import numpy as np\n",
    "import random\n",
    "\n",
    "\n",
    "# Collapsed formula\n",
    "# Optimal constants: [2.2946656427373533, 6.572177222819985, -6.452300905347215, 10.98892020920567]\n",
    "\n",
    "# Initial constants\n",
    "\n",
    "\n",
    "x_tot_t = x_tot.T\n",
    "\n",
    "transformed_formula=\"np.exp(4) + (-((12 + 4) * x[0]) / (x[1] + 1)) - np.exp(np.abs(x[1])) / x[2]\"\n",
    "\n",
    "# Define the formula evaluation\n",
    "def test_formula(formula, x, *c):\n",
    "    eval_formula = eval(\n",
    "        f\"lambda x, *c: {transformed_formula}\",\n",
    "        {\"np\": np, \"nan\": np.nan, \"inf\": np.inf}\n",
    "    )\n",
    "    return eval_formula(x, *c)\n",
    "\n",
    "# Define the MSE loss\n",
    "def mse_loss(constants, x, y_true):\n",
    "    squared_errors = 0\n",
    "    for i in range(x.shape[0]):  # Iterate over rows (samples)\n",
    "            y_pred = test_formula(None, x[i], *constants)  # Pass one sample (row) at a time\n",
    "            squared_errors += np.square(y_true[i] - y_pred)\n",
    "     \n",
    "    return squared_errors / x.shape[0]  # Mean of squared errors\n",
    "\n",
    "# Print initial loss\n",
    "print(\"Initial loss:\", mse_loss(initial_constants, x_tot_t, y_tot))\n",
    "\n",
    "def hill_climbing_optimizer(x, y_true, initial_constants, max_iter=1000, step_size=0.1, tol=1e-6):\n",
    "    current_solution = np.array(initial_constants)\n",
    "    current_loss = mse_loss(current_solution, x, y_true)\n",
    "\n",
    "    for iteration in range(max_iter):\n",
    "        # Generate a random neighbor\n",
    "        neighbor = current_solution + np.random.uniform(-step_size, step_size, size=current_solution.shape)\n",
    "        neighbor_loss = mse_loss(neighbor, x, y_true)\n",
    "\n",
    "        # If the neighbor is better, move to it\n",
    "        if neighbor_loss < current_loss:\n",
    "            current_solution = neighbor\n",
    "            current_loss = neighbor_loss\n",
    "\n",
    "        # Stop if the improvement is below tolerance\n",
    "        if current_loss < tol:\n",
    "            break\n",
    "\n",
    "    return current_solution, current_loss\n",
    "\n",
    "best_constants, best_loss = hill_climbing_optimizer(x_tot_t, y_tot, initial_constants)\n",
    "\n",
    "# Print results\n",
    "print(\"Optimized Constants:\", best_constants)\n",
    "print(\"Final Loss:\", best_loss)"
   ]
  },
  {
   "cell_type": "code",
   "execution_count": 7,
   "metadata": {},
   "outputs": [
    {
     "name": "stdout",
     "output_type": "stream",
     "text": [
      "    |   Population Average    |             Best Individual              |\n",
      "---- ------------------------- ------------------------------------------ ----------\n",
      " Gen   Length          Fitness   Length          Fitness      OOB Fitness  Time Left\n",
      "   0    10.81      4.24991e+07        5      2.26268e+07              N/A     11.31m\n",
      "   1    11.95      2.35564e+07        5      2.26268e+07              N/A      3.14m\n",
      "   2    14.41      3.07536e+08       22      1.96163e+07              N/A      3.48m\n",
      "   3    18.65      4.62348e+07       28      1.83101e+07              N/A      3.54m\n",
      "   4    26.68      3.19204e+11       23      1.20557e+07              N/A      4.09m\n",
      "   5    25.89      3.47784e+10       19      1.06004e+07              N/A      4.11m\n",
      "   6    25.50      2.57681e+11       24      7.01813e+06              N/A      4.29m\n",
      "   7    24.93      2.46545e+12       26      6.86537e+06              N/A      3.98m\n",
      "   8    23.76      1.77168e+12       26      1.39835e+06              N/A      7.61m\n",
      "   9    24.96      1.21508e+12       22      1.38357e+06              N/A      3.88m\n",
      "  10    27.22      1.66768e+12       26      1.28668e+06              N/A      3.95m\n",
      "  11    28.24      2.03229e+12       21           919427              N/A      4.57m\n",
      "  12    27.08      2.37884e+12       18      1.02384e+06              N/A      4.17m\n",
      "  13    24.55      4.08453e+12       21           953087              N/A      4.65m\n",
      "  14    22.74      3.96114e+12       26           911112              N/A      4.66m\n",
      "  15    20.79      3.27707e+12       26           911112              N/A      3.98m\n",
      "  16    22.60      5.33294e+12       32           839397              N/A      4.29m\n",
      "  17    23.41      3.66624e+12       31           839397              N/A      4.14m\n",
      "  18    26.81      2.56859e+12       31           839397              N/A      4.61m\n",
      "  19    29.02      1.86993e+12       35           820444              N/A      5.13m\n",
      "  20    31.09      1.70633e+12       39           803732              N/A      4.76m\n",
      "  21    32.47      1.46279e+12       39           803732              N/A      4.78m\n",
      "  22    35.09      2.71008e+12       40           790941              N/A      5.35m\n",
      "  23    37.41      1.28939e+12       40           790941              N/A      5.17m\n",
      "  24    37.97      7.58247e+11       41           789396              N/A      6.02m\n",
      "  25    39.05      1.70086e+12       41           778785              N/A      5.73m\n",
      "  26    40.75      3.81944e+11       42           777004              N/A      5.48m\n",
      "  27    40.96      6.31209e+11       45           764385              N/A      6.09m\n",
      "  28    41.73      1.37389e+12       44           756099              N/A      5.96m\n",
      "  29    44.28      7.03583e+11       44           751341              N/A      6.17m\n",
      "  30    45.10      9.02504e+11       51           735654              N/A      6.54m\n",
      "  31    47.38       1.0086e+12       54           731382              N/A      6.44m\n",
      "  32    46.64       8.6799e+11       55           724090              N/A      6.62m\n",
      "  33    50.47      8.08828e+11       56           723487              N/A      6.77m\n",
      "  34    52.73      7.98984e+10       56           723487              N/A      7.62m\n",
      "  35    54.59      5.47128e+11       56           722023              N/A      7.29m\n",
      "  36    54.72      1.46984e+12       62           704511              N/A      7.81m\n",
      "  37    55.90      3.52949e+10       66           685817              N/A      7.56m\n",
      "  38    58.29      6.21539e+11       68           685296              N/A      8.24m\n",
      "  39    62.18      3.26815e+11       72           682361              N/A      8.55m\n",
      "  40    65.24      2.62985e+11       73           680986              N/A      8.24m\n",
      "  41    69.41      1.19546e+12       76           680980              N/A      8.95m\n",
      "  42    72.62      6.08581e+11       66           679371              N/A      9.93m\n",
      "  43    72.80      1.11069e+12       66           679371              N/A      9.47m\n",
      "  44    72.62      3.05376e+11       78           672981              N/A      9.66m\n",
      "  45    72.75      9.65602e+11       84           664826              N/A      9.07m\n",
      "  46    73.56      4.32031e+10       92           656804              N/A      9.49m\n",
      "  47    78.82      2.46066e+11       82           656216              N/A      9.87m\n",
      "  48    85.60      2.95156e+11       93           652683              N/A     10.01m\n",
      "  49    90.94      3.35791e+11      104           652200              N/A     11.19m\n",
      "  50    96.99      1.24917e+10      104           652146              N/A     11.62m\n",
      "  51    97.78      3.71583e+11      104           652200              N/A     10.47m\n",
      "  52   100.62      5.78115e+11      113           652065              N/A     12.53m\n",
      "  53   101.69      2.07145e+10      100           646314              N/A     11.95m\n",
      "  54   104.85      4.49945e+10       99           645910              N/A     12.30m\n",
      "  55   108.98       5.1725e+11      113           644674              N/A     13.69m\n",
      "  56   105.16      2.33512e+11      104           644280              N/A     12.46m\n",
      "  57   104.78      2.69219e+11      113           640356              N/A     12.89m\n",
      "  58   110.00      9.85574e+09      118           639059              N/A     14.34m\n",
      "  59   120.81      3.54489e+10      121           637580              N/A     14.04m\n",
      "  60   120.73        2.997e+11      132           635808              N/A     14.03m\n",
      "  61   124.91      1.80031e+10      101           631848              N/A     14.68m\n",
      "  62   122.51      1.15634e+10      100           631765              N/A     15.73m\n",
      "  63   123.87       1.0182e+10      100           631765              N/A     14.79m\n",
      "  64   118.03      2.83353e+10      100           631765              N/A     15.94m\n",
      "  65   110.62       1.6719e+12      100           629244              N/A     16.61m\n",
      "  66   101.31      1.15914e+10       99           628060              N/A     13.12m\n",
      "  67   100.33      2.33698e+10       99           628060              N/A     12.57m\n",
      "  68   100.69       1.2165e+09       94           627341              N/A     11.28m\n",
      "  69    97.93      2.49075e+11       94           625208              N/A     11.26m\n",
      "  70    96.06      4.16264e+10       94           625208              N/A     11.55m\n",
      "  71    97.37      3.17945e+11       92           625050              N/A     10.99m\n",
      "  72    96.82      1.35529e+10       92           625050              N/A     11.50m\n",
      "  73    94.54      1.69034e+09       93           624404              N/A     11.38m\n",
      "  74    93.07      4.64338e+11       93           624404              N/A     12.71m\n",
      "  75    92.89      5.79974e+11       93           624404              N/A     12.01m\n",
      "  76    94.54      1.03209e+09      106           623537              N/A     12.57m\n",
      "  77    95.27      2.39823e+10      106           623537              N/A     10.92m\n",
      "  78    97.86      3.05134e+10      112           623440              N/A     12.19m\n",
      "  79    99.50      2.96212e+11      112           623440              N/A     11.48m\n",
      "  80   104.50      2.34343e+10      107           623174              N/A     12.66m\n",
      "  81   108.97      6.86187e+11      145           621923              N/A     13.61m\n",
      "  82   115.11       2.5314e+11      150           621768              N/A     12.27m\n",
      "  83   127.11      1.41721e+10      200           621226              N/A     12.78m\n",
      "  84   147.04      1.54733e+10      197           621000              N/A     14.74m\n",
      "  85   167.45      2.44635e+11      243           620453              N/A     16.67m\n",
      "  86   201.77      6.53521e+08      233           620077              N/A     18.67m\n",
      "  87   241.69      3.20388e+08      320           619879              N/A     20.97m\n",
      "  88   263.02      8.19508e+07      299           619654              N/A     24.70m\n",
      "  89   281.63      4.61577e+06      302           619602              N/A     24.64m\n",
      "  90   304.11       6.3382e+08      310           619541              N/A     27.63m\n",
      "  91   338.63      2.40048e+06      407           619173              N/A     29.10m\n",
      "  92   371.42      4.89999e+07      276           618777              N/A     33.11m\n",
      "  93   391.28       1.6853e+06      294           618618              N/A     35.87m\n",
      "  94   407.96      2.21642e+06      489           618552              N/A     34.71m\n",
      "  95   370.67      3.32962e+07      434           618488              N/A     31.92m\n",
      "  96   428.05      1.21097e+10      545           618469              N/A     34.49m\n",
      "  97   502.07       2.5537e+07      882           618469              N/A     39.15m\n",
      "  98   552.63      1.68054e+07      739           618454              N/A     43.17m\n",
      "  99   657.96      9.71042e+06      951           618449              N/A     48.37m\n",
      " 100   609.76      1.62494e+07      646           618439              N/A     48.71m\n",
      " 101   691.76       1.0513e+06     1064           618439              N/A     53.71m\n",
      " 102   637.16      7.91389e+06     1393           618439              N/A     51.85m\n",
      " 103   683.38      1.42567e+06      643           618436              N/A     54.45m\n",
      " 104   588.19      1.14351e+06      914           618436              N/A     48.83m\n",
      " 105   581.26      1.65426e+06      905           618436              N/A     46.59m\n",
      " 106   572.32      1.87036e+06      851           618436              N/A     45.37m\n",
      " 107   496.84       2.0751e+11      800           618436              N/A     43.48m\n",
      " 108   423.34      4.65507e+08      536           618436              N/A     39.26m\n",
      " 109   405.91      1.70372e+06      411           618389              N/A     35.54m\n",
      " 110   390.93       1.0544e+10      438           618389              N/A     35.48m\n",
      " 111   388.97      2.65548e+07      449           618389              N/A     34.41m\n",
      " 112   405.91      6.39771e+07      438           618388              N/A     35.50m\n",
      " 113   383.45      4.41823e+06      437           618388              N/A     33.39m\n",
      " 114   386.20      1.21465e+10      408           618277              N/A     33.85m\n",
      " 115   431.47       3.8639e+06      513           618277              N/A     35.39m\n",
      " 116   434.56      2.44575e+07      620           618277              N/A     34.27m\n",
      " 117   410.56      3.81666e+06      349           618276              N/A     34.08m\n",
      " 118   378.69      2.38534e+06      356           618275              N/A     33.02m\n",
      " 119   373.83      2.35903e+11      369           618275              N/A     30.84m\n",
      " 120   363.26      1.83781e+08      348           618204              N/A     30.07m\n",
      " 121   364.27      1.07889e+07      505           618204              N/A     31.36m\n",
      " 122   378.07       2.6892e+07      344           618153              N/A     31.05m\n",
      " 123   406.72       1.5146e+06      379           618153              N/A     33.95m\n",
      " 124   384.01      2.58813e+07      387           618150              N/A     32.58m\n",
      " 125   372.97      9.59944e+06      384           618146              N/A     32.99m\n",
      " 126   371.67      2.32263e+06      456           618146              N/A     30.55m\n",
      " 127   385.98      1.72822e+07      358           618146              N/A     30.74m\n",
      " 128   416.35      4.95918e+08      411           618146              N/A     32.38m\n",
      " 129   389.04      1.28393e+10      393           618076              N/A     32.63m\n",
      " 130   374.07      5.61667e+07      392           618076              N/A     30.43m\n",
      " 131   366.30      2.35782e+11      496           618076              N/A     30.88m\n",
      " 132   386.64      4.37513e+06      410           618074              N/A     32.52m\n",
      " 133   378.86      2.03275e+07      494           618074              N/A     31.32m\n",
      " 134   392.41      1.03488e+07      338           618074              N/A     31.27m\n",
      " 135   405.52      1.08004e+08      654           618074              N/A     32.02m\n",
      " 136   373.79      1.05224e+10      540           618074              N/A     33.80m\n",
      " 137   354.83      2.11649e+07      351           618074              N/A     29.44m\n",
      " 138   340.90      1.63371e+06      294           618050              N/A     28.21m\n",
      " 139   323.40      2.09987e+06      391           618050              N/A     27.72m\n",
      " 140   305.79      4.03737e+07      323           617691              N/A     25.12m\n",
      " 141   308.83      5.36221e+08      340           616286              N/A     25.44m\n",
      " 142   326.65      1.51286e+06      353           616008              N/A     27.37m\n",
      " 143   357.71      2.60655e+07      349           616008              N/A     31.07m\n",
      " 144   393.74       2.4178e+09      351           615157              N/A     32.84m\n",
      " 145   412.13      2.01573e+08      382           615157              N/A     33.65m\n",
      " 146   441.20      3.91626e+08      442           614319              N/A     34.41m\n",
      " 147   414.79      3.93296e+08      450           614294              N/A     33.36m\n"
     ]
    },
    {
     "ename": "KeyboardInterrupt",
     "evalue": "",
     "output_type": "error",
     "traceback": [
      "\u001b[1;31m---------------------------------------------------------------------------\u001b[0m",
      "\u001b[1;31mKeyboardInterrupt\u001b[0m                         Traceback (most recent call last)",
      "Cell \u001b[1;32mIn[7], line 3\u001b[0m\n\u001b[0;32m      1\u001b[0m \u001b[38;5;28;01mfrom\u001b[39;00m \u001b[38;5;21;01mgplearn\u001b[39;00m\u001b[38;5;21;01m.\u001b[39;00m\u001b[38;5;21;01mgenetic\u001b[39;00m \u001b[38;5;28;01mimport\u001b[39;00m SymbolicRegressor\n\u001b[0;32m      2\u001b[0m est \u001b[38;5;241m=\u001b[39m SymbolicRegressor(population_size\u001b[38;5;241m=\u001b[39m\u001b[38;5;241m500\u001b[39m,generations\u001b[38;5;241m=\u001b[39m\u001b[38;5;241m500\u001b[39m,metric\u001b[38;5;241m=\u001b[39m\u001b[38;5;124m'\u001b[39m\u001b[38;5;124mmse\u001b[39m\u001b[38;5;124m'\u001b[39m,function_set\u001b[38;5;241m=\u001b[39m(\u001b[38;5;124m'\u001b[39m\u001b[38;5;124madd\u001b[39m\u001b[38;5;124m'\u001b[39m, \u001b[38;5;124m'\u001b[39m\u001b[38;5;124msub\u001b[39m\u001b[38;5;124m'\u001b[39m, \u001b[38;5;124m'\u001b[39m\u001b[38;5;124mmul\u001b[39m\u001b[38;5;124m'\u001b[39m, \u001b[38;5;124m'\u001b[39m\u001b[38;5;124mdiv\u001b[39m\u001b[38;5;124m'\u001b[39m,\u001b[38;5;124m'\u001b[39m\u001b[38;5;124msqrt\u001b[39m\u001b[38;5;124m'\u001b[39m,\u001b[38;5;124m'\u001b[39m\u001b[38;5;124mlog\u001b[39m\u001b[38;5;124m'\u001b[39m,\u001b[38;5;124m'\u001b[39m\u001b[38;5;124mabs\u001b[39m\u001b[38;5;124m'\u001b[39m,\u001b[38;5;124m'\u001b[39m\u001b[38;5;124mneg\u001b[39m\u001b[38;5;124m'\u001b[39m,\u001b[38;5;124m'\u001b[39m\u001b[38;5;124minv\u001b[39m\u001b[38;5;124m'\u001b[39m,\u001b[38;5;124m'\u001b[39m\u001b[38;5;124mmax\u001b[39m\u001b[38;5;124m'\u001b[39m,\u001b[38;5;124m'\u001b[39m\u001b[38;5;124mmin\u001b[39m\u001b[38;5;124m'\u001b[39m,\u001b[38;5;124m'\u001b[39m\u001b[38;5;124msin\u001b[39m\u001b[38;5;124m'\u001b[39m,\u001b[38;5;124m'\u001b[39m\u001b[38;5;124mcos\u001b[39m\u001b[38;5;124m'\u001b[39m,\u001b[38;5;124m'\u001b[39m\u001b[38;5;124mtan\u001b[39m\u001b[38;5;124m'\u001b[39m),verbose\u001b[38;5;241m=\u001b[39m\u001b[38;5;241m1\u001b[39m,n_jobs\u001b[38;5;241m=\u001b[39m\u001b[38;5;241m-\u001b[39m\u001b[38;5;241m1\u001b[39m)\n\u001b[1;32m----> 3\u001b[0m \u001b[43mest\u001b[49m\u001b[38;5;241;43m.\u001b[39;49m\u001b[43mfit\u001b[49m\u001b[43m(\u001b[49m\u001b[43mx_train\u001b[49m\u001b[38;5;241;43m.\u001b[39;49m\u001b[43mT\u001b[49m\u001b[43m,\u001b[49m\u001b[43m \u001b[49m\u001b[43my_train\u001b[49m\u001b[43m)\u001b[49m\n",
      "File \u001b[1;32mc:\\Users\\Ferra\\AppData\\Local\\Programs\\Python\\Python312\\Lib\\site-packages\\gplearn\\genetic.py:476\u001b[0m, in \u001b[0;36mBaseSymbolic.fit\u001b[1;34m(self, X, y, sample_weight)\u001b[0m\n\u001b[0;32m    472\u001b[0m n_jobs, n_programs, starts \u001b[38;5;241m=\u001b[39m _partition_estimators(\n\u001b[0;32m    473\u001b[0m     \u001b[38;5;28mself\u001b[39m\u001b[38;5;241m.\u001b[39mpopulation_size, \u001b[38;5;28mself\u001b[39m\u001b[38;5;241m.\u001b[39mn_jobs)\n\u001b[0;32m    474\u001b[0m seeds \u001b[38;5;241m=\u001b[39m random_state\u001b[38;5;241m.\u001b[39mrandint(MAX_INT, size\u001b[38;5;241m=\u001b[39m\u001b[38;5;28mself\u001b[39m\u001b[38;5;241m.\u001b[39mpopulation_size)\n\u001b[1;32m--> 476\u001b[0m population \u001b[38;5;241m=\u001b[39m \u001b[43mParallel\u001b[49m\u001b[43m(\u001b[49m\u001b[43mn_jobs\u001b[49m\u001b[38;5;241;43m=\u001b[39;49m\u001b[43mn_jobs\u001b[49m\u001b[43m,\u001b[49m\n\u001b[0;32m    477\u001b[0m \u001b[43m                      \u001b[49m\u001b[43mverbose\u001b[49m\u001b[38;5;241;43m=\u001b[39;49m\u001b[38;5;28;43mint\u001b[39;49m\u001b[43m(\u001b[49m\u001b[38;5;28;43mself\u001b[39;49m\u001b[38;5;241;43m.\u001b[39;49m\u001b[43mverbose\u001b[49m\u001b[43m \u001b[49m\u001b[38;5;241;43m>\u001b[39;49m\u001b[43m \u001b[49m\u001b[38;5;241;43m1\u001b[39;49m\u001b[43m)\u001b[49m\u001b[43m)\u001b[49m\u001b[43m(\u001b[49m\n\u001b[0;32m    478\u001b[0m \u001b[43m    \u001b[49m\u001b[43mdelayed\u001b[49m\u001b[43m(\u001b[49m\u001b[43m_parallel_evolve\u001b[49m\u001b[43m)\u001b[49m\u001b[43m(\u001b[49m\u001b[43mn_programs\u001b[49m\u001b[43m[\u001b[49m\u001b[43mi\u001b[49m\u001b[43m]\u001b[49m\u001b[43m,\u001b[49m\n\u001b[0;32m    479\u001b[0m \u001b[43m                              \u001b[49m\u001b[43mparents\u001b[49m\u001b[43m,\u001b[49m\n\u001b[0;32m    480\u001b[0m \u001b[43m                              \u001b[49m\u001b[43mX\u001b[49m\u001b[43m,\u001b[49m\n\u001b[0;32m    481\u001b[0m \u001b[43m                              \u001b[49m\u001b[43my\u001b[49m\u001b[43m,\u001b[49m\n\u001b[0;32m    482\u001b[0m \u001b[43m                              \u001b[49m\u001b[43msample_weight\u001b[49m\u001b[43m,\u001b[49m\n\u001b[0;32m    483\u001b[0m \u001b[43m                              \u001b[49m\u001b[43mseeds\u001b[49m\u001b[43m[\u001b[49m\u001b[43mstarts\u001b[49m\u001b[43m[\u001b[49m\u001b[43mi\u001b[49m\u001b[43m]\u001b[49m\u001b[43m:\u001b[49m\u001b[43mstarts\u001b[49m\u001b[43m[\u001b[49m\u001b[43mi\u001b[49m\u001b[43m \u001b[49m\u001b[38;5;241;43m+\u001b[39;49m\u001b[43m \u001b[49m\u001b[38;5;241;43m1\u001b[39;49m\u001b[43m]\u001b[49m\u001b[43m]\u001b[49m\u001b[43m,\u001b[49m\n\u001b[0;32m    484\u001b[0m \u001b[43m                              \u001b[49m\u001b[43mparams\u001b[49m\u001b[43m)\u001b[49m\n\u001b[0;32m    485\u001b[0m \u001b[43m    \u001b[49m\u001b[38;5;28;43;01mfor\u001b[39;49;00m\u001b[43m \u001b[49m\u001b[43mi\u001b[49m\u001b[43m \u001b[49m\u001b[38;5;129;43;01min\u001b[39;49;00m\u001b[43m \u001b[49m\u001b[38;5;28;43mrange\u001b[39;49m\u001b[43m(\u001b[49m\u001b[43mn_jobs\u001b[49m\u001b[43m)\u001b[49m\u001b[43m)\u001b[49m\n\u001b[0;32m    487\u001b[0m \u001b[38;5;66;03m# Reduce, maintaining order across different n_jobs\u001b[39;00m\n\u001b[0;32m    488\u001b[0m population \u001b[38;5;241m=\u001b[39m \u001b[38;5;28mlist\u001b[39m(itertools\u001b[38;5;241m.\u001b[39mchain\u001b[38;5;241m.\u001b[39mfrom_iterable(population))\n",
      "File \u001b[1;32mc:\\Users\\Ferra\\AppData\\Local\\Programs\\Python\\Python312\\Lib\\site-packages\\joblib\\parallel.py:2007\u001b[0m, in \u001b[0;36mParallel.__call__\u001b[1;34m(self, iterable)\u001b[0m\n\u001b[0;32m   2001\u001b[0m \u001b[38;5;66;03m# The first item from the output is blank, but it makes the interpreter\u001b[39;00m\n\u001b[0;32m   2002\u001b[0m \u001b[38;5;66;03m# progress until it enters the Try/Except block of the generator and\u001b[39;00m\n\u001b[0;32m   2003\u001b[0m \u001b[38;5;66;03m# reach the first `yield` statement. This starts the aynchronous\u001b[39;00m\n\u001b[0;32m   2004\u001b[0m \u001b[38;5;66;03m# dispatch of the tasks to the workers.\u001b[39;00m\n\u001b[0;32m   2005\u001b[0m \u001b[38;5;28mnext\u001b[39m(output)\n\u001b[1;32m-> 2007\u001b[0m \u001b[38;5;28;01mreturn\u001b[39;00m output \u001b[38;5;28;01mif\u001b[39;00m \u001b[38;5;28mself\u001b[39m\u001b[38;5;241m.\u001b[39mreturn_generator \u001b[38;5;28;01melse\u001b[39;00m \u001b[38;5;28;43mlist\u001b[39;49m\u001b[43m(\u001b[49m\u001b[43moutput\u001b[49m\u001b[43m)\u001b[49m\n",
      "File \u001b[1;32mc:\\Users\\Ferra\\AppData\\Local\\Programs\\Python\\Python312\\Lib\\site-packages\\joblib\\parallel.py:1650\u001b[0m, in \u001b[0;36mParallel._get_outputs\u001b[1;34m(self, iterator, pre_dispatch)\u001b[0m\n\u001b[0;32m   1647\u001b[0m     \u001b[38;5;28;01myield\u001b[39;00m\n\u001b[0;32m   1649\u001b[0m     \u001b[38;5;28;01mwith\u001b[39;00m \u001b[38;5;28mself\u001b[39m\u001b[38;5;241m.\u001b[39m_backend\u001b[38;5;241m.\u001b[39mretrieval_context():\n\u001b[1;32m-> 1650\u001b[0m         \u001b[38;5;28;01myield from\u001b[39;00m \u001b[38;5;28mself\u001b[39m\u001b[38;5;241m.\u001b[39m_retrieve()\n\u001b[0;32m   1652\u001b[0m \u001b[38;5;28;01mexcept\u001b[39;00m \u001b[38;5;167;01mGeneratorExit\u001b[39;00m:\n\u001b[0;32m   1653\u001b[0m     \u001b[38;5;66;03m# The generator has been garbage collected before being fully\u001b[39;00m\n\u001b[0;32m   1654\u001b[0m     \u001b[38;5;66;03m# consumed. This aborts the remaining tasks if possible and warn\u001b[39;00m\n\u001b[0;32m   1655\u001b[0m     \u001b[38;5;66;03m# the user if necessary.\u001b[39;00m\n\u001b[0;32m   1656\u001b[0m     \u001b[38;5;28mself\u001b[39m\u001b[38;5;241m.\u001b[39m_exception \u001b[38;5;241m=\u001b[39m \u001b[38;5;28;01mTrue\u001b[39;00m\n",
      "File \u001b[1;32mc:\\Users\\Ferra\\AppData\\Local\\Programs\\Python\\Python312\\Lib\\site-packages\\joblib\\parallel.py:1762\u001b[0m, in \u001b[0;36mParallel._retrieve\u001b[1;34m(self)\u001b[0m\n\u001b[0;32m   1757\u001b[0m \u001b[38;5;66;03m# If the next job is not ready for retrieval yet, we just wait for\u001b[39;00m\n\u001b[0;32m   1758\u001b[0m \u001b[38;5;66;03m# async callbacks to progress.\u001b[39;00m\n\u001b[0;32m   1759\u001b[0m \u001b[38;5;28;01mif\u001b[39;00m ((\u001b[38;5;28mlen\u001b[39m(\u001b[38;5;28mself\u001b[39m\u001b[38;5;241m.\u001b[39m_jobs) \u001b[38;5;241m==\u001b[39m \u001b[38;5;241m0\u001b[39m) \u001b[38;5;129;01mor\u001b[39;00m\n\u001b[0;32m   1760\u001b[0m     (\u001b[38;5;28mself\u001b[39m\u001b[38;5;241m.\u001b[39m_jobs[\u001b[38;5;241m0\u001b[39m]\u001b[38;5;241m.\u001b[39mget_status(\n\u001b[0;32m   1761\u001b[0m         timeout\u001b[38;5;241m=\u001b[39m\u001b[38;5;28mself\u001b[39m\u001b[38;5;241m.\u001b[39mtimeout) \u001b[38;5;241m==\u001b[39m TASK_PENDING)):\n\u001b[1;32m-> 1762\u001b[0m     \u001b[43mtime\u001b[49m\u001b[38;5;241;43m.\u001b[39;49m\u001b[43msleep\u001b[49m\u001b[43m(\u001b[49m\u001b[38;5;241;43m0.01\u001b[39;49m\u001b[43m)\u001b[49m\n\u001b[0;32m   1763\u001b[0m     \u001b[38;5;28;01mcontinue\u001b[39;00m\n\u001b[0;32m   1765\u001b[0m \u001b[38;5;66;03m# We need to be careful: the job list can be filling up as\u001b[39;00m\n\u001b[0;32m   1766\u001b[0m \u001b[38;5;66;03m# we empty it and Python list are not thread-safe by\u001b[39;00m\n\u001b[0;32m   1767\u001b[0m \u001b[38;5;66;03m# default hence the use of the lock\u001b[39;00m\n",
      "\u001b[1;31mKeyboardInterrupt\u001b[0m: "
     ]
    }
   ],
   "source": [
    "from gplearn.genetic import SymbolicRegressor\n",
    "est = SymbolicRegressor(population_size=500,generations=500,metric='mse',function_set=('add', 'sub', 'mul', 'div','sqrt','log','abs','neg','inv','max','min','sin','cos','tan'),verbose=1,n_jobs=-1)\n",
    "est.fit(x_train.T, y_train)"
   ]
  },
  {
   "cell_type": "code",
   "execution_count": 12,
   "metadata": {},
   "outputs": [
    {
     "ename": "TypeError",
     "evalue": "'NoneType' object is not subscriptable",
     "output_type": "error",
     "traceback": [
      "\u001b[1;31m---------------------------------------------------------------------------\u001b[0m",
      "\u001b[1;31mTypeError\u001b[0m                                 Traceback (most recent call last)",
      "Cell \u001b[1;32mIn[12], line 1\u001b[0m\n\u001b[1;32m----> 1\u001b[0m \u001b[38;5;28mprint\u001b[39m(\u001b[43mest\u001b[49m\u001b[38;5;241;43m.\u001b[39;49m\u001b[43mhall_of_fame\u001b[49m\u001b[43m[\u001b[49m\u001b[38;5;241;43m0\u001b[39;49m\u001b[43m]\u001b[49m)\n",
      "\u001b[1;31mTypeError\u001b[0m: 'NoneType' object is not subscriptable"
     ]
    }
   ],
   "source": []
  }
 ],
 "metadata": {
  "kernelspec": {
   "display_name": "3dv2",
   "language": "python",
   "name": "python3"
  },
  "language_info": {
   "codemirror_mode": {
    "name": "ipython",
    "version": 3
   },
   "file_extension": ".py",
   "mimetype": "text/x-python",
   "name": "python",
   "nbconvert_exporter": "python",
   "pygments_lexer": "ipython3",
   "version": "3.10.16"
  }
 },
 "nbformat": 4,
 "nbformat_minor": 2
}
