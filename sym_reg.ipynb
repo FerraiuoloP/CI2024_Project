{
 "cells": [
  {
   "cell_type": "code",
   "execution_count": 15,
   "metadata": {},
   "outputs": [],
   "source": [
    "import numpy as np\n",
    "from icecream import ic\n",
    "from tqdm import tqdm\n",
    "import cProfile \n",
    "import time\n",
    "import warnings\n"
   ]
  },
  {
   "cell_type": "code",
   "execution_count": 16,
   "metadata": {},
   "outputs": [
    {
     "data": {
      "text/plain": [
       "{'divide': 'ignore', 'over': 'ignore', 'under': 'ignore', 'invalid': 'ignore'}"
      ]
     },
     "execution_count": 16,
     "metadata": {},
     "output_type": "execute_result"
    }
   ],
   "source": [
    "#warning settings\n",
    "np.seterr(all=\"ignore\") #ignore np warnings, the output will be nan or inf and will be handled correctly in the code. (using np.errstate slows down the code)\n",
    "# warnings.filterwarnings(\"ignore\", category=RuntimeWarning)\n"
   ]
  },
  {
   "cell_type": "markdown",
   "metadata": {},
   "source": [
    "### Load a problem"
   ]
  },
  {
   "cell_type": "code",
   "execution_count": 17,
   "metadata": {},
   "outputs": [
    {
     "name": "stdout",
     "output_type": "stream",
     "text": [
      "[ 0.19267392  1.39432993  1.357758   ...  1.35659832 -0.53624823\n",
      " -0.43940576]\n",
      "[ 0.69407993  0.51405524  1.28206282 ...  1.37564283 -0.15911336\n",
      "  1.91082   ]\n"
     ]
    }
   ],
   "source": [
    "TRAIN_TEST_RATIO=0.8\n",
    "PROBLEM_NUMBER=7\n",
    "\n",
    "problem = np.load(f'data/problem_{PROBLEM_NUMBER}.npz')\n",
    "x_1 = problem['x']\n",
    "y_1 = problem['y']\n",
    "\n",
    "#shuffle the data\n",
    "print (x_1[0])\n",
    "permutation = np.random.permutation(len(y_1))\n",
    "x_1 = x_1[:,permutation]\n",
    "y_1 = y_1[permutation]\n",
    "print (x_1[0])\n",
    "\n",
    "\n",
    "\n",
    "problem_len=len(y_1)\n",
    "\n",
    "train_size=int(TRAIN_TEST_RATIO*problem_len)\n",
    "\n",
    "\n",
    "x_train=x_1[:,0:train_size]\n",
    "y_train=y_1[0:train_size]\n",
    "\n",
    "\n",
    "x_test=x_1[:,train_size:]\n",
    "y_test=y_1[train_size:]\n",
    "\n",
    "#To view the npz file:\n",
    "#python -m npzviewer \n"
   ]
  },
  {
   "cell_type": "markdown",
   "metadata": {},
   "source": [
    "### Numpy functions definition"
   ]
  },
  {
   "cell_type": "code",
   "execution_count": 18,
   "metadata": {},
   "outputs": [],
   "source": [
    "unary_ops = [\n",
    "    np.negative,\n",
    "    np.abs,\n",
    "    np.sqrt,\n",
    "    np.exp,\n",
    "    np.log,\n",
    "    np.sin,\n",
    "    np.cos,\n",
    "    np.tan,\n",
    "    # np.arcsin,\n",
    "    # np.arccos,\n",
    "    # np.arctan,\n",
    "    # np.ceil,\n",
    "    # np.floor\n",
    "]\n",
    "\n",
    "binary_ops = [\n",
    "    np.add,\n",
    "    np.subtract,\n",
    "    np.multiply,\n",
    "    np.divide,\n",
    "    np.power,\n",
    "    # np.maximum,\n",
    "    # np.minimum,\n",
    "    # np.mod\n",
    "]\n"
   ]
  },
  {
   "cell_type": "markdown",
   "metadata": {},
   "source": [
    "### Symbolic regression class"
   ]
  },
  {
   "cell_type": "code",
   "execution_count": 19,
   "metadata": {},
   "outputs": [],
   "source": [
    "from tree import Tree\n",
    "\n",
    "class SymbolicRegression:\n",
    "    def __init__(self, population_size, max_generations, mutation_rate, elitism_size, grow_full_ratio):\n",
    "        self.population_size = population_size\n",
    "        self.max_generations = max_generations\n",
    "        self.mutation_rate = mutation_rate\n",
    "        self.best_fitness_history = []\n",
    "        self.unary_ops = unary_ops\n",
    "        self.binary_ops = binary_ops\n",
    "        self.elitism_size = elitism_size\n",
    "        self.grow_full_ratio = grow_full_ratio\n",
    "        \n",
    "\n",
    "        self.population = [Tree(\"grow\") for _ in range(int(population_size * self.grow_full_ratio))] + [Tree(\"full\") for _ in range(int(population_size * (1 - self.grow_full_ratio)))]\n",
    "\n",
    "    # Parents selection\n",
    "    def select_parents(self):\n",
    "        if np.random.rand() < 0:\n",
    "            return self.select_parents_tournament()\n",
    "        else:\n",
    "            return self.rank_based_selection()\n",
    "\n",
    "    def select_parents_tournament(self):\n",
    "        tournament_size = 7\n",
    "        tournament = list(np.random.choice(self.population, tournament_size))\n",
    "        tournament.sort(key=lambda x: x.fitness)\n",
    "        return tournament[0], tournament[1]\n",
    "\n",
    "    # def fitness_proportional_selection(self, n_elems=2): #TODO:   implement this\n",
    "    def rank_based_selection(self, n_elems=2):\n",
    "        \"\"\"\n",
    "        Rank-based selection method.\n",
    "        Assigns probabilities based on inversed ranks instead of absolute fitness values.\n",
    "        \"\"\"\n",
    "        fitnesses = np.array([tree.fitness for tree in self.population])\n",
    "        ranks = np.argsort(fitnesses)\n",
    "        inversed_ranks = len(fitnesses) - ranks\n",
    "        probabilities = inversed_ranks / np.sum(inversed_ranks)\n",
    "        return np.random.choice(self.population, n_elems, p=probabilities)\n",
    "\n",
    "    def select_parents_roulette(self):\n",
    "        fitnesses = [tree.fitness for tree in self.population]\n",
    "        total_fitness = sum(fitnesses)\n",
    "        probabilities = [f / total_fitness for f in fitnesses]\n",
    "        parent1, parent2 = np.random.choice(self.population, size=2, p=probabilities)\n",
    "        return parent1, parent2\n",
    "\n",
    "    def mutate(self, tree):\n",
    "        if np.random.rand() < self.mutation_rate:\n",
    "            if np.random.rand() < 0.5:\n",
    "                tree.mutate_subtree()\n",
    "            else:\n",
    "                tree.mutate_single_node()\n",
    "\n",
    "    def offspring_generation(self):\n",
    "        new_population = []\n",
    "\n",
    "        # Elitism   \n",
    "        elite_individuals = self.population[:self.elitism_size]\n",
    "        new_population.extend(elite_individuals)\n",
    "\n",
    "        \n",
    "        #Main loop\n",
    "        while len(new_population) < self.population_size//2:\n",
    "            parent1, parent2 = self.select_parents()\n",
    "            offsprings=[]\n",
    "            if(np.random.rand() < 0.00):\n",
    "                parent_clone=parent1.copy_tree()\n",
    "                self.mutate(parent_clone)\n",
    "                Tree.collapse_branch(parent_clone.root)\n",
    "                offsprings.append(parent_clone)\n",
    "\n",
    "            else:    \n",
    "                offspring1,offspring2=Tree.crossover(parent1, parent2)\n",
    "                if(offspring1 is not None or offspring2 is not None):\n",
    "                    Tree.collapse_branch(offspring1.root)\n",
    "                    Tree.collapse_branch(offspring2.root)\n",
    "                \n",
    "                    # self.mutate(offspring1)\n",
    "                    # self.mutate(offspring2)\n",
    "\n",
    "                    #Trying stuff\n",
    "                    # offspring1.compute_fitness()\n",
    "                    # offspring2.compute_fitness()\n",
    "                    # tmp_fitnesses=[tree.fitness for tree in new_population]\n",
    "                    # if offspring1.fitness not in tmp_fitnesses:\n",
    "                    #     offsprings.append(offspring1)\n",
    "                    # if offspring2.fitness not in tmp_fitnesses:\n",
    "                    #     offsprings.append(offspring2)\n",
    "\n",
    "\n",
    "        \n",
    "                    offsprings.append(offspring1)\n",
    "                    offsprings.append(offspring2)\n",
    "            new_population.extend(offsprings)\n",
    "                \n",
    "        return new_population\n",
    "\n",
    "\n",
    "    def evolve(self):\n",
    "        best_tree = None\n",
    "        best_fitness = np.inf\n",
    "        take_over = False\n",
    "        self.population.sort(key=lambda x: x.fitness) \n",
    "        for generation in tqdm(range(self.max_generations)):\n",
    "            \n",
    "            if take_over:\n",
    "                #trasform the population in set and then back to list to remove duplicates\n",
    "                self.population = list(set(self.population))\n",
    "                #sort the population based on fitness\n",
    "                self.population.sort(key=lambda x: x.fitness)\n",
    "                self.population = self.population[:int(self.population_size*0.1)]\n",
    "                new_trees = [Tree(\"full\") for _ in range(int(self.population_size*0.3))]+[Tree(\"grow\") for _ in range(int(self.population_size*0.3))]\n",
    "                self.population.extend(new_trees)\n",
    "            \n",
    "            \n",
    "            new_population=self.offspring_generation()\n",
    "\n",
    "            for tree in new_population:\n",
    "                tree.compute_fitness()\n",
    "                \n",
    "            self.population += new_population\n",
    "            \n",
    "            generation_fitnesses = [tree.fitness for tree in self.population]\n",
    "            generation_best_fitness = min(generation_fitnesses)\n",
    "\n",
    "            if generation_best_fitness < best_fitness:\n",
    "                best_fitness = generation_best_fitness\n",
    "                best_tree = self.population[np.argmin(generation_fitnesses)]\n",
    "                self.best_fitness_history.append(best_fitness)\n",
    "            #trim the population to the best population_size\n",
    "            self.population.sort(key=lambda x: x.fitness)\n",
    "            self.population = self.population[:self.population_size]\n",
    "            # print(f\"Generation {generation + 1}, Best Fitness: {best_fitness}\")\n",
    "            \n",
    "\n",
    "            n_best = [elem for elem in self.population if elem.fitness == self.population[0].fitness]\n",
    "            take_over = False\n",
    "            if len(n_best) > 0.9 * self.population_size:\n",
    "                    take_over = True\n",
    "                    # print(f\"Takeover at {generation} gen\")      \n",
    "                \n",
    "        return best_tree, best_fitness\n",
    "\n",
    "\n",
    "\n",
    "\n"
   ]
  },
  {
   "cell_type": "code",
   "execution_count": 20,
   "metadata": {},
   "outputs": [],
   "source": [
    "#Problem definition\n",
    "POPULATION_SIZE = 100\n",
    "MAX_GENERATIONS = 300\n",
    "MUTATION_RATE = 0.1\n",
    "ELITISM_SIZE = 2\n",
    "GROW_FULL_RATIO = 1\n",
    "TREE_DEPTH = 3\n",
    "VAR_NUM = x_train.shape[0]\n",
    "\n",
    "\n",
    "\n",
    "Tree.set_params(unary_ops, binary_ops, VAR_NUM, 5,TREE_DEPTH, x_train, y_train, x_test, y_test)\n",
    "regressor = SymbolicRegression(\n",
    "    POPULATION_SIZE,\n",
    "    MAX_GENERATIONS,\n",
    "    MUTATION_RATE,\n",
    "    ELITISM_SIZE,\n",
    "    GROW_FULL_RATIO\n",
    "    #(x_train, y_train)   # per lexicase\n",
    ")\n",
    "\n",
    "\n"
   ]
  },
  {
   "cell_type": "code",
   "execution_count": 14,
   "metadata": {},
   "outputs": [
    {
     "name": "stderr",
     "output_type": "stream",
     "text": [
      "  7%|▋         | 22/300 [00:27<04:53,  1.06s/it]"
     ]
    }
   ],
   "source": [
    "#UNCOMMENT TO PROFILE THE CODE (and comment the rest of the code)\n",
    "# cProfile.run(\"regressor.evolve()\",sort=\"tottime\") #for profiling so we can see the time taken by each function\n",
    "#the output will include the following columns:\n",
    "#tottime: Total time spent in the function (excluding time spent in other functions it calls).\n",
    "#cumtime: Cumulative time spent in the function (including time spent in sub-functions).\n",
    "\n",
    "\n",
    "#Execute the algorithm\n",
    "best_tree, best_fitness = regressor.evolve()\n",
    "\n",
    "#Print the formula\n",
    "print(\"Best Formula:\\n\")\n",
    "print(best_tree.to_np_formula())\n",
    "\n",
    "#Print the fitness\n",
    "print(f\"Train Fitness: {best_fitness}\")\n",
    "best_tree.compute_fitness(test=\"test\")\n",
    "print(f\"Test Fitness: {best_tree.fitness}\")\n",
    "print(f\"Train-Test Discrepancy: {best_fitness-best_tree.fitness}\")\n",
    "best_tree.compute_fitness(test=\"all\")\n",
    "print(f\"All Fitness: {best_tree.fitness}\")\n",
    "\n",
    "\n",
    "\n",
    "#Print the best tree\n",
    "print(f\"Best Fitness History: {regressor.best_fitness_history}, changed {len(regressor.best_fitness_history)} times\")\n",
    "print(\"Best Tree:\")\n",
    "best_tree.add_drawing()\n",
    "\n"
   ]
  },
  {
   "cell_type": "code",
   "execution_count": null,
   "metadata": {},
   "outputs": [
    {
     "name": "stdout",
     "output_type": "stream",
     "text": [
      "Collapsed formula: np.divide(3.0027329323107352, np.divide(np.sqrt(np.absolute(np.exp(x[1]))), np.power(3.1117203313636885, np.negative(x[0]))))\n",
      "Best Tree after collapsing:\n"
     ]
    },
    {
     "data": {
      "image/png": "[encoded data removed]",
      "text/plain": [
       "<Figure size 1200x800 with 1 Axes>"
      ]
     },
     "metadata": {},
     "output_type": "display_data"
    }
   ],
   "source": [
    "#Collapse branches that can be simplified\n",
    "Tree.collapse_branch(best_tree.root,0,force_collapse=True)\n",
    "print(f\"Collapsed formula: {best_tree.to_np_formula()}\")\n",
    "print(\"Best Tree after collapsing:\")\n",
    "best_tree.add_drawing()\n"
   ]
  },
  {
   "cell_type": "markdown",
   "metadata": {},
   "source": []
  },
  {
   "cell_type": "code",
   "execution_count": 16,
   "metadata": {},
   "outputs": [
    {
     "name": "stdout",
     "output_type": "stream",
     "text": [
      "nan\n"
     ]
    }
   ],
   "source": [
    "\n",
    "# def test_formula(x):\n",
    "#     pass\n",
    "\n",
    "\n",
    "\n",
    "# x_tot=np.concatenate((x_train,x_test),axis=1)\n",
    "# y_tot=np.concatenate((y_train,y_test))\n",
    "# squared_errors = 0\n",
    "# for i in range(1):\n",
    "#     y_pred = test_formula(x_tot[:, i])\n",
    "                 \n",
    "#     squared_errors += np.square(y_tot[i] - y_pred) \n",
    "\n",
    "# print( squared_errors / x_tot.shape[1])\n",
    "   "
   ]
  }
 ],
 "metadata": {
  "kernelspec": {
   "display_name": "Python 3",
   "language": "python",
   "name": "python3"
  },
  "language_info": {
   "codemirror_mode": {
    "name": "ipython",
    "version": 3
   },
   "file_extension": ".py",
   "mimetype": "text/x-python",
   "name": "python",
   "nbconvert_exporter": "python",
   "pygments_lexer": "ipython3",
   "version": "3.12.3"
  }
 },
 "nbformat": 4,
 "nbformat_minor": 2
}
