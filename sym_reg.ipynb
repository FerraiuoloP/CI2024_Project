{
 "cells": [
  {
   "cell_type": "code",
   "execution_count": 22,
   "metadata": {},
   "outputs": [],
   "source": [
    "import numpy as np\n",
    "from icecream import ic\n",
    "from tqdm import tqdm\n",
    "import cProfile \n",
    "import time\n",
    "import warnings\n",
    "import math\n"
   ]
  },
  {
   "cell_type": "code",
   "execution_count": 23,
   "metadata": {},
   "outputs": [
    {
     "data": {
      "text/plain": [
       "{'divide': 'ignore', 'over': 'ignore', 'under': 'ignore', 'invalid': 'ignore'}"
      ]
     },
     "execution_count": 23,
     "metadata": {},
     "output_type": "execute_result"
    }
   ],
   "source": [
    "#warning settings\n",
    "np.seterr(all=\"ignore\") #ignore np warnings, the output will be nan or inf and will be handled correctly in the code. (using np.errstate slows down the code)\n",
    "# warnings.filterwarnings(\"ignore\", category=RuntimeWarning)\n"
   ]
  },
  {
   "cell_type": "markdown",
   "metadata": {},
   "source": [
    "### Load a problem"
   ]
  },
  {
   "cell_type": "code",
   "execution_count": 24,
   "metadata": {},
   "outputs": [
    {
     "name": "stdout",
     "output_type": "stream",
     "text": [
      "Problem number: 5, variables: 2, train size: 4000, test size: 1000\n",
      "Training data: x shape: (2, 4000), y shape: (4000,)\n",
      "Testing data: x shape: [[0.92078199 0.74695889 0.02260014 ... 0.75231893 0.56828024 0.54576944]\n",
      " [0.72441757 0.22615249 0.87224514 ... 0.00507474 0.2607958  0.22734645]], y shape: [0.91273972 0.99844662 0.99999997 0.97785569 0.997182   0.9915937\n",
      " 0.998729   0.99725255 0.9965031  0.92911827 0.99999891 0.99163247\n",
      " 0.91341733 0.9990567  0.97120177 0.97910748 0.98124214 0.91665537\n",
      " 0.99958068 0.99122565 0.99512286 0.99825274 0.99257457 0.9931591\n",
      " 0.999231   0.99956896 0.99969536 0.99629727 0.99602015 0.99943074\n",
      " 0.99629733 0.99999673 0.99998377 0.9997388  0.99869767 0.99994821\n",
      " 0.99953238 0.91601988 0.99953611 0.9994408  0.9984369  0.99905649\n",
      " 0.99639834 0.99348756 0.99931152 0.99937235 0.99999908 0.99734296\n",
      " 0.99968686 0.99929912 0.99999905 0.99723192 0.99989156 0.99458644\n",
      " 0.99683707 0.99921836 0.99846983 0.99865951 0.99921061 0.99999912\n",
      " 0.9988797  0.98169423 0.62263895 0.95024433 0.9915644  0.99868599\n",
      " 0.89260438 0.99951825 0.99195162 0.99996868 0.99953503 0.99689396\n",
      " 0.99999954 0.99340262 0.85690956 0.92881769 0.99999594 0.86791384\n",
      " 0.99581307 0.99961582 0.99941583 0.99411233 0.99977963 0.99943978\n",
      " 0.99902872 0.85914748 0.99968399 0.99966012 0.99990308 0.99999472\n",
      " 0.76913893 0.99929534 0.99964518 0.99935335 0.99743326 0.99944381\n",
      " 0.98222487 0.99941151 0.99984523 0.99716084 0.99244404 0.92140794\n",
      " 0.99821358 0.8649363  0.99820777 0.92781831 0.96443406 0.99999997\n",
      " 0.99648896 0.9997458  0.99752734 0.99857805 0.57758408 0.97361092\n",
      " 0.99986629 0.95598781 0.99999798 0.99874864 0.99068143 0.99913937\n",
      " 0.95122594 0.99956401 0.97539556 0.99952823 0.7957465  0.80450754\n",
      " 0.99988345 0.95671865 0.99926779 0.96060443 1.         0.99279024\n",
      " 0.99881911 0.99999253 0.99930271 0.99962712 0.99983127 0.97551039\n",
      " 0.99732481 0.96148276 0.99690308 0.99942726 0.99966643 0.98554579\n",
      " 0.99869003 0.99927616 0.98766528 0.99953169 0.99932423 0.92792608\n",
      " 0.96775115 0.99677784 0.99828035 0.99968419 0.99610592 0.93232672\n",
      " 0.99985995 0.99964252 0.99361528 0.93593258 0.99883815 0.98208831\n",
      " 0.99848496 0.99575251 0.99905783 0.99824252 0.99974341 0.99993354\n",
      " 0.89585525 0.99910385 0.99998472 0.99405123 0.99998721 0.99080462\n",
      " 0.8370031  0.99328573 0.99833576 0.99945587 0.99362745 0.99936621\n",
      " 0.99856718 0.93942799 0.99372365 0.999133   0.99981763 0.99990682\n",
      " 0.99189128 0.99859646 0.99977482 0.99947203 0.91655059 0.9992382\n",
      " 0.51315912 0.97414539 0.99948449 0.99380444 0.99831607 0.99962355\n",
      " 0.9989668  0.99973445 0.99996856 0.99721729 0.99421574 0.99949881\n",
      " 0.99998407 0.9952443  0.9994874  0.94054663 0.99969181 0.99938792\n",
      " 0.99213967 0.69279129 0.99958401 0.9971651  0.99999718 0.99993882\n",
      " 0.9984171  0.99977699 0.96711408 0.99999666 0.99897131 0.99818219\n",
      " 0.99914241 0.99862618 0.9996499  0.99687947 0.99851392 0.99999785\n",
      " 0.9853085  0.99856027 0.51086902 0.81888648 0.92731647 0.96474142\n",
      " 0.98926209 0.99766029 0.94978118 0.87714589 0.99836166 0.9717805\n",
      " 0.94048259 0.99991223 0.9991243  0.9997279  0.99279033 0.99939186\n",
      " 0.99958564 0.99963836 0.9999824  0.99951406 0.99695425 0.99940693\n",
      " 0.99969798 0.9792908  0.99980909 0.99990981 0.99993647 0.99981415\n",
      " 0.99939154 0.99977133 0.99947005 0.87178726 0.97744538 1.\n",
      " 0.99961639 0.95397266 0.99902916 0.71862825 0.99948896 0.8411795\n",
      " 0.92962129 0.64902648 0.99941069 0.98904079 0.57045947 0.98026427\n",
      " 0.98806998 0.99962938 0.99928892 0.99965825 0.98064676 0.99945389\n",
      " 0.99939909 0.99989285 0.83755948 0.99965274 0.98707153 0.99894823\n",
      " 0.99959246 0.99958209 0.99855752 0.99866472 0.98299558 0.96742892\n",
      " 0.9623575  0.99948149 0.99974692 0.9650431  0.93676074 0.99842366\n",
      " 0.99999298 0.99989642 0.99649163 0.99509133 0.99995328 0.99955435\n",
      " 0.99971853 0.99976821 0.99812777 0.99963579 0.99791798 0.99891704\n",
      " 0.9996911  0.99950874 0.99671183 0.3739481  0.99964516 0.99721666\n",
      " 0.99862325 0.98664048 0.99925384 0.99814074 0.9756466  0.99778576\n",
      " 0.99964567 0.98932498 0.85552084 0.99799393 0.99193929 0.9520692\n",
      " 0.99766761 0.99941581 0.99995305 0.99586071 0.99785032 0.99973028\n",
      " 0.9772752  0.94363408 0.9157701  0.99969346 0.99925497 0.99393047\n",
      " 0.99796885 0.99992449 0.9901814  0.99702345 0.98772973 0.99966195\n",
      " 0.99989069 0.99931321 0.79171723 0.99751312 0.99960841 0.99999978\n",
      " 0.9992021  0.99938101 0.9766932  0.96749776 0.99933384 0.99731359\n",
      " 0.99724175 0.9999112  0.99938486 0.99773649 0.99869872 0.99997914\n",
      " 0.99139051 0.96575276 0.99935853 0.98945694 0.99851063 0.99856299\n",
      " 0.99319463 0.99093612 0.99976624 0.9992823  0.99546036 0.99963543\n",
      " 0.96089327 0.99944976 0.8596877  0.99956727 0.91377272 0.51115627\n",
      " 0.99846802 0.99047628 0.99633463 0.88780988 0.99668126 0.99775471\n",
      " 0.99999457 0.97638175 0.99922555 0.94150896 0.99999966 0.99652365\n",
      " 0.87350919 0.98951886 0.99940353 0.99869124 0.99963344 0.99800791\n",
      " 0.99856844 0.99894517 0.99086633 0.99902139 0.99963875 0.99960337\n",
      " 0.99273668 0.99966052 0.87542243 0.55343849 0.99828419 0.99392187\n",
      " 0.99729674 0.99987917 0.99995235 0.96958314 0.98550382 0.92641385\n",
      " 0.99439671 0.92900824 0.96888578 0.98112858 0.94215752 0.64575976\n",
      " 0.99985138 0.95220474 0.99973419 0.98900114 0.99842722 0.99861013\n",
      " 0.99984268 1.         0.99741441 0.98439321 0.         0.99921329\n",
      " 0.9996334  0.89643535 0.99924679 0.99999995 0.99942943 0.99858629\n",
      " 0.97809315 0.82584058 0.99905008 0.9990173  0.99561727 0.99879456\n",
      " 0.99940559 0.81035554 0.99986888 0.9995474  0.99998368 0.99858981\n",
      " 0.99968034 0.99941708 0.99535761 0.99863328 0.99632745 0.99959562\n",
      " 0.99881889 0.95903446 0.99926213 0.99962564 0.9984783  0.99415539\n",
      " 0.99999987 0.96677788 0.99936814 0.79929826 0.99999966 0.99816944\n",
      " 0.999194   0.99880182 0.98602999 0.99788072 0.90711027 0.99999997\n",
      " 0.52477417 0.99974932 0.99965345 0.99999857 0.99942058 0.99666973\n",
      " 0.99387641 0.99905768 0.99999885 0.99457586 0.9998713  0.9877331\n",
      " 0.99999107 0.99414053 0.88078234 0.99690083 0.99860804 0.99864677\n",
      " 0.91613361 0.38806122 0.99987755 0.99977078 0.99889127 0.99711516\n",
      " 0.96154662 0.99976973 0.99981138 0.99870113 0.99957263 1.\n",
      " 0.9982122  0.99965038 0.9977745  0.98790686 0.99958156 0.81405622\n",
      " 0.99959288 0.99469574 0.97333752 0.990115   0.99986982 0.99964226\n",
      " 0.99952205 0.99617155 0.99977671 0.99857857 0.97131046 0.98280506\n",
      " 0.99979271 0.99005933 0.99756034 0.99962283 0.92352133 0.99754055\n",
      " 0.99010028 0.99731889 0.99998698 0.99271248 0.97918896 0.99772367\n",
      " 0.99945279 0.99753655 0.99382127 0.87324929 0.99384065 0.99680564\n",
      " 0.99981296 0.99918173 0.99588793 0.99973967 0.77183303 0.99969258\n",
      " 0.9893231  0.98023356 0.99753591 0.9999083  0.99990208 0.9915964\n",
      " 0.99961398 0.98178864 0.99901825 0.9999584  0.9975436  0.95088011\n",
      " 0.96637403 0.99942431 0.99890785 0.99885521 0.90228459 0.99861577\n",
      " 0.99884731 0.99843782 0.99838261 0.99879564 0.99936656 0.99953345\n",
      " 0.9999196  0.9992313  0.79435318 0.99949149 0.96699613 0.87011142\n",
      " 0.98884308 0.99970901 0.99963421 0.82903273 0.99994346 0.99478589\n",
      " 0.97880114 0.99765475 0.99703759 0.9987181  0.68639723 0.97634706\n",
      " 0.99602099 0.96996513 0.99585016 0.99935816 0.99873414 0.99999563\n",
      " 0.99940528 0.90798088 0.99964358 0.9997486  0.98339435 0.99928654\n",
      " 0.9993964  0.99947258 0.99968661 0.99947081 0.99493105 0.99452245\n",
      " 0.92380429 0.99999131 0.99999999 0.99967168 0.99909601 0.99696509\n",
      " 0.99949541 0.99012233 0.6641371  0.98931377 0.95044384 0.99997386\n",
      " 0.99895549 0.99584928 0.98753662 0.99962913 0.99818581 0.98741377\n",
      " 0.97436488 0.99857214 0.95776187 0.99923074 0.99339012 0.99837913\n",
      " 0.96387701 0.99999432 0.96605923 0.99900877 0.99934438 0.98783519\n",
      " 0.99967291 0.8695096  0.9986923  0.99940396 0.98977927 0.4415546\n",
      " 0.99919946 0.99460296 0.99760463 0.99931209 0.84965631 1.\n",
      " 0.99950474 0.99799158 0.99961682 0.99910535 0.99701156 0.99374563\n",
      " 0.97373206 0.9995338  0.99989867 0.99816861 0.9989496  0.87165782\n",
      " 0.99941639 0.9990062  0.9991577  0.98361244 0.99934065 0.9965256\n",
      " 0.9995624  0.92496349 0.99987207 0.99966658 0.99140112 0.99913513\n",
      " 0.98673433 0.99692341 0.99843222 0.9978052  0.99953835 0.99949067\n",
      " 0.98072837 0.99980418 0.99766874 0.97859802 0.99997666 0.99897676\n",
      " 0.99947837 0.99860534 0.99810629 0.93775439 0.99906901 0.99994554\n",
      " 0.98791687 0.99947591 0.99923077 0.9999789  0.99983448 0.98323559\n",
      " 0.99548787 0.99922396 0.99987132 0.99848492 0.99167241 0.99840743\n",
      " 0.99938947 0.99938966 0.97898859 0.99738563 0.99921583 0.9996875\n",
      " 0.84506785 0.99925431 0.99944228 0.99999821 0.99958039 0.99893632\n",
      " 0.99862334 0.99979321 0.9999727  0.99948392 0.99997546 0.9995477\n",
      " 0.96507537 0.90487526 0.99973286 0.99865002 0.92237289 0.99989627\n",
      " 0.99936979 0.99867322 0.99991988 0.99875935 0.99971584 0.9920596\n",
      " 0.7701242  0.99696006 0.97951842 0.99609186 0.99983914 0.99943513\n",
      " 0.99913058 0.99998605 0.99995367 0.99958752 0.99859819 0.98378467\n",
      " 0.99909165 0.99079952 0.98981657 0.95205716 0.99270924 0.99870209\n",
      " 0.62278645 0.99999488 0.99148763 0.99957472 0.99904418 0.99658212\n",
      " 0.99820974 0.99992371 0.99955809 0.99338806 0.99931878 0.9996427\n",
      " 0.97773607 0.91847297 0.95111987 0.99993875 0.99983026 0.99979641\n",
      " 0.99905689 0.65743036 0.98948473 0.9996113  0.99969491 0.9714382\n",
      " 0.94197232 0.99949936 0.99980147 0.99914046 0.99963878 0.99978798\n",
      " 0.96756469 0.99957647 0.97237239 0.78302661 0.95744343 0.99947889\n",
      " 0.96677562 0.99998359 0.99920941 0.99978943 0.99898642 0.9996746\n",
      " 0.85031778 0.99832958 0.99965174 0.98432692 0.99957641 0.9994534\n",
      " 0.99988465 0.99672364 0.94862583 0.99635974 0.99944493 0.99897338\n",
      " 0.99929027 0.99885435 0.99574991 0.99964058 0.98158998 0.99876052\n",
      " 0.99864925 0.9996477  0.99962523 0.98639543 0.99763251 0.99983169\n",
      " 0.99271844 0.99914431 0.99909716 0.99965823 0.99962117 0.99972479\n",
      " 1.         0.95948324 0.99996975 0.99936155 0.97750703 0.99666189\n",
      " 0.99783066 0.80242486 0.99909308 0.99955535 0.99846457 0.99989949\n",
      " 0.9947708  0.99994769 0.99935894 0.87083216 0.97055593 0.99848549\n",
      " 0.9995593  0.6299602  0.99840079 0.99968178 0.99046303 0.99868932\n",
      " 0.99944463 0.99947798 0.48149973 0.99991922 0.95707164 0.99989578\n",
      " 0.89517551 0.98808163 0.9986244  0.99964071 0.99997779 0.99309602\n",
      " 0.99815613 0.99966714 0.99995066 0.95072508 0.99597674 0.99999567\n",
      " 0.99972932 0.99730289 0.92453529 0.99361942 0.9995532  0.9995579\n",
      " 0.95274589 0.99526127 0.99994763 0.98194022 0.9997227  0.99847404\n",
      " 0.99986446 0.99956928 0.89112156 0.94250559 0.99999666 0.80257265\n",
      " 0.98505468 0.99897962 0.9977011  0.99868625 0.9950241  0.99998393\n",
      " 0.98775437 0.99497153 0.99962817 0.99868527 0.77999974 0.99968001\n",
      " 0.92289687 0.99998384 0.99103352 0.99975176 0.99776394 0.99805901\n",
      " 0.97457569 0.99911256 0.99999751 0.99984458 0.99999498 0.99992822\n",
      " 0.99999474 0.99991457 0.99636874 0.99618614 0.99938123 0.9904872\n",
      " 0.78642083 0.99999998 0.99782661 0.99799799 0.99954304 0.99939586\n",
      " 0.99962812 0.99975871 0.99592434 0.99912628 0.99975746 0.9994988\n",
      " 0.98504647 0.99734134 0.99839311 0.99996815 0.99966048 0.99963936\n",
      " 0.9999257  0.99716225 0.9993289  0.98526382 0.9081236  0.88358104\n",
      " 0.9980425  0.99891685 0.99913829 0.99997256 0.99749815 0.99852813\n",
      " 0.99964294 0.997061   0.71120686 0.99910717 0.99917552 0.973186\n",
      " 0.9999299  0.99983969 0.96291616 0.99971091 0.99326933 0.98331938\n",
      " 0.99966283 0.99479318 0.91163162 0.99998664 0.97712278 0.99752683\n",
      " 0.99985476 0.97764548 0.66919792 0.68966912 0.9992192  0.99719475\n",
      " 0.99642239 0.99473607 0.97520177 0.99713733 0.82421807 0.99727629\n",
      " 0.99180771 0.9999998  0.99998119 0.99962479 0.65891054 0.99999989\n",
      " 0.99958717 0.99995518 0.5193894  0.99974983 0.99919435 0.97826474\n",
      " 0.98813764 0.92474318 0.99631158 0.999637   0.99895206 0.57041655\n",
      " 0.99957393 0.999636   0.99863628 0.99890569]\n"
     ]
    }
   ],
   "source": [
    "TRAIN_TEST_RATIO = 0.8\n",
    "PROBLEM_NUMBER = 5\n",
    "\n",
    "# Load the problem data\n",
    "problem = np.load(f'data/problem_{PROBLEM_NUMBER}.npz')\n",
    "x_1 = problem['x']\n",
    "y_1 = problem['y']\n",
    "\n",
    "# Shuffle the data\n",
    "permutation = np.random.permutation(len(y_1))\n",
    "x_1 = x_1[:, permutation]\n",
    "y_1 = y_1[permutation]\n",
    "\n",
    "# Split the data into training and testing sets\n",
    "problem_len = len(y_1)\n",
    "train_size = int(TRAIN_TEST_RATIO * problem_len)\n",
    "\n",
    "x_train = x_1[:, :train_size]\n",
    "y_train = y_1[:train_size]\n",
    "x_test = x_1[:, train_size:]\n",
    "y_test = y_1[train_size:]\n",
    "\n",
    "# Normalize the training and testing data\n",
    "def normalize_data(x, y, feature_range=(0, 1)):\n",
    "    \"\"\"\n",
    "    Normalize input (x) and output (y) data using min-max normalization.\n",
    "\n",
    "    Parameters:\n",
    "        x: np.ndarray, input data (variables, samples).\n",
    "        y: np.ndarray, output data (samples).\n",
    "        feature_range: tuple (min, max), range for normalization.\n",
    "\n",
    "    Returns:\n",
    "        x_norm: Min-max normalized input data.\n",
    "        y_norm: Min-max normalized output data.\n",
    "        x_stats: Dict containing min and max for x.\n",
    "        y_stats: Dict containing min and max for y.\n",
    "    \"\"\"\n",
    "    x_min = np.min(x, axis=1, keepdims=True)\n",
    "    x_max = np.max(x, axis=1, keepdims=True)\n",
    "    x_norm = (x - x_min) / (x_max - x_min) * (feature_range[1] - feature_range[0]) + feature_range[0]\n",
    "\n",
    "    y_min = np.min(y)\n",
    "    y_max = np.max(y)\n",
    "    y_norm = (y - y_min) / (y_max - y_min) * (feature_range[1] - feature_range[0]) + feature_range[0]\n",
    "\n",
    "    x_stats = {\"min\": x_min, \"max\": x_max}\n",
    "    y_stats = {\"min\": y_min, \"max\": y_max}\n",
    "\n",
    "    return x_norm, y_norm, x_stats, y_stats\n",
    "\n",
    "\n",
    "# Normalize training and testing data\n",
    "x_train_norm, y_train_norm, x_stats, y_stats = normalize_data(x_train, y_train)\n",
    "x_test_norm, y_test_norm, _, _ = normalize_data(x_test, y_test)\n",
    "\n",
    "# Print problem information\n",
    "print(f\"Problem number: {PROBLEM_NUMBER}, variables: {x_1.shape[0]}, \"\n",
    "      f\"train size: {train_size}, test size: {problem_len - train_size}\")\n",
    "print(f\"Training data: x shape: {x_train_norm.shape}, y shape: {y_train_norm.shape}\")\n",
    "print(f\"Testing data: x shape: {x_test_norm}, y shape: {y_test_norm}\")\n",
    "\n"
   ]
  },
  {
   "cell_type": "code",
   "execution_count": null,
   "metadata": {},
   "outputs": [],
   "source": []
  },
  {
   "cell_type": "markdown",
   "metadata": {},
   "source": [
    "### Numpy functions definition"
   ]
  },
  {
   "cell_type": "code",
   "execution_count": 16,
   "metadata": {},
   "outputs": [],
   "source": [
    "unary_ops = [\n",
    "    np.negative,\n",
    "    np.abs,\n",
    "    np.sqrt,\n",
    "    np.exp,\n",
    "    np.log,\n",
    "    np.sin,\n",
    "    np.cos,\n",
    "    np.tan,\n",
    "    # np.arcsin,\n",
    "    # np.arccos,\n",
    "    # np.arctan,\n",
    "    # np.ceil,\n",
    "    # np.floor\n",
    "]\n",
    "\n",
    "binary_ops = [\n",
    "    np.add,\n",
    "    np.subtract,\n",
    "    np.multiply,\n",
    "    np.divide,\n",
    "    np.power,\n",
    "    # np.maximum,\n",
    "    # np.minimum,\n",
    "    # np.mod\n",
    "]\n"
   ]
  },
  {
   "cell_type": "markdown",
   "metadata": {},
   "source": [
    "### Symbolic regression class"
   ]
  },
  {
   "cell_type": "code",
   "execution_count": 25,
   "metadata": {},
   "outputs": [],
   "source": [
    "from tree import Tree\n",
    "\n",
    "class SymbolicRegression:\n",
    "    def __init__(self, population_size, max_generations, mutation_rate, elitism_size, grow_full_ratio):\n",
    "        self.population_size = population_size\n",
    "        self.max_generations = max_generations\n",
    "        self.mutation_rate = mutation_rate\n",
    "        self.best_fitness_history = []\n",
    "        self.unary_ops = unary_ops\n",
    "        self.binary_ops = binary_ops\n",
    "        self.elitism_size = elitism_size\n",
    "        self.grow_full_ratio = grow_full_ratio\n",
    "        \n",
    "\n",
    "        self.population =np.array([Tree(\"grow\") for _ in range(int(population_size * self.grow_full_ratio))] + [Tree(\"full\") for _ in range(int(population_size * (1 - self.grow_full_ratio)))])\n",
    "\n",
    "    # Parents selection\n",
    "    def select_parents(self):\n",
    "        if np.random.rand() < 0:\n",
    "            return self.select_parents_tournament()\n",
    "        else:\n",
    "            return self.rank_based_selection()\n",
    "\n",
    "    def select_parents_tournament(self):\n",
    "        tournament_size = 7\n",
    "        tournament = list(np.random.choice(self.population, tournament_size))\n",
    "        tournament.sort(key=lambda x: x.fitness)\n",
    "        return tournament[0], tournament[1]\n",
    "\n",
    "    # def fitness_proportional_selection(self, n_elems=2): #TODO:   implement this\n",
    "    def rank_based_selection(self, n_elems=2):\n",
    "        \"\"\"\n",
    "        Rank-based selection method.\n",
    "        Assigns probabilities based on inversed ranks instead of absolute fitness values.\n",
    "        \"\"\"\n",
    "        fitnesses = np.array([tree.fitness for tree in self.population])\n",
    "        ranks = np.argsort(fitnesses)\n",
    "        inversed_ranks = len(fitnesses) - ranks\n",
    "        probabilities = inversed_ranks / np.sum(inversed_ranks)\n",
    "        return np.random.choice(self.population, n_elems, p=probabilities)\n",
    "\n",
    "    def select_parents_roulette(self):\n",
    "        fitnesses = [tree.fitness for tree in self.population]\n",
    "        total_fitness = sum(fitnesses)\n",
    "        probabilities = [f / total_fitness for f in fitnesses]\n",
    "        parent1, parent2 = np.random.choice(self.population, size=2, p=probabilities)\n",
    "        return parent1, parent2\n",
    "\n",
    "    def mutate(self, tree):\n",
    "        if np.random.rand() < self.mutation_rate:\n",
    "            if np.random.rand() < 0.5:\n",
    "                tree.mutate_subtree()\n",
    "            else:\n",
    "                tree.mutate_single_node()\n",
    "\n",
    "    def offspring_generation(self):\n",
    "        new_population = np.array([])\n",
    "\n",
    "        # Elitism   \n",
    "        elite_individuals = self.population[:self.elitism_size]\n",
    "        new_population = elite_individuals\n",
    "\n",
    "        \n",
    "        #Main loop\n",
    "        while len(new_population) < self.population_size//2:\n",
    "            parent1, parent2 = self.select_parents()\n",
    "            offsprings=np.array([])\n",
    "            if(np.random.rand() < 0.1):\n",
    "                parent_clone=parent1.copy_tree()\n",
    "                self.mutate(parent_clone)\n",
    "                Tree.collapse_branch(parent_clone.root)\n",
    "                parent_clone.compute_fitness()\n",
    "                # if(parent_clone not in new_population):\n",
    "                offsprings = np.append(offsprings, [parent_clone])\n",
    "\n",
    "            else:    \n",
    "                offspring1,offspring2=Tree.crossover(parent1, parent2)\n",
    "                if(offspring1 is not None or offspring2 is not None):\n",
    "                    Tree.collapse_branch(offspring1.root)\n",
    "                    Tree.collapse_branch(offspring2.root)\n",
    "                \n",
    "                    # self.mutate(offspring1)\n",
    "                    # self.mutate(offspring2)\n",
    "\n",
    "                    #Trying stuff\n",
    "                    # offspring1.compute_fitness()\n",
    "                    # offspring2.compute_fitness()\n",
    "                    # tmp_fitnesses=[tree.fitness for tree in new_population]\n",
    "                    # if offspring1.fitness not in tmp_fitnesses:\n",
    "                    #     offsprings.append(offspring1)\n",
    "                    # if offspring2.fitness not in tmp_fitnesses:\n",
    "                    #     offsprings.append(offspring2)\n",
    "                    \n",
    "                    offspring1.compute_fitness()\n",
    "                    offspring2.compute_fitness()\n",
    "                    #if osspring1 is not alredy in population, already defined the eq as the fitness comparison\n",
    "                    # if offspring1 not in new_population:\n",
    "                    #     offsprings = np.append(offsprings, [offspring1])\n",
    "                    # if offspring2 not in new_population:\n",
    "                    #     offsprings = np.append(offsprings, [offspring2])\n",
    "\n",
    "               \n",
    "                    \n",
    "\n",
    "                    offsprings = np.append(offsprings, [offspring1, offspring2])\n",
    "\n",
    "            new_population=np.concatenate((new_population,offsprings))\n",
    "                \n",
    "        return new_population\n",
    "\n",
    "\n",
    "    def evolve(self):\n",
    "        best_tree = None\n",
    "        best_fitness = np.inf\n",
    "        take_over = False\n",
    "        # self.population.sort(key=lambda x: x.fitness) \n",
    "        #numpy sort of population over fitness\n",
    "        self.population.sort()\n",
    "        # print(f\"Initial best fitness: {self.population[0].fitness}\")\n",
    "        # print(f\"Initial best fitness: {self.population[1].fitness}\")\n",
    "        # print(f\"Initial best fitness: {self.population[2].fitness}\")\n",
    "        # print(f\"Initial worst fitness: {self.population[-1].fitness}\")\n",
    "\n",
    "\n",
    "\n",
    "        for generation in tqdm(range(self.max_generations)):\n",
    "            \n",
    "            if take_over:\n",
    "                #trasform the population in set and then back to list to remove duplicates\n",
    "                self.population=np.unique(self.population)\n",
    "                #sort the population based on fitness\n",
    "                self.population.sort()\n",
    "                self.population = self.population[:int(self.population_size*0.1)]\n",
    "                new_trees = np.array([Tree(\"grow\") for _ in range(int(self.population_size*0.3))]+[Tree(\"grow\") for _ in range(int(self.population_size*0.3))])\n",
    "                self.population=np.concatenate((self.population,new_trees))\n",
    "            \n",
    "            \n",
    "            new_population=self.offspring_generation()\n",
    "\n",
    "            # for tree in new_population:\n",
    "            #     tree.compute_fitness()\n",
    "                \n",
    "            self.population=np.concatenate((self.population,new_population))\n",
    "            \n",
    "            generation_fitnesses = [tree.fitness for tree in self.population]\n",
    "            generation_best_fitness = min(generation_fitnesses)\n",
    "\n",
    "            if generation_best_fitness < best_fitness:\n",
    "                best_fitness = generation_best_fitness\n",
    "                best_tree = self.population[np.argmin(generation_fitnesses)]\n",
    "                self.best_fitness_history.append(best_fitness)\n",
    "            #trim the population to the best population_size\n",
    "            self.population.sort()\n",
    "            self.population = self.population[:self.population_size]\n",
    "            # print(f\"Generation {generation + 1}, Best Fitness: {best_fitness}\")\n",
    "            \n",
    "\n",
    "            n_best = [elem for elem in self.population if elem.fitness == self.population[0].fitness]\n",
    "            take_over = False\n",
    "            if len(n_best) > 0.9 * self.population_size:\n",
    "                    take_over = True\n",
    "                    # print(f\"Takeover at {generation} gen\")     \n",
    "            if(generation%1000==0):\n",
    "                print(f\"Generation {generation + 1}, Best Fitness: {best_fitness}, Best Formula: {best_tree.to_np_formula()}\")\n",
    "            if best_fitness <= 1e-33:\n",
    "                break   \n",
    "        return best_tree, best_fitness\n",
    "\n",
    "\n",
    "\n",
    "\n"
   ]
  },
  {
   "cell_type": "code",
   "execution_count": 28,
   "metadata": {},
   "outputs": [
    {
     "name": "stdout",
     "output_type": "stream",
     "text": [
      "Tree depth: 4\n"
     ]
    }
   ],
   "source": [
    "#Problem definition\n",
    "POPULATION_SIZE = 200\n",
    "MAX_GENERATIONS = 20000\n",
    "MUTATION_RATE = 0.5\n",
    "ELITISM_SIZE = 1\n",
    "GROW_FULL_RATIO = 1\n",
    "TREE_DEPTH = min(math.ceil(math.log(x_train.shape[0] + 1, 2)) + 2, 10)  # FIXME: temporary solution,IDK if it's good. (it's the depth to contain all the variables+1)\n",
    "print(\"Tree depth:\",TREE_DEPTH)\n",
    "#TREE_DEPTH = 4\n",
    "VAR_NUM = x_train.shape[0]\n",
    "CONST_RANGE=10 # Constats will be in the range [-CONST_RANGE, CONST_RANGE]\n",
    "\n",
    "\n",
    "Tree.set_params(unary_ops, binary_ops, VAR_NUM, 10,TREE_DEPTH, x_train_norm, y_train_norm, x_test_norm, y_test_norm)\n",
    "regressor = SymbolicRegression(\n",
    "    POPULATION_SIZE,\n",
    "    MAX_GENERATIONS,\n",
    "    MUTATION_RATE,\n",
    "    ELITISM_SIZE,\n",
    "    GROW_FULL_RATIO\n",
    "    #(x_train, y_train)   # per lexicase\n",
    ")\n",
    "\n",
    "\n"
   ]
  },
  {
   "cell_type": "code",
   "execution_count": 29,
   "metadata": {},
   "outputs": [
    {
     "name": "stderr",
     "output_type": "stream",
     "text": [
      "  0%|          | 9/20000 [00:00<08:02, 41.41it/s]"
     ]
    },
    {
     "name": "stdout",
     "output_type": "stream",
     "text": [
      "Generation 1, Best Fitness: 0.0034786419034353454, Best Formula: np.sin(np.absolute(np.add(np.multiply(x[1], x[0]), np.multiply(-9.256026198394167, -4.892489611881015))))\n"
     ]
    },
    {
     "name": "stderr",
     "output_type": "stream",
     "text": [
      "  5%|▌         | 1002/20000 [01:02<21:50, 14.50it/s]"
     ]
    },
    {
     "name": "stdout",
     "output_type": "stream",
     "text": [
      "Generation 1001, Best Fitness: 0.0011859857687969994, Best Formula: np.cos(np.divide(np.power(x[1], np.power(x[0], -8.15308418106326)), np.cos(np.subtract(x[1], 6.816490956472819))))\n"
     ]
    },
    {
     "name": "stderr",
     "output_type": "stream",
     "text": [
      " 10%|█         | 2001/20000 [02:11<18:37, 16.10it/s]"
     ]
    },
    {
     "name": "stdout",
     "output_type": "stream",
     "text": [
      "Generation 2001, Best Fitness: 3.703661502237642e-05, Best Formula: np.cos(np.divide(np.power(x[1], np.add(2.561607597559224, x[1])), np.add(np.divide(2.6644242883512153, x[0]), np.subtract(x[0], 3.033970891312194))))\n"
     ]
    },
    {
     "name": "stderr",
     "output_type": "stream",
     "text": [
      " 15%|█▌        | 3004/20000 [03:14<16:09, 17.53it/s]"
     ]
    },
    {
     "name": "stdout",
     "output_type": "stream",
     "text": [
      "Generation 3001, Best Fitness: 3.2943508932073316e-05, Best Formula: np.cos(np.divide(np.power(x[1], np.add(2.7629001619937217, x[1])), np.add(np.divide(2.6459356216839485, x[0]), np.subtract(x[0], 3.033970891312194))))\n"
     ]
    },
    {
     "name": "stderr",
     "output_type": "stream",
     "text": [
      " 20%|██        | 4008/20000 [04:09<06:51, 38.82it/s]"
     ]
    },
    {
     "name": "stdout",
     "output_type": "stream",
     "text": [
      "Generation 4001, Best Fitness: 3.187693042644089e-05, Best Formula: np.cos(np.divide(np.power(x[1], np.add(2.7548571162504683, x[1])), np.add(np.divide(2.7629001619937217, x[0]), np.subtract(x[0], 3.1554982513859002))))\n"
     ]
    },
    {
     "name": "stderr",
     "output_type": "stream",
     "text": [
      " 25%|██▌       | 5004/20000 [04:59<12:51, 19.44it/s]"
     ]
    },
    {
     "name": "stdout",
     "output_type": "stream",
     "text": [
      "Generation 5001, Best Fitness: 3.120333886719059e-05, Best Formula: np.cos(np.divide(np.power(x[1], np.add(2.701691499694121, x[1])), np.add(np.divide(2.7629001619937217, x[0]), np.subtract(x[0], 3.155082651110847))))\n"
     ]
    },
    {
     "name": "stderr",
     "output_type": "stream",
     "text": [
      " 30%|███       | 6004/20000 [05:52<12:49, 18.19it/s]"
     ]
    },
    {
     "name": "stdout",
     "output_type": "stream",
     "text": [
      "Generation 6001, Best Fitness: 3.120333886719059e-05, Best Formula: np.cos(np.divide(np.power(x[1], np.add(2.701691499694121, x[1])), np.add(np.divide(2.7629001619937217, x[0]), np.subtract(x[0], 3.155082651110847))))\n"
     ]
    },
    {
     "name": "stderr",
     "output_type": "stream",
     "text": [
      " 35%|███▌      | 7006/20000 [06:44<09:43, 22.26it/s]"
     ]
    },
    {
     "name": "stdout",
     "output_type": "stream",
     "text": [
      "Generation 7001, Best Fitness: 3.120333886719059e-05, Best Formula: np.cos(np.divide(np.power(x[1], np.add(2.701691499694121, x[1])), np.add(np.divide(2.7629001619937217, x[0]), np.subtract(x[0], 3.155082651110847))))\n"
     ]
    },
    {
     "name": "stderr",
     "output_type": "stream",
     "text": [
      " 40%|████      | 8004/20000 [07:28<05:36, 35.65it/s]"
     ]
    },
    {
     "name": "stdout",
     "output_type": "stream",
     "text": [
      "Generation 8001, Best Fitness: 3.120333886719059e-05, Best Formula: np.cos(np.divide(np.power(x[1], np.add(2.701691499694121, x[1])), np.add(np.divide(2.7629001619937217, x[0]), np.subtract(x[0], 3.155082651110847))))\n"
     ]
    },
    {
     "name": "stderr",
     "output_type": "stream",
     "text": [
      " 45%|████▌     | 9008/20000 [08:01<05:32, 33.10it/s]"
     ]
    },
    {
     "name": "stdout",
     "output_type": "stream",
     "text": [
      "Generation 9001, Best Fitness: 3.120333886719059e-05, Best Formula: np.cos(np.divide(np.power(x[1], np.add(2.701691499694121, x[1])), np.add(np.divide(2.7629001619937217, x[0]), np.subtract(x[0], 3.155082651110847))))\n"
     ]
    },
    {
     "name": "stderr",
     "output_type": "stream",
     "text": [
      " 50%|█████     | 10008/20000 [08:34<04:46, 34.93it/s]"
     ]
    },
    {
     "name": "stdout",
     "output_type": "stream",
     "text": [
      "Generation 10001, Best Fitness: 3.120333886719059e-05, Best Formula: np.cos(np.divide(np.power(x[1], np.add(2.701691499694121, x[1])), np.add(np.divide(2.7629001619937217, x[0]), np.subtract(x[0], 3.155082651110847))))\n"
     ]
    },
    {
     "name": "stderr",
     "output_type": "stream",
     "text": [
      " 55%|█████▌    | 11000/20000 [09:28<09:27, 15.86it/s]"
     ]
    },
    {
     "name": "stdout",
     "output_type": "stream",
     "text": [
      "Generation 11001, Best Fitness: 3.120333886719059e-05, Best Formula: np.cos(np.divide(np.power(x[1], np.add(2.701691499694121, x[1])), np.add(np.divide(2.7629001619937217, x[0]), np.subtract(x[0], 3.155082651110847))))\n"
     ]
    },
    {
     "name": "stderr",
     "output_type": "stream",
     "text": [
      " 60%|██████    | 12003/20000 [10:27<08:11, 16.28it/s]"
     ]
    },
    {
     "name": "stdout",
     "output_type": "stream",
     "text": [
      "Generation 12001, Best Fitness: 3.120333886719059e-05, Best Formula: np.cos(np.divide(np.power(x[1], np.add(2.701691499694121, x[1])), np.add(np.divide(2.7629001619937217, x[0]), np.subtract(x[0], 3.155082651110847))))\n"
     ]
    },
    {
     "name": "stderr",
     "output_type": "stream",
     "text": [
      " 65%|██████▌   | 13004/20000 [11:37<07:20, 15.89it/s]"
     ]
    },
    {
     "name": "stdout",
     "output_type": "stream",
     "text": [
      "Generation 13001, Best Fitness: 3.120333886719059e-05, Best Formula: np.cos(np.divide(np.power(x[1], np.add(2.701691499694121, x[1])), np.add(np.divide(2.7629001619937217, x[0]), np.subtract(x[0], 3.155082651110847))))\n"
     ]
    },
    {
     "name": "stderr",
     "output_type": "stream",
     "text": [
      " 70%|███████   | 14008/20000 [12:42<03:36, 27.71it/s]"
     ]
    },
    {
     "name": "stdout",
     "output_type": "stream",
     "text": [
      "Generation 14001, Best Fitness: 3.120333886719059e-05, Best Formula: np.cos(np.divide(np.power(x[1], np.add(2.701691499694121, x[1])), np.add(np.divide(2.7629001619937217, x[0]), np.subtract(x[0], 3.155082651110847))))\n"
     ]
    },
    {
     "name": "stderr",
     "output_type": "stream",
     "text": [
      " 75%|███████▌  | 15006/20000 [13:25<02:27, 33.95it/s]"
     ]
    },
    {
     "name": "stdout",
     "output_type": "stream",
     "text": [
      "Generation 15001, Best Fitness: 3.120333886719059e-05, Best Formula: np.cos(np.divide(np.power(x[1], np.add(2.701691499694121, x[1])), np.add(np.divide(2.7629001619937217, x[0]), np.subtract(x[0], 3.155082651110847))))\n"
     ]
    },
    {
     "name": "stderr",
     "output_type": "stream",
     "text": [
      " 80%|████████  | 16010/20000 [14:08<01:48, 36.84it/s]"
     ]
    },
    {
     "name": "stdout",
     "output_type": "stream",
     "text": [
      "Generation 16001, Best Fitness: 3.120333886719059e-05, Best Formula: np.cos(np.divide(np.power(x[1], np.add(2.701691499694121, x[1])), np.add(np.divide(2.7629001619937217, x[0]), np.subtract(x[0], 3.155082651110847))))\n"
     ]
    },
    {
     "name": "stderr",
     "output_type": "stream",
     "text": [
      " 85%|████████▌ | 17001/20000 [14:59<02:44, 18.26it/s]"
     ]
    },
    {
     "name": "stdout",
     "output_type": "stream",
     "text": [
      "Generation 17001, Best Fitness: 3.120333886719059e-05, Best Formula: np.cos(np.divide(np.power(x[1], np.add(2.701691499694121, x[1])), np.add(np.divide(2.7629001619937217, x[0]), np.subtract(x[0], 3.155082651110847))))\n"
     ]
    },
    {
     "name": "stderr",
     "output_type": "stream",
     "text": [
      " 90%|█████████ | 18002/20000 [16:07<02:05, 15.89it/s]"
     ]
    },
    {
     "name": "stdout",
     "output_type": "stream",
     "text": [
      "Generation 18001, Best Fitness: 3.120183376402005e-05, Best Formula: np.cos(np.divide(np.power(x[1], np.add(2.7039357351793036, x[1])), np.add(np.divide(2.7629001619937217, x[0]), np.subtract(x[0], 3.155082651110847))))\n"
     ]
    },
    {
     "name": "stderr",
     "output_type": "stream",
     "text": [
      " 95%|█████████▌| 19002/20000 [17:15<01:32, 10.84it/s]"
     ]
    },
    {
     "name": "stdout",
     "output_type": "stream",
     "text": [
      "Generation 19001, Best Fitness: 3.120183376402005e-05, Best Formula: np.cos(np.divide(np.power(x[1], np.add(2.7039357351793036, x[1])), np.add(np.divide(2.7629001619937217, x[0]), np.subtract(x[0], 3.155082651110847))))\n"
     ]
    },
    {
     "name": "stderr",
     "output_type": "stream",
     "text": [
      "100%|██████████| 20000/20000 [18:16<00:00, 18.24it/s]\n"
     ]
    },
    {
     "name": "stdout",
     "output_type": "stream",
     "text": [
      "Reverted Formula:\n",
      "((np.cos(np.divide(np.power((x[1] * (4.998671720873889 - 0.0007423820639571588) + 0.0007423820639571588), np.add(2.7039357351793036, (x[1] * (4.998671720873889 - 0.0007423820639571588) + 0.0007423820639571588))), np.add(np.divide(2.7629001619937217, (x[0] * (4.999969022322079 - 0.00042079816146767257) + 0.00042079816146767257)), np.subtract((x[0] * (4.999969022322079 - 0.00042079816146767257) + 0.00042079816146767257), 3.155082651110847))))) * (1.6242242902247692e-10 - -2.6180557756077483e-08)) + -2.6180557756077483e-08\n",
      "Test Fitness: 9.56460759393086e-05\n",
      "Train-Test Discrepancy: -6.444424217528855e-05\n",
      "All Fitness: 4.409068219907776e-05\n",
      "Test Fitness Original: 9.586414075034091e-16\n",
      "all Fitness Original: 9.434886112471545e-16\n",
      "Best Fitness History: [np.float64(0.0034786419034353454), np.float64(0.002931446991304123), np.float64(0.002049915771554056), np.float64(0.0020356801057366558), np.float64(0.0019861402624117993), np.float64(0.0014843450300250783), np.float64(0.0014829065802512852), np.float64(0.0013572861183515968), np.float64(0.0013401563737834646), np.float64(0.0013109082281280134), np.float64(0.0013082419886195134), np.float64(0.0013081069768943676), np.float64(0.0013071265311895787), np.float64(0.0013071264131416026), np.float64(0.0013071262712999253), np.float64(0.0012996728131060842), np.float64(0.0012905619649545255), np.float64(0.0012897073981830028), np.float64(0.001280623549334793), np.float64(0.0012769613416310365), np.float64(0.0012757640611711248), np.float64(0.0012727798485583004), np.float64(0.0012723705339117172), np.float64(0.0012422228788816821), np.float64(0.0012418446524465115), np.float64(0.0012374027869343483), np.float64(0.001222683615581807), np.float64(0.0011957083003965746), np.float64(0.0011933426115418697), np.float64(0.0011920834872283606), np.float64(0.0011899657331976398), np.float64(0.0011869020502738446), np.float64(0.0011861213296353867), np.float64(0.0011860304054958886), np.float64(0.0011859874741054334), np.float64(0.0011859857687969994), np.float64(0.001046703942131069), np.float64(0.0010425403202227955), np.float64(0.0010397934808368484), np.float64(0.001039649687730587), np.float64(0.0007969061737613406), np.float64(0.0007275122226900491), np.float64(0.0006854299888430025), np.float64(0.0005632006722119133), np.float64(0.0005533134601283844), np.float64(0.0005498339752679868), np.float64(0.000530653559243143), np.float64(0.00046957242796124015), np.float64(0.0004197306512672655), np.float64(0.0004003571623001509), np.float64(0.0003894773731744765), np.float64(0.00035910027832377755), np.float64(0.0003463321744599081), np.float64(0.0002815169945800529), np.float64(0.00010601997447626363), np.float64(8.310804567024266e-05), np.float64(4.322089166445077e-05), np.float64(3.8851899807212624e-05), np.float64(3.7255467333733664e-05), np.float64(3.703661502237642e-05), np.float64(3.7022494349078375e-05), np.float64(3.571983388936043e-05), np.float64(3.358495382267365e-05), np.float64(3.3447881100313384e-05), np.float64(3.2943508932073316e-05), np.float64(3.212191126430049e-05), np.float64(3.187693042644089e-05), np.float64(3.121748339072665e-05), np.float64(3.120333886719059e-05), np.float64(3.120183376402005e-05)], changed 70 times\n",
      "Best Tree:\n"
     ]
    },
    {
     "data": {
      "image/png": "[encoded data removed]",
      "text/plain": [
       "<Figure size 1200x800 with 1 Axes>"
      ]
     },
     "metadata": {},
     "output_type": "display_data"
    }
   ],
   "source": [
    "#UNCOMMENT TO PROFILE THE CODE (and comment the rest of the code)\n",
    "# cProfile.run(\"regressor.evolve()\",sort=\"tottime\") #for profiling so we can see the time taken by each function\n",
    "#the output will include the following columns:\n",
    "#tottime: Total time spent in the function (excluding time spent in other functions it calls).\n",
    "#cumtime: Cumulative time spent in the function (including time spent in sub-functions).\n",
    "def revert_formula(formula, x_stats, y_stats):\n",
    "    \"\"\"\n",
    "    Revert a formula from normalized space to original space for min-max normalization.\n",
    "\n",
    "    Parameters:\n",
    "        formula: str, symbolic regression formula in normalized space.\n",
    "        x_stats: dict, stats for input normalization (min, max).\n",
    "        y_stats: dict, stats for output normalization (min, max).\n",
    "\n",
    "    Returns:\n",
    "        str, formula in the original space.\n",
    "    \"\"\"\n",
    "    x_mins = x_stats[\"min\"].flatten()\n",
    "    x_maxs = x_stats[\"max\"].flatten()\n",
    "    y_min = y_stats[\"min\"]\n",
    "    y_max = y_stats[\"max\"]\n",
    "\n",
    "    # Wrap variables with normalization transformations\n",
    "    for i, (x_min, x_max) in enumerate(zip(x_mins, x_maxs)):\n",
    "        formula = formula.replace(\n",
    "            f\"x[{i}]\",\n",
    "            f\"(x[{i}] * ({x_max} - {x_min}) + {x_min})\"\n",
    "        )\n",
    "\n",
    "    # Apply the output transformation\n",
    "    reverted_formula = f\"(({formula}) * ({y_max} - {y_min})) + {y_min}\"\n",
    "    return reverted_formula\n",
    "\n",
    "\n",
    "\n",
    "def compute_fitness_from_formula(formula, x_data, y_data):\n",
    "    \"\"\"\n",
    "    Compute MSE fitness directly from a reverted formula.\n",
    "\n",
    "    Parameters:\n",
    "        formula: str, reverted symbolic regression formula.\n",
    "        x_data: np.ndarray, input data in original scale (variables, samples).\n",
    "        y_data: np.ndarray, true output data in original scale (samples).\n",
    "\n",
    "    Returns:\n",
    "        float, MSE fitness.\n",
    "    \"\"\"\n",
    "    # Convert the formula to a lambda function\n",
    "    eval_formula = eval(f\"lambda x: {formula}\", {\"np\": np})\n",
    "\n",
    "    # Compute predictions\n",
    "    y_pred = eval_formula(x_data)\n",
    "\n",
    "    \n",
    "\n",
    "    # Calculate MSE\n",
    "    mse = np.mean(np.square(y_data - y_pred))\n",
    "    return mse \n",
    "\n",
    "\n",
    "# Execute the algorithm\n",
    "best_tree, best_fitness = regressor.evolve()\n",
    "\n",
    "# Calculate the fitness on original data\n",
    "best_tree.compute_fitness(test=\"test\")\n",
    "\n",
    "\n",
    "# Revert the formula\n",
    "final_formula = best_tree.to_np_formula()\n",
    "reverted_formula = revert_formula(final_formula, x_stats, y_stats)\n",
    "print(f\"Reverted Formula:\\n{reverted_formula}\")\n",
    "\n",
    "\n",
    "print(f\"Test Fitness: {best_tree.fitness}\")\n",
    "print(f\"Train-Test Discrepancy: {best_fitness-best_tree.fitness}\")\n",
    "best_tree.compute_fitness(test=\"all\")\n",
    "print(f\"All Fitness: {best_tree.fitness}\")\n",
    "test_fitness_original=compute_fitness_from_formula(reverted_formula, x_test, y_test)\n",
    "print(f\"Test Fitness Original: {test_fitness_original}\")\n",
    "all_fitness_original=compute_fitness_from_formula(reverted_formula, x_train, y_train)\n",
    "print(f\"all Fitness Original: {all_fitness_original}\")\n",
    "\n",
    "\n",
    "#Print the best tree\n",
    "print(f\"Best Fitness History: {regressor.best_fitness_history}, changed {len(regressor.best_fitness_history)} times\")\n",
    "print(\"Best Tree:\")\n",
    "best_tree.add_drawing()\n"
   ]
  },
  {
   "cell_type": "code",
   "execution_count": 20,
   "metadata": {},
   "outputs": [
    {
     "name": "stdout",
     "output_type": "stream",
     "text": [
      "Collapsed formula: np.add(np.multiply(np.add(x[1], np.divide(x[0], -1.0341201430008375)), 0.041881185336551316), x[0])\n",
      "Best Tree after collapsing:\n"
     ]
    },
    {
     "data": {
      "image/png": "[encoded data removed]",
      "text/plain": [
       "<Figure size 1200x800 with 1 Axes>"
      ]
     },
     "metadata": {},
     "output_type": "display_data"
    }
   ],
   "source": [
    "#Collapse branches that can be simplified\n",
    "Tree.collapse_branch(best_tree.root,0,force_collapse=True)\n",
    "print(f\"Collapsed formula: {best_tree.to_np_formula()}\")\n",
    "print(\"Best Tree after collapsing:\")\n",
    "best_tree.add_drawing()\n"
   ]
  },
  {
   "cell_type": "markdown",
   "metadata": {},
   "source": []
  },
  {
   "cell_type": "code",
   "execution_count": 21,
   "metadata": {},
   "outputs": [],
   "source": [
    "\n",
    "# def test_formula(x):\n",
    "#     pass\n",
    "\n",
    "\n",
    "\n",
    "# x_tot=np.concatenate((x_train,x_test),axis=1)\n",
    "# y_tot=np.concatenate((y_train,y_test))\n",
    "# squared_errors = 0\n",
    "# for i in range(1):\n",
    "#     y_pred = test_formula(x_tot[:, i])\n",
    "                 \n",
    "#     squared_errors += np.square(y_tot[i] - y_pred) \n",
    "\n",
    "# print( squared_errors / x_tot.shape[1])\n",
    "   \n",
    "\n",
    "# def testing(tree):\n",
    "#    tree.compute_fitness()\n",
    "#    tree.compute_fitness2()\n",
    "\n",
    "# cProfile.run(\"testing(best_tree)\",sort=\"tottime\") #for profiling so we can see the time taken by each function\n",
    "\n",
    "\n",
    "# best_tree.compute_fitness()\n",
    "# print(best_tree.fitness)\n",
    "# best_tree.compute_fitness2()\n",
    "# print(best_tree.fitness)\n"
   ]
  }
 ],
 "metadata": {
  "kernelspec": {
   "display_name": "CI_24-25",
   "language": "python",
   "name": "python3"
  },
  "language_info": {
   "codemirror_mode": {
    "name": "ipython",
    "version": 3
   },
   "file_extension": ".py",
   "mimetype": "text/x-python",
   "name": "python",
   "nbconvert_exporter": "python",
   "pygments_lexer": "ipython3",
   "version": "3.13.1"
  }
 },
 "nbformat": 4,
 "nbformat_minor": 2
}
