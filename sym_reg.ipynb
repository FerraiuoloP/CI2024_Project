{
 "cells": [
  {
   "cell_type": "code",
   "execution_count": 11,
   "metadata": {},
   "outputs": [],
   "source": [
    "import numpy as np\n",
    "from icecream import ic\n",
    "from tqdm import tqdm\n"
   ]
  },
  {
   "cell_type": "markdown",
   "metadata": {},
   "source": [
    "### Defining 2 functions for testing (we should use the one the professor provided in the final code)"
   ]
  },
  {
   "cell_type": "code",
   "execution_count": 12,
   "metadata": {},
   "outputs": [],
   "source": [
    "#true functions for 2 and 3 variables\n",
    "def true_f(x: np.ndarray) -> np.ndarray:\n",
    "    return x[0] + np.sin(x[1]) / 5\n",
    "def true_f2(x: np.ndarray) -> np.ndarray:\n",
    "    return x[0] + np.sin(x[1]) / 5 + x[0] * x[2] / 10"
   ]
  },
  {
   "cell_type": "code",
   "execution_count": 13,
   "metadata": {},
   "outputs": [],
   "source": [
    "\n",
    "# Define constants for dataset sizes.\n",
    "TEST_SIZE = 10_000\n",
    "TRAIN_SIZE = 100\n",
    "\n",
    "# This function generates a problem dataset for true_f.\n",
    "def gen_problem():\n",
    "    # Generate a 2D validation set where x[0] and x[1] are random samples within specified ranges.\n",
    "    x_validation = np.vstack(\n",
    "        [\n",
    "            np.random.random_sample(size=TEST_SIZE) * 2 * np.pi - np.pi,  # x[0] in range [-pi, pi]\n",
    "            np.random.random_sample(size=TEST_SIZE) * 2 - 1,             # x[1] in range [-1, 1]\n",
    "        ]\n",
    "    )\n",
    "    \n",
    "    # Calculate the true outputs for the validation set using true_f.\n",
    "    y_validation = true_f(x_validation)\n",
    "\n",
    "    # Randomly select indexes for training data.\n",
    "    train_indexes = np.random.choice(TEST_SIZE, size=TRAIN_SIZE, replace=False)\n",
    "\n",
    "    # Extract training data using selected indexes.\n",
    "    x_train = x_validation[:, train_indexes]\n",
    "    y_train = y_validation[train_indexes]\n",
    "\n",
    "    # Verify that y_train matches true_f applied to x_train.\n",
    "    assert np.all(y_train == true_f(x_train)), \"D'ho\"\n",
    "\n",
    "    return x_train, y_train\n",
    "\n",
    "# This function generates a problem dataset for true_f2.\n",
    "def gen_problem2():\n",
    "    # Generate a 3D validation set where x[0], x[1], and x[2] are random samples within specified ranges.\n",
    "    x_validation = np.vstack(\n",
    "        [\n",
    "            np.random.random_sample(size=TEST_SIZE) * np.exp(3) - np.exp(1),  # x[0] in range [e^1, e^3]\n",
    "            np.random.random_sample(size=TEST_SIZE) * 2 - 1,                 # x[1] in range [-1, 1]\n",
    "            np.random.random_sample(size=TEST_SIZE) * 57 - 1,               # x[2] in range [-1, 56]\n",
    "        ]\n",
    "    )\n",
    "\n",
    "    # Calculate the true outputs for the validation set using true_f2.\n",
    "    y_validation = true_f2(x_validation)\n",
    "\n",
    "    # Randomly select indexes for training data.\n",
    "    train_indexes = np.random.choice(TEST_SIZE, size=TRAIN_SIZE, replace=False)\n",
    "\n",
    "    # Extract training data using selected indexes.\n",
    "    x_train = x_validation[:, train_indexes]\n",
    "    y_train = y_validation[train_indexes]\n",
    "\n",
    "    # Verify that y_train matches true_f2 applied to x_train.\n",
    "    assert np.all(y_train == true_f2(x_train)), \"D'ho\"\n",
    "\n",
    "    return x_train, y_train\n",
    "\n",
    "# Uncomment these lines to save and load a problem dataset.\n",
    "# np.savez('problem_0.npz', x=x_train, y=y_train)\n",
    "# problem = np.load('problem_0.npz')\n",
    "# x = problem['x']\n",
    "# y = problem['y']\n",
    "\n",
    "# Generate a problem dataset using gen_problem2.\n",
    "problem = gen_problem2()\n",
    "x = problem[0]  # Training inputs.\n",
    "y = problem[1]  # Training outputs.\n",
    "\n",
    "# Determine the number of variables in the training inputs.\n",
    "number_vars = x.shape[0]\n",
    "\n",
    "# Compute the Mean Squared Error between outputs from my_f and true outputs.\n",
    "\n"
   ]
  },
  {
   "cell_type": "markdown",
   "metadata": {},
   "source": [
    "### Getting numpy functions"
   ]
  },
  {
   "cell_type": "code",
   "execution_count": 14,
   "metadata": {},
   "outputs": [],
   "source": [
    "unary_ops = [\n",
    "    np.negative,\n",
    "    np.abs,\n",
    "    np.sqrt,\n",
    "    np.exp,\n",
    "    np.log,\n",
    "    np.sin,\n",
    "    np.cos,\n",
    "    np.tan,\n",
    "    np.arcsin,\n",
    "    np.arccos,\n",
    "    np.arctan,\n",
    "    np.ceil,\n",
    "    np.floor\n",
    "]\n",
    "\n",
    "binary_ops = [\n",
    "    np.add,\n",
    "    np.subtract,\n",
    "    np.multiply,\n",
    "    np.divide,\n",
    "    np.power,\n",
    "    np.maximum,\n",
    "    np.minimum,\n",
    "    np.mod\n",
    "]\n"
   ]
  },
  {
   "cell_type": "markdown",
   "metadata": {},
   "source": [
    "### Symbolic regression"
   ]
  },
  {
   "cell_type": "code",
   "execution_count": null,
   "metadata": {},
   "outputs": [
    {
     "name": "stderr",
     "output_type": "stream",
     "text": [
      " 28%|██▊       | 28/100 [00:20<00:46,  1.55it/s]"
     ]
    },
    {
     "name": "stdout",
     "output_type": "stream",
     "text": [
      "Ho iniziato a takeovere dopo 27 generazioni\n"
     ]
    },
    {
     "name": "stderr",
     "output_type": "stream",
     "text": [
      " 87%|████████▋ | 87/100 [00:58<00:08,  1.52it/s]"
     ]
    },
    {
     "name": "stdout",
     "output_type": "stream",
     "text": [
      "Ho smesso di takeovere dopo 86 generazioni\n"
     ]
    },
    {
     "name": "stderr",
     "output_type": "stream",
     "text": [
      "100%|██████████| 100/100 [01:11<00:00,  1.39it/s]"
     ]
    },
    {
     "name": "stdout",
     "output_type": "stream",
     "text": [
      "np.add(np.minimum(x1, -5.166771775759102), np.add(np.add(x2, np.divide(46.90523938618736, -5.166771775759102)), np.divide(np.multiply(x0, 46.90523938618736), np.maximum(3.957614350693845, 21.17512340720289))))\n",
      "Best Fitness: 137.98417331970563\n",
      "Best Fitness History: [297.3074070275283, 292.4924204088368, 287.5180206087485, 286.46499029296245, 285.5810292640969, 284.77146353279977, 284.18348553456025, 284.16231492421394, 283.8091288982168, 283.79980442619706, 283.79370767314026, 283.7926246732149, 222.93390029979324, 221.7530139349183, 221.37557836568524, 211.3919748635656, 165.48727218581152, 165.4604051545333, 144.72166096157176, 144.51634811280886, 137.98417331970563], changed 21 times\n",
      "Best Tree:\n"
     ]
    },
    {
     "name": "stderr",
     "output_type": "stream",
     "text": [
      "\n"
     ]
    },
    {
     "data": {
      "image/png": "[encoded data removed]",
      "text/plain": [
       "<Figure size 1200x800 with 1 Axes>"
      ]
     },
     "metadata": {},
     "output_type": "display_data"
    }
   ],
   "source": [
    "from tree import Tree\n",
    "\n",
    "class SymbolicRegression:\n",
    "    def __init__(self, population_size, max_generations, mutation_rate, grow_full_ratio):\n",
    "        self.population_size = population_size\n",
    "        self.max_generations = max_generations\n",
    "        self.mutation_rate = mutation_rate\n",
    "        self.best_fitness_history = []\n",
    "        self.unary_ops = unary_ops\n",
    "        self.binary_ops = binary_ops\n",
    "        self.grow_full_ratio = grow_full_ratio\n",
    "\n",
    "        self.population = [Tree(\"grow\") for _ in range(int(population_size*self.grow_full_ratio))] + [Tree(\"full\") for _ in range(int(population_size*(1-self.grow_full_ratio)))]\n",
    "\n",
    "    \n",
    "\n",
    "    def select_parents(self):\n",
    "        return np.random.choice(self.population, 2)\n",
    "    \n",
    "    def select_parents_tournament(self):\n",
    "        tournament_size = 7\n",
    "        tournament = list(np.random.choice(self.population, tournament_size))\n",
    "        tournament.sort(key=lambda x: x.fitness)\n",
    "        return tournament[0], tournament[1]\n",
    "\n",
    "\n",
    "    def mutate(self, tree):\n",
    "        if np.random.rand() < self.mutation_rate:\n",
    "            if np.random.rand() < 0.5:\n",
    "                tree.mutate_subtree()\n",
    "            else:\n",
    "                tree.mutate_single_node()\n",
    "\n",
    "    def evolve(self):\n",
    "        best_tree = None\n",
    "        best_fitness = np.inf\n",
    "        take_over = False\n",
    "        for generation in tqdm(range(self.max_generations)):\n",
    "            new_population = []\n",
    "\n",
    "            for _ in range(int(self.population_size)):\n",
    "                parent1, parent2 = self.select_parents_tournament()\n",
    "                offspring1,offspring2=Tree.crossover(parent1, parent2)\n",
    "                if(offspring1 is not None or offspring2 is not None):\n",
    "                    Tree.collapse_branch(offspring1.root)\n",
    "                    Tree.collapse_branch(offspring2.root)\n",
    "                \n",
    "                    self.mutate(offspring1)\n",
    "                    self.mutate(offspring2)\n",
    "        \n",
    "                    new_population.append(offspring1)\n",
    "                    new_population.append(offspring2)\n",
    "\n",
    "            self.population += new_population\n",
    "            for tree in self.population:\n",
    "                tree.compute_fitness()\n",
    "            generation_fitnesses = [tree.fitness for tree in self.population]\n",
    "            generation_best_fitness = min(generation_fitnesses)\n",
    "\n",
    "            if generation_best_fitness < best_fitness:\n",
    "                best_fitness = generation_best_fitness\n",
    "                best_tree = self.population[np.argmin(generation_fitnesses)]\n",
    "                self.best_fitness_history.append(best_fitness)\n",
    "            #trim the population to the best population_size\n",
    "            self.population.sort(key=lambda x: x.fitness)\n",
    "            self.population = self.population[:self.population_size]\n",
    "            # print(f\"Generation {generation + 1}, Best Fitness: {best_fitness}\")\n",
    "            n_best = [elem for elem in self.population if elem.fitness == self.population[0].fitness]\n",
    "            if len(n_best) > 0.9 * self.population_size:\n",
    "                if(not take_over):\n",
    "                    take_over = True\n",
    "                    print(f\"Start takeover after {generation} gen\")\n",
    "            elif take_over:\n",
    "                take_over = False\n",
    "                print(f\"Stop takeover after {generation} gen\")\n",
    "        return best_tree, best_fitness\n",
    "\n",
    "\n",
    "TREE_DEPTH = 5\n",
    "Tree.set_params(unary_ops, binary_ops, 3, 100,TREE_DEPTH, x, y)\n",
    "regressor = SymbolicRegression(\n",
    "    population_size=130,\n",
    "    max_generations=100,\n",
    "    mutation_rate=0.1,\n",
    "    grow_full_ratio=0.6\n",
    ")\n",
    "\n",
    "\n",
    "best_tree, best_fitness = regressor.evolve()\n",
    "print(best_tree.to_np_formula())\n",
    "print(f\"Best Fitness: {best_fitness}\")\n",
    "print(f\"Best Fitness History: {regressor.best_fitness_history}, changed {len(regressor.best_fitness_history)} times\")\n",
    "print(\"Best Tree:\")\n",
    "best_tree.add_drawing()\n",
    "\n",
    "\n",
    "\n",
    "# print(x.shape)\n",
    "# # print(x)\n",
    "# # print([x[0][0]]+[x[1][0]]+[x[2][0]])\n",
    "# print(x[2][0])\n",
    "# print(regressor.population[0].fitness)\n",
    "# regressor.population[0].print_tree()\n",
    "# print(regressor.population[0].evaluate_tree([x[0][0]]+[x[1][0]]+[x[2][0]]))\n",
    "# print(regressor.population[0].evaluate_tree(x[:,0]))\n",
    "# print(\"Best Tree:\")\n",
    "# best_tree.print_tree()\n",
    "# print(f\"Best Fitness: {best_fitness}\")\n"
   ]
  },
  {
   "cell_type": "code",
   "execution_count": null,
   "metadata": {},
   "outputs": [],
   "source": []
  }
 ],
 "metadata": {
  "kernelspec": {
   "display_name": "Python 3",
   "language": "python",
   "name": "python3"
  },
  "language_info": {
   "codemirror_mode": {
    "name": "ipython",
    "version": 3
   },
   "file_extension": ".py",
   "mimetype": "text/x-python",
   "name": "python",
   "nbconvert_exporter": "python",
   "pygments_lexer": "ipython3",
   "version": "3.12.3"
  }
 },
 "nbformat": 4,
 "nbformat_minor": 2
}
