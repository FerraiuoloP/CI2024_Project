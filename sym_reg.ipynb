{
 "cells": [
  {
   "cell_type": "code",
   "execution_count": 1,
   "metadata": {},
   "outputs": [],
   "source": [
    "import math\n",
    "import numpy as np\n",
    "from tqdm import tqdm\n",
    "from icecream import ic\n",
    "import cProfile \n",
    "import time\n",
    "import warnings"
   ]
  },
  {
   "cell_type": "code",
   "execution_count": 2,
   "metadata": {},
   "outputs": [
    {
     "data": {
      "text/plain": [
       "2"
      ]
     },
     "execution_count": 2,
     "metadata": {},
     "output_type": "execute_result"
    }
   ],
   "source": [
    "# get ariety of np.add\n",
    "np.maximum.nargs-1"
   ]
  },
  {
   "cell_type": "code",
   "execution_count": 3,
   "metadata": {},
   "outputs": [
    {
     "data": {
      "text/plain": [
       "{'divide': 'warn', 'over': 'warn', 'under': 'ignore', 'invalid': 'warn'}"
      ]
     },
     "execution_count": 3,
     "metadata": {},
     "output_type": "execute_result"
    }
   ],
   "source": [
    "#warning settings\n",
    "np.seterr(all=\"ignore\") #ignore np warnings, the output will be nan or inf and will be handled correctly in the code. (using np.errstate slows down the code)\n",
    "# warnings.filterwarnings(\"ignore\", category=RuntimeWarning)"
   ]
  },
  {
   "cell_type": "code",
   "execution_count": 4,
   "metadata": {},
   "outputs": [],
   "source": [
    "# Configuration\n",
    "TRAIN_TEST_RATIO=0.6\n",
    "PROBLEM_NUMBER=3"
   ]
  },
  {
   "cell_type": "markdown",
   "metadata": {},
   "source": [
    "### Function definitions"
   ]
  },
  {
   "cell_type": "code",
   "execution_count": 5,
   "metadata": {},
   "outputs": [],
   "source": [
    "# Normalize the training and testing data\n",
    "def normalize_data(x, y, feature_range=(0, 1)):\n",
    "    \"\"\"\n",
    "    Normalize input (x) and output (y) data using min-max normalization.\n",
    "\n",
    "    Parameters:\n",
    "        x: np.ndarray, input data (variables, samples).\n",
    "        y: np.ndarray, output data (samples).\n",
    "        feature_range: tuple (min, max), range for normalization.\n",
    "\n",
    "    Returns:\n",
    "        x_norm: Min-max normalized input data.\n",
    "        y_norm: Min-max normalized output data.\n",
    "        x_stats: Dict containing min and max for x.\n",
    "        y_stats: Dict containing min and max for y.\n",
    "    \"\"\"\n",
    "    x_min = np.min(x, axis=1, keepdims=True)\n",
    "    x_max = np.max(x, axis=1, keepdims=True)\n",
    "    x_norm = (x - x_min) / (x_max - x_min) * (feature_range[1] - feature_range[0]) + feature_range[0]\n",
    "\n",
    "    y_min = np.min(y)\n",
    "    y_max = np.max(y)\n",
    "    y_norm = (y - y_min) / (y_max - y_min) * (feature_range[1] - feature_range[0]) + feature_range[0]\n",
    "\n",
    "    x_stats = {\"min\": x_min, \"max\": x_max}\n",
    "    y_stats = {\"min\": y_min, \"max\": y_max}\n",
    "\n",
    "    return x_norm, y_norm, x_stats, y_stats"
   ]
  },
  {
   "cell_type": "markdown",
   "metadata": {},
   "source": [
    "### Data Loading and Data Preprocessing"
   ]
  },
  {
   "cell_type": "code",
   "execution_count": 6,
   "metadata": {},
   "outputs": [
    {
     "name": "stdout",
     "output_type": "stream",
     "text": [
      "Problem number: 3, variables: 3, train size: 3000, test size: 2000\n",
      "Training data: x shape (3, 3000), y shape (3000,)\n",
      "Testing data: x shape (3, 2000), y shape (2000,)\n"
     ]
    }
   ],
   "source": [
    "# Load problem data with context manager protocol\n",
    "with np.load(f'data/problem_{PROBLEM_NUMBER}.npz') as problem:\n",
    "    x_1 = problem['x']\n",
    "    y_1 = problem['y']\n",
    "\n",
    "# Shuffle the data\n",
    "permutation = np.random.permutation(len(y_1))\n",
    "x_1 = x_1[:, permutation]\n",
    "y_1 = y_1[permutation]\n",
    "\n",
    "# Determine train test split sizes\n",
    "problem_len=len(y_1)\n",
    "train_size=int(TRAIN_TEST_RATIO*problem_len)\n",
    "\n",
    "# Split data\n",
    "x_train = x_1[:, :train_size]\n",
    "y_train = y_1[:train_size]\n",
    "\n",
    "x_test = x_1[:, train_size:]\n",
    "y_test = y_1[train_size:]\n",
    "\n",
    "# Normalize training and testing data\n",
    "#FIXME: NORM\n",
    "# x_train_norm, y_train_norm, x_stats, y_stats = normalize_data(x_train, y_train)\n",
    "# x_test_norm, y_test_norm, _, _ = normalize_data(x_test, y_test)\n",
    "\n",
    "# To view the npz file, run python -m npzviewer \n",
    "# Print dataset information\n",
    "print(f\"Problem number: {PROBLEM_NUMBER}, variables: {x_1.shape[0]}, train size: {train_size}, test size: {problem_len-train_size}\")\n",
    "#FIXME: NORM\n",
    "# print(f\"Training data: x shape {x_train_norm.shape}, y shape {y_train_norm.shape}\")\n",
    "# print(f\"Testing data: x shape {x_test_norm.shape}, y shape {y_test_norm.shape}\")\n",
    "print(f\"Training data: x shape {x_train.shape}, y shape {y_train.shape}\")\n",
    "print(f\"Testing data: x shape {x_test.shape}, y shape {y_test.shape}\")\n",
    "\n"
   ]
  },
  {
   "cell_type": "markdown",
   "metadata": {},
   "source": [
    "### Numpy functions definition"
   ]
  },
  {
   "cell_type": "code",
   "execution_count": 7,
   "metadata": {},
   "outputs": [],
   "source": [
    "unary_ops = [\n",
    "    np.negative,\n",
    "    np.abs,\n",
    "    np.sqrt,\n",
    "    np.exp,\n",
    "    np.log,\n",
    "    np.sin,\n",
    "    np.cos,\n",
    "    np.tan,\n",
    "    np.arcsin,\n",
    "    np.arccos,\n",
    "    np.arctan,\n",
    "    np.sinh,\n",
    "    np.cosh,\n",
    "    np.tanh,\n",
    "    np.square,\n",
    "    np.cbrt,\n",
    "    np.reciprocal,\n",
    "    np.rint\n",
    "\n",
    "    # np.ceil,\n",
    "    # np.floor\n",
    "]\n",
    "\n",
    "binary_ops = [\n",
    "    np.add,\n",
    "    np.subtract,\n",
    "    np.multiply,\n",
    "    np.divide,\n",
    "    np.power,\n",
    "    np.maximum,\n",
    "    np.minimum,\n",
    "    np.mod\n",
    "]"
   ]
  },
  {
   "cell_type": "markdown",
   "metadata": {},
   "source": [
    "### Symbolic Regression Class"
   ]
  },
  {
   "cell_type": "code",
   "execution_count": 8,
   "metadata": {},
   "outputs": [],
   "source": [
    "from tree import Tree\n",
    "\n",
    "class SymbolicRegression:\n",
    "    def __init__(self, population_per_island,island_num, max_generations, mutation_rate, elitism_size, grow_full_ratio,max_mutations,migration_rate,max_depth,spawn_depth,collapse_rate):\n",
    "        self.population_per_island = population_per_island\n",
    "        self.island_num = island_num\n",
    "        self.max_generations = max_generations\n",
    "        self.mutation_rate = mutation_rate\n",
    "        self.elitism_size = elitism_size\n",
    "        self.grow_full_ratio = grow_full_ratio\n",
    "        self.max_mutations = max_mutations\n",
    "        self.unary_ops = unary_ops\n",
    "        self.binary_ops = binary_ops\n",
    "        self.migration_rate=migration_rate\n",
    "        self.best_fitness_history = []\n",
    "        #init np array  of size island_population\n",
    "        self.max_depth = max_depth\n",
    "        self.spawn_depth = spawn_depth\n",
    "        self.population = [None] * island_num\n",
    "        self.collapse_rate=collapse_rate\n",
    "        #DEPTH BASED (decomment every DEPTH BASED line):\n",
    "        # for j in range(island_num):\n",
    "        #     self.population[j] = np.array([\n",
    "        #         Tree(\"grow\",max_depth=max_depth+j,spawn_depth=spawn_depth+j) if i < int(population_per_island * self.grow_full_ratio) else Tree(\"full\",max_depth=max_depth+j,spawn_depth=spawn_depth+j) for i in range(population_per_island)\n",
    "        #     ])\n",
    "        for j in range(island_num):\n",
    "            self.population[j] = np.array([\n",
    "                Tree(\"grow\",max_depth=max_depth,spawn_depth=spawn_depth) if i < int(population_per_island * self.grow_full_ratio) else Tree(\"full\",max_depth=max_depth,spawn_depth=spawn_depth) for i in range(population_per_island)\n",
    "            ])\n",
    "         \n",
    "\n",
    "\n",
    "    # Parents selection methods\n",
    "    def select_parents_fitness_proportional(self, n_elems=2, epsilon=1e-10,island=0):\n",
    "        \"\"\"\n",
    "        Individuals with lower fitness have an higher probability to be selected.\n",
    "        Premature convergence if few individuals have significantly better fitness than others.\n",
    "        \"\"\"\n",
    "        fitnesses = [tree.fitness for tree in self.population[island]]\n",
    "        inverted_fitnesses = [1 / (fitness + epsilon) for fitness in fitnesses]  # avoid division by zero\n",
    "        probabilities = inverted_fitnesses / sum(inverted_fitnesses)\n",
    "        parent1, parent2 = np.random.choice(self.population[island], size=n_elems, p=probabilities, replace=False)\n",
    "        return parent1, parent2\n",
    "    \n",
    "  \n",
    "\n",
    "    def select_parents_rank_based(self, n_elems=2,island=0):\n",
    "        \"\"\"\n",
    "        Rank-based selection method.\n",
    "        Assigns probabilities based on inversed ranks instead of absolute fitness values.\n",
    "        \"\"\"\n",
    "        fitnesses = np.array([tree.fitness for tree in self.population[island]])\n",
    "        ranks = np.argsort(fitnesses)\n",
    "        inversed_ranks = len(fitnesses) - ranks\n",
    "        probabilities = inversed_ranks / np.sum(inversed_ranks)\n",
    "        return np.random.choice(self.population[island], n_elems, p=probabilities, replace=False)\n",
    "    \n",
    "    def select_parents_tournament(self,island=0):\n",
    "        tournament_size = 5\n",
    "        tournament = list(np.random.choice(self.population[island], tournament_size, replace=True))\n",
    "        tournament.sort(key=lambda x: x.fitness)\n",
    "        return tournament[0], tournament[1]\n",
    "    \n",
    "    def select_parents(self, island):\n",
    "        return self.select_parents_rank_based(island=island)\n",
    "\n",
    "    # Mutation methods\n",
    "    def mutate(self, tree):\n",
    "        if np.random.rand() < 0.5:\n",
    "            tree.mutate_subtree()\n",
    "        else:\n",
    "            mutations = np.random.randint(1, self.max_mutations+1)\n",
    "            tree.mutate_single_node(num_mutations=mutations)\n",
    "        \n",
    "       \n",
    "\n",
    "\n",
    "    # Offsprings generation via mutation and crossover\n",
    "    def offspring_generation(self,island):\n",
    "        new_population = np.array([])\n",
    "\n",
    "        # Elitism   \n",
    "        elite_individuals = self.population[island][:self.elitism_size]\n",
    "        new_population = elite_individuals\n",
    "\n",
    "        # Main loop\n",
    "        while len(new_population) < self.population_per_island: #//2:\n",
    "            parent1, parent2 = self.select_parents(island=island)\n",
    "\n",
    "            # generate offsprings (one in mutation, two in crossover)\n",
    "            offsprings = np.array([])\n",
    "\n",
    "            if(np.random.rand() < self.mutation_rate):\n",
    "                parent_clone = parent1.copy_tree()\n",
    "                self.mutate(parent_clone)\n",
    "                # parent_clone.root.collapse_branch()\n",
    "                parent_clone.compute_fitness()\n",
    "                # if(parent_clone not in new_population):\n",
    "                offsprings = np.append(offsprings, [parent_clone])\n",
    "\n",
    "            else:    \n",
    "                offspring1, offspring2 = parent1.crossover(parent2)\n",
    "                if(offspring1 is not None or offspring2 is not None):\n",
    "                    # offspring1.root.collapse_branch()\n",
    "                    # offspring2.root.collapse_branch()\n",
    "            \n",
    "                    offspring1.compute_fitness()\n",
    "                    offspring2.compute_fitness()\n",
    "\n",
    "                    offsprings = np.append(offsprings, [offspring1, offspring2])\n",
    "\n",
    "\n",
    "            for offsp in offsprings:\n",
    "                if(np.random.rand() < self.collapse_rate):\n",
    "                    #clone the tree and collapse the branch\n",
    "                    tree_clone = offsp.copy_tree()\n",
    "                \n",
    "                    Tree.collapse_branch(tree_clone.root,force_collapse=True)\n",
    "                    tree_clone.compute_fitness()\n",
    "                    #if the fitness is not nan or inf after collapsing\n",
    "                    if(tree_clone.fitness is not None or tree_clone.fitness is not np.inf and tree_clone.fitness is not np.nan):\n",
    "                            offsp = tree_clone\n",
    "\n",
    "            new_population = np.concatenate((new_population, offsprings))\n",
    "                \n",
    "        return new_population\n",
    "    \n",
    "    # Genetic Algorithm: Evolutionary Process\n",
    "    def evolve(self):\n",
    "        best_tree_island = np.full(self.island_num, None, dtype=object)\n",
    "        best_fitness_island = np.full(self.island_num, np.inf)\n",
    "        global_best_fitness = np.inf\n",
    "        global_best_tree = None\n",
    "        take_over = np.full(self.island_num, False)\n",
    "        # self.population_per_island.sort(key=lambda x: x.fitness) \n",
    "        #numpy sort of population over fitness\n",
    "        for i in range(self.island_num):\n",
    "            self.population[i].sort()\n",
    "      \n",
    "\n",
    "\n",
    "        for generation in tqdm(range(self.max_generations)):\n",
    "           \n",
    "            for i in range(self.island_num):\n",
    "                if take_over[i]:\n",
    "                    # print(f\"Takeover at {generation} gen on island {i} + {len(self.population[i])}\")\n",
    "                    # trasform the population in set and then back to list to remove duplicates\n",
    "                    self.population[i] = np.unique(self.population[i])\n",
    "                    # sort the population based on fitness\n",
    "                    self.population[i].sort()\n",
    "                    self.population[i] = self.population[i][:int(self.population_per_island*0.1)]\n",
    "                    #DEPTH BASED (decomment every DEPTH BASED line):\n",
    "                    # new_trees = np.array([Tree(\"grow\",max_depth=self.max_depth+i,spawn_depth=self.spawn_depth+i) for _ in range(int(self.population_per_island*0.9))])\n",
    "                    new_trees = np.array([Tree(\"grow\",max_depth=self.max_depth,spawn_depth=self.spawn_depth) for _ in range(int(self.population_per_island*0.9))])\n",
    "                    self.population[i]=np.concatenate((self.population[i],new_trees))\n",
    "                    self.population[i].sort()\n",
    "                \n",
    "                #DEPTH BASED (decomment every DEPTH BASED line):\n",
    "                # if np.random.rand()<self.migration_rate and i!=self.island_num-1:\n",
    "                #     #pick a random island to migrate to that is greater than the current island\n",
    "                #     island_to_migrate = np.random.randint(i+1,self.island_num)\n",
    "                #     #add self.population[i][0] to self.population[island_to_migrate]\n",
    "                #     self.population[island_to_migrate]=np.append(self.population[island_to_migrate],self.population[i][0])\n",
    "                #     print(f\"Migration at {generation} gen bewteen {i} and {island_to_migrate}\")\n",
    "               \n",
    "\n",
    "\n",
    "                if np.random.rand()<self.migration_rate and self.island_num>1:\n",
    "                    #pick a random island to migrate to that is greater than the current island\n",
    "                    island_to_migrate = np.random.randint(0,self.island_num)\n",
    "                    #select a random number from 0 to the population size of the current island\n",
    "                    random_index = np.random.randint(0,len(self.population[i]))\n",
    "                    #add self.population[i][random_index] to self.population[island_to_migrate]\n",
    "                    self.population[island_to_migrate]=np.append(self.population[island_to_migrate],self.population[i][random_index])\n",
    "                    #remove the tree from the current island\n",
    "                    self.population[i]=np.delete(self.population[i],random_index)\n",
    "                    \n",
    "\n",
    "\n",
    "                    print(f\"Migration at {generation} gen from {i} to {island_to_migrate}\")\n",
    "\n",
    "\n",
    "                new_population=self.offspring_generation(island=i)\n",
    "\n",
    "\n",
    "                # for tree in new_population:\n",
    "                #     tree.compute_fitness()\n",
    "                    \n",
    "                self.population[i]=np.concatenate((self.population[i],new_population))\n",
    "                self.population[i].sort()\n",
    "                \n",
    "                generation_best_fitness_island = self.population[i][0].fitness\n",
    "\n",
    "                if generation_best_fitness_island < best_fitness_island[i]:\n",
    "                    best_fitness_island[i] = generation_best_fitness_island\n",
    "                    best_tree_island[i] = self.population[i][0]\n",
    "                    self.best_fitness_history.append(best_fitness_island[i])\n",
    "\n",
    "                    if(best_fitness_island[i] < global_best_fitness):\n",
    "                        global_best_fitness = best_fitness_island[i]\n",
    "                        global_best_tree = best_tree_island[i]\n",
    "\n",
    "\n",
    "                #trim the population to the best island_population\n",
    "                \n",
    "                self.population[i] = self.population[i][:self.population_per_island]\n",
    "                # print(f\"Generation {generation + 1}, Best Fitness: {best_fitness}\")\n",
    "                \n",
    "\n",
    "                n_best = [elem for elem in self.population[i] if elem.fitness == self.population[i][0].fitness]\n",
    "                take_over[i] = False\n",
    "                if len(n_best) > 0.9 * self.population_per_island:\n",
    "                        take_over[i] = True\n",
    "                        # print(f\"Takeover at {generation} gen\")     \n",
    "                if(generation%50==0):\n",
    "                    print(f\"Generation {generation + 1}, Island: {i}, Best Fitness: {best_fitness_island[i]}, Best Formula: {best_tree_island[i].to_np_formula()}\")\n",
    "                # if best_fitness <= 1e-33:\n",
    "                #     break   \n",
    "\n",
    "        return global_best_tree, global_best_fitness"
   ]
  },
  {
   "cell_type": "markdown",
   "metadata": {},
   "source": [
    "### Problem Definition and Symbolic Regression Initialization"
   ]
  },
  {
   "cell_type": "code",
   "execution_count": 9,
   "metadata": {},
   "outputs": [],
   "source": [
    "# --ISLAND SETTINGS--\n",
    "ISLAND_POPULATION = 50\n",
    "ISLAND_NUM = 5\n",
    "MIGRATION_RATE = 0.001\n",
    "\n",
    "\n",
    "# --TREE SETTINGS--\n",
    "TREE_MAX_DEPTH = 7\n",
    "TREE_SPAWN_DEPTH = 4 #the max depth at which the tree will be spawned, they can grow up to TREE_MAX_DEPTH\n",
    "\n",
    "# --GENETIC ALGORITHM SETTINGS--\n",
    "MAX_GENERATIONS = 1000\n",
    "ELITISM_SIZE = 0\n",
    "VAR_NUM = x_train.shape[0]\n",
    "CONST_RANGE = 10 # Constats will be in the range [-CONST_RANGE, CONST_RANGE]\n",
    "MAX_MUTATIONS = 3  # Maximum number of mutations in a single mutation operation\n",
    "MUTATION_RATE = 0.35\n",
    "GROW_FULL_RATIO = 0.95\n",
    "COLLAPSE_RATE = 0.3\n",
    "\n",
    "\n",
    "#FIXME: NORM\n",
    "# Tree.set_params(unary_ops, binary_ops, VAR_NUM, 10, TREE_DEPTH, x_train_norm, y_train_norm, x_test_norm, y_test_norm)\n",
    "\n",
    "Tree.set_params(unary_ops, binary_ops, VAR_NUM, CONST_RANGE, x_train, y_train, x_test, y_test)\n",
    "regressor = SymbolicRegression(\n",
    "    ISLAND_POPULATION,\n",
    "    ISLAND_NUM,\n",
    "    MAX_GENERATIONS,\n",
    "    MUTATION_RATE,\n",
    "    ELITISM_SIZE,\n",
    "    GROW_FULL_RATIO,\n",
    "    MAX_MUTATIONS,\n",
    "    MIGRATION_RATE,\n",
    "    TREE_MAX_DEPTH,\n",
    "    TREE_SPAWN_DEPTH,\n",
    "    COLLAPSE_RATE\n",
    "    \n",
    "\n",
    "    #(x_train, y_train)   # per lexicase\n",
    ")\n",
    "#print the trees\n"
   ]
  },
  {
   "cell_type": "markdown",
   "metadata": {},
   "source": [
    "### Formula Revertion and Fitness Computation"
   ]
  },
  {
   "cell_type": "code",
   "execution_count": 10,
   "metadata": {},
   "outputs": [],
   "source": [
    "\n",
    "def revert_formula(formula, x_stats, y_stats):\n",
    "    \"\"\"\n",
    "    Revert a formula from normalized space to original space for min-max normalization.\n",
    "\n",
    "    Parameters:\n",
    "        formula: str, symbolic regression formula in normalized space.\n",
    "        x_stats: dict, stats for input normalization (min, max).\n",
    "        y_stats: dict, stats for output normalization (min, max).\n",
    "\n",
    "    Returns:\n",
    "        str, formula in the original space.\n",
    "    \"\"\"\n",
    "    x_mins = x_stats[\"min\"].flatten()\n",
    "    x_maxs = x_stats[\"max\"].flatten()\n",
    "    y_min = y_stats[\"min\"]\n",
    "    y_max = y_stats[\"max\"]\n",
    "\n",
    "    # Wrap variables with normalization transformations\n",
    "    for i, (x_min, x_max) in enumerate(zip(x_mins, x_maxs)):\n",
    "        formula = formula.replace(\n",
    "            f\"x[{i}]\",\n",
    "            f\"(x[{i}] * ({x_max} - {x_min}) + {x_min})\"\n",
    "        )\n",
    "\n",
    "    # Apply the output transformation\n",
    "    reverted_formula = f\"(({formula}) * ({y_max} - {y_min})) + {y_min}\"\n",
    "    return reverted_formula\n",
    "\n",
    "def compute_fitness_from_formula(formula, x_data, y_data):\n",
    "    \"\"\"\n",
    "    Compute MSE fitness directly from a reverted formula.\n",
    "\n",
    "    Parameters:\n",
    "        formula: str, reverted symbolic regression formula.\n",
    "        x_data: np.ndarray, input data in original scale (variables, samples).\n",
    "        y_data: np.ndarray, true output data in original scale (samples).\n",
    "\n",
    "    Returns:\n",
    "        float, MSE fitness.\n",
    "    \"\"\"\n",
    "    # Convert the formula to a lambda function\n",
    "    eval_formula = eval(f\"lambda x: {formula}\", {\"np\": np})\n",
    "\n",
    "    # Compute predictions\n",
    "    y_pred = eval_formula(x_data)\n",
    "\n",
    "    # Calculate MSE\n",
    "    mse = np.mean(np.square(y_data - y_pred))\n",
    "    return mse "
   ]
  },
  {
   "cell_type": "markdown",
   "metadata": {},
   "source": [
    "### Algorithm Execution and Results Computation"
   ]
  },
  {
   "cell_type": "code",
   "execution_count": 44,
   "metadata": {},
   "outputs": [
    {
     "name": "stderr",
     "output_type": "stream",
     "text": [
      "  0%|          | 1/1000 [00:00<01:47,  9.31it/s]"
     ]
    },
    {
     "name": "stdout",
     "output_type": "stream",
     "text": [
      "Generation 1, Island: 0, Best Fitness: 2217.659896367984, Best Formula: np.multiply(np.minimum(np.minimum(np.remainder(x[1], np.maximum(-0.8854616564110973, -6.58251235725513)), np.multiply(x[0], -4.040675394717335)), np.remainder(np.subtract(x[2], -6.705519015200247), np.divide(x[2], -4.304910572799341))), np.minimum(np.maximum(np.remainder(-7.217951199898449, 6.793900190738029), np.power(7.399890871370321, -2.243533591555691)), np.minimum(x[1], np.exp(4.789601873674735))))\n",
      "Generation 1, Island: 1, Best Fitness: 2382.385410930035, Best Formula: np.maximum(np.add(np.absolute(9.788478116484768), np.remainder(np.square(x[0]), np.multiply(x[0], x[0]))), np.multiply(np.multiply(np.subtract(x[1], x[0]), np.subtract(x[2], -3.686533953666789)), np.remainder(np.maximum(9.752960408324796, x[0]), np.arctan(-4.743166891034298))))\n",
      "Generation 1, Island: 2, Best Fitness: 2708.5553219810017, Best Formula: np.remainder(np.reciprocal(x[2]), np.sqrt(np.remainder(x[1], np.power(6.680527188172732, x[0]))))\n",
      "Generation 1, Island: 3, Best Fitness: 2441.0849104499616, Best Formula: np.add(np.subtract(np.maximum(np.divide(-9.80202011138701, -2.4510266485530563), np.subtract(9.1934505127631, -9.901511420427214)), np.minimum(np.add(x[0], 7.031537280249424), np.maximum(x[2], x[1]))), np.subtract(np.rint(-5.600052975491425), -2.2950514234860853))\n",
      "Generation 1, Island: 4, Best Fitness: 2072.6998408034924, Best Formula: np.subtract(np.subtract(np.multiply(np.minimum(x[1], 0.8834229912038456), -9.244102564473636), np.divide(np.remainder(-7.613826030665387, -4.683104994062564), np.negative(0.3428364226914766))), np.minimum(np.subtract(np.multiply(x[0], 6.4752532371645835), np.minimum(-4.194178869688385, 1.6582532029354944)), np.subtract(np.add(5.8826605754953025, x[2]), np.multiply(8.271515087365557, x[2]))))\n"
     ]
    },
    {
     "name": "stderr",
     "output_type": "stream",
     "text": [
      "  5%|▌         | 51/1000 [00:06<02:29,  6.33it/s]"
     ]
    },
    {
     "name": "stdout",
     "output_type": "stream",
     "text": [
      "Generation 51, Island: 0, Best Fitness: 455.4168002459328, Best Formula: np.multiply(np.minimum(np.minimum(np.multiply(x[1], np.subtract(0.8778148494655511, np.remainder(x[1], np.multiply(x[1], 3.4626196652052528)))), np.multiply(x[0], np.add(x[1], np.subtract(2.454447808266334, 4.242965484828424)))), np.remainder(np.divide(x[1], -7.52774615304525), np.divide(x[2], np.remainder(np.maximum(np.subtract(3.4626196652052528, 2.85968859994332), np.remainder(4.146371522522159, -5.477550809363216)), np.add(np.rint(8.905717992093813), -7.52774615304525))))), np.minimum(x[1], np.exp(np.multiply(x[1], 9.0085749803333))))\n",
      "Generation 51, Island: 1, Best Fitness: 509.97343830304516, Best Formula: np.multiply(np.tanh(np.cbrt(np.add(x[1], np.remainder(np.multiply(x[1], 6.147109215849277), np.divide(np.divide(-5.1821274621536295, 6.546110235422244), np.multiply(x[2], -6.796867174843923)))))), np.minimum(np.multiply(x[1], np.subtract(2.360238593894671, 0.7425713121297086)), np.subtract(np.multiply(np.multiply(x[1], -4.415720052480349), -5.249700796816963), np.maximum(np.multiply(x[1], np.multiply(x[1], np.multiply(x[1], 2.0896332471311947))), x[0]))))\n",
      "Generation 51, Island: 2, Best Fitness: 676.3760515084948, Best Formula: np.maximum(np.multiply(9.791252258276053, np.minimum(x[1], np.multiply(9.791252258276053, np.minimum(x[1], -5.981967711850665)))), np.subtract(np.maximum(x[2], np.subtract(np.maximum(-1.3938882399862234, x[0]), np.subtract(x[1], 7.982871986184591))), np.minimum(np.add(-1.3938882399862234, np.add(np.multiply(7.982871986184591, np.minimum(x[1], 7.982871986184591)), -5.625499515604531)), np.add(np.multiply(9.791252258276053, np.minimum(x[1], 7.982871986184591)), np.add(np.multiply(9.791252258276053, np.minimum(x[1], 7.982871986184591)), 9.791252258276053)))))\n",
      "Generation 51, Island: 3, Best Fitness: 1588.4128214379894, Best Formula: np.remainder(np.divide(np.maximum(np.multiply(np.power(np.subtract(9.1934505127631, 8.155346839464986), -4.212879058061596), np.maximum(1.7658162108102324, x[2])), np.minimum(np.minimum(8.155346839464986, 0.9509043104844821), np.power(np.subtract(9.1934505127631, -0.8909776253978912), np.cbrt(-9.901511420427214)))), np.maximum(np.add(x[1], x[1]), -0.8909776253978912)), np.maximum(np.subtract(x[0], np.remainder(-2.801391280046113, np.power(np.add(np.subtract(8.155346839464986, -4.212879058061596), np.subtract(9.1934505127631, -2.801391280046113)), np.cbrt(-1.8295120504774047)))), np.add(np.subtract(9.1934505127631, -9.901511420427214), np.add(np.subtract(9.1934505127631, -4.212879058061596), np.subtract(9.1934505127631, -9.901511420427214)))))\n",
      "Generation 51, Island: 4, Best Fitness: 504.4096657570405, Best Formula: np.subtract(np.subtract(np.multiply(np.divide(x[1], 0.8834229912038456), -9.244102564473636), np.add(-9.244102564473636, np.add(np.remainder(np.subtract(np.minimum(-5.847294354957473, -7.701766056982673), x[0]), np.subtract(np.remainder(x[1], -5.847294354957473), np.remainder(0.18727177999080347, 1.3346594766904758))), np.maximum(np.multiply(5.8826605754953025, x[2]), np.remainder(3.2603408782405268, -2.7928357192250512))))), np.minimum(np.subtract(np.multiply(x[0], np.negative(5.8826605754953025)), np.multiply(np.minimum(x[1], np.divide(0.3428364226914766, np.negative(0.3428364226914766))), np.minimum(x[1], np.divide(0.3428364226914766, np.negative(0.3428364226914766))))), np.subtract(np.divide(x[1], 0.8834229912038456), np.multiply(np.minimum(x[1], np.divide(0.3428364226914766, np.negative(0.3428364226914766))), np.minimum(0.8834229912038456, -7.701766056982673)))))\n"
     ]
    },
    {
     "name": "stderr",
     "output_type": "stream",
     "text": [
      "  8%|▊         | 83/1000 [00:12<02:50,  5.37it/s]"
     ]
    }
   ],
   "source": [
    "#UNCOMMENT TO PROFILE THE CODE (and comment the rest of the code)\n",
    "# cProfile.run(\"regressor.evolve()\",sort=\"tottime\") #for profiling so we can see the time taken by each function\n",
    "#the output will include the following columns:\n",
    "#tottime: Total time spent in the function (excluding time spent in other functions it calls).\n",
    "#cumtime: Cumulative time spent in the function (including time spent in sub-functions).\n",
    "\n",
    "# Execute the algorithm\n",
    "best_tree, best_fitness = regressor.evolve()    # FIX: high <= 0. There is a problem in mutate_subtree() after normalization?\n",
    "\n",
    "print(f\"Train Fitness: {best_fitness}\")\n",
    "# Calculate the fitness on original data\n",
    "best_tree.compute_fitness(test=\"test\")\n",
    "\n",
    "# Revert the formula\n",
    "final_formula = best_tree.to_np_formula()\n",
    "\n",
    "#FIXME: NORM\n",
    "# reverted_formula = revert_formula(final_formula, x_stats, y_stats)\n",
    "# print(f\"Reverted Formula:\\n{reverted_formula}\")\n",
    "\n",
    "print(f\"Test Fitness: {best_tree.fitness}\")\n",
    "print(f\"Train-Test Discrepancy: {best_fitness-best_tree.fitness}\")\n",
    "best_tree.compute_fitness(test=\"all\")\n",
    "print(f\"All Fitness: {best_tree.fitness}\")\n",
    "\n",
    "#FIXME: NORM\n",
    "# test_fitness_original=compute_fitness_from_formula(reverted_formula, x_test, y_test)\n",
    "# print(f\"Test Fitness Original: {test_fitness_original}\")\n",
    "# all_fitness_original=compute_fitness_from_formula(reverted_formula, x_train, y_train)\n",
    "# print(f\"all Fitness Original: {all_fitness_original}\")\n",
    "\n",
    "#Print the best tree\n",
    "print(f\"Best Fitness History: {regressor.best_fitness_history}, changed {len(regressor.best_fitness_history)} times\")\n",
    "print(\"Best Tree:\")\n",
    "best_tree.add_drawing()\n"
   ]
  },
  {
   "cell_type": "markdown",
   "metadata": {},
   "source": [
    "### Best Tree Drawing"
   ]
  },
  {
   "cell_type": "code",
   "execution_count": 45,
   "metadata": {},
   "outputs": [
    {
     "name": "stdout",
     "output_type": "stream",
     "text": [
      "Collapsed formula: np.add(np.remainder(np.remainder(-0.49043682524673926, np.minimum(x[0], 5.611306313228393)), 8.80720911832935), np.add(np.multiply(np.add(x[1], x[1]), -7.47506198226596), np.multiply(np.multiply(x[2], -0.49043682524673926), 9.166040866908427)))\n",
      "Best Tree after collapsing:\n"
     ]
    },
    {
     "data": {
      "image/png": "[encoded data removed]",
      "text/plain": [
       "<Figure size 1200x800 with 1 Axes>"
      ]
     },
     "metadata": {},
     "output_type": "display_data"
    }
   ],
   "source": [
    "\n",
    "            \n",
    "tree_clone = best_tree.copy_tree()  \n",
    "Tree.collapse_branch(tree_clone.root,0,force_collapse=True)\n",
    "tree_clone.compute_fitness()           \n",
    "if(tree_clone.fitness is not None or tree_clone.fitness is not np.inf and tree_clone.fitness is not np.nan):\n",
    "                    best_tree = tree_clone\n",
    "\n",
    "\n",
    "print(f\"Collapsed formula: {best_tree.to_np_formula()}\")\n",
    "print(\"Best Tree after collapsing:\")\n",
    "best_tree.add_drawing()\n"
   ]
  },
  {
   "cell_type": "code",
   "execution_count": 46,
   "metadata": {},
   "outputs": [],
   "source": [
    "tree = Tree(\"grow\",max_depth=TREE_MAX_DEPTH,spawn_depth=TREE_SPAWN_DEPTH)"
   ]
  },
  {
   "cell_type": "code",
   "execution_count": 47,
   "metadata": {},
   "outputs": [],
   "source": [
    "formula = tree.to_np_formula()\n",
    "tree2 = Tree.create_tree_from_np_formula(formula)\n",
    "# tree2.compute_fitness()\n",
    "# tree.compute_fitness()\n",
    "assert tree.to_np_formula() == tree2.to_np_formula()\n",
    "assert tree.fitness == tree2.fitness"
   ]
  },
  {
   "cell_type": "markdown",
   "metadata": {},
   "source": [
    "### Some tests"
   ]
  },
  {
   "cell_type": "code",
   "execution_count": 48,
   "metadata": {},
   "outputs": [],
   "source": [
    "\n",
    "# def test_formula(x):\n",
    "#     pass\n",
    "\n",
    "\n",
    "\n",
    "# x_tot=np.concatenate((x_train,x_test),axis=1)\n",
    "# y_tot=np.concatenate((y_train,y_test))\n",
    "# squared_errors = 0\n",
    "# for i in range(1):\n",
    "#     y_pred = test_formula(x_tot[:, i])\n",
    "                 \n",
    "#     squared_errors += np.square(y_tot[i] - y_pred) \n",
    "\n",
    "# print( squared_errors / x_tot.shape[1])\n",
    "   \n",
    "\n",
    "# def testing(tree):\n",
    "#    tree.compute_fitness()\n",
    "#    tree.compute_fitness2()\n",
    "\n",
    "# cProfile.run(\"testing(best_tree)\",sort=\"tottime\") #for profiling so we can see the time taken by each function\n",
    "\n",
    "\n",
    "# best_tree.compute_fitness()\n",
    "# print(best_tree.fitness)\n",
    "# best_tree.compute_fitness2()\n",
    "# print(best_tree.fitness)\n"
   ]
  }
 ],
 "metadata": {
  "kernelspec": {
   "display_name": "3dv2",
   "language": "python",
   "name": "python3"
  },
  "language_info": {
   "codemirror_mode": {
    "name": "ipython",
    "version": 3
   },
   "file_extension": ".py",
   "mimetype": "text/x-python",
   "name": "python",
   "nbconvert_exporter": "python",
   "pygments_lexer": "ipython3",
   "version": "3.10.16"
  }
 },
 "nbformat": 4,
 "nbformat_minor": 2
}
