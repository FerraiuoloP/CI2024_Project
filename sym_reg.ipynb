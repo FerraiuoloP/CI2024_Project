{
 "cells": [
  {
   "cell_type": "code",
   "execution_count": 45,
   "metadata": {},
   "outputs": [],
   "source": [
    "import math\n",
    "import numpy as np\n",
    "from tqdm import tqdm\n",
    "from icecream import ic\n",
    "import cProfile \n",
    "import time\n",
    "import warnings"
   ]
  },
  {
   "cell_type": "code",
   "execution_count": 46,
   "metadata": {},
   "outputs": [
    {
     "data": {
      "text/plain": [
       "{'divide': 'ignore', 'over': 'ignore', 'under': 'ignore', 'invalid': 'ignore'}"
      ]
     },
     "execution_count": 46,
     "metadata": {},
     "output_type": "execute_result"
    }
   ],
   "source": [
    "#warning settings\n",
    "np.seterr(all=\"ignore\") #ignore np warnings, the output will be nan or inf and will be handled correctly in the code. (using np.errstate slows down the code)\n",
    "# warnings.filterwarnings(\"ignore\", category=RuntimeWarning)"
   ]
  },
  {
   "cell_type": "code",
   "execution_count": 47,
   "metadata": {},
   "outputs": [],
   "source": [
    "# Configuration\n",
    "TRAIN_TEST_RATIO=0.3\n",
    "PROBLEM_NUMBER=8"
   ]
  },
  {
   "cell_type": "markdown",
   "metadata": {},
   "source": [
    "### Function definitions"
   ]
  },
  {
   "cell_type": "code",
   "execution_count": 48,
   "metadata": {},
   "outputs": [],
   "source": [
    "# Normalize the training and testing data\n",
    "def normalize_data(x, y, feature_range=(0, 1)):\n",
    "    \"\"\"\n",
    "    Normalize input (x) and output (y) data using min-max normalization.\n",
    "\n",
    "    Parameters:\n",
    "        x: np.ndarray, input data (variables, samples).\n",
    "        y: np.ndarray, output data (samples).\n",
    "        feature_range: tuple (min, max), range for normalization.\n",
    "\n",
    "    Returns:\n",
    "        x_norm: Min-max normalized input data.\n",
    "        y_norm: Min-max normalized output data.\n",
    "        x_stats: Dict containing min and max for x.\n",
    "        y_stats: Dict containing min and max for y.\n",
    "    \"\"\"\n",
    "    x_min = np.min(x, axis=1, keepdims=True)\n",
    "    x_max = np.max(x, axis=1, keepdims=True)\n",
    "    x_norm = (x - x_min) / (x_max - x_min) * (feature_range[1] - feature_range[0]) + feature_range[0]\n",
    "\n",
    "    y_min = np.min(y)\n",
    "    y_max = np.max(y)\n",
    "    y_norm = (y - y_min) / (y_max - y_min) * (feature_range[1] - feature_range[0]) + feature_range[0]\n",
    "\n",
    "    x_stats = {\"min\": x_min, \"max\": x_max}\n",
    "    y_stats = {\"min\": y_min, \"max\": y_max}\n",
    "\n",
    "    return x_norm, y_norm, x_stats, y_stats"
   ]
  },
  {
   "cell_type": "markdown",
   "metadata": {},
   "source": [
    "### Data Loading and Data Preprocessing"
   ]
  },
  {
   "cell_type": "code",
   "execution_count": 49,
   "metadata": {},
   "outputs": [
    {
     "name": "stdout",
     "output_type": "stream",
     "text": [
      "Problem number: 8, variables: 6, train size: 15000, test size: 35000\n",
      "Training data: x shape (6, 15000), y shape (15000,)\n",
      "Testing data: x shape (6, 35000), y shape (35000,)\n"
     ]
    }
   ],
   "source": [
    "# Load problem data with context manager protocol\n",
    "with np.load(f'data/problem_{PROBLEM_NUMBER}.npz') as problem:\n",
    "    x_1 = problem['x']\n",
    "    y_1 = problem['y']\n",
    "\n",
    "# Shuffle the data\n",
    "permutation = np.random.permutation(len(y_1))\n",
    "x_1 = x_1[:, permutation]\n",
    "y_1 = y_1[permutation]\n",
    "\n",
    "# Determine train test split sizes\n",
    "problem_len=len(y_1)\n",
    "train_size=int(TRAIN_TEST_RATIO*problem_len)\n",
    "\n",
    "# Split data\n",
    "x_train = x_1[:, :train_size]\n",
    "y_train = y_1[:train_size]\n",
    "\n",
    "x_test = x_1[:, train_size:]\n",
    "y_test = y_1[train_size:]\n",
    "\n",
    "# Normalize training and testing data\n",
    "#FIXME: NORM\n",
    "# x_train_norm, y_train_norm, x_stats, y_stats = normalize_data(x_train, y_train)\n",
    "# x_test_norm, y_test_norm, _, _ = normalize_data(x_test, y_test)\n",
    "\n",
    "# To view the npz file, run python -m npzviewer \n",
    "# Print dataset information\n",
    "print(f\"Problem number: {PROBLEM_NUMBER}, variables: {x_1.shape[0]}, train size: {train_size}, test size: {problem_len-train_size}\")\n",
    "#FIXME: NORM\n",
    "# print(f\"Training data: x shape {x_train_norm.shape}, y shape {y_train_norm.shape}\")\n",
    "# print(f\"Testing data: x shape {x_test_norm.shape}, y shape {y_test_norm.shape}\")\n",
    "print(f\"Training data: x shape {x_train.shape}, y shape {y_train.shape}\")\n",
    "print(f\"Testing data: x shape {x_test.shape}, y shape {y_test.shape}\")\n",
    "\n"
   ]
  },
  {
   "cell_type": "markdown",
   "metadata": {},
   "source": [
    "### Numpy functions definition"
   ]
  },
  {
   "cell_type": "code",
   "execution_count": 50,
   "metadata": {},
   "outputs": [],
   "source": [
    "unary_ops = [\n",
    "    np.negative,\n",
    "    np.abs,\n",
    "    np.sqrt,\n",
    "    np.exp,\n",
    "    np.log,\n",
    "    np.sin,\n",
    "    np.cos,\n",
    "    np.tan,\n",
    "    np.arcsin,\n",
    "    np.arccos,\n",
    "    np.arctan,\n",
    "    np.sinh,\n",
    "    np.cosh,\n",
    "    np.tanh,\n",
    "    np.square,\n",
    "    np.cbrt,\n",
    "    np.reciprocal,\n",
    "    np.rint\n",
    "\n",
    "    # np.ceil,\n",
    "    # np.floor\n",
    "]\n",
    "\n",
    "binary_ops = [\n",
    "    np.add,\n",
    "    np.subtract,\n",
    "    np.multiply,\n",
    "    np.divide,\n",
    "    np.power,\n",
    "    np.maximum,\n",
    "    np.minimum,\n",
    "    np.mod\n",
    "]"
   ]
  },
  {
   "cell_type": "markdown",
   "metadata": {},
   "source": [
    "### Symbolic Regression Class"
   ]
  },
  {
   "cell_type": "code",
   "execution_count": 51,
   "metadata": {},
   "outputs": [],
   "source": [
    "from tree import Tree\n",
    "\n",
    "class SymbolicRegression:\n",
    "    def __init__(self, population_per_island,island_num, max_generations, mutation_rate, elitism_size, grow_full_ratio,max_mutations,migration_rate,max_depth,spawn_depth,migration_interval):\n",
    "        self.population_per_island = population_per_island\n",
    "        self.island_num = island_num\n",
    "        self.max_generations = max_generations\n",
    "        self.mutation_rate = mutation_rate\n",
    "        self.elitism_size = elitism_size\n",
    "        self.grow_full_ratio = grow_full_ratio\n",
    "        self.max_mutations = max_mutations\n",
    "        self.unary_ops = unary_ops\n",
    "        self.binary_ops = binary_ops\n",
    "        self.migration_rate=migration_rate\n",
    "        self.best_fitness_history = []\n",
    "        self.migration_interval = migration_interval\n",
    "        #init np array  of size island_population\n",
    "        self.max_depth = max_depth\n",
    "        self.spawn_depth = spawn_depth\n",
    "        self.population = [None] * island_num\n",
    "        #DEPTH BASED (decomment every DEPTH BASED line):\n",
    "        # for j in range(island_num):\n",
    "        #     self.population[j] = np.array([\n",
    "        #         Tree(\"grow\",max_depth=max_depth+j,spawn_depth=spawn_depth+j) if i < int(population_per_island * self.grow_full_ratio) else Tree(\"full\",max_depth=max_depth+j,spawn_depth=spawn_depth+j) for i in range(population_per_island)\n",
    "        #     ])\n",
    "        for j in range(island_num):\n",
    "            self.population[j] = np.array([\n",
    "                Tree(\"grow\",max_depth=max_depth,spawn_depth=spawn_depth) if i < int(population_per_island * self.grow_full_ratio) else Tree(\"full\",max_depth=max_depth,spawn_depth=spawn_depth) for i in range(population_per_island)\n",
    "            ])\n",
    "         \n",
    "\n",
    "\n",
    "    # Parents selection methods\n",
    "    def select_parents_fitness_proportional(self, n_elems=2, epsilon=1e-10):\n",
    "        \"\"\"\n",
    "        Individuals with lower fitness have an higher probability to be selected.\n",
    "        Premature convergence if few individuals have significantly better fitness than others.\n",
    "        \"\"\"\n",
    "        fitnesses = [tree.fitness for tree in self.population]\n",
    "        inverted_fitnesses = [1 / (fitness + epsilon) for fitness in fitnesses]  # avoid division by zero\n",
    "        probabilities = inverted_fitnesses / sum(inverted_fitnesses)\n",
    "        parent1, parent2 = np.random.choice(self.population, size=n_elems, p=probabilities, replace=False)\n",
    "        return parent1, parent2\n",
    "    \n",
    "    def select_parents_lexicase(self):  # TODO: implement this\n",
    "        pass\n",
    "\n",
    "    def select_parents_rank_based(self, n_elems=2,island=0):\n",
    "        \"\"\"\n",
    "        Rank-based selection method.\n",
    "        Assigns probabilities based on inversed ranks instead of absolute fitness values.\n",
    "        \"\"\"\n",
    "        fitnesses = np.array([tree.fitness for tree in self.population[island]])\n",
    "        ranks = np.argsort(fitnesses)\n",
    "        inversed_ranks = len(fitnesses) - ranks\n",
    "        probabilities = inversed_ranks / np.sum(inversed_ranks)\n",
    "        return np.random.choice(self.population[island], n_elems, p=probabilities, replace=False)\n",
    "    \n",
    "    def select_parents_tournament(self,island=0):\n",
    "        tournament_size = 5\n",
    "        tournament = list(np.random.choice(self.population[island], tournament_size, replace=True))\n",
    "        tournament.sort(key=lambda x: x.fitness)\n",
    "        return tournament[0], tournament[1]\n",
    "    \n",
    "    def select_parents(self, island):\n",
    "        return self.select_parents_rank_based(island=island)\n",
    "\n",
    "    # Mutation methods\n",
    "    def mutate(self, tree):\n",
    "        if np.random.rand() < 0.5:\n",
    "            tree.mutate_subtree()\n",
    "        else:\n",
    "            mutations = np.random.randint(1, self.max_mutations+1)\n",
    "            tree.mutate_single_node(num_mutations=mutations)\n",
    "        \n",
    "        if np.random.rand() < 0.5:\n",
    "            #clone the tree and collapse the branch\n",
    "            tree_clone = tree.copy_tree()\n",
    "        \n",
    "            Tree.collapse_branch(tree_clone.root,force_collapse=True)\n",
    "            tree_clone.compute_fitness()\n",
    "            if(tree_clone.fitness is not None or tree_clone.fitness is not np.inf and tree_clone.fitness is not np.nan):\n",
    "                    tree = tree_clone\n",
    "\n",
    "\n",
    "    # Offsprings generation via mutation and crossover\n",
    "    def offspring_generation(self,island):\n",
    "        new_population = np.array([])\n",
    "\n",
    "        # Elitism   \n",
    "        elite_individuals = self.population[island][:self.elitism_size]\n",
    "        new_population = elite_individuals\n",
    "\n",
    "        # Main loop\n",
    "        while len(new_population) < self.population_per_island: #//2:\n",
    "            parent1, parent2 = self.select_parents(island=island)\n",
    "\n",
    "            # generate offsprings (one in mutation, two in crossover)\n",
    "            offsprings = np.array([])\n",
    "\n",
    "            if(np.random.rand() < self.mutation_rate):\n",
    "                parent_clone = parent1.copy_tree()\n",
    "                self.mutate(parent_clone)\n",
    "                # parent_clone.root.collapse_branch()\n",
    "                parent_clone.compute_fitness()\n",
    "                # if(parent_clone not in new_population):\n",
    "                offsprings = np.append(offsprings, [parent_clone])\n",
    "\n",
    "            else:    \n",
    "                offspring1, offspring2 = parent1.crossover(parent2)\n",
    "                if(offspring1 is not None or offspring2 is not None):\n",
    "                    # offspring1.root.collapse_branch()\n",
    "                    # offspring2.root.collapse_branch()\n",
    "            \n",
    "                    offspring1.compute_fitness()\n",
    "                    offspring2.compute_fitness()\n",
    "\n",
    "                    offsprings = np.append(offsprings, [offspring1, offspring2])\n",
    "\n",
    "            new_population = np.concatenate((new_population, offsprings))\n",
    "                \n",
    "        return new_population\n",
    "    \n",
    "    # Genetic Algorithm: Evolutionary Process\n",
    "    def evolve(self):\n",
    "        best_tree_island = np.full(self.island_num, None, dtype=object)\n",
    "        best_fitness_island = np.full(self.island_num, np.inf)\n",
    "        global_best_fitness = np.inf\n",
    "        global_best_tree = None\n",
    "        take_over = np.full(self.island_num, False)\n",
    "        # self.population_per_island.sort(key=lambda x: x.fitness) \n",
    "        #numpy sort of population over fitness\n",
    "        for i in range(self.island_num):\n",
    "            self.population[i].sort()\n",
    "      \n",
    "\n",
    "\n",
    "        for generation in tqdm(range(self.max_generations)):\n",
    "           \n",
    "            for i in range(self.island_num):\n",
    "                if take_over[i]:\n",
    "                    # print(f\"Takeover at {generation} gen on island {i} + {len(self.population[i])}\")\n",
    "                    # trasform the population in set and then back to list to remove duplicates\n",
    "                    self.population[i] = np.unique(self.population[i])\n",
    "                    # sort the population based on fitness\n",
    "                    self.population[i].sort()\n",
    "                    self.population[i] = self.population[i][:int(self.population_per_island*0.1)]\n",
    "                    #DEPTH BASED (decomment every DEPTH BASED line):\n",
    "                    # new_trees = np.array([Tree(\"grow\",max_depth=self.max_depth+i,spawn_depth=self.spawn_depth+i) for _ in range(int(self.population_per_island*0.9))])\n",
    "                    new_trees = np.array([Tree(\"grow\",max_depth=self.max_depth,spawn_depth=self.spawn_depth) for _ in range(int(self.population_per_island*0.9))])\n",
    "                    self.population[i]=np.concatenate((self.population[i],new_trees))\n",
    "                    self.population[i].sort()\n",
    "                \n",
    "                #DEPTH BASED (decomment every DEPTH BASED line):\n",
    "                # if np.random.rand()<self.migration_rate and i!=self.island_num-1:\n",
    "                #     #pick a random island to migrate to that is greater than the current island\n",
    "                #     island_to_migrate = np.random.randint(i+1,self.island_num)\n",
    "                #     #add self.population[i][0] to self.population[island_to_migrate]\n",
    "                #     self.population[island_to_migrate]=np.append(self.population[island_to_migrate],self.population[i][0])\n",
    "                #     print(f\"Migration at {generation} gen bewteen {i} and {island_to_migrate}\")\n",
    "                # if  self.island_num>1 and generation%self.migration_interval==0:\n",
    "                #     island_to_migrate = np.random.randint(0,self.island_num)\n",
    "                #     for _ in range(5):\n",
    "                #         #pick a random island to migrate to that is greater than the current island  \n",
    "                #         #select a random number from 0 to the population size of the current island\n",
    "                #         random_index = np.random.randint(0,len(self.population[i]))\n",
    "                #         #add self.population[i][random_index] to self.population[island_to_migrate]\n",
    "                #         self.population[island_to_migrate]=np.append(self.population[island_to_migrate],self.population[i][random_index])\n",
    "                #         #remove the tree from the current island\n",
    "                #         self.population[i]=np.delete(self.population[i],random_index)\n",
    "\n",
    "\n",
    "                if np.random.rand()<self.migration_rate and self.island_num>1:\n",
    "                    #pick a random island to migrate to that is greater than the current island\n",
    "                    island_to_migrate = np.random.randint(0,self.island_num)\n",
    "                    #select a random number from 0 to the population size of the current island\n",
    "                    random_index = np.random.randint(0,len(self.population[i]))\n",
    "                    #add self.population[i][random_index] to self.population[island_to_migrate]\n",
    "                    self.population[island_to_migrate]=np.append(self.population[island_to_migrate],self.population[i][random_index])\n",
    "                    #remove the tree from the current island\n",
    "                    self.population[i]=np.delete(self.population[i],random_index)\n",
    "                    \n",
    "\n",
    "\n",
    "                    print(f\"Migration at {generation} gen from {i} to {island_to_migrate}\")\n",
    "\n",
    "\n",
    "                new_population=self.offspring_generation(island=i)\n",
    "\n",
    "\n",
    "                # for tree in new_population:\n",
    "                #     tree.compute_fitness()\n",
    "                    \n",
    "                self.population[i]=np.concatenate((self.population[i],new_population))\n",
    "                self.population[i].sort()\n",
    "                \n",
    "                generation_best_fitness_island = self.population[i][0].fitness\n",
    "\n",
    "                if generation_best_fitness_island < best_fitness_island[i]:\n",
    "                    best_fitness_island[i] = generation_best_fitness_island\n",
    "                    best_tree_island[i] = self.population[i][0]\n",
    "                    self.best_fitness_history.append(best_fitness_island[i])\n",
    "\n",
    "                    if(best_fitness_island[i] < global_best_fitness):\n",
    "                        global_best_fitness = best_fitness_island[i]\n",
    "                        global_best_tree = best_tree_island[i]\n",
    "\n",
    "\n",
    "                #trim the population to the best island_population\n",
    "                \n",
    "                self.population[i] = self.population[i][:self.population_per_island]\n",
    "                # print(f\"Generation {generation + 1}, Best Fitness: {best_fitness}\")\n",
    "                \n",
    "\n",
    "                n_best = [elem for elem in self.population[i] if elem.fitness == self.population[i][0].fitness]\n",
    "                take_over[i] = False\n",
    "                if len(n_best) > 0.9 * self.population_per_island:\n",
    "                        take_over[i] = True\n",
    "                        # print(f\"Takeover at {generation} gen\")     \n",
    "                if(generation%50==0):\n",
    "                    print(f\"Generation {generation + 1}, Island: {i}, Best Fitness: {best_fitness_island[i]}, Best Formula: {best_tree_island[i].to_np_formula()}\")\n",
    "                # if best_fitness <= 1e-33:\n",
    "                #     break   \n",
    "\n",
    "        return global_best_tree, global_best_fitness"
   ]
  },
  {
   "cell_type": "markdown",
   "metadata": {},
   "source": [
    "### Problem Definition and Symbolic Regression Initialization"
   ]
  },
  {
   "cell_type": "code",
   "execution_count": 52,
   "metadata": {},
   "outputs": [],
   "source": [
    "ISLAND_POPULATION = 50\n",
    "ISLAND_NUM = 4\n",
    "MAX_GENERATIONS = 1000000\n",
    "MUTATION_RATE = 0.35\n",
    "ELITISM_SIZE = 0\n",
    "GROW_FULL_RATIO = 1\n",
    "\n",
    "TREE_MAX_DEPTH = 8\n",
    "TREE_SPAWN_DEPTH = 4 #the max depth at which the tree will be spawned, they can grow up to TREE_MAX_DEPTH\n",
    "\n",
    "\n",
    "VAR_NUM = x_train.shape[0]\n",
    "CONST_RANGE = 10 # Constats will be in the range [-CONST_RANGE, CONST_RANGE]\n",
    "MAX_MUTATIONS = 3  # Maximum number of mutations in a single mutation operation\n",
    "\n",
    "MIGRATION_RATE = 0.0025\n",
    "MIGRATION_INTERVAL = 100\n",
    "#FIXME: NORM\n",
    "# Tree.set_params(unary_ops, binary_ops, VAR_NUM, 10, TREE_DEPTH, x_train_norm, y_train_norm, x_test_norm, y_test_norm)\n",
    "\n",
    "Tree.set_params(unary_ops, binary_ops, VAR_NUM, CONST_RANGE, x_train, y_train, x_test, y_test)\n",
    "regressor = SymbolicRegression(\n",
    "    ISLAND_POPULATION,\n",
    "    ISLAND_NUM,\n",
    "    MAX_GENERATIONS,\n",
    "    MUTATION_RATE,\n",
    "    ELITISM_SIZE,\n",
    "    GROW_FULL_RATIO,\n",
    "    MAX_MUTATIONS,\n",
    "    MIGRATION_RATE,\n",
    "    TREE_MAX_DEPTH,\n",
    "    TREE_SPAWN_DEPTH,\n",
    "    MIGRATION_INTERVAL\n",
    "\n",
    "\n",
    "    #(x_train, y_train)   # per lexicase\n",
    ")\n",
    "#print the trees\n"
   ]
  },
  {
   "cell_type": "markdown",
   "metadata": {},
   "source": [
    "### Formula Revertion and Fitness Computation"
   ]
  },
  {
   "cell_type": "code",
   "execution_count": 53,
   "metadata": {},
   "outputs": [],
   "source": [
    "\n",
    "def revert_formula(formula, x_stats, y_stats):\n",
    "    \"\"\"\n",
    "    Revert a formula from normalized space to original space for min-max normalization.\n",
    "\n",
    "    Parameters:\n",
    "        formula: str, symbolic regression formula in normalized space.\n",
    "        x_stats: dict, stats for input normalization (min, max).\n",
    "        y_stats: dict, stats for output normalization (min, max).\n",
    "\n",
    "    Returns:\n",
    "        str, formula in the original space.\n",
    "    \"\"\"\n",
    "    x_mins = x_stats[\"min\"].flatten()\n",
    "    x_maxs = x_stats[\"max\"].flatten()\n",
    "    y_min = y_stats[\"min\"]\n",
    "    y_max = y_stats[\"max\"]\n",
    "\n",
    "    # Wrap variables with normalization transformations\n",
    "    for i, (x_min, x_max) in enumerate(zip(x_mins, x_maxs)):\n",
    "        formula = formula.replace(\n",
    "            f\"x[{i}]\",\n",
    "            f\"(x[{i}] * ({x_max} - {x_min}) + {x_min})\"\n",
    "        )\n",
    "\n",
    "    # Apply the output transformation\n",
    "    reverted_formula = f\"(({formula}) * ({y_max} - {y_min})) + {y_min}\"\n",
    "    return reverted_formula\n",
    "\n",
    "def compute_fitness_from_formula(formula, x_data, y_data):\n",
    "    \"\"\"\n",
    "    Compute MSE fitness directly from a reverted formula.\n",
    "\n",
    "    Parameters:\n",
    "        formula: str, reverted symbolic regression formula.\n",
    "        x_data: np.ndarray, input data in original scale (variables, samples).\n",
    "        y_data: np.ndarray, true output data in original scale (samples).\n",
    "\n",
    "    Returns:\n",
    "        float, MSE fitness.\n",
    "    \"\"\"\n",
    "    # Convert the formula to a lambda function\n",
    "    eval_formula = eval(f\"lambda x: {formula}\", {\"np\": np})\n",
    "\n",
    "    # Compute predictions\n",
    "    y_pred = eval_formula(x_data)\n",
    "\n",
    "    # Calculate MSE\n",
    "    mse = np.mean(np.square(y_data - y_pred))\n",
    "    return mse "
   ]
  },
  {
   "cell_type": "code",
   "execution_count": 54,
   "metadata": {},
   "outputs": [
    {
     "data": {
      "text/plain": [
       "2.4587669906486217e+45"
      ]
     },
     "execution_count": 54,
     "metadata": {},
     "output_type": "execute_result"
    }
   ],
   "source": [
    "compute_fitness_from_formula(\"np.exp(np.square(np.multiply(np.multiply(-0.5453290513341242, -0.3559783504430727), np.add(np.multiply(np.multiply(x[1], x[0]), np.subtract(np.absolute(np.absolute(np.absolute(np.tan(-0.9144160900652034)))), np.sin(np.multiply(np.subtract(0.7048732443752681, np.multiply(x[1], x[0])), np.multiply(np.add(-1.933594769143653, -0.21950536092878314), np.remainder(0.058267655791954365, 1.6095452021540755)))))), np.multiply(np.subtract(np.multiply(np.divide(np.power(np.remainder(0.9409641151845616, 0.9850807896062177), np.power(0.9850807896062177, -0.9132639186362899)), np.power(np.power(0.9404743932099757, 1.3755139950965098), np.remainder(x[0], 0.17908034227130276))), np.power(np.power(np.power(0.9850807896062177, -0.5022007642052508), np.remainder(x[0], -0.5453290513341242)), np.multiply(np.add(x[1], -0.5453290513341242), x[0]))), np.absolute(np.arctan(np.arctan(np.subtract(x[0], x[1]))))), np.add(np.multiply(1.7743339625324417, np.add(np.tan(0.49803913145345025), np.power(np.power(0.9850807896062177, -1.789850963064198), np.remainder(-1.646242327114337, x[1])))), np.exp(np.add(np.power(np.power(0.9850807896062177, 1.996052865628402), np.remainder(x[0], 0.9659013507711744)), np.power(np.power(0.9404743932099757, 0.7304670270130629), np.subtract(x[0], x[1]))))))))))\", x_1, y_1)"
   ]
  },
  {
   "cell_type": "markdown",
   "metadata": {},
   "source": [
    "### Algorithm Execution and Results Computation"
   ]
  },
  {
   "cell_type": "code",
   "execution_count": 55,
   "metadata": {},
   "outputs": [
    {
     "name": "stderr",
     "output_type": "stream",
     "text": [
      "  0%|          | 4050/1000000 [1:23:13<368:28:38,  1.33s/it]"
     ]
    },
    {
     "name": "stdout",
     "output_type": "stream",
     "text": [
      "Generation 4051, Island: 0, Best Fitness: 7210.66064432323, Best Formula: np.minimum(np.subtract(np.add(np.multiply(np.multiply(np.minimum(np.sinh(x[5]), np.sinh(x[5])), np.maximum(np.add(2.6207832272206506, 6.695358044391064), np.subtract(np.divide(x[0], x[0]), np.minimum(2.6207832272206506, 3.025150828938454)))), np.maximum(np.maximum(np.minimum(np.cosh(x[5]), np.power(2.6207832272206506, 3.025150828938454)), np.minimum(np.tanh(x[5]), np.square(x[5]))), np.add(np.minimum(np.multiply(2.6207832272206506, 6.716787783138759), np.square(x[5])), np.divide(np.square(x[5]), np.absolute(x[5]))))), np.minimum(np.multiply(np.sinh(x[4]), np.maximum(np.multiply(-3.7937243858573027, np.add(-0.6700783676600786, -9.086916765712074)), x[3])), np.add(x[5], np.multiply(np.multiply(np.sinh(x[4]), np.negative(4.070986083664829)), np.add(2.6207832272206506, np.maximum(3.025150828938454, 6.357188936139526)))))), np.minimum(np.maximum(np.add(np.power(np.maximum(np.maximum(4.070986083664829, 3.025150828938454), np.remainder(-8.834402206752802, x[1])), np.remainder(np.remainder(x[4], -3.7937243858573027), 3.025150828938454)), np.minimum(np.add(np.sinh(x[4]), np.add(-0.6904692721820371, 3.025150828938454)), np.add(np.minimum(-6.530635069831985, x[2]), np.subtract(-9.086916765712074, 9.137450839147675)))), np.add(np.maximum(np.multiply(np.subtract(-3.7937243858573027, 6.695358044391064), np.add(8.680667755883558, 8.44396666119626)), np.divide(np.power(6.716787783138759, 3.025150828938454), np.maximum(-9.174199129628121, x[3]))), np.divide(np.multiply(np.maximum(-9.174199129628121, x[3]), np.exp(4.583029845151287)), np.multiply(np.reciprocal(-0.7462655368400206), np.multiply(2.8564813916531744, 0.4059194895949467))))), np.remainder(np.maximum(np.divide(np.power(4.583029845151287, 3.025150828938454), np.subtract(x[3], np.absolute(2.0186061404727376))), np.divide(np.multiply(np.minimum(-6.614260315774521, 7.362835471422905), np.power(4.583029845151287, 4.070986083664829)), np.add(np.power(3.025150828938454, 3.6896856709159884), np.multiply(4.583029845151287, 9.137450839147675)))), np.multiply(np.minimum(np.subtract(np.power(2.6207832272206506, 4.583029845151287), np.sinh(x[4])), np.multiply(-4.109412935321963, np.maximum(-9.086916765712074, x[3]))), np.add(8.680667755883558, 8.680667755883558))))), np.subtract(np.multiply(np.add(np.multiply(np.minimum(np.add(np.maximum(-9.62084356692828, x[3]), np.sinh(x[5])), np.add(np.cosh(x[5]), -0.6700783676600786)), np.add(np.minimum(np.add(3.025150828938454, 6.695358044391064), np.square(x[5])), np.minimum(np.sinh(7.491361533595217), np.absolute(x[5])))), np.multiply(np.maximum(np.divide(np.multiply(6.716787783138759, 6.695358044391064), np.absolute(x[5])), np.add(np.absolute(x[5]), 6.695358044391064)), np.maximum(np.add(np.sinh(x[5]), np.cos(x[5])), np.remainder(np.add(3.025150828938454, 4.583029845151287), 6.695358044391064)))), 8.680667755883558), np.minimum(np.square(np.maximum(np.multiply(np.minimum(np.sinh(x[4]), np.multiply(0.6918033302107176, -6.530635069831985)), np.add(np.sinh(x[5]), 9.137450839147675)), np.add(np.minimum(np.multiply(2.6207832272206506, 6.716787783138759), np.square(x[5])), np.minimum(4.070986083664829, np.absolute(x[5]))))), np.square(np.minimum(np.add(np.add(np.sinh(x[5]), -9.086916765712074), np.minimum(np.cosh(x[5]), 7.362835471422905)), np.add(np.add(np.subtract(-9.086916765712074, 9.137450839147675), np.cbrt(-5.538747071485592)), np.minimum(np.maximum(-0.6904692721820371, x[3]), np.multiply(0.6918033302107176, -6.614260315774521))))))))\n",
      "Generation 4051, Island: 1, Best Fitness: 7272.03857381225, Best Formula: np.minimum(np.subtract(np.add(np.multiply(np.multiply(np.minimum(np.sinh(x[5]), np.sinh(x[5])), np.maximum(np.add(2.6207832272206506, 6.695358044391064), np.subtract(np.divide(x[0], x[0]), np.power(8.680667755883558, 3.025150828938454)))), np.maximum(np.maximum(np.minimum(np.cosh(x[5]), np.power(2.6207832272206506, 3.025150828938454)), np.minimum(np.tanh(x[5]), 4.070986083664829)), np.add(np.minimum(np.multiply(2.6207832272206506, 6.716787783138759), np.square(x[5])), np.minimum(np.multiply(4.583029845151287, 9.137450839147675), np.absolute(x[5]))))), np.minimum(np.multiply(np.sinh(x[4]), np.maximum(np.multiply(-3.7937243858573027, np.add(-0.6904692721820371, -9.086916765712074)), x[3])), np.add(x[5], np.multiply(np.multiply(np.sinh(x[4]), np.negative(4.070986083664829)), np.add(2.6207832272206506, np.maximum(3.025150828938454, 6.357188936139526)))))), np.minimum(np.maximum(np.remainder(np.power(np.maximum(np.maximum(2.6207832272206506, 3.025150828938454), np.remainder(-8.834402206752802, x[1])), np.remainder(np.remainder(x[4], -4.190526875841163), 3.025150828938454)), np.minimum(np.add(np.sinh(x[4]), np.add(-0.6904692721820371, 2.0186061404727376)), np.add(np.minimum(-9.62084356692828, x[2]), np.subtract(-9.086916765712074, 9.137450839147675)))), np.add(np.maximum(np.multiply(np.subtract(-3.7937243858573027, 6.695358044391064), np.add(8.680667755883558, 8.44396666119626)), np.divide(np.power(6.716787783138759, 3.025150828938454), np.maximum(-9.174199129628121, x[3]))), np.divide(np.multiply(np.maximum(-9.174199129628121, x[3]), np.exp(4.583029845151287)), np.multiply(np.reciprocal(-0.7462655368400206), np.multiply(2.8564813916531744, 0.4059194895949467))))), np.remainder(np.maximum(np.divide(np.power(4.583029845151287, 3.025150828938454), np.subtract(x[3], np.absolute(2.0186061404727376))), np.divide(np.multiply(np.minimum(-6.614260315774521, 2.6207832272206506), np.power(4.583029845151287, 4.070986083664829)), np.add(np.power(3.025150828938454, 3.6896856709159884), np.multiply(4.583029845151287, 9.137450839147675)))), np.multiply(np.minimum(np.subtract(np.power(2.6207832272206506, 4.583029845151287), np.sinh(x[4])), np.multiply(-4.109412935321963, np.maximum(-9.086916765712074, x[3]))), np.add(8.680667755883558, 8.680667755883558))))), np.subtract(np.multiply(np.add(np.multiply(np.minimum(np.add(np.maximum(-9.62084356692828, x[3]), np.sinh(x[5])), np.add(np.cosh(x[5]), -0.7396931067515506)), np.add(np.minimum(np.add(3.025150828938454, 6.695358044391064), np.square(x[5])), np.minimum(np.square(x[5]), np.absolute(x[5])))), np.multiply(np.maximum(np.divide(np.multiply(6.716787783138759, 6.695358044391064), np.absolute(x[5])), np.add(np.absolute(x[5]), 6.695358044391064)), np.maximum(np.add(np.sinh(x[5]), np.cos(x[5])), np.remainder(np.add(3.025150828938454, 4.583029845151287), 6.695358044391064)))), 8.680667755883558), np.minimum(np.square(np.maximum(np.multiply(np.minimum(np.sinh(x[4]), np.multiply(0.6918033302107176, -6.530635069831985)), np.add(np.sinh(x[5]), 9.137450839147675)), np.add(np.minimum(np.multiply(2.6207832272206506, 6.716787783138759), np.square(x[5])), np.minimum(np.rint(3.8753181948170923), np.absolute(x[5]))))), np.square(np.minimum(np.add(np.minimum(np.square(x[5]), np.add(3.025150828938454, 4.583029845151287)), np.minimum(np.maximum(-6.530635069831985, 6.357188936139526), np.square(x[5]))), np.add(np.add(np.subtract(-9.086916765712074, 9.137450839147675), np.cbrt(-5.538747071485592)), np.minimum(np.maximum(-9.62084356692828, x[3]), np.multiply(0.6918033302107176, -6.530635069831985))))))))\n",
      "Generation 4051, Island: 2, Best Fitness: 7484.749426949598, Best Formula: np.minimum(np.subtract(np.add(np.multiply(np.multiply(np.sinh(x[5]), np.maximum(np.add(2.6207832272206506, np.maximum(2.5852944295947005, 6.685971936727686)), np.subtract(np.remainder(x[0], 8.900375088336581), np.cos(x[5])))), np.maximum(np.maximum(np.minimum(np.cosh(x[5]), np.power(2.6207832272206506, 3.025150828938454)), np.minimum(np.add(2.6207832272206506, 0.5311451965427167), np.sinh(x[5]))), np.add(np.minimum(np.power(2.5852944295947005, 3.025150828938454), np.square(x[5])), np.minimum(np.square(x[5]), np.absolute(x[5]))))), np.minimum(np.multiply(np.sinh(x[4]), np.maximum(np.multiply(-3.7937243858573027, np.add(-0.5069276167219385, -9.174199129628121)), x[3])), np.add(np.divide(np.minimum(np.sinh(x[4]), np.sinh(x[5])), np.add(-5.85592850910075, 2.6207832272206506)), np.multiply(np.multiply(np.sinh(x[4]), np.negative(4.070986083664829)), np.add(2.6207832272206506, np.maximum(-9.62084356692828, 6.357188936139526)))))), np.minimum(np.maximum(np.add(np.power(np.maximum(np.maximum(0.5311451965427167, 6.695358044391064), np.multiply(x[1], x[3])), np.add(np.remainder(x[4], -4.109412935321963), 2.2960232422156484)), np.minimum(np.minimum(np.sinh(x[4]), np.sinh(x[5])), np.add(np.minimum(-6.530635069831985, x[2]), np.subtract(-9.174199129628121, 8.680667755883558)))), np.add(np.maximum(np.multiply(np.multiply(-9.174199129628121, 0.5311451965427167), np.exp(4.583029845151287)), np.divide(np.power(6.695358044391064, 3.025150828938454), np.maximum(-6.530635069831985, x[3]))), np.divide(np.multiply(np.maximum(-9.174199129628121, x[3]), np.power(4.583029845151287, 3.025150828938454)), np.multiply(np.reciprocal(-0.7462655368400206), np.multiply(2.8564813916531744, 0.4059194895949467))))), np.remainder(np.maximum(np.divide(np.power(4.583029845151287, 3.025150828938454), np.subtract(x[3], 2.1332481808545545)), np.divide(np.multiply(np.minimum(-6.614260315774521, 4.583029845151287), np.power(4.583029845151287, 4.070986083664829)), np.add(np.add(2.5852944295947005, 6.695358044391064), 8.680667755883558))), np.multiply(np.minimum(np.multiply(np.maximum(-9.62084356692828, x[3]), np.maximum(-9.62084356692828, x[3])), np.multiply(-4.109412935321963, np.maximum(-9.62084356692828, x[3]))), np.multiply(6.695358044391064, 2.5852944295947005))))), np.subtract(np.multiply(np.add(np.multiply(np.minimum(np.add(np.maximum(-6.614260315774521, x[3]), np.sinh(x[5])), np.add(np.cosh(x[5]), np.cos(x[5]))), np.add(np.minimum(np.add(3.025150828938454, 6.695358044391064), np.square(x[5])), np.minimum(np.add(8.680667755883558, -4.109412935321963), np.absolute(x[5])))), np.multiply(np.maximum(np.divide(np.multiply(6.695358044391064, 6.695358044391064), np.absolute(x[5])), np.add(np.absolute(x[5]), 6.695358044391064)), np.maximum(np.add(np.sinh(x[5]), np.cos(x[5])), np.remainder(np.divide(-7.7619540715812585, 0.2227292756588728), 2.2477734007444887)))), 8.680667755883558), np.minimum(np.square(np.maximum(np.multiply(-4.109412935321963, np.multiply(-9.174199129628121, 0.5311451965427167)), np.add(np.minimum(np.power(2.6207832272206506, 3.025150828938454), np.sinh(x[5])), np.minimum(np.add(5.819484597829003, x[3]), 4.583029845151287)))), np.square(np.minimum(np.minimum(np.add(np.maximum(-9.174199129628121, x[3]), np.sinh(x[5])), np.add(-9.174199129628121, np.cosh(x[5]))), np.add(np.add(np.sinh(x[5]), np.cos(x[5])), np.minimum(x[5], np.sinh(x[4]))))))))\n"
     ]
    },
    {
     "name": "stderr",
     "output_type": "stream",
     "text": [
      "  0%|          | 4051/1000000 [1:23:15<364:22:36,  1.32s/it]"
     ]
    },
    {
     "name": "stdout",
     "output_type": "stream",
     "text": [
      "Generation 4051, Island: 3, Best Fitness: 7091.029862860157, Best Formula: np.minimum(np.subtract(np.add(np.multiply(np.multiply(np.sinh(x[5]), np.maximum(np.add(2.6207832272206506, np.maximum(2.5852944295947005, 6.685971936727686)), np.subtract(np.divide(x[0], x[0]), np.subtract(x[1], -2.468131319912679)))), np.maximum(np.maximum(np.minimum(np.cosh(x[5]), np.power(2.6207832272206506, 3.025150828938454)), np.multiply(np.minimum(8.018848359911509, -7.400107577350203), 4.583029845151287)), np.add(np.minimum(np.power(2.5852944295947005, 3.025150828938454), np.square(x[5])), np.minimum(np.square(x[5]), np.absolute(x[5]))))), np.minimum(np.multiply(np.sinh(x[4]), np.maximum(np.multiply(-3.7937243858573027, np.add(-0.5069276167219385, -9.174199129628121)), 9.7783579409591)), np.add(np.minimum(np.rint(np.square(4.070986083664829)), np.add(np.sinh(x[5]), np.cosh(x[5]))), np.multiply(np.multiply(np.sinh(x[4]), np.negative(4.070986083664829)), np.add(2.6207832272206506, np.maximum(2.5852944295947005, 6.357188936139526)))))), np.minimum(np.maximum(np.remainder(np.add(np.maximum(np.maximum(-0.6904692721820371, 0.4059194895949467), np.subtract(x[3], 8.018848359911509)), np.add(np.remainder(x[4], -4.109412935321963), 3.025150828938454)), np.minimum(np.minimum(np.sinh(x[4]), np.sinh(x[5])), np.add(np.minimum(-9.174199129628121, x[2]), np.subtract(-9.180448855305453, 8.680667755883558)))), np.add(np.maximum(np.multiply(np.remainder(x[4], -4.109412935321963), np.exp(4.583029845151287)), np.divide(np.power(6.695358044391064, 3.025150828938454), -3.7937243858573027)), np.divide(np.multiply(np.maximum(-9.174199129628121, x[3]), np.exp(4.583029845151287)), np.multiply(np.divide(5.980665508500083, x[3]), np.multiply(2.6207832272206506, 0.4059194895949467))))), np.remainder(np.maximum(np.divide(np.power(4.583029845151287, 3.025150828938454), np.subtract(x[3], 2.1332481808545545)), np.divide(np.multiply(np.minimum(8.018848359911509, -4.109412935321963), 1.1420743436099308), np.add(8.680667755883558, np.absolute(x[5])))), np.multiply(np.minimum(np.multiply(np.multiply(4.583029845151287, 6.695358044391064), np.cosh(x[5])), np.multiply(-4.109412935321963, np.maximum(-9.174199129628121, x[3]))), np.add(8.680667755883558, 8.680667755883558))))), np.subtract(np.multiply(np.add(np.multiply(np.minimum(np.add(np.maximum(-9.174199129628121, x[3]), np.sinh(x[5])), np.add(np.cosh(x[5]), np.sin(x[5]))), np.add(np.minimum(np.add(3.025150828938454, 6.695358044391064), np.square(x[5])), np.minimum(np.add(8.680667755883558, -4.109412935321963), np.absolute(x[5])))), np.multiply(np.maximum(np.divide(np.multiply(6.695358044391064, 6.695358044391064), np.absolute(x[5])), np.add(np.absolute(x[5]), 6.685971936727686)), np.maximum(np.add(np.sinh(x[5]), np.cos(x[5])), np.remainder(np.multiply(0.4059194895949467, 8.018848359911509), 2.2477734007444887)))), 8.680667755883558), np.minimum(np.square(np.maximum(np.multiply(np.add(np.negative(4.070986083664829), np.multiply(0.4059194895949467, 6.685971936727686)), np.sinh(x[5])), np.add(np.minimum(np.power(2.5852944295947005, 3.025150828938454), np.square(x[5])), np.minimum(np.multiply(0.4059194895949467, 8.680667755883558), 4.583029845151287)))), np.square(np.minimum(np.minimum(np.rint(np.square(5.451253771229217)), np.add(np.sinh(x[5]), np.cosh(x[5]))), np.add(np.add(np.sinh(x[5]), np.cos(x[5])), np.minimum(x[5], np.cbrt(2.5852944295947005))))))))\n"
     ]
    },
    {
     "name": "stderr",
     "output_type": "stream",
     "text": [
      "  0%|          | 4100/1000000 [1:24:17<354:47:57,  1.28s/it]"
     ]
    },
    {
     "name": "stdout",
     "output_type": "stream",
     "text": [
      "Generation 4101, Island: 0, Best Fitness: 7193.899745950656, Best Formula: np.minimum(np.subtract(np.add(np.multiply(np.multiply(np.minimum(np.sinh(x[5]), np.sinh(x[5])), np.maximum(np.add(2.6207832272206506, 6.695358044391064), np.subtract(np.divide(x[0], x[0]), np.minimum(2.6207832272206506, 3.025150828938454)))), np.maximum(np.maximum(np.minimum(np.cosh(x[5]), np.power(2.6207832272206506, 3.025150828938454)), np.minimum(np.tanh(x[5]), np.square(x[5]))), np.add(np.minimum(np.multiply(2.6207832272206506, 6.716787783138759), np.square(x[5])), np.divide(np.square(x[5]), np.absolute(x[5]))))), np.minimum(np.multiply(np.sinh(x[4]), np.maximum(np.multiply(-3.7937243858573027, np.add(-0.6700783676600786, -9.086916765712074)), x[3])), np.add(x[5], np.multiply(np.multiply(np.sinh(x[4]), np.negative(4.070986083664829)), np.add(2.6207832272206506, np.maximum(3.025150828938454, 6.357188936139526)))))), np.minimum(np.maximum(np.add(np.power(np.maximum(np.maximum(4.070986083664829, 3.025150828938454), np.remainder(-9.086916765712074, x[1])), np.remainder(np.remainder(x[4], -3.7937243858573027), 3.025150828938454)), np.minimum(np.add(np.sinh(x[4]), np.add(-0.6904692721820371, -3.7937243858573027)), np.add(np.minimum(-9.62084356692828, x[2]), np.subtract(-9.086916765712074, 9.137450839147675)))), np.add(np.maximum(np.multiply(np.subtract(-3.7937243858573027, 6.695358044391064), np.add(8.680667755883558, 8.44396666119626)), np.divide(np.power(6.716787783138759, 3.025150828938454), np.maximum(-9.174199129628121, x[3]))), np.divide(np.multiply(np.maximum(-9.174199129628121, x[3]), np.exp(4.583029845151287)), np.multiply(np.reciprocal(-0.7462655368400206), np.multiply(2.8564813916531744, 0.4059194895949467))))), np.remainder(np.maximum(np.divide(np.power(4.583029845151287, 3.025150828938454), np.subtract(x[3], np.absolute(2.0186061404727376))), np.divide(np.multiply(np.minimum(-6.614260315774521, 7.362835471422905), np.power(4.583029845151287, 4.070986083664829)), np.add(np.power(3.025150828938454, 3.6896856709159884), np.multiply(4.583029845151287, 9.137450839147675)))), np.multiply(np.minimum(np.subtract(np.power(2.6207832272206506, 4.583029845151287), np.sinh(x[4])), np.multiply(-4.109412935321963, np.maximum(-9.086916765712074, x[3]))), np.add(8.680667755883558, 8.680667755883558))))), np.subtract(np.multiply(np.add(np.multiply(np.minimum(np.add(np.maximum(-9.62084356692828, x[3]), np.sinh(x[5])), np.add(np.cosh(x[5]), -0.6700783676600786)), np.add(np.minimum(np.add(3.025150828938454, 6.695358044391064), np.square(x[5])), np.minimum(np.sinh(7.491361533595217), np.absolute(x[5])))), np.multiply(np.maximum(np.divide(np.multiply(6.716787783138759, 6.695358044391064), np.absolute(x[5])), np.add(np.absolute(x[5]), 6.695358044391064)), np.maximum(np.add(np.sinh(x[5]), np.cos(x[5])), np.remainder(np.add(3.025150828938454, 4.583029845151287), 6.695358044391064)))), 8.680667755883558), np.minimum(np.square(np.maximum(np.multiply(np.minimum(np.sinh(x[4]), np.multiply(0.6918033302107176, -6.530635069831985)), np.add(np.sinh(x[5]), 9.137450839147675)), np.add(np.minimum(np.multiply(2.6207832272206506, 6.716787783138759), np.square(x[5])), np.minimum(4.070986083664829, np.absolute(x[5]))))), np.square(np.minimum(np.add(np.add(np.sinh(x[5]), 9.137450839147675), np.minimum(3.025150828938454, 9.137450839147675)), np.add(np.add(np.subtract(-9.086916765712074, 9.137450839147675), np.cbrt(-5.538747071485592)), np.minimum(np.maximum(-0.6904692721820371, x[3]), np.multiply(0.6918033302107176, -6.614260315774521))))))))\n",
      "Generation 4101, Island: 1, Best Fitness: 7271.408530739871, Best Formula: np.minimum(np.subtract(np.add(np.multiply(np.multiply(np.minimum(np.sinh(x[5]), np.sinh(x[5])), np.maximum(np.add(2.6207832272206506, 6.695358044391064), np.subtract(np.divide(x[0], x[0]), np.power(8.680667755883558, 3.025150828938454)))), np.maximum(np.maximum(np.minimum(np.cosh(x[5]), np.power(2.6207832272206506, 3.025150828938454)), np.minimum(np.tanh(x[5]), 4.070986083664829)), np.add(np.minimum(np.multiply(2.6207832272206506, 6.716787783138759), np.square(x[5])), np.minimum(np.multiply(4.583029845151287, 9.137450839147675), np.absolute(x[5]))))), np.minimum(np.multiply(np.sinh(x[4]), np.maximum(np.multiply(-3.7937243858573027, np.add(-0.6904692721820371, -9.086916765712074)), x[3])), np.add(x[5], np.multiply(np.multiply(np.sinh(x[4]), np.negative(4.070986083664829)), np.add(2.6207832272206506, np.maximum(3.025150828938454, 6.357188936139526)))))), np.minimum(np.maximum(np.remainder(np.power(np.maximum(np.maximum(2.6207832272206506, 3.025150828938454), np.remainder(-8.834402206752802, x[1])), np.remainder(np.remainder(x[4], -4.190526875841163), 3.025150828938454)), np.minimum(np.add(np.sinh(x[4]), np.add(-0.6904692721820371, 2.0186061404727376)), np.add(np.minimum(-9.352958355676549, x[2]), np.subtract(-9.086916765712074, 9.137450839147675)))), np.add(np.maximum(np.multiply(np.subtract(-3.7937243858573027, 6.695358044391064), np.add(8.680667755883558, 8.44396666119626)), np.divide(np.power(6.716787783138759, 3.025150828938454), np.maximum(-9.174199129628121, x[3]))), np.divide(np.multiply(np.maximum(-9.174199129628121, x[3]), np.exp(4.583029845151287)), np.multiply(np.reciprocal(-0.7462655368400206), np.multiply(2.8564813916531744, 0.4059194895949467))))), np.remainder(np.maximum(np.divide(np.power(4.583029845151287, 3.025150828938454), np.subtract(x[3], np.absolute(2.0186061404727376))), np.divide(np.multiply(np.minimum(-6.614260315774521, 2.6207832272206506), np.power(4.583029845151287, 4.070986083664829)), np.add(np.power(3.025150828938454, 3.6896856709159884), np.multiply(4.583029845151287, 9.137450839147675)))), np.multiply(np.minimum(np.subtract(np.power(2.6207832272206506, 4.583029845151287), np.sinh(x[4])), np.multiply(-4.109412935321963, np.maximum(-9.086916765712074, x[3]))), np.add(8.680667755883558, 8.680667755883558))))), np.subtract(np.multiply(np.add(np.multiply(np.minimum(np.add(np.maximum(-9.62084356692828, x[3]), np.sinh(x[5])), np.add(np.cosh(x[5]), -0.7396931067515506)), np.add(np.minimum(np.add(3.025150828938454, 6.716787783138759), np.square(x[5])), np.minimum(np.square(x[5]), np.absolute(x[5])))), np.multiply(np.maximum(np.divide(np.multiply(6.716787783138759, 6.695358044391064), np.absolute(x[5])), np.add(np.absolute(x[5]), 6.695358044391064)), np.maximum(np.add(np.sinh(x[5]), np.cos(x[5])), np.remainder(np.add(3.025150828938454, 4.583029845151287), 6.695358044391064)))), 8.680667755883558), np.minimum(np.square(np.maximum(np.multiply(np.minimum(np.sinh(x[4]), np.multiply(0.6918033302107176, -6.530635069831985)), np.add(np.sinh(x[5]), 9.137450839147675)), np.add(np.minimum(np.multiply(2.6207832272206506, 6.716787783138759), np.square(x[5])), np.minimum(np.rint(3.8753181948170923), np.absolute(x[5]))))), np.square(np.minimum(np.add(np.minimum(np.multiply(2.6207832272206506, 6.716787783138759), np.square(x[5])), np.minimum(np.multiply(4.583029845151287, 9.137450839147675), np.absolute(x[5]))), np.add(np.add(np.subtract(-9.086916765712074, 9.137450839147675), np.cbrt(-5.538747071485592)), np.minimum(np.maximum(-9.62084356692828, x[3]), np.multiply(0.6918033302107176, -6.530635069831985))))))))\n",
      "Generation 4101, Island: 2, Best Fitness: 7429.780197372975, Best Formula: np.minimum(np.subtract(np.add(np.multiply(np.multiply(np.sinh(x[5]), np.maximum(np.add(2.6207832272206506, np.maximum(2.5852944295947005, 6.685971936727686)), np.subtract(np.remainder(x[0], 8.900375088336581), np.cos(x[5])))), np.maximum(np.maximum(np.minimum(np.cosh(x[5]), np.power(2.6207832272206506, 3.025150828938454)), np.minimum(np.maximum(2.5852944295947005, 6.685971936727686), np.sinh(x[5]))), np.add(np.minimum(np.power(2.5852944295947005, 3.025150828938454), np.square(x[5])), np.minimum(np.square(x[5]), np.absolute(x[5]))))), np.minimum(np.multiply(np.sinh(x[4]), np.maximum(np.multiply(-3.7937243858573027, np.add(-0.5069276167219385, -9.174199129628121)), x[3])), np.add(np.divide(np.minimum(np.sinh(x[4]), np.sinh(x[5])), np.add(-5.85592850910075, 2.6207832272206506)), np.multiply(np.multiply(np.sinh(x[4]), np.negative(4.070986083664829)), np.add(2.6207832272206506, np.maximum(-9.62084356692828, 6.357188936139526)))))), np.minimum(np.maximum(np.add(np.power(np.maximum(np.maximum(-9.62084356692828, 6.695358044391064), np.multiply(x[1], x[3])), np.tan(x[3])), np.minimum(np.minimum(np.sinh(x[4]), np.sinh(x[5])), np.add(np.minimum(-6.530635069831985, x[2]), np.subtract(-9.174199129628121, 8.680667755883558)))), np.add(np.maximum(np.multiply(np.multiply(-9.174199129628121, 0.5311451965427167), np.exp(4.583029845151287)), np.divide(np.power(6.695358044391064, 3.025150828938454), np.maximum(-6.530635069831985, x[3]))), np.divide(np.multiply(np.maximum(-9.174199129628121, x[3]), np.exp(4.583029845151287)), np.multiply(np.reciprocal(-0.7462655368400206), np.multiply(2.8564813916531744, 0.4059194895949467))))), np.remainder(np.maximum(np.divide(np.power(4.583029845151287, 3.025150828938454), np.subtract(x[3], 2.1332481808545545)), np.divide(np.multiply(np.minimum(-6.614260315774521, 4.583029845151287), np.power(4.583029845151287, 4.070986083664829)), np.add(np.add(3.025150828938454, 6.695358044391064), 8.680667755883558))), np.multiply(np.minimum(np.multiply(np.maximum(-9.62084356692828, x[3]), np.maximum(-9.174199129628121, x[3])), np.multiply(-4.109412935321963, np.maximum(-9.62084356692828, x[3]))), np.multiply(6.695358044391064, 2.5852944295947005))))), np.subtract(np.multiply(np.add(np.multiply(np.minimum(np.add(np.maximum(-6.614260315774521, x[3]), np.sinh(x[5])), np.add(np.cosh(x[5]), np.cos(x[5]))), np.add(np.minimum(np.add(3.025150828938454, 6.695358044391064), np.square(x[5])), np.minimum(np.add(8.680667755883558, 6.695358044391064), np.absolute(x[5])))), np.multiply(np.maximum(np.divide(np.multiply(6.695358044391064, 6.695358044391064), np.absolute(x[5])), np.add(np.absolute(x[5]), 6.695358044391064)), np.maximum(np.add(np.sinh(x[5]), np.cos(x[5])), np.remainder(np.divide(-7.7619540715812585, 0.2227292756588728), 2.2477734007444887)))), 8.680667755883558), np.minimum(np.square(np.maximum(np.multiply(-4.109412935321963, np.multiply(-9.62084356692828, 0.5311451965427167)), np.add(np.minimum(np.power(2.6207832272206506, 3.025150828938454), np.multiply(6.695358044391064, 6.695358044391064)), np.minimum(np.add(5.819484597829003, x[3]), 4.583029845151287)))), np.square(np.minimum(np.minimum(np.add(np.maximum(-9.174199129628121, x[3]), np.sinh(x[5])), np.add(-9.174199129628121, np.cosh(x[5]))), np.add(np.add(np.sinh(x[5]), np.cos(x[5])), np.add(np.maximum(-9.62084356692828, 6.695358044391064), np.sinh(x[5]))))))))\n"
     ]
    },
    {
     "name": "stderr",
     "output_type": "stream",
     "text": [
      "  0%|          | 4101/1000000 [1:24:18<362:12:28,  1.31s/it]"
     ]
    },
    {
     "name": "stdout",
     "output_type": "stream",
     "text": [
      "Generation 4101, Island: 3, Best Fitness: 7066.297095987707, Best Formula: np.minimum(np.subtract(np.add(np.multiply(np.multiply(np.sinh(x[5]), np.maximum(np.add(2.6207832272206506, np.maximum(2.5852944295947005, 6.685971936727686)), np.subtract(np.divide(x[0], x[0]), np.subtract(x[1], 0.4059194895949467)))), np.maximum(np.maximum(np.minimum(np.cosh(x[5]), np.power(2.6207832272206506, 3.025150828938454)), -1.2314079672474207), np.add(np.minimum(np.power(2.5852944295947005, 3.025150828938454), np.square(x[5])), np.minimum(np.square(x[5]), np.absolute(x[5]))))), np.minimum(np.multiply(np.sinh(x[4]), np.maximum(np.multiply(-3.7937243858573027, np.add(-0.5069276167219385, -9.174199129628121)), np.add(np.absolute(x[5]), 6.695358044391064))), np.add(np.minimum(np.rint(np.square(4.070986083664829)), np.add(np.sinh(x[5]), np.cosh(x[5]))), np.multiply(np.multiply(np.sinh(x[4]), np.negative(4.070986083664829)), np.add(2.6207832272206506, np.maximum(-3.7937243858573027, 6.357188936139526)))))), np.minimum(np.maximum(np.remainder(np.add(np.maximum(np.maximum(-0.6904692721820371, 0.4059194895949467), np.subtract(x[3], 0.7506252992942812)), np.add(np.remainder(x[4], -4.109412935321963), 3.025150828938454)), np.minimum(np.minimum(np.sinh(x[4]), np.sinh(x[5])), np.add(np.minimum(-9.174199129628121, x[2]), np.subtract(-9.180448855305453, 8.680667755883558)))), np.add(np.maximum(np.multiply(np.remainder(x[4], -4.109412935321963), np.exp(4.583029845151287)), np.divide(np.power(6.695358044391064, 3.025150828938454), -3.7937243858573027)), np.divide(np.multiply(np.maximum(-9.174199129628121, x[3]), np.exp(4.583029845151287)), np.multiply(np.divide(5.980665508500083, x[3]), np.multiply(2.6207832272206506, 0.4059194895949467))))), np.remainder(np.maximum(np.divide(np.power(4.583029845151287, 3.025150828938454), np.subtract(x[3], 2.1332481808545545)), np.divide(np.multiply(np.minimum(4.61019706061602, -0.5069276167219385), np.absolute(x[5])), np.multiply(-3.7937243858573027, np.add(4.070986083664829, -9.174199129628121)))), np.multiply(np.minimum(np.multiply(np.multiply(4.583029845151287, 6.695358044391064), 3.025150828938454), np.multiply(-4.109412935321963, np.maximum(-9.174199129628121, x[3]))), np.add(8.680667755883558, 8.680667755883558))))), np.subtract(np.multiply(np.add(np.multiply(np.minimum(np.add(np.maximum(-9.174199129628121, x[3]), np.sinh(x[5])), np.add(np.cosh(x[5]), np.sin(x[5]))), np.add(np.minimum(np.add(3.025150828938454, 6.695358044391064), np.square(x[5])), np.minimum(np.add(8.680667755883558, -4.109412935321963), np.absolute(x[5])))), np.multiply(np.maximum(np.divide(np.multiply(6.695358044391064, 6.695358044391064), np.absolute(x[5])), np.add(np.absolute(x[5]), 6.685971936727686)), np.maximum(np.add(np.sinh(x[5]), np.cos(x[5])), np.remainder(np.multiply(0.4059194895949467, 8.018848359911509), 2.2477734007444887)))), 8.680667755883558), np.minimum(np.square(np.maximum(np.multiply(np.add(np.negative(4.070986083664829), np.multiply(0.4059194895949467, 6.685971936727686)), np.sinh(x[5])), np.add(np.minimum(np.power(2.5852944295947005, 3.025150828938454), np.square(x[5])), np.minimum(np.multiply(0.4059194895949467, 8.680667755883558), np.square(x[5]))))), np.square(np.minimum(np.minimum(np.add(np.maximum(-9.174199129628121, x[3]), np.sinh(x[5])), np.add(np.cosh(x[5]), np.sin(x[5]))), np.add(np.multiply(np.minimum(-0.5069276167219385, -7.400107577350203), 4.583029845151287), np.minimum(x[5], np.cbrt(2.5852944295947005))))))))\n"
     ]
    },
    {
     "name": "stderr",
     "output_type": "stream",
     "text": [
      "  0%|          | 4110/1000000 [1:24:30<353:57:43,  1.28s/it]"
     ]
    },
    {
     "name": "stdout",
     "output_type": "stream",
     "text": [
      "Migration at 4110 gen from 0 to 2\n"
     ]
    },
    {
     "name": "stderr",
     "output_type": "stream",
     "text": [
      "  0%|          | 4150/1000000 [1:25:21<347:18:33,  1.26s/it]"
     ]
    },
    {
     "name": "stdout",
     "output_type": "stream",
     "text": [
      "Generation 4151, Island: 0, Best Fitness: 7191.840794762957, Best Formula: np.minimum(np.subtract(np.add(np.multiply(np.multiply(np.minimum(np.sinh(x[5]), np.sinh(x[5])), np.maximum(np.add(2.6207832272206506, 6.695358044391064), np.subtract(np.divide(x[0], x[0]), np.minimum(2.6207832272206506, 3.025150828938454)))), np.maximum(np.maximum(np.minimum(np.cosh(x[5]), np.power(2.6207832272206506, 3.025150828938454)), np.minimum(np.tanh(x[5]), np.square(x[5]))), np.add(np.minimum(np.multiply(2.6207832272206506, 6.716787783138759), np.square(x[5])), np.divide(np.square(x[5]), np.absolute(x[5]))))), np.minimum(np.multiply(np.sinh(x[4]), np.maximum(np.multiply(-3.7937243858573027, np.add(-0.6700783676600786, -9.086916765712074)), x[3])), np.add(x[5], np.multiply(np.multiply(np.sinh(x[4]), np.negative(4.070986083664829)), np.add(2.6207832272206506, np.maximum(3.025150828938454, 6.357188936139526)))))), np.minimum(np.maximum(np.add(np.power(np.maximum(np.maximum(4.070986083664829, 3.025150828938454), np.maximum(x[1], -5.005079499283951)), np.remainder(np.remainder(x[4], -3.7937243858573027), 3.025150828938454)), np.minimum(np.add(np.sinh(x[4]), np.reciprocal(-0.7462655368400206)), np.add(np.minimum(-9.62084356692828, x[2]), np.subtract(-9.086916765712074, 9.137450839147675)))), np.add(np.maximum(np.multiply(np.subtract(-3.7937243858573027, 6.695358044391064), np.add(8.680667755883558, 8.44396666119626)), np.divide(np.power(6.716787783138759, 3.025150828938454), np.maximum(-9.174199129628121, x[3]))), np.divide(np.multiply(np.maximum(-9.174199129628121, x[3]), np.exp(4.583029845151287)), np.multiply(np.reciprocal(-0.7462655368400206), np.multiply(2.8564813916531744, 0.4059194895949467))))), np.remainder(np.maximum(np.divide(np.power(4.583029845151287, 3.025150828938454), np.subtract(x[3], np.absolute(2.0186061404727376))), np.divide(np.multiply(np.minimum(-6.614260315774521, 7.362835471422905), np.power(4.583029845151287, 4.070986083664829)), np.add(np.power(3.025150828938454, 3.6896856709159884), np.multiply(4.583029845151287, 9.137450839147675)))), np.multiply(np.minimum(np.subtract(np.power(2.6207832272206506, 4.583029845151287), np.sinh(x[4])), np.multiply(-4.109412935321963, np.maximum(-9.086916765712074, x[3]))), np.add(8.680667755883558, 8.680667755883558))))), np.subtract(np.multiply(np.add(np.multiply(np.minimum(np.add(np.maximum(-9.62084356692828, x[3]), np.sinh(x[5])), np.add(np.cosh(x[5]), -0.6700783676600786)), np.add(np.minimum(np.add(3.025150828938454, 6.695358044391064), np.square(x[5])), np.minimum(np.sinh(7.491361533595217), np.absolute(x[5])))), np.multiply(np.maximum(np.divide(np.multiply(6.716787783138759, 6.695358044391064), np.absolute(x[5])), np.add(np.absolute(x[5]), 6.695358044391064)), np.maximum(np.add(np.sinh(x[5]), np.cos(x[5])), np.remainder(np.add(3.025150828938454, 4.583029845151287), 6.695358044391064)))), 8.680667755883558), np.minimum(np.square(np.maximum(np.multiply(np.minimum(np.sinh(x[4]), np.multiply(0.6918033302107176, -6.530635069831985)), np.add(np.sinh(x[5]), 9.137450839147675)), np.add(np.minimum(np.multiply(2.6207832272206506, 6.716787783138759), np.square(x[5])), np.minimum(4.070986083664829, np.absolute(x[5]))))), np.square(np.minimum(np.add(np.add(np.subtract(-9.086916765712074, 9.137450839147675), np.cbrt(-5.538747071485592)), np.minimum(np.maximum(-0.6904692721820371, x[3]), np.negative(4.070986083664829))), np.add(np.add(np.subtract(-9.086916765712074, 9.137450839147675), np.cbrt(-5.538747071485592)), np.minimum(np.maximum(-5.852241007174932, x[3]), np.multiply(0.6918033302107176, -6.614260315774521))))))))\n",
      "Generation 4151, Island: 1, Best Fitness: 7270.032419987454, Best Formula: np.minimum(np.subtract(np.add(np.multiply(np.multiply(np.minimum(np.sinh(x[5]), np.sinh(x[5])), np.maximum(np.add(2.6207832272206506, 6.695358044391064), np.subtract(np.divide(x[0], x[0]), np.power(8.680667755883558, 3.025150828938454)))), np.maximum(np.maximum(np.minimum(np.cosh(x[5]), np.power(2.6207832272206506, 3.025150828938454)), np.minimum(np.tanh(x[5]), 4.070986083664829)), np.add(np.minimum(np.multiply(2.6207832272206506, 6.716787783138759), np.square(x[5])), np.minimum(np.square(x[5]), np.absolute(x[5]))))), np.minimum(np.multiply(np.sinh(x[4]), np.maximum(np.multiply(-3.7937243858573027, np.add(-0.6904692721820371, -9.086916765712074)), x[3])), np.add(x[5], np.multiply(np.multiply(np.sinh(x[4]), np.negative(4.070986083664829)), np.add(2.6207832272206506, np.maximum(3.025150828938454, 6.357188936139526)))))), np.minimum(np.maximum(np.remainder(np.power(np.maximum(np.maximum(2.6207832272206506, 3.025150828938454), np.remainder(-8.834402206752802, x[1])), np.remainder(np.remainder(x[4], -4.190526875841163), 3.025150828938454)), np.minimum(np.add(np.sinh(x[4]), np.add(-0.7462655368400206, 2.0186061404727376)), np.add(np.minimum(-9.62084356692828, x[2]), np.subtract(-9.086916765712074, 9.137450839147675)))), np.add(np.maximum(np.multiply(np.subtract(-3.7937243858573027, 6.695358044391064), np.add(8.680667755883558, 8.44396666119626)), np.divide(np.power(6.716787783138759, 3.025150828938454), np.maximum(-9.174199129628121, x[3]))), np.divide(np.multiply(np.maximum(-9.174199129628121, x[3]), np.exp(4.583029845151287)), np.multiply(np.reciprocal(-0.7462655368400206), np.multiply(2.8564813916531744, 0.4059194895949467))))), np.remainder(np.maximum(np.divide(np.power(4.583029845151287, 3.025150828938454), np.subtract(x[3], np.absolute(2.0186061404727376))), np.divide(np.multiply(np.minimum(-6.614260315774521, 3.025150828938454), np.power(4.583029845151287, 4.070986083664829)), np.add(np.power(3.025150828938454, 3.6896856709159884), np.multiply(4.583029845151287, 9.137450839147675)))), np.multiply(np.minimum(np.subtract(np.power(2.6207832272206506, 4.583029845151287), np.sinh(x[4])), np.multiply(-4.109412935321963, np.maximum(-9.086916765712074, x[3]))), np.add(8.680667755883558, 8.680667755883558))))), np.subtract(np.multiply(np.add(np.multiply(np.minimum(np.add(np.maximum(-9.62084356692828, x[3]), np.sinh(x[5])), np.add(np.cosh(x[5]), -0.7396931067515506)), np.add(np.minimum(np.add(3.025150828938454, 6.695358044391064), np.square(x[5])), np.minimum(np.square(x[5]), np.absolute(x[5])))), np.multiply(np.maximum(np.divide(np.multiply(6.716787783138759, 6.695358044391064), np.absolute(x[5])), np.add(np.absolute(x[5]), 6.716787783138759)), np.maximum(np.add(np.sinh(x[5]), np.cos(x[5])), np.remainder(np.cos(-0.23184167648078358), 6.695358044391064)))), 8.680667755883558), np.minimum(np.square(np.maximum(np.multiply(np.minimum(np.sinh(x[4]), np.multiply(0.6918033302107176, -6.530635069831985)), np.add(np.sinh(x[5]), 9.137450839147675)), np.add(np.minimum(np.multiply(2.6207832272206506, 6.716787783138759), np.square(x[5])), np.minimum(np.rint(3.8753181948170923), np.absolute(x[5]))))), np.square(np.minimum(np.add(np.minimum(np.square(x[5]), np.add(8.680667755883558, 8.680667755883558)), np.minimum(np.maximum(-6.530635069831985, -9.62084356692828), np.square(x[5]))), np.add(np.add(np.subtract(-9.086916765712074, 9.137450839147675), np.cbrt(-5.538747071485592)), np.minimum(np.maximum(-9.62084356692828, x[3]), np.multiply(0.6918033302107176, -6.530635069831985))))))))\n",
      "Generation 4151, Island: 2, Best Fitness: 7193.716286717755, Best Formula: np.minimum(np.subtract(np.add(np.multiply(np.multiply(np.minimum(np.sinh(x[5]), np.sinh(x[5])), np.maximum(np.add(2.6207832272206506, 6.695358044391064), np.subtract(np.divide(x[0], x[0]), np.minimum(2.6207832272206506, 3.025150828938454)))), np.maximum(np.maximum(np.minimum(np.cosh(x[5]), np.power(2.6207832272206506, 3.025150828938454)), np.minimum(np.tanh(x[5]), np.square(x[5]))), np.add(np.minimum(np.multiply(2.6207832272206506, 6.716787783138759), np.square(x[5])), np.divide(np.square(x[5]), np.absolute(x[5]))))), np.minimum(np.multiply(np.sinh(x[4]), np.maximum(np.multiply(-3.7937243858573027, np.add(-0.6700783676600786, -9.086916765712074)), x[3])), np.add(x[5], np.multiply(np.multiply(np.sinh(x[4]), np.negative(4.070986083664829)), np.add(2.6207832272206506, np.maximum(3.025150828938454, 6.357188936139526)))))), np.minimum(np.maximum(np.add(np.power(np.maximum(np.maximum(4.070986083664829, 3.025150828938454), np.remainder(-9.086916765712074, x[1])), np.remainder(np.remainder(x[4], -3.7937243858573027), 3.025150828938454)), np.minimum(np.add(np.sinh(x[4]), np.add(-0.6904692721820371, 0.4059194895949467)), np.add(np.minimum(-9.174199129628121, x[2]), np.subtract(-9.62084356692828, 9.137450839147675)))), np.add(np.maximum(np.multiply(np.subtract(-3.7937243858573027, 6.695358044391064), np.add(8.680667755883558, 8.44396666119626)), np.divide(np.power(6.716787783138759, 3.025150828938454), np.maximum(-9.174199129628121, x[3]))), np.divide(np.multiply(np.maximum(-9.174199129628121, x[3]), np.exp(4.583029845151287)), np.multiply(np.reciprocal(-0.7462655368400206), np.multiply(2.8564813916531744, 0.4059194895949467))))), np.remainder(np.maximum(np.divide(np.power(4.583029845151287, 3.025150828938454), np.subtract(x[3], np.absolute(2.0186061404727376))), np.divide(np.multiply(np.minimum(-6.614260315774521, 7.362835471422905), np.power(4.583029845151287, 4.070986083664829)), np.add(np.power(3.025150828938454, 3.6896856709159884), np.multiply(4.583029845151287, 9.137450839147675)))), np.multiply(np.minimum(np.subtract(np.power(2.6207832272206506, 4.583029845151287), np.sinh(x[4])), np.multiply(-4.109412935321963, np.maximum(-9.086916765712074, x[3]))), np.add(8.680667755883558, 8.680667755883558))))), np.subtract(np.multiply(np.add(np.multiply(np.minimum(np.add(np.maximum(-9.62084356692828, x[3]), np.sinh(x[5])), np.add(np.cosh(x[5]), -0.6700783676600786)), np.add(np.minimum(np.add(3.025150828938454, 6.695358044391064), np.square(x[5])), np.minimum(np.sinh(7.491361533595217), np.absolute(x[5])))), np.multiply(np.maximum(np.divide(np.multiply(6.716787783138759, 6.695358044391064), np.absolute(x[5])), np.add(np.absolute(x[5]), 6.695358044391064)), np.maximum(np.add(np.sinh(x[5]), np.cos(x[5])), np.remainder(np.add(3.025150828938454, 4.583029845151287), 6.695358044391064)))), 8.680667755883558), np.minimum(np.square(np.maximum(np.multiply(np.minimum(np.sinh(x[4]), np.multiply(0.6918033302107176, -6.530635069831985)), np.add(np.sinh(x[5]), 9.137450839147675)), np.add(np.minimum(np.multiply(2.6207832272206506, 6.716787783138759), np.square(x[5])), np.minimum(4.070986083664829, np.absolute(x[5]))))), np.square(np.minimum(np.add(np.add(2.1332481808545545, -9.62084356692828), np.minimum(3.025150828938454, 9.137450839147675)), np.add(np.add(np.subtract(-9.086916765712074, 9.137450839147675), np.cbrt(-5.538747071485592)), np.minimum(np.maximum(-0.6904692721820371, x[3]), np.multiply(0.6918033302107176, -6.614260315774521))))))))\n"
     ]
    },
    {
     "name": "stderr",
     "output_type": "stream",
     "text": [
      "  0%|          | 4151/1000000 [1:25:22<351:53:20,  1.27s/it]"
     ]
    },
    {
     "name": "stdout",
     "output_type": "stream",
     "text": [
      "Generation 4151, Island: 3, Best Fitness: 7000.936664790326, Best Formula: np.minimum(np.subtract(np.add(np.multiply(np.multiply(np.sinh(x[5]), np.maximum(np.add(2.5852944295947005, np.maximum(2.5852944295947005, 6.685971936727686)), np.subtract(np.divide(x[0], x[0]), np.subtract(x[1], 0.4059194895949467)))), np.maximum(np.maximum(np.minimum(np.cosh(x[5]), np.power(2.6207832272206506, 3.025150828938454)), -1.9818022307528853), np.add(np.minimum(np.power(2.5852944295947005, 3.025150828938454), np.square(x[5])), np.minimum(np.square(x[5]), np.absolute(x[5]))))), np.minimum(np.multiply(np.sinh(x[4]), np.maximum(np.multiply(-3.7937243858573027, np.add(-0.5069276167219385, -9.174199129628121)), np.add(np.absolute(x[5]), -3.7937243858573027))), np.add(np.minimum(np.rint(np.square(4.61019706061602)), np.add(np.sinh(x[5]), np.cosh(x[5]))), np.multiply(np.multiply(np.sinh(x[4]), np.negative(4.070986083664829)), np.add(2.6207832272206506, np.maximum(-3.7937243858573027, 6.357188936139526)))))), np.minimum(np.maximum(np.remainder(np.add(np.maximum(np.maximum(-0.6904692721820371, 0.4059194895949467), np.subtract(x[3], 0.7506252992942812)), np.add(np.remainder(x[4], -4.109412935321963), 3.025150828938454)), np.minimum(np.minimum(np.sinh(x[4]), np.sinh(x[5])), np.add(np.minimum(-9.174199129628121, x[2]), np.subtract(-9.180448855305453, 8.680667755883558)))), np.add(np.maximum(np.multiply(np.remainder(x[4], -4.109412935321963), np.exp(4.583029845151287)), np.divide(np.power(6.695358044391064, 3.025150828938454), -3.7937243858573027)), np.divide(np.multiply(np.maximum(-9.174199129628121, x[3]), np.exp(4.583029845151287)), np.multiply(np.divide(5.980665508500083, x[3]), np.multiply(2.6207832272206506, 0.4059194895949467))))), np.remainder(np.maximum(np.divide(np.power(4.583029845151287, 3.025150828938454), np.subtract(x[3], 2.1332481808545545)), np.divide(np.multiply(np.minimum(4.61019706061602, -0.5069276167219385), np.absolute(x[5])), np.multiply(-3.7937243858573027, np.add(-4.109412935321963, -4.109412935321963)))), np.multiply(np.minimum(np.multiply(np.multiply(4.583029845151287, 6.695358044391064), 3.025150828938454), np.multiply(-4.109412935321963, np.maximum(-9.174199129628121, x[3]))), np.add(8.680667755883558, 8.680667755883558))))), np.subtract(np.multiply(np.add(np.multiply(np.minimum(np.add(np.maximum(-9.174199129628121, x[3]), np.sinh(x[5])), np.add(np.cosh(x[5]), np.sin(x[5]))), np.add(np.minimum(np.add(3.025150828938454, 6.695358044391064), np.square(x[5])), np.minimum(np.add(8.680667755883558, -0.6904692721820371), np.absolute(x[5])))), np.multiply(np.maximum(np.divide(np.multiply(6.695358044391064, 6.695358044391064), np.absolute(x[5])), np.add(np.absolute(x[5]), 6.685971936727686)), np.maximum(np.add(np.sinh(x[5]), np.cos(x[5])), np.remainder(np.multiply(0.4059194895949467, 8.018848359911509), 2.2477734007444887)))), 8.680667755883558), np.minimum(np.square(np.maximum(np.multiply(np.add(np.negative(4.070986083664829), np.multiply(0.4059194895949467, 6.685971936727686)), np.sinh(x[5])), np.add(np.minimum(np.power(2.5852944295947005, 3.025150828938454), np.square(x[5])), np.minimum(np.sinh(x[4]), np.square(x[5]))))), np.square(np.minimum(np.minimum(np.add(np.maximum(-9.174199129628121, x[3]), np.sinh(x[5])), np.add(9.307613933640756, np.sin(x[5]))), np.add(np.multiply(np.minimum(-0.5069276167219385, -7.400107577350203), 4.583029845151287), np.minimum(np.subtract(0.28034390219094085, -5.484689213338907), np.negative(4.070986083664829))))))))\n"
     ]
    },
    {
     "name": "stderr",
     "output_type": "stream",
     "text": [
      "  0%|          | 4200/1000000 [1:26:24<353:42:30,  1.28s/it]"
     ]
    },
    {
     "name": "stdout",
     "output_type": "stream",
     "text": [
      "Generation 4201, Island: 0, Best Fitness: 7187.755978941393, Best Formula: np.minimum(np.subtract(np.add(np.multiply(np.multiply(np.minimum(np.sinh(x[5]), np.sinh(x[5])), np.maximum(np.add(2.6207832272206506, 6.695358044391064), np.subtract(np.divide(x[0], x[0]), np.power(4.583029845151287, 3.025150828938454)))), np.maximum(np.maximum(np.minimum(np.cosh(x[5]), np.power(2.6207832272206506, 3.025150828938454)), np.multiply(np.minimum(-6.614260315774521, 6.695358044391064), np.power(4.583029845151287, 4.070986083664829))), np.add(np.minimum(np.multiply(2.6207832272206506, 6.716787783138759), np.square(x[5])), np.divide(np.square(x[5]), np.absolute(x[5]))))), np.minimum(np.multiply(np.sinh(x[4]), np.maximum(np.multiply(-3.7937243858573027, np.add(-0.6700783676600786, -9.086916765712074)), x[3])), np.add(x[5], np.multiply(np.multiply(np.sinh(x[4]), np.negative(4.070986083664829)), np.add(2.6207832272206506, np.maximum(3.025150828938454, 6.357188936139526)))))), np.minimum(np.maximum(np.add(np.power(np.maximum(np.maximum(4.070986083664829, 3.025150828938454), np.maximum(x[1], 4.070986083664829)), np.remainder(np.remainder(x[4], -3.7937243858573027), 3.025150828938454)), np.minimum(np.add(np.sinh(x[4]), np.add(-9.62084356692828, 4.070986083664829)), np.add(np.minimum(-9.62084356692828, x[2]), np.subtract(-9.174199129628121, 9.137450839147675)))), np.add(np.maximum(np.multiply(np.subtract(-3.7937243858573027, 6.695358044391064), np.add(8.680667755883558, 8.44396666119626)), np.divide(np.power(6.716787783138759, 3.025150828938454), np.maximum(-9.174199129628121, x[3]))), np.divide(np.multiply(np.maximum(-9.174199129628121, x[3]), np.exp(4.583029845151287)), np.multiply(np.reciprocal(-0.7462655368400206), np.multiply(2.8564813916531744, 0.4059194895949467))))), np.remainder(np.maximum(np.divide(np.power(4.583029845151287, 3.025150828938454), np.subtract(x[3], np.absolute(2.0186061404727376))), np.divide(np.multiply(np.minimum(-6.614260315774521, 7.362835471422905), np.power(4.583029845151287, 4.070986083664829)), np.add(np.power(3.025150828938454, 3.6896856709159884), np.multiply(4.583029845151287, 9.137450839147675)))), np.multiply(np.minimum(np.subtract(np.power(2.6207832272206506, 4.583029845151287), np.sinh(x[4])), np.multiply(-4.109412935321963, np.maximum(-9.086916765712074, x[3]))), np.add(8.680667755883558, 8.680667755883558))))), np.subtract(np.multiply(np.add(np.multiply(np.minimum(np.add(np.maximum(-9.62084356692828, x[3]), np.sinh(x[5])), np.add(np.cosh(x[5]), -0.6700783676600786)), np.add(np.minimum(np.add(3.025150828938454, 6.695358044391064), np.square(x[5])), np.minimum(6.695358044391064, np.absolute(x[5])))), np.multiply(np.maximum(np.divide(np.multiply(6.716787783138759, 6.695358044391064), np.absolute(x[5])), np.add(np.absolute(x[5]), 6.695358044391064)), np.maximum(np.add(np.sinh(x[5]), np.cos(x[5])), np.remainder(np.add(3.025150828938454, 4.583029845151287), 6.695358044391064)))), 8.680667755883558), np.minimum(np.square(np.maximum(np.multiply(np.minimum(np.sinh(x[4]), np.multiply(0.6918033302107176, -6.530635069831985)), np.add(np.sinh(x[5]), 9.137450839147675)), np.add(np.minimum(np.multiply(2.6207832272206506, 6.716787783138759), np.square(x[5])), np.minimum(4.070986083664829, np.absolute(x[5]))))), np.square(np.minimum(np.add(np.add(np.subtract(-9.086916765712074, 9.137450839147675), np.cbrt(-5.538747071485592)), np.minimum(np.maximum(-0.6904692721820371, x[3]), np.negative(4.070986083664829))), np.add(np.add(np.subtract(-9.086916765712074, 9.137450839147675), np.maximum(-9.62084356692828, x[3])), np.minimum(np.remainder(x[4], -3.7937243858573027), np.multiply(0.4059194895949467, 6.695358044391064))))))))\n",
      "Generation 4201, Island: 1, Best Fitness: 7265.853935510341, Best Formula: np.minimum(np.subtract(np.add(np.multiply(np.multiply(np.minimum(np.sinh(x[5]), np.sinh(x[5])), np.maximum(np.add(2.6207832272206506, 6.695358044391064), np.subtract(np.divide(x[0], x[0]), np.absolute(x[5])))), np.maximum(np.maximum(np.minimum(np.cosh(x[5]), np.power(2.6207832272206506, 3.025150828938454)), np.minimum(np.tanh(x[5]), 4.070986083664829)), np.add(np.minimum(np.multiply(2.6207832272206506, 6.716787783138759), np.square(x[5])), np.minimum(np.square(x[5]), np.absolute(x[5]))))), np.minimum(np.multiply(np.sinh(x[4]), np.maximum(np.multiply(-3.7937243858573027, np.add(-0.6904692721820371, -9.086916765712074)), x[3])), np.add(x[5], np.multiply(np.multiply(np.sinh(x[4]), np.negative(4.070986083664829)), np.add(2.6207832272206506, np.maximum(3.025150828938454, 6.357188936139526)))))), np.minimum(np.maximum(np.remainder(np.power(np.maximum(np.maximum(2.6207832272206506, 3.025150828938454), np.remainder(-6.530635069831985, x[1])), np.remainder(np.remainder(x[4], -4.109412935321963), 3.025150828938454)), np.minimum(np.add(np.sinh(x[4]), np.add(-0.7462655368400206, 2.0186061404727376)), np.add(np.minimum(-9.62084356692828, x[2]), np.subtract(-9.086916765712074, 9.137450839147675)))), np.add(np.maximum(np.multiply(np.subtract(-3.7937243858573027, 6.695358044391064), np.add(8.680667755883558, 8.44396666119626)), np.divide(np.power(6.716787783138759, 3.025150828938454), np.maximum(-9.174199129628121, x[3]))), np.divide(np.multiply(np.maximum(-9.174199129628121, x[3]), np.exp(4.583029845151287)), np.multiply(np.reciprocal(-0.7462655368400206), np.multiply(2.8564813916531744, 0.4059194895949467))))), np.remainder(np.maximum(np.divide(np.power(4.583029845151287, 3.025150828938454), np.subtract(x[3], np.absolute(2.0186061404727376))), np.divide(np.multiply(np.minimum(-6.614260315774521, 4.583029845151287), np.power(4.583029845151287, 4.070986083664829)), np.add(np.power(3.025150828938454, 3.6896856709159884), np.multiply(4.583029845151287, 9.137450839147675)))), np.multiply(np.minimum(np.subtract(np.power(2.6207832272206506, 4.583029845151287), np.sinh(x[4])), np.multiply(-4.109412935321963, np.maximum(-9.086916765712074, x[3]))), np.add(8.680667755883558, 8.680667755883558))))), np.subtract(np.multiply(np.add(np.multiply(np.minimum(np.add(np.maximum(-9.62084356692828, x[3]), np.sinh(x[5])), np.add(np.cosh(x[5]), -0.9119260438052024)), np.add(np.minimum(np.add(3.025150828938454, 6.695358044391064), np.square(x[5])), np.minimum(np.square(x[5]), np.absolute(x[5])))), np.multiply(np.maximum(np.divide(np.multiply(6.716787783138759, 6.695358044391064), np.absolute(x[5])), np.add(np.absolute(x[5]), 6.716787783138759)), np.maximum(np.add(np.sinh(x[5]), np.cos(x[5])), np.remainder(np.cos(-0.23184167648078358), 6.695358044391064)))), 8.680667755883558), np.minimum(np.square(np.maximum(np.multiply(np.minimum(np.sinh(x[4]), np.multiply(0.6918033302107176, -6.530635069831985)), np.add(np.sinh(x[5]), 9.137450839147675)), np.add(np.minimum(np.multiply(2.6207832272206506, 6.716787783138759), np.square(x[5])), np.minimum(np.rint(3.8753181948170923), np.absolute(x[5]))))), np.square(np.minimum(np.add(np.minimum(np.cos(-0.23184167648078358), np.power(2.6207832272206506, 3.025150828938454)), np.minimum(np.divide(-6.530635069831985, 0.7242064231927721), np.square(x[5]))), np.add(np.add(np.subtract(-9.086916765712074, 9.137450839147675), np.cbrt(-5.538747071485592)), np.minimum(np.maximum(-9.62084356692828, x[3]), np.multiply(0.6918033302107176, -6.530635069831985))))))))\n",
      "Generation 4201, Island: 2, Best Fitness: 7192.143739739405, Best Formula: np.minimum(np.subtract(np.add(np.multiply(np.multiply(np.minimum(np.sinh(x[5]), np.sinh(x[5])), np.maximum(np.add(2.6207832272206506, 6.695358044391064), np.subtract(np.divide(x[0], x[0]), np.exp(4.583029845151287)))), np.maximum(np.maximum(np.minimum(np.cosh(x[5]), np.power(2.6207832272206506, 3.025150828938454)), np.minimum(np.tanh(x[5]), np.square(x[5]))), np.add(np.minimum(np.multiply(2.6207832272206506, 6.716787783138759), np.square(x[5])), np.divide(np.square(x[5]), np.absolute(x[5]))))), np.minimum(np.multiply(np.sinh(x[4]), np.maximum(np.multiply(-3.7937243858573027, np.add(-0.6700783676600786, -9.086916765712074)), x[3])), np.add(x[5], np.multiply(np.multiply(np.sinh(x[4]), np.negative(4.070986083664829)), np.add(2.6207832272206506, np.maximum(3.025150828938454, 6.357188936139526)))))), np.minimum(np.maximum(np.add(np.power(np.maximum(np.maximum(4.070986083664829, 3.025150828938454), np.remainder(-9.086916765712074, x[1])), np.remainder(np.remainder(x[4], -3.7937243858573027), 3.025150828938454)), np.minimum(np.add(np.sinh(x[4]), -4.109412935321963), np.add(np.minimum(-9.174199129628121, x[2]), np.subtract(-9.62084356692828, 9.137450839147675)))), np.add(np.maximum(np.multiply(np.subtract(-3.7937243858573027, 6.695358044391064), np.add(8.680667755883558, 8.44396666119626)), np.divide(np.power(6.716787783138759, 3.025150828938454), np.maximum(-9.174199129628121, x[3]))), np.divide(np.multiply(np.maximum(-9.174199129628121, x[3]), np.exp(4.583029845151287)), np.multiply(np.reciprocal(-0.7462655368400206), np.multiply(2.8564813916531744, 0.4059194895949467))))), np.remainder(np.maximum(np.divide(np.power(4.583029845151287, 3.025150828938454), np.subtract(x[3], np.absolute(2.0186061404727376))), np.divide(np.multiply(np.minimum(-6.614260315774521, 7.362835471422905), np.power(4.583029845151287, 4.070986083664829)), np.add(np.power(3.025150828938454, 3.6896856709159884), np.multiply(4.583029845151287, 9.137450839147675)))), np.multiply(np.minimum(np.subtract(np.power(2.6207832272206506, 4.583029845151287), np.sinh(x[4])), np.multiply(-4.109412935321963, np.maximum(-9.086916765712074, x[3]))), np.add(8.680667755883558, 8.680667755883558))))), np.subtract(np.multiply(np.add(np.multiply(np.minimum(np.add(np.maximum(-9.62084356692828, x[3]), np.sinh(x[5])), np.add(np.cosh(x[5]), -0.7462655368400206)), np.add(np.minimum(np.add(3.025150828938454, 6.695358044391064), np.square(x[5])), np.minimum(np.sinh(7.491361533595217), np.absolute(x[5])))), np.multiply(np.maximum(np.divide(np.multiply(6.716787783138759, 6.695358044391064), np.absolute(x[5])), np.add(np.absolute(x[5]), 6.695358044391064)), np.maximum(np.add(np.sinh(x[5]), np.cos(x[5])), np.remainder(np.add(3.025150828938454, 4.583029845151287), 6.695358044391064)))), 8.680667755883558), np.minimum(np.square(np.maximum(np.multiply(np.minimum(np.sinh(x[4]), np.multiply(0.6918033302107176, -6.530635069831985)), np.add(np.sinh(x[5]), 9.137450839147675)), np.add(np.minimum(np.multiply(2.6207832272206506, 6.716787783138759), np.square(x[5])), np.minimum(4.070986083664829, np.absolute(x[5]))))), np.square(np.minimum(np.add(np.add(2.1332481808545545, -9.62084356692828), np.multiply(6.558153546942268, np.multiply(5.17635424309881, 0.5366556608667459))), np.add(np.add(np.subtract(-9.086916765712074, 9.137450839147675), np.cbrt(-5.538747071485592)), np.minimum(np.maximum(-0.6904692721820371, x[3]), np.multiply(0.6918033302107176, -6.614260315774521))))))))\n"
     ]
    },
    {
     "name": "stderr",
     "output_type": "stream",
     "text": [
      "  0%|          | 4201/1000000 [1:26:25<357:05:58,  1.29s/it]"
     ]
    },
    {
     "name": "stdout",
     "output_type": "stream",
     "text": [
      "Generation 4201, Island: 3, Best Fitness: 6944.235277166831, Best Formula: np.minimum(np.subtract(np.add(np.multiply(np.multiply(np.sinh(x[5]), np.maximum(np.add(2.5852944295947005, np.maximum(2.5852944295947005, 6.685971936727686)), np.subtract(np.divide(x[0], x[0]), np.subtract(x[1], 0.4059194895949467)))), np.maximum(np.maximum(np.minimum(np.cosh(x[5]), np.power(2.6207832272206506, 3.025150828938454)), -1.9818022307528853), np.add(np.minimum(np.power(2.5852944295947005, 3.025150828938454), np.square(x[5])), np.minimum(np.square(x[5]), np.absolute(x[5]))))), np.minimum(np.multiply(np.sinh(x[4]), np.maximum(np.multiply(-3.7937243858573027, np.add(-0.5069276167219385, -9.174199129628121)), np.add(np.absolute(x[5]), -3.7937243858573027))), np.add(np.minimum(np.rint(np.square(6.357188936139526)), np.add(np.sinh(x[5]), np.cosh(x[5]))), np.multiply(np.multiply(np.sinh(x[4]), np.negative(4.070986083664829)), np.add(2.6207832272206506, np.maximum(-3.7937243858573027, 6.357188936139526)))))), np.minimum(np.maximum(np.remainder(np.add(np.maximum(np.maximum(-0.6904692721820371, 0.4059194895949467), np.subtract(x[3], 0.7506252992942812)), np.add(np.remainder(x[4], -4.109412935321963), 3.025150828938454)), np.minimum(np.minimum(np.sinh(x[4]), 2.6207832272206506), np.add(np.minimum(-9.174199129628121, x[2]), np.subtract(-9.180448855305453, 8.680667755883558)))), np.add(np.maximum(np.multiply(np.remainder(x[4], -4.109412935321963), np.exp(4.583029845151287)), np.divide(np.power(6.695358044391064, 3.025150828938454), -3.7937243858573027)), np.divide(np.multiply(np.maximum(-9.174199129628121, x[3]), np.exp(4.583029845151287)), np.multiply(np.divide(5.980665508500083, x[3]), np.multiply(2.6207832272206506, 0.4059194895949467))))), np.remainder(np.maximum(np.divide(np.power(4.583029845151287, 3.025150828938454), np.subtract(x[3], 2.1332481808545545)), np.divide(np.multiply(np.minimum(4.61019706061602, -0.5069276167219385), np.absolute(x[5])), np.multiply(-3.7937243858573027, np.add(-0.5069276167219385, -9.174199129628121)))), np.multiply(np.minimum(np.multiply(np.multiply(4.583029845151287, 4.070986083664829), 2.6207832272206506), np.multiply(-4.109412935321963, np.maximum(-9.174199129628121, x[3]))), np.add(8.680667755883558, 8.680667755883558))))), np.subtract(np.multiply(np.add(np.multiply(np.minimum(np.add(np.maximum(-9.174199129628121, x[3]), np.sinh(x[5])), np.add(np.cosh(x[5]), np.sin(x[5]))), np.add(np.minimum(np.add(3.025150828938454, 6.695358044391064), np.square(x[5])), np.minimum(np.add(8.680667755883558, -0.6904692721820371), np.absolute(x[5])))), np.multiply(np.maximum(np.divide(np.multiply(6.695358044391064, 6.695358044391064), np.absolute(x[5])), np.add(np.absolute(x[5]), 6.685971936727686)), np.maximum(np.add(np.sinh(x[5]), np.cos(x[5])), np.remainder(np.multiply(0.4059194895949467, 8.018848359911509), 2.2477734007444887)))), 8.680667755883558), np.minimum(np.square(np.maximum(np.multiply(np.add(np.negative(4.070986083664829), np.multiply(0.4059194895949467, 6.685971936727686)), np.sinh(x[5])), np.add(np.minimum(np.power(2.5852944295947005, 3.025150828938454), np.cosh(x[5])), np.minimum(np.sinh(x[4]), np.square(x[5]))))), np.square(np.minimum(np.minimum(np.add(np.maximum(8.680667755883558, x[3]), np.sinh(x[5])), np.minimum(np.sinh(x[4]), np.square(x[5]))), np.add(np.multiply(np.minimum(3.025150828938454, -7.400107577350203), 4.583029845151287), np.minimum(np.negative(4.070986083664829), np.negative(4.070986083664829))))))))\n"
     ]
    },
    {
     "name": "stderr",
     "output_type": "stream",
     "text": [
      "  0%|          | 4250/1000000 [1:27:28<350:11:00,  1.27s/it]"
     ]
    },
    {
     "name": "stdout",
     "output_type": "stream",
     "text": [
      "Generation 4251, Island: 0, Best Fitness: 7187.0688525559635, Best Formula: np.minimum(np.subtract(np.add(np.multiply(np.multiply(np.minimum(np.sinh(x[5]), np.sinh(x[5])), np.maximum(np.add(2.6207832272206506, 6.695358044391064), np.subtract(np.divide(x[0], x[0]), np.power(8.680667755883558, 3.025150828938454)))), np.maximum(np.maximum(np.minimum(np.cosh(x[5]), np.power(2.6207832272206506, 3.025150828938454)), np.minimum(np.tanh(x[5]), np.square(x[5]))), np.add(np.minimum(np.multiply(2.6207832272206506, 6.716787783138759), np.square(x[5])), np.divide(np.square(x[5]), np.absolute(x[5]))))), np.minimum(np.multiply(np.sinh(x[4]), np.maximum(np.multiply(-3.7937243858573027, np.add(-0.6700783676600786, -9.086916765712074)), x[3])), np.add(x[5], np.multiply(np.multiply(np.sinh(x[4]), np.negative(4.070986083664829)), np.add(2.6207832272206506, np.maximum(3.025150828938454, 6.357188936139526)))))), np.minimum(np.maximum(np.add(np.power(np.maximum(np.maximum(4.070986083664829, 3.025150828938454), np.maximum(x[1], 4.070986083664829)), np.remainder(np.remainder(x[4], -3.7937243858573027), 3.025150828938454)), np.minimum(np.add(np.sinh(x[4]), np.add(-9.62084356692828, 6.716787783138759)), np.add(np.minimum(-9.62084356692828, x[2]), np.subtract(-9.174199129628121, 9.137450839147675)))), np.add(np.maximum(np.multiply(np.subtract(-3.7937243858573027, 6.695358044391064), np.add(8.680667755883558, 8.44396666119626)), np.divide(np.power(6.716787783138759, 3.025150828938454), np.maximum(-9.174199129628121, x[3]))), np.divide(np.multiply(np.maximum(-9.174199129628121, x[3]), np.exp(4.583029845151287)), np.multiply(np.reciprocal(-0.7462655368400206), np.multiply(2.8564813916531744, 0.4059194895949467))))), np.remainder(np.maximum(np.divide(np.power(4.583029845151287, 3.025150828938454), np.subtract(x[3], np.absolute(2.0186061404727376))), np.divide(np.multiply(np.minimum(-6.614260315774521, 7.362835471422905), np.power(4.583029845151287, 4.070986083664829)), np.add(np.power(3.025150828938454, 3.6896856709159884), np.multiply(4.583029845151287, 9.137450839147675)))), np.multiply(np.minimum(np.subtract(np.power(2.6207832272206506, 4.583029845151287), np.sinh(x[4])), np.multiply(-4.109412935321963, np.maximum(-9.086916765712074, x[3]))), np.add(8.680667755883558, 8.680667755883558))))), np.subtract(np.multiply(np.add(np.multiply(np.minimum(np.add(np.maximum(-9.62084356692828, x[3]), np.sinh(x[5])), np.add(np.cosh(x[5]), -0.6700783676600786)), np.add(np.minimum(np.add(3.025150828938454, 6.695358044391064), np.square(x[5])), np.minimum(np.sinh(7.491361533595217), np.absolute(x[5])))), np.multiply(np.maximum(np.divide(np.multiply(6.716787783138759, 6.695358044391064), np.absolute(x[5])), np.add(np.absolute(x[5]), 6.695358044391064)), np.maximum(np.add(np.sinh(x[5]), np.cos(x[5])), np.remainder(np.add(3.025150828938454, 4.583029845151287), 6.695358044391064)))), 8.680667755883558), np.minimum(np.square(np.maximum(np.multiply(np.minimum(np.sinh(x[4]), np.multiply(0.6918033302107176, -6.530635069831985)), np.add(np.sinh(x[5]), 9.137450839147675)), np.add(np.minimum(np.multiply(2.6207832272206506, 6.695358044391064), np.square(x[5])), np.minimum(4.070986083664829, np.absolute(x[5]))))), np.square(np.minimum(np.add(np.add(np.subtract(-9.086916765712074, 9.137450839147675), np.cbrt(-9.174199129628121)), np.minimum(np.maximum(-0.6904692721820371, x[3]), np.negative(4.070986083664829))), np.add(np.add(np.subtract(-9.086916765712074, 9.137450839147675), np.maximum(-9.62084356692828, x[3])), np.minimum(np.remainder(x[4], -3.7937243858573027), np.multiply(0.4059194895949467, 6.695358044391064))))))))\n",
      "Generation 4251, Island: 1, Best Fitness: 7264.84060183457, Best Formula: np.minimum(np.subtract(np.add(np.multiply(np.multiply(np.minimum(np.sinh(x[5]), np.sinh(x[5])), np.maximum(np.add(2.6207832272206506, 6.695358044391064), np.subtract(np.divide(x[0], x[0]), np.absolute(x[5])))), np.maximum(np.maximum(np.minimum(np.cosh(x[5]), np.power(2.6207832272206506, 3.025150828938454)), np.minimum(np.multiply(0.6918033302107176, -6.530635069831985), 6.695358044391064)), np.add(np.minimum(np.multiply(2.6207832272206506, 6.716787783138759), np.square(x[5])), np.minimum(np.square(x[5]), np.absolute(x[5]))))), np.minimum(np.multiply(np.sinh(x[4]), np.maximum(np.multiply(-3.7937243858573027, np.add(-0.6904692721820371, -9.086916765712074)), x[3])), np.add(x[5], np.multiply(np.multiply(np.sinh(x[4]), np.negative(4.070986083664829)), np.add(2.6207832272206506, np.maximum(3.025150828938454, 6.357188936139526)))))), np.minimum(np.maximum(np.remainder(np.power(np.maximum(np.maximum(-9.62084356692828, 3.025150828938454), np.remainder(2.6207832272206506, x[1])), np.remainder(np.remainder(x[4], -4.109412935321963), 3.025150828938454)), np.minimum(np.add(np.sinh(x[4]), np.add(-0.7462655368400206, 2.0186061404727376)), np.add(np.minimum(-9.62084356692828, x[2]), np.subtract(-9.174199129628121, 9.137450839147675)))), np.add(np.maximum(np.multiply(np.subtract(-3.7937243858573027, 6.695358044391064), np.add(8.680667755883558, 8.44396666119626)), np.divide(np.power(6.716787783138759, 3.025150828938454), np.maximum(-9.174199129628121, x[3]))), np.divide(np.multiply(np.maximum(-9.174199129628121, x[3]), np.exp(4.583029845151287)), np.multiply(np.reciprocal(-0.7462655368400206), np.multiply(2.8564813916531744, 0.4059194895949467))))), np.remainder(np.maximum(np.divide(np.power(4.583029845151287, 3.025150828938454), np.subtract(x[3], np.absolute(2.0186061404727376))), np.divide(np.multiply(np.minimum(-6.614260315774521, 4.583029845151287), np.power(4.583029845151287, 4.070986083664829)), np.add(np.power(3.025150828938454, 3.6896856709159884), np.multiply(4.583029845151287, 9.137450839147675)))), np.multiply(np.minimum(np.subtract(np.power(2.6207832272206506, 4.583029845151287), np.sinh(x[4])), np.multiply(-4.109412935321963, np.maximum(-9.086916765712074, x[3]))), np.add(8.680667755883558, 8.680667755883558))))), np.subtract(np.multiply(np.add(np.multiply(np.minimum(np.add(np.maximum(-9.62084356692828, x[3]), np.sinh(x[5])), np.add(np.cosh(x[5]), -0.9119260438052024)), np.add(np.minimum(np.add(3.025150828938454, 6.695358044391064), np.square(x[5])), np.minimum(np.square(x[5]), np.absolute(x[5])))), np.multiply(np.maximum(np.divide(np.multiply(6.716787783138759, 6.695358044391064), np.absolute(x[5])), np.add(np.absolute(x[5]), 6.716787783138759)), np.maximum(np.add(np.sinh(x[5]), np.cos(x[5])), np.remainder(np.cos(-0.23184167648078358), 6.695358044391064)))), 8.680667755883558), np.minimum(np.square(np.maximum(np.multiply(np.minimum(np.sinh(x[4]), np.multiply(0.6918033302107176, -6.530635069831985)), np.add(np.sinh(x[5]), 9.137450839147675)), np.add(np.minimum(np.multiply(2.6207832272206506, 6.695358044391064), np.square(x[5])), np.minimum(np.rint(3.8753181948170923), np.absolute(x[5]))))), np.square(np.minimum(np.add(np.minimum(np.cos(-0.23184167648078358), np.power(2.6207832272206506, 3.025150828938454)), np.minimum(np.cos(-0.23184167648078358), np.multiply(0.6918033302107176, -6.530635069831985))), np.add(np.add(np.subtract(-9.086916765712074, 9.137450839147675), np.cbrt(-5.538747071485592)), np.minimum(np.maximum(-9.62084356692828, x[3]), np.multiply(0.6918033302107176, -6.530635069831985))))))))\n",
      "Generation 4251, Island: 2, Best Fitness: 7189.865627515268, Best Formula: np.minimum(np.subtract(np.add(np.multiply(np.multiply(np.minimum(np.sinh(x[5]), np.sinh(x[5])), np.maximum(np.add(2.6207832272206506, 6.695358044391064), np.subtract(np.divide(x[0], x[0]), np.exp(4.583029845151287)))), np.maximum(np.maximum(np.minimum(np.cosh(x[5]), np.power(2.6207832272206506, 3.025150828938454)), np.minimum(np.tanh(x[5]), np.square(x[5]))), np.add(np.minimum(np.multiply(2.6207832272206506, 6.716787783138759), np.square(x[5])), np.divide(np.square(x[5]), np.absolute(x[5]))))), np.minimum(np.multiply(np.sinh(x[4]), np.maximum(np.multiply(-3.7937243858573027, np.add(-0.6700783676600786, -9.086916765712074)), 3.928766600907867)), np.add(x[5], np.multiply(np.multiply(np.sinh(x[4]), np.negative(4.070986083664829)), np.add(2.6207832272206506, np.maximum(3.025150828938454, 6.357188936139526)))))), np.minimum(np.maximum(np.add(np.power(np.maximum(np.maximum(4.070986083664829, 3.025150828938454), np.remainder(-9.086916765712074, x[1])), np.remainder(np.remainder(x[4], -3.7937243858573027), 3.025150828938454)), np.minimum(np.add(np.sinh(x[4]), -4.109412935321963), np.add(np.minimum(-9.174199129628121, x[2]), np.subtract(-9.62084356692828, 9.137450839147675)))), np.add(np.maximum(np.multiply(np.subtract(-3.7937243858573027, 6.695358044391064), np.add(8.680667755883558, 8.44396666119626)), np.divide(np.power(6.716787783138759, 3.025150828938454), np.maximum(-9.174199129628121, x[3]))), np.divide(np.multiply(np.maximum(-9.086916765712074, x[3]), np.exp(4.583029845151287)), np.multiply(np.reciprocal(-0.7462655368400206), np.multiply(2.8564813916531744, 0.4059194895949467))))), np.remainder(np.maximum(np.divide(np.power(4.583029845151287, 3.025150828938454), np.subtract(x[3], np.absolute(2.0186061404727376))), np.divide(np.multiply(np.minimum(-6.614260315774521, 7.362835471422905), np.power(4.583029845151287, 4.070986083664829)), np.add(np.power(3.025150828938454, 3.6896856709159884), np.multiply(4.583029845151287, 9.137450839147675)))), np.multiply(np.minimum(np.subtract(np.power(2.6207832272206506, 4.583029845151287), np.sinh(x[4])), np.multiply(-4.109412935321963, np.maximum(-9.086916765712074, x[3]))), np.add(8.680667755883558, 8.680667755883558))))), np.subtract(np.multiply(np.add(np.multiply(np.minimum(np.add(np.maximum(-8.940635460951565, x[3]), np.sinh(x[5])), np.add(np.cosh(x[5]), -0.7462655368400206)), np.add(np.minimum(np.add(3.025150828938454, 6.695358044391064), np.square(x[5])), np.minimum(np.sinh(7.491361533595217), np.absolute(x[5])))), np.multiply(np.maximum(np.divide(np.multiply(6.716787783138759, 6.716787783138759), np.absolute(x[5])), np.add(np.absolute(x[5]), 6.716787783138759)), np.maximum(np.add(np.sinh(x[5]), np.cos(x[5])), np.remainder(np.add(3.025150828938454, 4.583029845151287), 6.695358044391064)))), 8.680667755883558), np.minimum(np.square(np.maximum(np.multiply(np.minimum(np.sinh(x[4]), np.multiply(0.6918033302107176, -6.530635069831985)), np.add(np.sinh(x[5]), 9.137450839147675)), np.add(np.minimum(np.multiply(2.6207832272206506, 6.695358044391064), np.square(x[5])), np.minimum(4.070986083664829, np.absolute(x[5]))))), np.square(np.minimum(np.add(np.add(np.subtract(-9.086916765712074, 9.137450839147675), np.cbrt(-5.538747071485592)), np.multiply(6.558153546942268, np.multiply(5.17635424309881, 0.5366556608667459))), np.add(np.add(np.subtract(-9.086916765712074, 9.137450839147675), np.cbrt(-5.538747071485592)), np.minimum(np.maximum(-6.614260315774521, x[3]), np.multiply(0.6918033302107176, -6.614260315774521))))))))\n"
     ]
    },
    {
     "name": "stderr",
     "output_type": "stream",
     "text": [
      "  0%|          | 4251/1000000 [1:27:30<352:21:02,  1.27s/it]"
     ]
    },
    {
     "name": "stdout",
     "output_type": "stream",
     "text": [
      "Generation 4251, Island: 3, Best Fitness: 6911.787660363795, Best Formula: np.minimum(np.subtract(np.add(np.multiply(np.multiply(np.sinh(x[5]), np.maximum(np.add(2.5852944295947005, np.maximum(2.5852944295947005, 6.685971936727686)), np.subtract(np.divide(x[0], x[0]), np.subtract(x[1], 0.4059194895949467)))), np.maximum(np.maximum(np.minimum(np.cosh(x[5]), np.power(2.6207832272206506, 3.025150828938454)), -1.9818022307528853), np.add(np.minimum(np.power(2.5852944295947005, 3.025150828938454), np.square(x[5])), np.minimum(np.square(x[5]), np.absolute(x[5]))))), np.minimum(np.multiply(np.minimum(np.sinh(x[4]), np.power(2.5852944295947005, 3.025150828938454)), np.maximum(np.multiply(-3.7937243858573027, np.add(-0.5069276167219385, -9.174199129628121)), np.add(4.583029845151287, -0.5069276167219385))), np.add(np.minimum(np.rint(np.square(6.357188936139526)), np.add(np.sinh(x[5]), np.cosh(x[5]))), np.multiply(np.multiply(np.sinh(x[4]), np.negative(4.070986083664829)), np.add(2.6207832272206506, np.maximum(-3.7937243858573027, 6.357188936139526)))))), np.minimum(np.maximum(np.remainder(np.add(np.maximum(np.maximum(-0.6904692721820371, 0.4059194895949467), np.subtract(x[3], 0.7506252992942812)), np.add(np.remainder(x[4], -4.109412935321963), 3.025150828938454)), np.minimum(np.minimum(np.sinh(x[4]), 2.6207832272206506), np.add(np.minimum(-9.174199129628121, x[2]), np.subtract(-9.180448855305453, 8.680667755883558)))), np.add(np.maximum(np.multiply(np.remainder(x[4], -4.109412935321963), np.exp(4.583029845151287)), np.divide(np.power(6.695358044391064, 3.025150828938454), -3.7937243858573027)), np.divide(np.multiply(np.maximum(-9.174199129628121, x[3]), np.exp(4.583029845151287)), np.multiply(np.divide(5.980665508500083, x[3]), np.multiply(2.6207832272206506, 0.4059194895949467))))), np.remainder(np.maximum(np.divide(np.power(4.583029845151287, 3.025150828938454), np.subtract(x[3], 2.1332481808545545)), np.divide(np.multiply(np.minimum(4.61019706061602, -0.5069276167219385), np.absolute(x[5])), np.multiply(-3.7937243858573027, np.add(-0.5069276167219385, -9.174199129628121)))), np.multiply(np.minimum(np.multiply(np.multiply(4.583029845151287, 4.070986083664829), 2.6207832272206506), np.multiply(-4.109412935321963, np.maximum(-9.174199129628121, x[3]))), np.add(8.680667755883558, 8.680667755883558))))), np.subtract(np.multiply(np.add(np.multiply(np.minimum(np.add(np.maximum(-9.174199129628121, x[3]), np.sinh(x[5])), np.add(np.cosh(x[5]), np.remainder(-8.005396274762191, -6.5799218298405915))), np.add(np.minimum(np.add(3.025150828938454, 6.695358044391064), np.square(x[5])), np.minimum(np.add(8.680667755883558, -0.6904692721820371), np.absolute(x[5])))), np.multiply(np.maximum(np.divide(np.multiply(6.695358044391064, 6.695358044391064), np.absolute(x[5])), np.add(np.absolute(x[5]), 6.685971936727686)), np.maximum(np.add(np.sinh(x[5]), np.cos(x[5])), np.remainder(np.multiply(0.4059194895949467, 8.018848359911509), 2.2477734007444887)))), 8.680667755883558), np.minimum(np.square(np.maximum(np.multiply(np.add(np.negative(4.070986083664829), np.multiply(0.4059194895949467, 6.685971936727686)), np.sinh(x[5])), np.add(np.minimum(np.power(2.5852944295947005, 3.025150828938454), np.cosh(x[5])), np.minimum(np.sinh(x[4]), np.power(2.5852944295947005, 3.025150828938454))))), np.square(np.minimum(np.minimum(np.multiply(-3.7937243858573027, np.add(-0.5069276167219385, -9.174199129628121)), np.minimum(np.sinh(x[4]), np.square(x[5]))), np.add(np.multiply(np.minimum(6.685971936727686, -7.400107577350203), 4.583029845151287), np.maximum(np.maximum(-0.6904692721820371, 0.4059194895949467), np.subtract(x[3], 0.7506252992942812))))))))\n"
     ]
    },
    {
     "name": "stderr",
     "output_type": "stream",
     "text": [
      "  0%|          | 4300/1000000 [1:28:31<351:52:39,  1.27s/it]"
     ]
    },
    {
     "name": "stdout",
     "output_type": "stream",
     "text": [
      "Generation 4301, Island: 0, Best Fitness: 7186.925112736126, Best Formula: np.minimum(np.subtract(np.add(np.multiply(np.multiply(np.minimum(np.sinh(x[5]), np.sinh(x[5])), np.maximum(np.add(2.6207832272206506, 6.695358044391064), np.subtract(np.divide(x[0], x[0]), np.power(8.680667755883558, 3.025150828938454)))), np.maximum(np.maximum(np.minimum(np.cosh(x[5]), np.power(2.6207832272206506, 3.025150828938454)), np.minimum(np.tanh(x[5]), np.square(x[5]))), np.add(np.minimum(np.multiply(2.6207832272206506, 6.716787783138759), np.square(x[5])), np.divide(np.square(x[5]), np.absolute(x[5]))))), np.minimum(np.multiply(np.sinh(x[4]), np.maximum(np.multiply(-3.7937243858573027, np.add(-0.6700783676600786, -9.086916765712074)), x[3])), np.add(x[5], np.multiply(np.multiply(np.sinh(x[4]), np.negative(4.070986083664829)), np.add(2.6207832272206506, np.maximum(3.025150828938454, 6.357188936139526)))))), np.minimum(np.maximum(np.add(np.power(np.maximum(np.maximum(4.070986083664829, 3.025150828938454), np.maximum(x[1], 4.070986083664829)), np.remainder(np.remainder(x[4], -3.7937243858573027), 3.025150828938454)), np.minimum(np.add(np.sinh(x[4]), np.add(-6.614260315774521, 3.025150828938454)), np.add(np.minimum(-9.62084356692828, x[2]), np.subtract(-9.174199129628121, 9.137450839147675)))), np.add(np.maximum(np.multiply(np.subtract(-3.7937243858573027, 6.695358044391064), np.add(8.680667755883558, 8.44396666119626)), np.divide(np.power(6.716787783138759, 3.025150828938454), np.maximum(-9.174199129628121, x[3]))), np.divide(np.multiply(np.maximum(-9.174199129628121, x[3]), np.exp(4.583029845151287)), np.multiply(np.reciprocal(-0.7462655368400206), np.multiply(2.8564813916531744, 0.4059194895949467))))), np.remainder(np.maximum(np.divide(np.power(4.583029845151287, 3.025150828938454), np.subtract(x[3], np.absolute(2.0186061404727376))), np.divide(np.multiply(np.minimum(-6.614260315774521, 7.362835471422905), np.power(4.583029845151287, 4.070986083664829)), np.add(np.power(3.025150828938454, 3.6896856709159884), np.multiply(4.583029845151287, 9.137450839147675)))), np.multiply(np.minimum(np.subtract(np.power(2.6207832272206506, 4.583029845151287), np.sinh(x[4])), np.multiply(-4.109412935321963, np.maximum(-9.086916765712074, x[3]))), np.add(8.680667755883558, 8.680667755883558))))), np.subtract(np.multiply(np.add(np.multiply(np.minimum(np.add(np.maximum(-9.62084356692828, x[3]), np.sinh(x[5])), np.add(np.cosh(x[5]), -0.6700783676600786)), np.add(np.minimum(np.add(3.025150828938454, 6.695358044391064), np.square(x[5])), np.minimum(4.583029845151287, np.absolute(x[5])))), np.multiply(np.maximum(np.divide(np.multiply(6.716787783138759, 6.695358044391064), np.absolute(x[5])), np.add(np.absolute(x[5]), 6.695358044391064)), np.maximum(np.add(np.sinh(x[5]), np.cos(x[5])), np.remainder(np.add(3.025150828938454, 4.583029845151287), 6.695358044391064)))), 8.680667755883558), np.minimum(np.square(np.maximum(np.multiply(np.minimum(np.sinh(x[4]), np.multiply(0.6918033302107176, -6.530635069831985)), np.add(np.sinh(x[5]), 9.137450839147675)), np.add(np.minimum(np.multiply(2.6207832272206506, 6.695358044391064), np.square(x[5])), np.minimum(4.070986083664829, np.absolute(x[5]))))), np.square(np.minimum(np.add(np.add(np.subtract(-9.086916765712074, 9.137450839147675), np.cbrt(-9.174199129628121)), np.minimum(np.maximum(-0.6904692721820371, x[3]), np.negative(4.070986083664829))), np.add(np.add(np.subtract(-9.086916765712074, 9.137450839147675), np.maximum(-9.62084356692828, x[3])), np.minimum(np.remainder(x[4], -3.7937243858573027), np.multiply(0.4059194895949467, 6.695358044391064))))))))\n",
      "Generation 4301, Island: 1, Best Fitness: 7263.845581557177, Best Formula: np.minimum(np.subtract(np.add(np.multiply(np.multiply(np.minimum(np.sinh(x[5]), np.sinh(x[5])), np.maximum(np.add(2.6207832272206506, 6.695358044391064), np.subtract(np.divide(x[0], x[0]), np.absolute(x[5])))), np.maximum(np.maximum(np.minimum(np.cosh(x[5]), np.power(2.6207832272206506, 3.025150828938454)), np.minimum(np.multiply(0.6918033302107176, -2.0429845581436634), 6.695358044391064)), np.add(np.minimum(np.multiply(2.6207832272206506, 6.716787783138759), np.square(x[5])), np.minimum(np.square(x[5]), np.absolute(x[5]))))), np.minimum(np.multiply(np.sinh(x[4]), np.maximum(np.multiply(-3.7937243858573027, np.add(-0.6904692721820371, -9.086916765712074)), x[3])), np.add(x[5], np.multiply(np.multiply(np.sinh(x[4]), np.negative(4.070986083664829)), np.add(2.6207832272206506, np.maximum(3.025150828938454, 6.357188936139526)))))), np.minimum(np.maximum(np.remainder(np.power(np.maximum(np.maximum(-9.62084356692828, 3.025150828938454), np.remainder(6.598739131231856, x[1])), np.remainder(np.remainder(x[4], -4.109412935321963), 3.025150828938454)), np.minimum(np.add(np.sinh(x[4]), np.add(-0.7462655368400206, 0.8022963815154291)), np.add(np.minimum(-9.62084356692828, x[2]), np.subtract(-9.174199129628121, 9.137450839147675)))), np.add(np.maximum(np.multiply(np.subtract(-3.7937243858573027, 6.695358044391064), np.add(8.680667755883558, 8.44396666119626)), np.divide(np.power(6.716787783138759, 3.025150828938454), np.maximum(-9.174199129628121, x[3]))), np.divide(np.multiply(np.maximum(-9.174199129628121, x[3]), np.exp(4.583029845151287)), np.multiply(np.reciprocal(-0.7462655368400206), np.multiply(2.8564813916531744, 0.4059194895949467))))), np.remainder(np.maximum(np.divide(np.power(4.583029845151287, 3.025150828938454), np.subtract(x[3], np.absolute(2.0186061404727376))), np.divide(np.multiply(np.minimum(-6.614260315774521, 4.583029845151287), np.power(4.583029845151287, 4.070986083664829)), np.add(np.power(3.025150828938454, 3.6896856709159884), np.multiply(4.583029845151287, 9.137450839147675)))), np.multiply(np.minimum(np.subtract(np.power(2.6207832272206506, 4.583029845151287), np.sinh(x[4])), np.multiply(-4.109412935321963, np.maximum(-9.086916765712074, x[3]))), np.add(8.680667755883558, 8.680667755883558))))), np.subtract(np.multiply(np.add(np.multiply(np.minimum(np.add(np.maximum(-9.62084356692828, x[3]), np.sinh(x[5])), np.add(np.cosh(x[5]), -0.9119260438052024)), np.add(np.minimum(np.add(3.025150828938454, 6.695358044391064), np.square(x[5])), np.minimum(np.absolute(x[5]), np.absolute(x[5])))), np.multiply(np.maximum(np.divide(np.multiply(6.716787783138759, 6.716787783138759), np.absolute(x[5])), np.add(np.absolute(x[5]), 6.716787783138759)), np.maximum(np.add(np.sinh(x[5]), np.cos(x[5])), np.remainder(np.cos(-0.23184167648078358), 6.695358044391064)))), 8.680667755883558), np.minimum(np.square(np.maximum(np.multiply(np.minimum(np.sinh(x[4]), np.multiply(0.6918033302107176, -6.530635069831985)), np.add(np.sinh(x[5]), 9.137450839147675)), np.add(np.minimum(np.multiply(2.6207832272206506, 6.695358044391064), np.square(x[5])), np.minimum(np.rint(3.8753181948170923), np.absolute(x[5]))))), np.square(np.minimum(np.multiply(np.remainder(2.6207832272206506, np.power(6.598739131231856, 0.27879202421427784)), np.remainder(np.minimum(-4.67235171755415, 2.7951331304618385), np.maximum(7.066333904601223, 2.6207832272206506))), np.add(np.add(np.subtract(-9.086916765712074, 9.137450839147675), np.cbrt(-5.538747071485592)), np.minimum(np.maximum(-9.62084356692828, x[3]), np.multiply(0.6918033302107176, -6.530635069831985))))))))\n",
      "Generation 4301, Island: 2, Best Fitness: 7189.865627515268, Best Formula: np.minimum(np.subtract(np.add(np.multiply(np.multiply(np.minimum(np.sinh(x[5]), np.sinh(x[5])), np.maximum(np.add(2.6207832272206506, 6.695358044391064), np.subtract(np.divide(x[0], x[0]), np.exp(4.583029845151287)))), np.maximum(np.maximum(np.minimum(np.cosh(x[5]), np.power(2.6207832272206506, 3.025150828938454)), np.minimum(np.tanh(x[5]), np.square(x[5]))), np.add(np.minimum(np.multiply(2.6207832272206506, 6.716787783138759), np.square(x[5])), np.divide(np.square(x[5]), np.absolute(x[5]))))), np.minimum(np.multiply(np.sinh(x[4]), np.maximum(np.multiply(-3.7937243858573027, np.add(-0.6700783676600786, -9.086916765712074)), 3.928766600907867)), np.add(x[5], np.multiply(np.multiply(np.sinh(x[4]), np.negative(4.070986083664829)), np.add(2.6207832272206506, np.maximum(3.025150828938454, 6.357188936139526)))))), np.minimum(np.maximum(np.add(np.power(np.maximum(np.maximum(4.070986083664829, 3.025150828938454), np.remainder(-9.086916765712074, x[1])), np.remainder(np.remainder(x[4], -3.7937243858573027), 3.025150828938454)), np.minimum(np.add(np.sinh(x[4]), -4.109412935321963), np.add(np.minimum(-9.174199129628121, x[2]), np.subtract(-9.62084356692828, 9.137450839147675)))), np.add(np.maximum(np.multiply(np.subtract(-3.7937243858573027, 6.695358044391064), np.add(8.680667755883558, 8.44396666119626)), np.divide(np.power(6.716787783138759, 3.025150828938454), np.maximum(-9.174199129628121, x[3]))), np.divide(np.multiply(np.maximum(-9.086916765712074, x[3]), np.exp(4.583029845151287)), np.multiply(np.reciprocal(-0.7462655368400206), np.multiply(2.8564813916531744, 0.4059194895949467))))), np.remainder(np.maximum(np.divide(np.power(4.583029845151287, 3.025150828938454), np.subtract(x[3], np.absolute(2.0186061404727376))), np.divide(np.multiply(np.minimum(-6.614260315774521, 7.362835471422905), np.power(4.583029845151287, 4.070986083664829)), np.add(np.power(3.025150828938454, 3.6896856709159884), np.multiply(4.583029845151287, 9.137450839147675)))), np.multiply(np.minimum(np.subtract(np.power(2.6207832272206506, 4.583029845151287), np.sinh(x[4])), np.multiply(-4.109412935321963, np.maximum(-9.086916765712074, x[3]))), np.add(8.680667755883558, 8.680667755883558))))), np.subtract(np.multiply(np.add(np.multiply(np.minimum(np.add(np.maximum(-8.940635460951565, x[3]), np.sinh(x[5])), np.add(np.cosh(x[5]), -0.7462655368400206)), np.add(np.minimum(np.add(3.025150828938454, 6.695358044391064), np.square(x[5])), np.minimum(np.sinh(7.491361533595217), np.absolute(x[5])))), np.multiply(np.maximum(np.divide(np.multiply(6.716787783138759, 6.716787783138759), np.absolute(x[5])), np.add(np.absolute(x[5]), 6.716787783138759)), np.maximum(np.add(np.sinh(x[5]), np.cos(x[5])), np.remainder(np.add(3.025150828938454, 4.583029845151287), 6.695358044391064)))), 8.680667755883558), np.minimum(np.square(np.maximum(np.multiply(np.minimum(np.sinh(x[4]), np.multiply(0.6918033302107176, -6.530635069831985)), np.add(np.sinh(x[5]), 9.137450839147675)), np.add(np.minimum(np.multiply(2.6207832272206506, 6.695358044391064), np.square(x[5])), np.minimum(4.070986083664829, np.absolute(x[5]))))), np.square(np.minimum(np.add(np.add(np.subtract(-9.086916765712074, 9.137450839147675), np.cbrt(-5.538747071485592)), np.multiply(6.558153546942268, np.multiply(5.17635424309881, 0.5366556608667459))), np.add(np.add(np.subtract(-9.086916765712074, 9.137450839147675), np.cbrt(-5.538747071485592)), np.minimum(np.maximum(-6.614260315774521, x[3]), np.multiply(0.6918033302107176, -6.614260315774521))))))))\n"
     ]
    },
    {
     "name": "stderr",
     "output_type": "stream",
     "text": [
      "  0%|          | 4301/1000000 [1:28:32<354:33:25,  1.28s/it]"
     ]
    },
    {
     "name": "stdout",
     "output_type": "stream",
     "text": [
      "Generation 4301, Island: 3, Best Fitness: 6845.485420393021, Best Formula: np.minimum(np.subtract(np.add(np.multiply(np.multiply(np.sinh(x[5]), np.maximum(np.add(2.5852944295947005, np.maximum(2.5852944295947005, 6.695358044391064)), np.subtract(np.divide(x[0], x[0]), np.subtract(x[1], 0.4059194895949467)))), np.maximum(np.maximum(np.minimum(np.cosh(x[5]), np.power(2.6207832272206506, 3.025150828938454)), -1.9818022307528853), np.add(np.minimum(np.power(2.5852944295947005, 3.025150828938454), np.square(x[5])), np.minimum(np.square(x[5]), np.absolute(x[5]))))), np.minimum(np.multiply(np.minimum(np.sinh(x[4]), np.add(2.5852944295947005, 3.025150828938454)), np.maximum(np.multiply(-3.7937243858573027, np.add(-0.5069276167219385, -9.174199129628121)), np.add(4.583029845151287, -0.5069276167219385))), np.add(np.minimum(np.rint(np.square(6.357188936139526)), np.add(np.sinh(x[5]), np.cosh(x[5]))), np.multiply(np.multiply(np.sinh(x[4]), np.negative(4.070986083664829)), np.add(2.6207832272206506, np.maximum(6.357188936139526, 6.357188936139526)))))), np.minimum(np.maximum(np.remainder(np.add(np.maximum(np.maximum(-0.6904692721820371, 0.4059194895949467), np.subtract(x[3], 0.7506252992942812)), np.add(np.remainder(x[4], -4.109412935321963), 3.025150828938454)), np.minimum(np.minimum(np.sinh(x[4]), 2.6207832272206506), np.add(np.minimum(-9.174199129628121, x[2]), np.subtract(-9.180448855305453, 8.680667755883558)))), np.add(np.maximum(np.multiply(np.remainder(x[4], -4.109412935321963), np.exp(4.583029845151287)), np.divide(np.power(6.695358044391064, 3.025150828938454), -3.7937243858573027)), np.divide(np.multiply(np.maximum(-9.174199129628121, x[3]), np.exp(4.583029845151287)), np.multiply(np.divide(5.980665508500083, x[3]), np.multiply(2.6207832272206506, 0.4059194895949467))))), np.remainder(np.maximum(np.divide(np.power(4.583029845151287, 3.025150828938454), np.subtract(x[3], 2.1332481808545545)), np.divide(np.divide(np.power(6.695358044391064, -4.109412935321963), -3.7937243858573027), np.multiply(-3.7937243858573027, np.add(-0.5069276167219385, -4.616839697336248)))), np.multiply(np.minimum(np.multiply(np.multiply(4.583029845151287, 3.025150828938454), 2.6207832272206506), np.multiply(-4.109412935321963, np.maximum(-9.174199129628121, x[3]))), np.add(8.680667755883558, 8.680667755883558))))), np.subtract(np.multiply(np.add(np.multiply(np.minimum(np.add(np.maximum(-9.174199129628121, x[3]), np.sinh(x[5])), np.add(np.cosh(x[5]), np.remainder(-8.005396274762191, -6.5799218298405915))), np.add(np.minimum(np.add(3.025150828938454, 6.695358044391064), np.square(x[5])), np.minimum(np.add(8.680667755883558, -0.6904692721820371), np.absolute(x[5])))), np.multiply(np.maximum(np.divide(np.multiply(6.695358044391064, 6.695358044391064), np.absolute(x[5])), np.add(np.absolute(x[5]), 6.685971936727686)), np.maximum(np.add(np.sinh(x[5]), np.cos(x[5])), np.remainder(np.multiply(0.4059194895949467, 8.018848359911509), 2.2477734007444887)))), 8.680667755883558), np.minimum(np.square(np.maximum(np.multiply(np.add(np.negative(4.070986083664829), np.multiply(0.4059194895949467, 6.357188936139526)), np.sinh(x[5])), np.add(np.minimum(np.power(2.5852944295947005, 3.025150828938454), np.cosh(x[5])), np.minimum(np.sinh(x[4]), np.power(2.5852944295947005, 6.357188936139526))))), np.square(np.minimum(np.minimum(np.multiply(-3.7937243858573027, np.add(-0.5069276167219385, -9.174199129628121)), np.minimum(np.sinh(x[4]), np.square(x[5]))), np.add(np.multiply(np.minimum(6.685971936727686, -7.400107577350203), 4.583029845151287), np.maximum(np.rint(-5.490352837183861), np.subtract(x[3], 0.7506252992942812))))))))\n"
     ]
    },
    {
     "name": "stderr",
     "output_type": "stream",
     "text": [
      "  0%|          | 4304/1000000 [1:28:36<353:06:00,  1.28s/it]"
     ]
    },
    {
     "name": "stdout",
     "output_type": "stream",
     "text": [
      "Migration at 4304 gen from 3 to 2\n"
     ]
    },
    {
     "name": "stderr",
     "output_type": "stream",
     "text": [
      "  0%|          | 4324/1000000 [1:29:01<362:24:22,  1.31s/it]"
     ]
    },
    {
     "name": "stdout",
     "output_type": "stream",
     "text": [
      "Migration at 4324 gen from 3 to 2\n"
     ]
    },
    {
     "name": "stderr",
     "output_type": "stream",
     "text": [
      "  0%|          | 4349/1000000 [1:29:33<351:51:37,  1.27s/it]"
     ]
    },
    {
     "name": "stdout",
     "output_type": "stream",
     "text": [
      "Migration at 4349 gen from 1 to 3\n"
     ]
    },
    {
     "name": "stderr",
     "output_type": "stream",
     "text": [
      "  0%|          | 4350/1000000 [1:29:34<355:12:03,  1.28s/it]"
     ]
    },
    {
     "name": "stdout",
     "output_type": "stream",
     "text": [
      "Generation 4351, Island: 0, Best Fitness: 7186.443046857913, Best Formula: np.minimum(np.subtract(np.add(np.multiply(np.multiply(np.minimum(np.sinh(np.multiply(-7.408686557819872, -8.11931724150388)), np.sinh(x[5])), np.maximum(np.add(2.6207832272206506, 6.695358044391064), np.subtract(np.divide(x[0], x[0]), np.power(8.680667755883558, 3.025150828938454)))), np.maximum(np.maximum(np.minimum(np.cosh(x[5]), np.power(2.6207832272206506, 3.025150828938454)), np.minimum(np.tanh(x[5]), np.square(x[5]))), np.add(np.minimum(np.multiply(2.6207832272206506, 6.716787783138759), np.square(x[5])), np.divide(np.square(x[5]), np.absolute(x[5]))))), np.minimum(np.multiply(np.sinh(x[4]), np.maximum(np.multiply(-3.7937243858573027, np.add(-0.6700783676600786, -9.086916765712074)), x[3])), np.add(x[5], np.multiply(np.multiply(np.sinh(x[4]), np.negative(4.070986083664829)), np.add(2.6207832272206506, np.maximum(4.070986083664829, 6.357188936139526)))))), np.minimum(np.maximum(np.add(np.power(np.maximum(np.maximum(4.070986083664829, 3.025150828938454), np.maximum(x[1], 0.6001237456175588)), np.remainder(np.remainder(x[4], -3.7937243858573027), 3.025150828938454)), np.minimum(np.add(np.sinh(x[4]), np.add(-6.614260315774521, 3.025150828938454)), np.add(np.minimum(-9.62084356692828, x[2]), np.subtract(-9.174199129628121, 9.137450839147675)))), np.add(np.maximum(np.multiply(np.subtract(-3.7937243858573027, 6.695358044391064), np.add(8.680667755883558, 8.44396666119626)), np.divide(np.power(6.716787783138759, 3.025150828938454), np.maximum(-9.174199129628121, x[3]))), np.divide(np.multiply(np.maximum(-9.174199129628121, x[3]), np.exp(4.583029845151287)), np.multiply(np.reciprocal(-0.7462655368400206), np.multiply(2.8564813916531744, 0.4059194895949467))))), np.remainder(np.maximum(np.divide(np.power(4.583029845151287, 3.025150828938454), np.subtract(x[3], np.absolute(2.0186061404727376))), np.divide(np.multiply(np.minimum(-6.614260315774521, 7.362835471422905), np.power(4.583029845151287, 4.070986083664829)), np.add(np.power(3.025150828938454, 3.6896856709159884), np.multiply(4.583029845151287, 9.137450839147675)))), np.multiply(np.minimum(np.subtract(np.power(2.6207832272206506, 4.583029845151287), np.sinh(x[4])), np.multiply(-4.109412935321963, np.maximum(-9.086916765712074, x[3]))), np.add(8.680667755883558, 8.680667755883558))))), np.subtract(np.multiply(np.add(np.multiply(np.minimum(np.add(np.maximum(-9.62084356692828, x[3]), np.sinh(x[5])), np.add(np.cosh(x[5]), -0.6700783676600786)), np.add(np.minimum(np.add(3.025150828938454, 6.695358044391064), np.square(x[5])), np.minimum(4.583029845151287, np.absolute(x[5])))), np.multiply(np.maximum(np.divide(np.multiply(6.716787783138759, 6.695358044391064), np.absolute(x[5])), np.add(np.absolute(x[5]), 6.695358044391064)), np.maximum(np.add(np.sinh(x[5]), np.cos(x[5])), np.remainder(np.add(3.025150828938454, 4.583029845151287), 6.695358044391064)))), 8.680667755883558), np.minimum(np.square(np.maximum(np.multiply(np.minimum(np.sinh(x[4]), np.multiply(0.6918033302107176, -6.530635069831985)), np.add(np.sinh(x[5]), 9.137450839147675)), np.add(np.minimum(np.multiply(2.6207832272206506, 6.695358044391064), np.square(x[5])), np.minimum(4.070986083664829, np.absolute(x[5]))))), np.square(np.minimum(np.add(np.add(np.subtract(-9.086916765712074, 9.137450839147675), np.cbrt(-9.174199129628121)), np.minimum(np.maximum(-0.6904692721820371, x[3]), np.negative(4.070986083664829))), np.add(np.add(np.subtract(-9.086916765712074, 9.137450839147675), np.maximum(-9.62084356692828, x[3])), np.minimum(np.maximum(x[4], -3.7937243858573027), np.multiply(0.4059194895949467, -3.7937243858573027))))))))\n",
      "Generation 4351, Island: 1, Best Fitness: 7261.335552352951, Best Formula: np.minimum(np.subtract(np.add(np.multiply(np.multiply(np.minimum(np.sinh(x[5]), np.sinh(x[5])), np.maximum(np.add(2.6207832272206506, 6.695358044391064), np.subtract(np.divide(x[0], x[0]), np.absolute(x[5])))), np.maximum(np.maximum(np.minimum(np.cosh(x[5]), np.power(2.6207832272206506, 3.025150828938454)), np.minimum(np.multiply(0.6918033302107176, -2.0429845581436634), 6.695358044391064)), np.add(np.minimum(np.multiply(2.6207832272206506, 6.716787783138759), np.square(x[5])), np.minimum(np.square(x[5]), np.absolute(x[5]))))), np.minimum(np.multiply(np.sinh(x[4]), np.maximum(np.multiply(-3.7937243858573027, np.add(-0.6904692721820371, -9.086916765712074)), x[3])), np.add(x[5], np.multiply(np.multiply(np.sinh(x[4]), np.negative(4.070986083664829)), np.add(2.6207832272206506, np.maximum(-3.2623281886857995, 6.357188936139526)))))), np.minimum(np.maximum(np.remainder(np.power(np.maximum(np.maximum(-9.62084356692828, 3.025150828938454), np.remainder(6.598739131231856, x[1])), np.remainder(np.remainder(x[4], -4.109412935321963), 3.025150828938454)), np.minimum(np.add(np.sinh(x[4]), np.add(-0.7462655368400206, 0.8022963815154291)), np.add(np.minimum(-9.62084356692828, x[2]), np.subtract(-9.174199129628121, 9.137450839147675)))), np.add(np.maximum(np.multiply(np.subtract(-3.7937243858573027, 6.695358044391064), np.add(9.137450839147675, 8.44396666119626)), np.divide(np.power(7.066333904601223, 3.025150828938454), np.maximum(-9.174199129628121, x[3]))), np.divide(np.multiply(np.maximum(-9.174199129628121, x[3]), np.exp(4.583029845151287)), np.multiply(np.reciprocal(-0.7462655368400206), np.multiply(2.8564813916531744, 0.4059194895949467))))), np.remainder(np.maximum(np.divide(np.power(4.583029845151287, 3.025150828938454), np.subtract(x[3], np.absolute(2.0186061404727376))), np.divide(np.multiply(np.minimum(-6.614260315774521, 4.583029845151287), np.power(4.583029845151287, 4.070986083664829)), np.add(np.power(3.025150828938454, 3.6896856709159884), np.multiply(4.583029845151287, 9.137450839147675)))), np.multiply(np.minimum(np.subtract(np.power(2.6207832272206506, 4.583029845151287), np.sinh(x[4])), np.multiply(-4.109412935321963, np.maximum(-9.086916765712074, x[3]))), np.add(8.680667755883558, 8.680667755883558))))), np.subtract(np.multiply(np.add(np.multiply(np.minimum(np.add(np.maximum(-9.62084356692828, x[3]), np.sinh(x[5])), np.add(np.cosh(x[5]), -0.9119260438052024)), np.add(np.minimum(np.add(3.025150828938454, 6.695358044391064), np.square(x[5])), np.minimum(np.multiply(4.583029845151287, 9.137450839147675), np.absolute(x[5])))), np.multiply(np.maximum(np.divide(np.multiply(6.716787783138759, 6.716787783138759), np.absolute(x[5])), np.add(np.absolute(x[5]), 6.716787783138759)), np.maximum(np.add(np.sinh(x[5]), np.cos(x[5])), np.remainder(np.cos(-0.23184167648078358), 2.0186061404727376)))), 8.680667755883558), np.minimum(np.square(np.maximum(np.multiply(np.minimum(np.sinh(x[4]), np.multiply(0.6918033302107176, -6.530635069831985)), np.add(np.sinh(x[5]), 9.137450839147675)), np.add(np.minimum(np.multiply(2.6207832272206506, 6.695358044391064), np.square(x[5])), np.minimum(np.rint(3.8753181948170923), np.absolute(x[5]))))), np.square(np.minimum(np.multiply(np.remainder(2.6207832272206506, np.power(6.598739131231856, 0.27879202421427784)), np.remainder(np.minimum(-4.67235171755415, 2.7951331304618385), np.absolute(x[5]))), np.add(np.add(np.subtract(-9.086916765712074, 9.137450839147675), np.cbrt(-5.538747071485592)), np.minimum(np.maximum(-9.62084356692828, x[3]), np.multiply(0.6918033302107176, -6.530635069831985))))))))\n",
      "Generation 4351, Island: 2, Best Fitness: 6826.163842177558, Best Formula: np.minimum(np.subtract(np.add(np.multiply(np.multiply(np.sinh(x[5]), np.maximum(np.add(2.5852944295947005, np.maximum(2.5852944295947005, 6.695358044391064)), np.subtract(np.divide(x[0], x[0]), np.subtract(x[1], 0.4059194895949467)))), np.maximum(np.maximum(np.minimum(np.cosh(x[5]), np.power(2.6207832272206506, 3.025150828938454)), np.remainder(-8.005396274762191, -6.5799218298405915)), np.add(np.minimum(np.power(2.5852944295947005, 3.025150828938454), np.square(x[5])), np.minimum(np.square(x[5]), np.absolute(x[5]))))), np.minimum(np.multiply(np.minimum(np.sinh(x[4]), np.add(2.5852944295947005, 3.025150828938454)), np.maximum(np.multiply(-3.7937243858573027, np.add(-0.5069276167219385, -9.174199129628121)), -6.5799218298405915)), np.add(np.minimum(np.multiply(-3.7937243858573027, np.add(-0.5069276167219385, -9.174199129628121)), np.add(np.sinh(x[5]), np.cosh(x[5]))), np.multiply(np.multiply(np.sinh(x[4]), np.negative(4.070986083664829)), np.add(2.6207832272206506, np.maximum(-9.174199129628121, 6.357188936139526)))))), np.minimum(np.maximum(np.remainder(np.add(np.maximum(np.maximum(-0.6904692721820371, 0.4059194895949467), np.subtract(x[3], 0.7506252992942812)), np.add(np.remainder(x[4], -4.109412935321963), 3.025150828938454)), np.minimum(np.minimum(np.sinh(x[4]), 2.6207832272206506), np.add(np.minimum(-9.174199129628121, x[2]), np.subtract(-9.180448855305453, 8.680667755883558)))), np.add(np.maximum(np.multiply(np.remainder(x[4], -4.109412935321963), np.exp(4.583029845151287)), np.divide(np.power(6.695358044391064, 3.025150828938454), -3.7937243858573027)), np.divide(np.multiply(np.maximum(-9.174199129628121, x[3]), np.exp(4.583029845151287)), np.multiply(np.divide(5.980665508500083, x[3]), np.multiply(2.6207832272206506, 0.4059194895949467))))), np.remainder(np.maximum(np.divide(np.power(4.583029845151287, 3.025150828938454), np.subtract(x[3], 2.1332481808545545)), np.divide(np.divide(np.power(6.695358044391064, -4.109412935321963), -3.7937243858573027), np.multiply(np.multiply(-9.653253518028924, 8.018848359911509), np.add(4.583029845151287, -4.616839697336248)))), np.multiply(np.minimum(np.multiply(np.multiply(4.583029845151287, 2.5852944295947005), 2.6207832272206506), np.multiply(-4.109412935321963, np.maximum(-9.174199129628121, x[3]))), np.add(8.680667755883558, 8.680667755883558))))), np.subtract(np.multiply(np.add(np.multiply(np.minimum(np.add(np.maximum(-9.174199129628121, x[3]), np.sinh(x[5])), np.add(np.cosh(x[5]), np.remainder(-8.005396274762191, -6.5799218298405915))), np.add(np.minimum(np.add(3.025150828938454, 6.695358044391064), np.square(x[5])), np.minimum(np.add(8.680667755883558, -0.6904692721820371), np.absolute(x[5])))), np.multiply(np.maximum(np.divide(np.multiply(6.695358044391064, 6.695358044391064), np.absolute(x[5])), np.add(np.absolute(x[5]), 6.685971936727686)), np.maximum(np.add(np.sinh(x[5]), np.cos(x[5])), np.remainder(np.multiply(-9.653253518028924, 8.018848359911509), 2.2477734007444887)))), 8.680667755883558), np.minimum(np.square(np.maximum(np.multiply(np.add(np.negative(4.070986083664829), np.multiply(0.4059194895949467, 6.357188936139526)), np.sinh(x[5])), np.add(np.minimum(np.power(2.5852944295947005, 3.025150828938454), np.cosh(x[5])), np.minimum(np.sinh(x[4]), np.power(2.5852944295947005, 6.357188936139526))))), np.square(np.minimum(np.maximum(np.multiply(-3.7937243858573027, np.add(-0.5069276167219385, -9.174199129628121)), -6.5799218298405915), np.add(np.multiply(np.minimum(6.695358044391064, -7.400107577350203), 4.583029845151287), np.maximum(np.rint(-5.490352837183861), np.remainder(x[4], -4.109412935321963))))))))\n"
     ]
    },
    {
     "name": "stderr",
     "output_type": "stream",
     "text": [
      "  0%|          | 4351/1000000 [1:29:36<358:41:06,  1.30s/it]"
     ]
    },
    {
     "name": "stdout",
     "output_type": "stream",
     "text": [
      "Generation 4351, Island: 3, Best Fitness: 6812.376735804784, Best Formula: np.minimum(np.subtract(np.add(np.multiply(np.multiply(np.sinh(x[5]), np.maximum(np.add(2.5852944295947005, np.maximum(2.5852944295947005, 6.695358044391064)), np.subtract(np.divide(x[0], x[0]), np.subtract(x[1], 0.4059194895949467)))), np.maximum(np.maximum(np.minimum(np.cosh(x[5]), np.power(2.6207832272206506, 3.025150828938454)), -1.9818022307528853), np.add(np.minimum(np.power(2.5852944295947005, 3.025150828938454), np.square(x[5])), np.minimum(np.square(x[5]), np.absolute(x[5]))))), np.minimum(np.multiply(np.minimum(np.sinh(x[4]), np.power(2.5852944295947005, 3.025150828938454)), np.maximum(np.multiply(-3.7937243858573027, np.add(-0.5069276167219385, -9.174199129628121)), np.remainder(np.multiply(0.4059194895949467, 8.018848359911509), 2.2477734007444887))), np.add(np.minimum(np.multiply(np.multiply(4.583029845151287, 3.025150828938454), 2.6207832272206506), np.add(np.sinh(x[5]), np.cosh(x[5]))), np.multiply(np.multiply(np.sinh(x[4]), np.negative(4.070986083664829)), np.add(2.6207832272206506, np.maximum(6.357188936139526, 6.357188936139526)))))), np.minimum(np.maximum(np.remainder(np.add(np.maximum(np.maximum(-0.6904692721820371, 0.4059194895949467), np.subtract(x[3], 0.7506252992942812)), np.add(np.remainder(x[4], -4.109412935321963), 3.025150828938454)), np.minimum(np.minimum(np.sinh(x[4]), 2.6207832272206506), np.add(np.minimum(-9.174199129628121, x[2]), np.subtract(-9.180448855305453, 8.680667755883558)))), np.add(np.maximum(np.multiply(np.remainder(x[4], -4.109412935321963), np.exp(4.583029845151287)), np.divide(np.power(6.695358044391064, 3.025150828938454), -3.7937243858573027)), np.divide(np.multiply(np.maximum(-9.174199129628121, x[3]), np.exp(4.583029845151287)), np.multiply(np.divide(5.980665508500083, x[3]), np.multiply(2.6207832272206506, 0.4059194895949467))))), np.remainder(np.maximum(np.divide(np.power(4.583029845151287, 3.025150828938454), np.subtract(x[3], 2.1332481808545545)), np.divide(np.multiply(np.minimum(4.61019706061602, -0.5069276167219385), 6.685971936727686), np.multiply(-3.7937243858573027, np.add(-0.5069276167219385, -9.174199129628121)))), np.multiply(np.minimum(np.multiply(np.multiply(4.583029845151287, 3.025150828938454), 2.6207832272206506), np.multiply(-4.109412935321963, np.maximum(-9.174199129628121, x[3]))), np.add(8.680667755883558, 8.680667755883558))))), np.subtract(np.multiply(np.add(np.multiply(np.minimum(np.add(np.maximum(-9.174199129628121, x[3]), np.sinh(x[5])), np.add(np.cosh(x[5]), np.remainder(-8.005396274762191, -6.5799218298405915))), np.add(np.minimum(np.add(3.025150828938454, 6.695358044391064), np.square(x[5])), np.minimum(np.add(8.680667755883558, -0.6904692721820371), np.absolute(x[5])))), np.multiply(np.maximum(np.divide(np.multiply(6.695358044391064, 6.695358044391064), np.absolute(x[5])), np.add(np.absolute(x[5]), 6.685971936727686)), np.maximum(np.add(np.sinh(x[5]), np.cos(x[5])), np.remainder(np.multiply(0.4059194895949467, 8.018848359911509), 2.2477734007444887)))), 8.680667755883558), np.minimum(np.square(np.maximum(np.multiply(np.add(np.negative(4.070986083664829), np.multiply(0.4059194895949467, 6.357188936139526)), np.sinh(x[5])), np.add(np.minimum(np.power(2.5852944295947005, 3.025150828938454), np.cosh(x[5])), np.minimum(np.sinh(x[4]), np.power(4.070986083664829, 2.2477734007444887))))), np.square(np.minimum(np.minimum(np.subtract(-3.7937243858573027, np.add(-0.5069276167219385, 2.1332481808545545)), np.minimum(np.square(x[5]), np.square(x[5]))), np.add(np.multiply(np.minimum(6.685971936727686, -7.400107577350203), 4.583029845151287), np.maximum(np.minimum(-4.067873225649736, 7.124062842861974), np.subtract(x[3], 3.025150828938454))))))))\n"
     ]
    },
    {
     "name": "stderr",
     "output_type": "stream",
     "text": [
      "  0%|          | 4400/1000000 [1:30:37<351:44:04,  1.27s/it]"
     ]
    },
    {
     "name": "stdout",
     "output_type": "stream",
     "text": [
      "Generation 4401, Island: 0, Best Fitness: 7141.193492710781, Best Formula: np.minimum(np.subtract(np.add(np.multiply(np.multiply(np.minimum(np.sinh(np.multiply(-7.408686557819872, -8.11931724150388)), np.sinh(x[5])), np.maximum(np.add(2.6207832272206506, 6.695358044391064), np.subtract(np.divide(x[0], x[0]), np.power(8.680667755883558, -9.62084356692828)))), np.maximum(np.maximum(np.minimum(np.cosh(x[5]), np.power(2.6207832272206506, 3.025150828938454)), np.minimum(np.tanh(x[5]), np.square(x[5]))), np.add(np.minimum(np.multiply(2.6207832272206506, 6.716787783138759), np.square(x[5])), np.divide(np.square(x[5]), np.absolute(x[5]))))), np.minimum(np.multiply(np.sinh(x[4]), np.maximum(np.multiply(-3.7937243858573027, np.add(-0.6700783676600786, -9.086916765712074)), x[3])), np.add(x[5], np.multiply(np.multiply(np.sinh(x[4]), np.negative(4.070986083664829)), np.add(2.6207832272206506, np.maximum(4.070986083664829, 6.357188936139526)))))), np.minimum(np.maximum(np.add(np.power(np.maximum(np.maximum(4.070986083664829, 3.025150828938454), np.maximum(x[1], 0.6001237456175588)), np.remainder(np.remainder(x[4], -3.7937243858573027), 3.025150828938454)), np.minimum(np.add(np.sinh(x[4]), np.add(-6.614260315774521, 2.6207832272206506)), np.add(np.minimum(-9.62084356692828, x[2]), np.subtract(-9.174199129628121, 9.137450839147675)))), np.add(np.maximum(np.multiply(np.subtract(-3.7937243858573027, 6.695358044391064), np.add(8.680667755883558, 8.44396666119626)), np.divide(np.power(6.716787783138759, 3.025150828938454), np.maximum(-9.174199129628121, x[3]))), np.divide(np.multiply(np.maximum(-9.174199129628121, x[3]), np.exp(4.583029845151287)), np.multiply(np.reciprocal(-0.7462655368400206), np.multiply(2.8564813916531744, 0.4059194895949467))))), np.remainder(np.maximum(np.divide(np.power(4.583029845151287, 3.025150828938454), np.subtract(x[3], np.absolute(2.0186061404727376))), np.divide(np.multiply(np.minimum(-6.614260315774521, 7.362835471422905), np.power(4.583029845151287, 4.070986083664829)), np.add(np.power(3.025150828938454, 3.6896856709159884), np.multiply(4.583029845151287, 9.137450839147675)))), np.multiply(np.minimum(np.subtract(np.power(2.6207832272206506, 4.583029845151287), np.sinh(x[4])), np.multiply(-4.109412935321963, np.maximum(-9.086916765712074, x[3]))), np.add(8.680667755883558, 8.680667755883558))))), np.subtract(np.multiply(np.add(np.multiply(np.minimum(np.add(np.maximum(-9.62084356692828, x[3]), np.sinh(x[5])), np.add(np.cosh(x[5]), -0.7462655368400206)), np.add(np.minimum(np.add(3.025150828938454, 6.695358044391064), np.square(x[5])), np.minimum(4.583029845151287, np.absolute(x[5])))), np.multiply(np.maximum(np.divide(np.multiply(6.695358044391064, 6.695358044391064), np.absolute(x[5])), np.add(np.absolute(x[5]), 6.695358044391064)), np.maximum(np.add(np.sinh(x[5]), np.cos(x[5])), np.remainder(np.add(3.025150828938454, 4.583029845151287), 6.695358044391064)))), 8.680667755883558), np.minimum(np.square(np.maximum(np.multiply(np.minimum(np.sinh(x[4]), -4.284102988488023), np.add(np.sinh(x[5]), 9.137450839147675)), np.add(np.minimum(np.multiply(2.6207832272206506, 6.695358044391064), np.square(x[5])), np.minimum(4.070986083664829, np.absolute(x[5]))))), np.square(np.minimum(np.add(np.add(np.subtract(-9.086916765712074, 9.137450839147675), np.cbrt(-4.191510062250307)), np.add(np.maximum(-0.6904692721820371, x[3]), np.negative(4.070986083664829))), np.add(np.add(np.subtract(-9.086916765712074, 9.137450839147675), np.maximum(-9.62084356692828, x[3])), np.minimum(np.maximum(x[4], -3.7937243858573027), np.add(0.4059194895949467, 8.680667755883558))))))))\n",
      "Generation 4401, Island: 1, Best Fitness: 7195.573335718155, Best Formula: np.minimum(np.subtract(np.add(np.multiply(np.multiply(np.minimum(np.sinh(x[5]), np.sinh(x[5])), np.maximum(np.add(2.6207832272206506, 6.695358044391064), np.subtract(np.divide(x[0], x[0]), np.absolute(x[5])))), np.maximum(np.maximum(np.minimum(np.cosh(x[5]), np.power(2.6207832272206506, 3.025150828938454)), np.minimum(np.multiply(0.6918033302107176, -2.0429845581436634), np.power(7.066333904601223, 3.025150828938454))), np.add(np.minimum(np.multiply(2.6207832272206506, 6.716787783138759), np.square(x[5])), np.minimum(np.square(x[5]), np.absolute(x[5]))))), np.minimum(np.multiply(np.sinh(x[4]), np.maximum(np.multiply(-3.7937243858573027, np.add(-0.6904692721820371, -9.086916765712074)), np.divide(np.cbrt(8.327888595947474), 2.9233920368008786))), np.add(x[5], np.multiply(np.multiply(np.sinh(x[4]), np.negative(4.070986083664829)), np.add(2.6207832272206506, np.maximum(2.6207832272206506, 6.357188936139526)))))), np.minimum(np.maximum(np.remainder(np.power(np.maximum(np.maximum(-9.62084356692828, 3.025150828938454), np.remainder(6.598739131231856, x[1])), np.remainder(np.remainder(x[4], -4.109412935321963), 3.025150828938454)), np.minimum(np.add(np.sinh(x[4]), np.add(-0.7462655368400206, 3.025150828938454)), np.add(np.minimum(-9.62084356692828, x[2]), np.subtract(-9.174199129628121, 9.137450839147675)))), np.add(np.maximum(np.multiply(np.subtract(-3.7937243858573027, 6.695358044391064), np.add(8.680667755883558, 8.680667755883558)), np.divide(np.power(7.066333904601223, 3.025150828938454), np.maximum(-9.174199129628121, x[3]))), np.divide(np.multiply(np.maximum(-9.174199129628121, x[3]), np.exp(4.583029845151287)), np.multiply(np.reciprocal(-0.7462655368400206), np.multiply(2.6207832272206506, 0.4059194895949467))))), np.remainder(np.maximum(np.divide(np.power(4.583029845151287, 3.025150828938454), np.subtract(x[3], np.absolute(2.0186061404727376))), np.divide(np.multiply(np.minimum(-6.614260315774521, 4.583029845151287), np.power(4.583029845151287, 4.070986083664829)), np.add(np.power(3.025150828938454, 3.6896856709159884), np.multiply(4.583029845151287, 9.137450839147675)))), np.multiply(np.minimum(np.subtract(np.power(2.6207832272206506, 4.583029845151287), np.sinh(x[4])), np.multiply(-4.109412935321963, np.maximum(-9.086916765712074, x[3]))), np.add(8.680667755883558, 8.680667755883558))))), np.subtract(np.multiply(np.add(np.multiply(np.minimum(np.add(np.maximum(-9.62084356692828, x[3]), np.sinh(x[5])), np.add(np.cosh(x[5]), -0.9119260438052024)), np.add(np.minimum(np.add(3.025150828938454, 6.695358044391064), np.square(x[5])), np.minimum(np.multiply(3.025150828938454, 9.137450839147675), np.absolute(x[5])))), np.multiply(np.maximum(np.divide(np.multiply(6.716787783138759, 6.716787783138759), np.absolute(x[5])), np.add(np.absolute(x[5]), 6.716787783138759)), np.maximum(np.add(np.sinh(x[5]), np.cos(x[5])), np.remainder(np.cos(-0.23184167648078358), 2.6207832272206506)))), 8.680667755883558), np.minimum(np.square(np.maximum(np.multiply(np.minimum(np.sinh(x[4]), np.multiply(0.6918033302107176, -6.530635069831985)), np.add(np.sinh(x[5]), 9.137450839147675)), np.add(np.minimum(np.multiply(2.6207832272206506, 6.695358044391064), np.square(x[5])), np.minimum(np.rint(3.8753181948170923), np.absolute(x[5]))))), np.square(np.minimum(np.multiply(np.remainder(2.6207832272206506, np.power(6.598739131231856, 0.27879202421427784)), np.remainder(np.minimum(-4.67235171755415, 2.7951331304618385), np.absolute(x[5]))), np.add(np.add(np.subtract(-9.086916765712074, 9.137450839147675), np.cbrt(-5.538747071485592)), np.minimum(np.maximum(-9.62084356692828, x[3]), np.multiply(0.6918033302107176, -6.530635069831985))))))))\n",
      "Generation 4401, Island: 2, Best Fitness: 6807.673908537143, Best Formula: np.minimum(np.subtract(np.add(np.multiply(np.multiply(np.sinh(x[5]), np.maximum(np.add(2.5852944295947005, np.maximum(2.5852944295947005, 6.695358044391064)), np.subtract(np.divide(x[0], x[0]), np.subtract(x[1], 0.4059194895949467)))), np.maximum(np.maximum(np.minimum(np.cosh(x[5]), np.power(2.6207832272206506, 3.025150828938454)), np.remainder(-8.005396274762191, 9.072752146111362)), np.add(np.minimum(np.power(2.5852944295947005, 3.025150828938454), np.square(x[5])), np.minimum(np.square(x[5]), np.absolute(x[5]))))), np.minimum(np.multiply(np.minimum(np.sinh(x[4]), np.add(2.5852944295947005, 3.025150828938454)), np.maximum(np.multiply(-3.7937243858573027, np.add(-0.5069276167219385, -9.174199129628121)), -6.5799218298405915)), np.add(np.minimum(np.multiply(-3.7937243858573027, -8.005396274762191), np.add(np.sinh(x[5]), np.cosh(x[5]))), np.multiply(np.multiply(np.sinh(x[4]), np.negative(4.070986083664829)), np.add(2.6207832272206506, np.maximum(-9.174199129628121, 6.357188936139526)))))), np.minimum(np.maximum(np.remainder(np.add(np.maximum(np.maximum(-0.6904692721820371, 0.4059194895949467), np.subtract(x[3], 0.7506252992942812)), np.add(np.remainder(x[4], -4.109412935321963), 3.025150828938454)), np.minimum(np.minimum(np.sinh(x[4]), 2.6207832272206506), np.add(np.minimum(-9.174199129628121, x[2]), np.subtract(-9.653253518028924, 8.680667755883558)))), np.add(np.maximum(np.multiply(np.remainder(x[4], -4.109412935321963), np.exp(4.583029845151287)), np.divide(np.power(6.695358044391064, 3.025150828938454), -3.7937243858573027)), np.divide(np.multiply(np.maximum(-9.174199129628121, x[3]), np.exp(4.583029845151287)), np.multiply(np.divide(5.980665508500083, x[3]), np.multiply(2.6207832272206506, 0.4059194895949467))))), np.remainder(np.maximum(np.divide(np.power(4.583029845151287, 3.025150828938454), np.subtract(x[3], 2.1332481808545545)), np.divide(np.divide(np.power(8.680667755883558, -9.174199129628121), -3.7937243858573027), np.multiply(np.multiply(-9.653253518028924, 8.018848359911509), np.multiply(9.876729951036523, -4.616839697336248)))), np.multiply(np.minimum(np.multiply(np.power(2.5852944295947005, 3.025150828938454), 2.6207832272206506), np.multiply(-4.109412935321963, np.maximum(-9.174199129628121, x[3]))), np.add(8.680667755883558, 8.680667755883558))))), np.subtract(np.multiply(np.add(np.multiply(np.minimum(np.add(np.maximum(-9.174199129628121, x[3]), np.sinh(x[5])), np.add(np.cosh(x[5]), np.remainder(-8.005396274762191, -6.5799218298405915))), np.add(np.minimum(np.add(3.025150828938454, 6.695358044391064), np.square(x[5])), np.minimum(np.add(8.680667755883558, -0.6904692721820371), np.absolute(x[5])))), np.multiply(np.maximum(np.divide(np.multiply(6.695358044391064, 6.695358044391064), np.absolute(x[5])), np.add(np.absolute(x[5]), 6.685971936727686)), np.maximum(np.add(np.sinh(x[5]), np.cos(x[5])), np.remainder(np.multiply(-9.653253518028924, 8.018848359911509), 2.2477734007444887)))), 8.680667755883558), np.minimum(np.square(np.maximum(np.multiply(np.add(np.negative(4.070986083664829), np.multiply(0.4059194895949467, 6.357188936139526)), np.sinh(x[5])), np.add(np.minimum(np.power(2.5852944295947005, 3.025150828938454), np.cosh(x[5])), np.minimum(np.sinh(x[4]), np.power(2.5852944295947005, 6.357188936139526))))), np.square(np.minimum(np.maximum(np.multiply(-3.7937243858573027, np.add(-0.5069276167219385, 6.695358044391064)), -6.5799218298405915), np.add(np.multiply(np.minimum(6.695358044391064, -7.400107577350203), 4.583029845151287), np.maximum(np.rint(-5.490352837183861), np.remainder(x[4], -3.7937243858573027))))))))\n"
     ]
    },
    {
     "name": "stderr",
     "output_type": "stream",
     "text": [
      "  0%|          | 4401/1000000 [1:30:39<352:59:20,  1.28s/it]"
     ]
    },
    {
     "name": "stdout",
     "output_type": "stream",
     "text": [
      "Generation 4401, Island: 3, Best Fitness: 6699.778618447509, Best Formula: np.minimum(np.subtract(np.add(np.multiply(np.multiply(np.sinh(x[5]), np.maximum(np.add(2.5852944295947005, np.maximum(2.5852944295947005, 6.695358044391064)), np.subtract(np.divide(x[0], x[0]), np.subtract(x[1], 0.4059194895949467)))), np.maximum(np.maximum(np.minimum(np.cosh(x[5]), np.power(2.6207832272206506, 3.025150828938454)), -1.9818022307528853), np.add(np.minimum(np.power(2.5852944295947005, 3.025150828938454), np.square(x[5])), np.minimum(np.square(x[5]), np.absolute(x[5]))))), np.minimum(np.multiply(np.minimum(np.sinh(x[4]), np.power(2.5852944295947005, 3.025150828938454)), np.maximum(np.multiply(-3.7937243858573027, np.add(-0.5069276167219385, -9.174199129628121)), np.remainder(2.6207832272206506, 2.2477734007444887))), np.add(np.minimum(np.multiply(np.multiply(4.583029845151287, 3.025150828938454), 2.6207832272206506), np.add(np.sinh(x[5]), np.cosh(x[5]))), np.multiply(np.multiply(np.sinh(x[4]), np.negative(4.070986083664829)), np.add(2.6207832272206506, np.maximum(-4.109412935321963, 6.357188936139526)))))), np.minimum(np.maximum(np.remainder(np.add(np.maximum(np.maximum(-0.6904692721820371, 0.4059194895949467), np.subtract(x[3], 0.7506252992942812)), np.add(np.remainder(x[4], -4.109412935321963), 3.025150828938454)), np.minimum(np.minimum(np.sinh(x[4]), 2.6207832272206506), np.add(np.minimum(-9.174199129628121, x[2]), np.subtract(-9.180448855305453, 8.680667755883558)))), np.add(np.maximum(np.multiply(np.remainder(x[4], -4.109412935321963), np.exp(4.583029845151287)), np.divide(np.power(6.695358044391064, 3.025150828938454), -3.7937243858573027)), np.divide(np.multiply(np.maximum(-9.174199129628121, x[3]), np.exp(4.583029845151287)), np.multiply(np.divide(5.980665508500083, x[3]), np.multiply(2.6207832272206506, 0.4059194895949467))))), np.remainder(np.maximum(np.divide(np.power(4.583029845151287, 3.025150828938454), np.subtract(x[3], 2.1332481808545545)), np.divide(np.multiply(np.minimum(4.61019706061602, -0.5069276167219385), 4.070986083664829), np.add(2.6207832272206506, np.maximum(6.357188936139526, 6.357188936139526)))), np.multiply(np.minimum(np.multiply(np.multiply(4.583029845151287, 3.025150828938454), 2.6207832272206506), np.multiply(-4.109412935321963, np.maximum(-9.174199129628121, x[3]))), np.add(8.680667755883558, 8.680667755883558))))), np.subtract(np.multiply(np.add(np.multiply(np.minimum(np.add(np.maximum(-9.174199129628121, x[3]), np.sinh(x[5])), np.add(np.cosh(x[5]), np.remainder(-8.005396274762191, -6.5799218298405915))), np.add(np.minimum(np.add(3.025150828938454, 6.695358044391064), np.square(x[5])), np.minimum(np.add(8.680667755883558, -0.6904692721820371), np.absolute(x[5])))), np.multiply(np.maximum(np.divide(np.multiply(6.695358044391064, 6.695358044391064), np.absolute(x[5])), np.add(np.absolute(x[5]), 6.685971936727686)), np.maximum(np.add(np.sinh(x[5]), np.cos(x[5])), np.remainder(np.multiply(0.4059194895949467, 8.018848359911509), 2.2477734007444887)))), 8.680667755883558), np.minimum(np.square(np.maximum(np.multiply(np.add(np.negative(4.070986083664829), np.multiply(0.4059194895949467, 6.357188936139526)), np.sinh(x[5])), np.add(np.minimum(np.power(2.5852944295947005, 3.025150828938454), np.cosh(x[5])), np.minimum(np.square(x[4]), np.power(4.070986083664829, 2.2477734007444887))))), np.square(np.minimum(np.minimum(np.subtract(-3.7937243858573027, np.sinh(x[4])), np.minimum(np.square(x[5]), np.square(x[5]))), np.add(np.multiply(np.minimum(-9.174199129628121, -7.400107577350203), 4.583029845151287), np.maximum(np.minimum(-4.067873225649736, 7.124062842861974), np.subtract(x[3], 3.025150828938454))))))))\n"
     ]
    },
    {
     "name": "stderr",
     "output_type": "stream",
     "text": [
      "  0%|          | 4450/1000000 [1:31:41<366:59:33,  1.33s/it]"
     ]
    },
    {
     "name": "stdout",
     "output_type": "stream",
     "text": [
      "Generation 4451, Island: 0, Best Fitness: 7123.2804931418505, Best Formula: np.minimum(np.subtract(np.add(np.multiply(np.multiply(np.minimum(np.sinh(np.multiply(2.6207832272206506, 6.716787783138759)), np.sinh(x[5])), np.maximum(np.add(2.6207832272206506, 6.695358044391064), np.subtract(np.divide(x[0], x[0]), np.power(8.680667755883558, -9.62084356692828)))), np.maximum(np.maximum(np.minimum(np.cosh(x[5]), np.power(2.6207832272206506, 3.025150828938454)), np.minimum(np.tanh(x[5]), 8.680667755883558)), np.add(np.minimum(np.multiply(2.6207832272206506, 6.716787783138759), np.square(x[5])), np.divide(np.square(x[5]), np.absolute(x[5]))))), np.minimum(np.multiply(np.sinh(x[4]), np.maximum(np.multiply(-3.7937243858573027, np.add(-0.6700783676600786, -9.086916765712074)), x[3])), np.add(x[5], np.multiply(np.multiply(np.sinh(x[4]), np.negative(4.070986083664829)), np.add(2.6207832272206506, np.maximum(4.070986083664829, 6.357188936139526)))))), np.minimum(np.maximum(np.add(np.power(np.maximum(np.maximum(-9.174199129628121, 3.025150828938454), np.maximum(x[1], 4.070986083664829)), np.remainder(np.remainder(x[4], -3.7937243858573027), 3.025150828938454)), np.minimum(np.add(np.sinh(x[4]), -3.7937243858573027), np.add(np.minimum(-9.62084356692828, x[2]), np.subtract(-9.174199129628121, 9.137450839147675)))), np.add(np.maximum(np.multiply(np.subtract(-3.7937243858573027, 6.695358044391064), np.add(8.680667755883558, 8.44396666119626)), np.divide(np.power(6.716787783138759, 3.025150828938454), np.maximum(-9.174199129628121, x[3]))), np.divide(np.multiply(np.maximum(-9.174199129628121, x[3]), np.exp(4.583029845151287)), np.multiply(np.reciprocal(-0.7462655368400206), np.multiply(2.8564813916531744, 0.4059194895949467))))), np.remainder(np.maximum(np.divide(np.power(4.583029845151287, 3.025150828938454), np.subtract(x[3], np.absolute(2.0186061404727376))), np.divide(np.multiply(np.minimum(-6.614260315774521, 7.362835471422905), np.power(4.583029845151287, 4.070986083664829)), np.add(np.power(3.025150828938454, 3.6896856709159884), np.multiply(4.583029845151287, 9.137450839147675)))), np.multiply(np.minimum(np.subtract(np.power(2.6207832272206506, 4.583029845151287), np.sinh(x[4])), np.multiply(-4.109412935321963, np.maximum(-9.086916765712074, x[3]))), np.add(8.680667755883558, 8.680667755883558))))), np.subtract(np.multiply(np.add(np.multiply(np.minimum(np.add(np.maximum(-9.62084356692828, x[3]), np.sinh(x[5])), np.add(np.cosh(x[5]), np.reciprocal(-0.7462655368400206))), np.add(np.minimum(np.add(3.025150828938454, 6.695358044391064), np.square(x[5])), np.minimum(4.583029845151287, np.absolute(x[5])))), np.multiply(np.maximum(np.divide(np.multiply(6.695358044391064, 6.695358044391064), np.absolute(x[5])), np.add(np.absolute(x[5]), 6.695358044391064)), np.maximum(np.add(np.sinh(x[5]), np.cos(x[5])), np.remainder(np.add(3.025150828938454, 4.583029845151287), 6.695358044391064)))), 8.680667755883558), np.minimum(np.square(np.maximum(np.multiply(np.minimum(np.sinh(x[4]), -4.284102988488023), np.add(np.sinh(x[5]), 9.137450839147675)), np.add(np.minimum(np.multiply(2.6207832272206506, 6.695358044391064), np.square(x[5])), np.minimum(np.power(4.583029845151287, 3.025150828938454), np.absolute(x[5]))))), np.square(np.minimum(np.add(np.add(np.subtract(-9.086916765712074, 9.137450839147675), np.cbrt(-4.191510062250307)), np.add(np.maximum(-0.6904692721820371, x[3]), np.negative(4.070986083664829))), np.add(np.add(np.subtract(-9.086916765712074, 9.137450839147675), np.maximum(-9.62084356692828, x[3])), np.minimum(np.maximum(x[4], -3.7937243858573027), np.add(0.4059194895949467, 8.680667755883558))))))))\n",
      "Generation 4451, Island: 1, Best Fitness: 7194.635286433921, Best Formula: np.minimum(np.subtract(np.add(np.multiply(np.multiply(np.minimum(np.sinh(x[5]), np.sinh(x[5])), np.maximum(np.add(2.6207832272206506, 6.695358044391064), np.subtract(np.divide(x[0], x[0]), np.absolute(x[5])))), np.maximum(np.maximum(np.minimum(np.cosh(x[5]), np.power(2.6207832272206506, 3.025150828938454)), np.minimum(np.multiply(0.6918033302107176, 1.3377291748278903), np.power(7.066333904601223, 3.025150828938454))), np.add(np.minimum(np.multiply(2.6207832272206506, 6.716787783138759), np.square(x[5])), np.minimum(np.square(x[5]), np.absolute(x[5]))))), np.minimum(np.multiply(np.sinh(x[4]), np.maximum(np.multiply(-3.7937243858573027, np.add(-0.6904692721820371, -9.086916765712074)), np.divide(np.cbrt(8.327888595947474), 2.9233920368008786))), np.add(x[5], np.multiply(np.multiply(np.sinh(x[4]), np.negative(4.070986083664829)), np.add(2.6207832272206506, np.maximum(2.6207832272206506, 6.357188936139526)))))), np.minimum(np.maximum(np.remainder(np.power(np.maximum(np.maximum(-9.62084356692828, 3.025150828938454), np.remainder(6.598739131231856, x[1])), np.remainder(np.remainder(x[4], -4.109412935321963), 3.025150828938454)), np.minimum(np.add(np.sinh(x[4]), np.add(-0.7462655368400206, 3.025150828938454)), np.add(np.minimum(-9.62084356692828, x[2]), np.subtract(-9.174199129628121, 9.137450839147675)))), np.add(np.maximum(np.multiply(np.subtract(-3.7937243858573027, 6.695358044391064), np.add(8.680667755883558, 8.680667755883558)), np.divide(np.power(7.066333904601223, 3.025150828938454), np.maximum(-9.174199129628121, x[3]))), np.divide(np.multiply(np.maximum(-9.174199129628121, x[3]), np.exp(4.583029845151287)), np.multiply(np.reciprocal(-0.7462655368400206), np.multiply(2.6207832272206506, 0.4059194895949467))))), np.remainder(np.maximum(np.divide(np.power(4.583029845151287, 3.025150828938454), np.subtract(x[3], np.absolute(2.0186061404727376))), np.divide(np.multiply(np.minimum(-6.614260315774521, 4.583029845151287), np.power(4.583029845151287, 4.070986083664829)), np.add(np.power(3.025150828938454, 3.6896856709159884), np.multiply(4.583029845151287, 9.137450839147675)))), np.multiply(np.minimum(np.subtract(np.power(2.6207832272206506, 4.583029845151287), np.sinh(x[4])), np.multiply(-4.109412935321963, np.maximum(-9.086916765712074, x[3]))), np.add(8.680667755883558, 8.680667755883558))))), np.subtract(np.multiply(np.add(np.multiply(np.minimum(np.add(np.maximum(-9.62084356692828, x[3]), np.sinh(x[5])), np.add(np.cosh(x[5]), -0.9119260438052024)), np.add(np.minimum(np.add(3.025150828938454, 6.695358044391064), np.square(x[5])), np.minimum(np.multiply(3.025150828938454, 9.137450839147675), np.absolute(x[5])))), np.multiply(np.maximum(np.divide(np.multiply(6.716787783138759, 6.716787783138759), np.absolute(x[5])), np.add(np.absolute(x[5]), 6.716787783138759)), np.maximum(np.add(np.sinh(x[5]), np.cos(x[5])), np.remainder(np.cos(-0.23184167648078358), 2.6207832272206506)))), 8.680667755883558), np.minimum(np.square(np.maximum(np.multiply(np.minimum(np.sinh(x[4]), np.multiply(0.6918033302107176, -6.530635069831985)), np.add(np.sinh(x[5]), 9.137450839147675)), np.add(np.minimum(np.multiply(2.6207832272206506, 6.598739131231856), np.square(x[5])), np.minimum(np.rint(3.8753181948170923), np.absolute(x[5]))))), np.square(np.minimum(np.add(8.680667755883558, 8.680667755883558), np.add(np.add(np.subtract(-9.086916765712074, 9.137450839147675), np.cbrt(-5.538747071485592)), np.minimum(np.maximum(-9.62084356692828, x[3]), np.multiply(0.6918033302107176, -6.530635069831985))))))))\n",
      "Generation 4451, Island: 2, Best Fitness: 6753.453567627168, Best Formula: np.minimum(np.subtract(np.add(np.multiply(np.multiply(np.sinh(x[5]), np.maximum(np.add(2.5852944295947005, np.maximum(2.5852944295947005, 6.695358044391064)), np.subtract(np.divide(x[0], x[0]), np.subtract(x[1], 0.4059194895949467)))), np.maximum(np.maximum(np.minimum(np.cosh(x[5]), np.power(2.6207832272206506, 3.025150828938454)), np.remainder(np.absolute(x[5]), 9.072752146111362)), np.add(np.minimum(np.power(2.5852944295947005, 3.025150828938454), np.square(x[5])), np.minimum(np.square(x[5]), np.absolute(x[5]))))), np.minimum(np.multiply(np.minimum(np.sinh(x[4]), np.add(np.add(2.5852944295947005, 3.025150828938454), 3.025150828938454)), np.maximum(np.multiply(-3.7937243858573027, np.add(-0.5069276167219385, -9.174199129628121)), -6.5799218298405915)), np.add(np.minimum(np.multiply(-3.7937243858573027, -8.005396274762191), np.add(np.sinh(x[5]), np.cosh(x[5]))), np.multiply(np.multiply(np.sinh(x[4]), np.negative(4.070986083664829)), np.add(2.6207832272206506, np.maximum(2.6207832272206506, 6.357188936139526)))))), np.minimum(np.maximum(np.remainder(np.add(np.maximum(np.maximum(-0.6904692721820371, 0.4059194895949467), np.subtract(x[3], 0.7506252992942812)), np.add(np.remainder(x[4], -4.109412935321963), 3.025150828938454)), np.minimum(np.multiply(np.remainder(-3.950864184459739, x[5]), np.multiply(2.3275458495604244, -9.174199129628121)), np.add(np.minimum(-9.174199129628121, x[2]), np.subtract(-9.653253518028924, 8.680667755883558)))), np.add(np.maximum(np.multiply(np.remainder(x[4], -4.109412935321963), np.exp(4.583029845151287)), np.divide(np.power(6.695358044391064, 3.025150828938454), -3.7937243858573027)), np.divide(np.multiply(np.maximum(-9.174199129628121, x[3]), np.exp(4.583029845151287)), np.multiply(np.divide(5.980665508500083, x[3]), np.multiply(2.6207832272206506, 0.4059194895949467))))), np.remainder(np.maximum(np.divide(np.power(4.583029845151287, 3.025150828938454), np.subtract(x[3], 2.1332481808545545)), np.divide(np.divide(np.power(2.5852944295947005, -9.174199129628121), -3.7937243858573027), np.multiply(np.remainder(x[4], -8.547472678960501), np.multiply(9.876729951036523, -4.616839697336248)))), np.multiply(np.minimum(np.multiply(np.power(2.5852944295947005, 3.025150828938454), 2.6207832272206506), np.multiply(-4.109412935321963, np.maximum(-9.174199129628121, x[3]))), np.add(8.680667755883558, 8.680667755883558))))), np.subtract(np.multiply(np.add(np.multiply(np.minimum(np.add(np.maximum(-9.174199129628121, x[3]), np.sinh(x[5])), np.add(np.cosh(x[5]), np.remainder(-8.005396274762191, -6.5799218298405915))), np.add(np.minimum(np.add(3.025150828938454, 6.695358044391064), np.square(x[5])), np.minimum(np.add(8.680667755883558, -0.6904692721820371), np.absolute(x[5])))), np.multiply(np.maximum(np.divide(np.multiply(6.695358044391064, 6.695358044391064), np.absolute(x[5])), np.add(np.absolute(x[5]), 6.685971936727686)), np.maximum(np.add(np.sinh(x[5]), np.cos(x[5])), np.remainder(np.multiply(-6.5799218298405915, 8.018848359911509), 2.2477734007444887)))), 8.680667755883558), np.minimum(np.square(np.maximum(np.multiply(np.add(np.negative(4.070986083664829), np.multiply(0.4059194895949467, 6.357188936139526)), np.sinh(x[5])), np.add(np.minimum(np.power(2.5852944295947005, 3.025150828938454), np.cosh(x[5])), np.minimum(np.sinh(x[4]), np.power(2.5852944295947005, 6.357188936139526))))), np.square(np.minimum(np.maximum(np.multiply(3.025150828938454, np.add(-0.5069276167219385, 6.695358044391064)), -4.109412935321963), np.add(np.multiply(np.minimum(4.070986083664829, -7.400107577350203), 4.583029845151287), np.maximum(np.rint(-5.490352837183861), np.remainder(x[4], -4.109412935321963))))))))\n"
     ]
    },
    {
     "name": "stderr",
     "output_type": "stream",
     "text": [
      "  0%|          | 4451/1000000 [1:31:43<372:06:36,  1.35s/it]"
     ]
    },
    {
     "name": "stdout",
     "output_type": "stream",
     "text": [
      "Generation 4451, Island: 3, Best Fitness: 6676.905955837723, Best Formula: np.minimum(np.subtract(np.add(np.multiply(np.multiply(np.sinh(x[5]), np.maximum(np.add(2.5852944295947005, np.maximum(2.5852944295947005, 6.695358044391064)), np.subtract(np.divide(x[0], x[0]), np.subtract(x[1], 0.4059194895949467)))), np.maximum(np.maximum(np.minimum(np.cosh(x[5]), np.power(2.6207832272206506, 3.025150828938454)), -1.9818022307528853), np.add(np.minimum(np.power(2.5852944295947005, 3.025150828938454), np.square(x[5])), np.minimum(np.square(x[5]), np.absolute(x[5]))))), np.minimum(np.multiply(np.minimum(np.sinh(x[4]), np.add(np.cosh(x[5]), np.remainder(-8.005396274762191, -6.5799218298405915))), np.maximum(np.multiply(np.multiply(4.583029845151287, 3.025150828938454), 2.6207832272206506), np.remainder(3.025150828938454, np.minimum(-9.174199129628121, -7.400107577350203)))), np.add(np.minimum(np.multiply(np.multiply(4.583029845151287, 3.025150828938454), 2.6207832272206506), np.add(np.sinh(x[5]), np.cosh(x[5]))), np.multiply(np.multiply(np.sinh(x[4]), np.negative(4.070986083664829)), np.add(2.6207832272206506, np.maximum(-4.109412935321963, 6.357188936139526)))))), np.minimum(np.maximum(np.remainder(np.add(np.maximum(np.maximum(-0.6904692721820371, 0.4059194895949467), np.subtract(x[3], 0.7506252992942812)), np.add(np.remainder(x[4], -4.109412935321963), 3.025150828938454)), np.minimum(np.minimum(np.sinh(x[4]), 2.6207832272206506), np.add(np.minimum(-9.174199129628121, x[2]), np.subtract(-9.180448855305453, 8.680667755883558)))), np.add(np.maximum(np.multiply(np.remainder(x[4], -4.109412935321963), np.exp(4.583029845151287)), np.divide(np.power(6.695358044391064, 3.025150828938454), -3.7937243858573027)), np.divide(np.multiply(np.maximum(-9.174199129628121, x[3]), np.exp(4.583029845151287)), np.multiply(np.divide(5.980665508500083, x[3]), np.multiply(2.6207832272206506, 0.4059194895949467))))), np.remainder(np.maximum(np.divide(np.power(4.583029845151287, 3.025150828938454), np.subtract(x[3], 2.1332481808545545)), np.divide(np.multiply(np.minimum(3.025150828938454, -0.5069276167219385), 4.070986083664829), np.add(2.6207832272206506, np.maximum(6.357188936139526, 6.357188936139526)))), np.multiply(np.minimum(np.multiply(-4.109412935321963, np.maximum(-9.174199129628121, x[3])), np.multiply(-4.109412935321963, np.maximum(-9.174199129628121, x[3]))), np.add(8.680667755883558, 8.680667755883558))))), np.subtract(np.multiply(np.add(np.multiply(np.minimum(np.add(np.maximum(-9.174199129628121, x[3]), np.sinh(x[5])), np.add(np.cosh(x[5]), np.remainder(-8.005396274762191, -6.5799218298405915))), np.add(np.minimum(np.add(3.025150828938454, 6.695358044391064), np.square(x[5])), np.minimum(np.add(8.680667755883558, -0.6904692721820371), np.absolute(x[5])))), np.multiply(np.maximum(np.divide(np.multiply(6.695358044391064, 6.695358044391064), np.absolute(x[5])), np.add(np.absolute(x[5]), 6.685971936727686)), np.maximum(np.add(np.sinh(x[5]), np.cos(x[5])), np.remainder(np.multiply(0.4059194895949467, 3.025150828938454), 2.2477734007444887)))), 8.680667755883558), np.minimum(np.square(np.maximum(np.multiply(np.add(np.negative(4.070986083664829), np.multiply(0.4059194895949467, 6.357188936139526)), np.sinh(x[5])), np.add(np.minimum(np.power(2.5852944295947005, 3.025150828938454), np.cosh(x[5])), np.minimum(np.square(x[4]), np.power(4.070986083664829, 2.2477734007444887))))), np.square(np.minimum(np.minimum(np.subtract(-3.7937243858573027, 2.2477734007444887), np.minimum(np.square(x[5]), np.square(x[5]))), np.add(np.multiply(np.minimum(-9.174199129628121, -7.400107577350203), 4.583029845151287), np.maximum(np.minimum(-4.067873225649736, 7.124062842861974), np.subtract(x[3], 3.025150828938454))))))))\n"
     ]
    },
    {
     "name": "stderr",
     "output_type": "stream",
     "text": [
      "  0%|          | 4452/1000000 [1:31:44<357:16:59,  1.29s/it]"
     ]
    },
    {
     "name": "stdout",
     "output_type": "stream",
     "text": [
      "Migration at 4452 gen from 2 to 0\n"
     ]
    },
    {
     "name": "stderr",
     "output_type": "stream",
     "text": [
      "  0%|          | 4500/1000000 [1:32:48<363:12:35,  1.31s/it]"
     ]
    },
    {
     "name": "stdout",
     "output_type": "stream",
     "text": [
      "Generation 4501, Island: 0, Best Fitness: 6686.542852996271, Best Formula: np.minimum(np.subtract(np.add(np.multiply(np.multiply(np.sinh(x[5]), np.maximum(np.add(2.5852944295947005, np.maximum(2.5852944295947005, 6.695358044391064)), np.subtract(np.subtract(x[0], x[0]), np.subtract(x[1], 0.4059194895949467)))), np.maximum(np.maximum(np.minimum(np.cosh(x[5]), np.power(2.6207832272206506, 3.025150828938454)), np.remainder(np.absolute(x[5]), 9.072752146111362)), np.add(np.minimum(np.power(2.5852944295947005, 3.025150828938454), np.square(x[5])), np.minimum(np.square(x[5]), np.absolute(x[5]))))), np.minimum(np.multiply(np.minimum(np.sinh(x[4]), np.add(np.add(2.5852944295947005, 3.025150828938454), 3.025150828938454)), np.maximum(np.multiply(-3.7937243858573027, np.add(-0.5069276167219385, -9.174199129628121)), -6.5799218298405915)), np.add(np.minimum(np.multiply(-3.7937243858573027, -8.005396274762191), np.add(np.sinh(x[5]), np.cosh(x[5]))), np.multiply(np.multiply(np.sinh(x[4]), np.negative(4.070986083664829)), np.add(2.6207832272206506, np.maximum(6.357188936139526, 3.025150828938454)))))), np.minimum(np.maximum(np.remainder(np.add(np.maximum(np.maximum(-0.6904692721820371, 0.4059194895949467), np.subtract(x[3], 0.7506252992942812)), np.add(np.remainder(x[4], -4.109412935321963), 3.025150828938454)), np.minimum(np.multiply(np.remainder(-3.950864184459739, x[5]), np.multiply(3.025150828938454, -9.174199129628121)), np.add(np.minimum(-9.174199129628121, x[2]), np.subtract(-9.653253518028924, 8.680667755883558)))), np.add(np.maximum(np.multiply(np.remainder(x[4], -4.109412935321963), np.exp(4.583029845151287)), np.divide(np.power(6.695358044391064, 3.025150828938454), np.remainder(x[4], -4.109412935321963))), np.divide(np.multiply(np.maximum(-9.174199129628121, x[3]), np.power(4.583029845151287, 3.025150828938454)), np.multiply(np.divide(5.980665508500083, x[3]), np.multiply(2.6207832272206506, 0.4059194895949467))))), np.remainder(np.maximum(np.divide(np.power(4.583029845151287, 3.025150828938454), np.subtract(x[3], np.maximum(-0.3803198069685507, 2.170523285954866))), np.divide(np.divide(np.power(4.583029845151287, -5.490352837183861), -3.7937243858573027), np.multiply(np.remainder(x[4], -8.547472678960501), np.multiply(9.876729951036523, -4.616839697336248)))), np.multiply(np.minimum(np.multiply(np.power(4.583029845151287, 3.025150828938454), 2.6207832272206506), np.multiply(-4.109412935321963, np.maximum(-9.174199129628121, x[3]))), np.add(8.680667755883558, 8.680667755883558))))), np.subtract(np.multiply(np.add(np.multiply(np.minimum(np.add(np.maximum(-9.174199129628121, x[3]), np.sinh(x[5])), np.add(np.cosh(x[5]), np.remainder(-8.005396274762191, -6.5799218298405915))), np.add(np.minimum(np.add(3.025150828938454, 6.695358044391064), np.square(x[5])), np.minimum(np.add(8.680667755883558, -0.6904692721820371), np.absolute(x[5])))), np.multiply(np.maximum(np.divide(np.multiply(6.695358044391064, 6.695358044391064), np.absolute(x[5])), np.add(np.absolute(x[5]), 6.685971936727686)), np.maximum(np.add(np.sinh(x[5]), np.cos(x[5])), np.remainder(np.multiply(-6.5799218298405915, 8.018848359911509), 2.2477734007444887)))), 8.680667755883558), np.minimum(np.square(np.maximum(np.multiply(np.add(np.negative(4.070986083664829), np.multiply(0.4059194895949467, 6.357188936139526)), np.sinh(x[5])), np.add(np.minimum(np.power(2.5852944295947005, 3.025150828938454), np.cosh(x[5])), np.minimum(np.sinh(x[4]), np.power(2.5852944295947005, 6.357188936139526))))), np.square(np.minimum(np.maximum(np.multiply(3.025150828938454, np.add(-0.5069276167219385, 6.695358044391064)), np.multiply(np.power(4.583029845151287, 3.025150828938454), 2.6207832272206506)), np.add(np.multiply(np.minimum(4.070986083664829, -7.400107577350203), 4.583029845151287), np.maximum(np.rint(-5.490352837183861), np.remainder(x[4], -4.109412935321963))))))))\n",
      "Generation 4501, Island: 1, Best Fitness: 7144.839395039888, Best Formula: np.minimum(np.subtract(np.add(np.multiply(np.multiply(np.minimum(np.sinh(x[5]), np.sinh(x[5])), np.maximum(np.add(2.6207832272206506, 6.695358044391064), np.subtract(np.divide(x[0], x[0]), np.absolute(x[5])))), np.maximum(np.maximum(np.minimum(np.cosh(x[5]), np.power(2.6207832272206506, 3.025150828938454)), np.minimum(np.multiply(0.6918033302107176, 1.3377291748278903), np.power(7.066333904601223, 0.6918033302107176))), np.add(np.minimum(np.multiply(2.6207832272206506, 6.716787783138759), np.square(x[5])), np.minimum(np.square(x[5]), np.absolute(x[5]))))), np.minimum(np.multiply(np.sinh(x[4]), np.maximum(np.multiply(-3.7937243858573027, np.add(-0.6904692721820371, -8.965429303068488)), np.divide(np.multiply(6.716787783138759, 6.716787783138759), 2.9233920368008786))), np.add(x[5], np.multiply(np.multiply(np.sinh(x[4]), np.negative(4.070986083664829)), np.add(2.6207832272206506, np.maximum(2.6207832272206506, 6.357188936139526)))))), np.minimum(np.maximum(np.remainder(np.power(np.maximum(np.maximum(-9.62084356692828, 3.025150828938454), np.remainder(6.598739131231856, x[1])), np.remainder(np.remainder(x[4], -4.109412935321963), 3.025150828938454)), np.minimum(np.add(np.sinh(x[4]), np.add(-0.7462655368400206, 3.025150828938454)), np.add(np.minimum(-9.62084356692828, x[2]), np.subtract(-9.174199129628121, 9.137450839147675)))), np.add(np.maximum(np.multiply(np.subtract(-3.7937243858573027, 6.695358044391064), np.add(8.680667755883558, 8.680667755883558)), np.divide(np.power(7.066333904601223, 3.025150828938454), np.maximum(-9.174199129628121, x[3]))), np.divide(np.multiply(np.maximum(-9.174199129628121, x[3]), np.exp(4.583029845151287)), np.multiply(np.reciprocal(-0.7462655368400206), np.multiply(2.6207832272206506, 0.4059194895949467))))), np.remainder(np.maximum(np.divide(np.power(4.583029845151287, 3.025150828938454), np.subtract(x[3], np.absolute(2.0186061404727376))), np.divide(np.multiply(np.minimum(-6.614260315774521, 4.583029845151287), np.power(4.583029845151287, 4.070986083664829)), np.add(np.power(3.025150828938454, 3.6896856709159884), np.multiply(4.583029845151287, 9.137450839147675)))), np.multiply(np.minimum(np.subtract(np.power(2.6207832272206506, 4.583029845151287), np.sinh(x[4])), np.multiply(-4.109412935321963, np.maximum(-9.086916765712074, x[3]))), np.add(8.680667755883558, 8.680667755883558))))), np.subtract(np.multiply(np.add(np.multiply(np.minimum(np.add(np.maximum(-9.62084356692828, x[3]), np.sinh(x[5])), np.add(np.cosh(x[5]), -0.9119260438052024)), np.add(np.minimum(np.add(3.025150828938454, 6.695358044391064), np.square(x[5])), np.minimum(np.square(x[5]), np.absolute(x[5])))), np.multiply(np.maximum(np.divide(np.multiply(6.716787783138759, 6.716787783138759), np.absolute(x[5])), np.add(np.absolute(x[5]), 6.716787783138759)), np.maximum(np.add(np.sinh(x[5]), np.cos(x[5])), np.remainder(np.cos(-0.23184167648078358), 2.6207832272206506)))), 8.680667755883558), np.minimum(np.square(np.maximum(np.multiply(np.minimum(np.sinh(x[4]), np.multiply(0.6918033302107176, -6.530635069831985)), np.add(np.sinh(x[5]), 9.137450839147675)), np.add(np.minimum(np.multiply(2.6207832272206506, 6.598739131231856), np.square(x[5])), np.minimum(np.rint(3.8753181948170923), np.absolute(x[5]))))), np.square(np.minimum(np.add(8.680667755883558, 8.680667755883558), np.add(np.add(np.subtract(-9.086916765712074, 9.137450839147675), np.cbrt(-5.538747071485592)), np.minimum(np.maximum(-9.174199129628121, x[3]), np.multiply(0.6918033302107176, -6.530635069831985))))))))\n",
      "Generation 4501, Island: 2, Best Fitness: 6722.703475813319, Best Formula: np.minimum(np.subtract(np.add(np.multiply(np.multiply(np.sinh(x[5]), np.maximum(np.add(2.5852944295947005, np.maximum(2.5852944295947005, 6.695358044391064)), np.subtract(np.divide(x[0], x[0]), np.subtract(x[1], 0.4059194895949467)))), np.maximum(np.maximum(np.minimum(np.cosh(x[5]), np.power(2.6207832272206506, 3.025150828938454)), np.remainder(np.absolute(x[5]), 2.6207832272206506)), np.add(np.minimum(np.power(2.5852944295947005, 3.025150828938454), np.square(x[5])), np.minimum(np.square(x[5]), np.absolute(x[5]))))), np.minimum(np.multiply(np.minimum(np.sinh(x[4]), np.add(np.add(3.025150828938454, -3.950864184459739), 3.025150828938454)), np.maximum(np.multiply(-3.7937243858573027, np.add(-0.5069276167219385, -9.174199129628121)), -6.5799218298405915)), np.add(np.minimum(np.multiply(-3.7937243858573027, -8.005396274762191), np.add(np.sinh(x[5]), np.cosh(x[5]))), np.multiply(np.multiply(np.sinh(x[4]), np.negative(4.070986083664829)), np.add(2.6207832272206506, np.maximum(2.6207832272206506, 6.357188936139526)))))), np.minimum(np.maximum(np.remainder(np.add(np.maximum(np.maximum(-0.6904692721820371, 0.4059194895949467), np.subtract(x[3], 0.7506252992942812)), np.add(np.remainder(x[4], -4.109412935321963), 3.025150828938454)), np.minimum(np.multiply(np.remainder(-3.950864184459739, x[5]), np.multiply(4.583029845151287, -9.174199129628121)), np.add(np.minimum(-9.174199129628121, x[2]), np.subtract(-9.653253518028924, 8.680667755883558)))), np.add(np.maximum(np.multiply(np.remainder(x[4], -4.109412935321963), np.exp(4.583029845151287)), np.divide(np.power(6.695358044391064, 3.025150828938454), -3.7937243858573027)), np.divide(np.multiply(np.maximum(-9.174199129628121, x[3]), np.exp(4.583029845151287)), np.multiply(np.divide(5.980665508500083, x[3]), np.multiply(2.6207832272206506, 0.4059194895949467))))), np.remainder(np.maximum(np.divide(np.power(4.583029845151287, 3.025150828938454), np.subtract(x[3], 2.1332481808545545)), np.divide(np.divide(np.power(4.070986083664829, -9.174199129628121), -4.728181550493358), np.multiply(np.remainder(x[4], -8.547472678960501), np.multiply(9.876729951036523, -4.616839697336248)))), np.multiply(np.minimum(np.multiply(np.power(2.5852944295947005, 3.025150828938454), 2.6207832272206506), np.multiply(-4.109412935321963, np.maximum(-9.174199129628121, x[3]))), np.add(8.680667755883558, 8.680667755883558))))), np.subtract(np.multiply(np.add(np.multiply(np.minimum(np.add(np.maximum(-9.174199129628121, x[3]), np.sinh(x[5])), np.add(np.cosh(x[5]), np.remainder(-8.005396274762191, -6.5799218298405915))), np.add(np.minimum(np.add(3.025150828938454, 6.695358044391064), np.square(x[5])), np.minimum(np.add(8.680667755883558, -0.6904692721820371), np.absolute(x[5])))), np.multiply(np.maximum(np.divide(np.multiply(6.695358044391064, 6.695358044391064), np.absolute(x[5])), np.add(np.absolute(x[5]), 6.685971936727686)), np.maximum(np.add(np.sinh(x[5]), np.cos(x[5])), np.remainder(np.multiply(-6.5799218298405915, 8.018848359911509), 2.2477734007444887)))), 8.680667755883558), np.minimum(np.square(np.maximum(np.multiply(np.add(np.negative(4.070986083664829), np.multiply(0.4059194895949467, 6.357188936139526)), np.sinh(x[5])), np.add(np.minimum(np.power(2.5852944295947005, 3.025150828938454), np.cosh(x[5])), np.minimum(np.sinh(x[4]), np.power(2.5852944295947005, 6.357188936139526))))), np.square(np.minimum(np.maximum(np.multiply(3.025150828938454, np.add(-0.5069276167219385, 6.695358044391064)), -4.109412935321963), np.add(np.multiply(np.minimum(4.070986083664829, -7.400107577350203), 4.583029845151287), np.maximum(np.rint(-9.174199129628121), np.remainder(x[4], -4.109412935321963))))))))\n"
     ]
    },
    {
     "name": "stderr",
     "output_type": "stream",
     "text": [
      "  0%|          | 4501/1000000 [1:32:49<368:35:06,  1.33s/it]"
     ]
    },
    {
     "name": "stdout",
     "output_type": "stream",
     "text": [
      "Generation 4501, Island: 3, Best Fitness: 6669.6947086551945, Best Formula: np.minimum(np.subtract(np.add(np.multiply(np.multiply(np.sinh(x[5]), np.maximum(np.add(2.5852944295947005, np.maximum(2.5852944295947005, 6.695358044391064)), np.subtract(np.divide(x[0], x[0]), np.subtract(x[1], 0.4059194895949467)))), np.maximum(np.maximum(np.minimum(np.cosh(x[5]), np.power(2.6207832272206506, 3.025150828938454)), -1.9818022307528853), np.add(np.minimum(np.power(2.5852944295947005, 3.025150828938454), np.square(x[5])), np.minimum(np.square(x[5]), np.absolute(x[5]))))), np.minimum(np.multiply(np.minimum(np.sinh(x[4]), np.power(np.multiply(4.583029845151287, 3.025150828938454), 3.025150828938454)), np.maximum(np.multiply(np.multiply(4.583029845151287, 3.025150828938454), 2.6207832272206506), np.remainder(2.6207832272206506, 8.680667755883558))), np.add(np.minimum(np.multiply(np.multiply(4.583029845151287, 3.025150828938454), 2.2477734007444887), np.add(np.sinh(x[5]), np.cosh(x[5]))), np.multiply(np.multiply(np.sinh(x[4]), np.negative(4.070986083664829)), np.add(2.6207832272206506, np.maximum(-4.109412935321963, 6.357188936139526)))))), np.minimum(np.maximum(np.remainder(np.add(np.maximum(np.maximum(-0.6904692721820371, 0.4059194895949467), np.subtract(x[3], 3.025150828938454)), np.add(np.remainder(x[4], -4.109412935321963), 3.025150828938454)), np.minimum(np.minimum(np.sinh(x[4]), np.cosh(-2.9798657974039315)), np.add(np.minimum(-9.174199129628121, x[2]), np.subtract(-9.180448855305453, 8.680667755883558)))), np.add(np.maximum(np.multiply(np.remainder(x[4], -4.095754445412673), np.exp(4.583029845151287)), np.divide(np.power(6.695358044391064, 3.025150828938454), -3.7937243858573027)), np.divide(np.multiply(np.maximum(-9.174199129628121, x[3]), np.exp(4.583029845151287)), np.multiply(np.divide(5.980665508500083, x[3]), np.multiply(2.6207832272206506, 0.4059194895949467))))), np.remainder(np.maximum(np.divide(np.power(4.583029845151287, 3.025150828938454), np.subtract(x[3], 2.1332481808545545)), np.divide(np.tan(-0.6442057725367967), np.add(2.6207832272206506, np.maximum(6.357188936139526, 6.357188936139526)))), np.multiply(np.minimum(np.multiply(-4.109412935321963, np.maximum(-9.174199129628121, x[3])), np.multiply(-4.109412935321963, np.maximum(-9.174199129628121, x[3]))), np.add(8.680667755883558, 8.680667755883558))))), np.subtract(np.multiply(np.add(np.multiply(np.minimum(np.add(np.maximum(-9.174199129628121, x[3]), np.sinh(x[5])), np.add(np.cosh(x[5]), np.remainder(-8.005396274762191, -6.5799218298405915))), np.add(np.minimum(np.add(3.025150828938454, 6.695358044391064), np.square(x[5])), np.minimum(np.add(8.680667755883558, -0.6904692721820371), np.absolute(x[5])))), np.multiply(np.maximum(np.divide(np.multiply(6.695358044391064, 6.695358044391064), np.absolute(x[5])), np.add(np.absolute(x[5]), 6.685971936727686)), np.maximum(np.add(np.sinh(x[5]), np.cos(x[5])), np.remainder(np.multiply(-0.4189783017779902, 2.6207832272206506), 2.2477734007444887)))), 8.680667755883558), np.minimum(np.square(np.maximum(np.multiply(np.add(np.negative(4.070986083664829), np.multiply(0.4059194895949467, 6.357188936139526)), np.sinh(x[5])), np.add(np.minimum(np.power(2.5852944295947005, 3.025150828938454), np.cosh(x[5])), np.minimum(np.square(x[4]), np.power(4.070986083664829, 2.2477734007444887))))), np.square(np.minimum(np.minimum(np.divide(-3.7937243858573027, 2.2477734007444887), np.add(-1.6509701615758523, np.maximum(-4.109412935321963, 6.357188936139526))), np.add(np.multiply(np.minimum(-9.174199129628121, -7.400107577350203), 4.583029845151287), np.maximum(np.minimum(-4.067873225649736, 3.025150828938454), np.subtract(x[3], 3.025150828938454))))))))\n"
     ]
    },
    {
     "name": "stderr",
     "output_type": "stream",
     "text": [
      "  0%|          | 4534/1000000 [1:33:37<342:34:19,  1.24s/it]\n"
     ]
    },
    {
     "ename": "KeyboardInterrupt",
     "evalue": "",
     "output_type": "error",
     "traceback": [
      "\u001b[1;31m---------------------------------------------------------------------------\u001b[0m",
      "\u001b[1;31mKeyboardInterrupt\u001b[0m                         Traceback (most recent call last)",
      "Cell \u001b[1;32mIn[55], line 8\u001b[0m\n\u001b[0;32m      1\u001b[0m \u001b[38;5;66;03m#UNCOMMENT TO PROFILE THE CODE (and comment the rest of the code)\u001b[39;00m\n\u001b[0;32m      2\u001b[0m \u001b[38;5;66;03m# cProfile.run(\"regressor.evolve()\",sort=\"tottime\") #for profiling so we can see the time taken by each function\u001b[39;00m\n\u001b[0;32m      3\u001b[0m \u001b[38;5;66;03m#the output will include the following columns:\u001b[39;00m\n\u001b[1;32m   (...)\u001b[0m\n\u001b[0;32m      6\u001b[0m \n\u001b[0;32m      7\u001b[0m \u001b[38;5;66;03m# Execute the algorithm\u001b[39;00m\n\u001b[1;32m----> 8\u001b[0m best_tree, best_fitness \u001b[38;5;241m=\u001b[39m \u001b[43mregressor\u001b[49m\u001b[38;5;241;43m.\u001b[39;49m\u001b[43mevolve\u001b[49m\u001b[43m(\u001b[49m\u001b[43m)\u001b[49m    \u001b[38;5;66;03m# FIX: high <= 0. There is a problem in mutate_subtree() after normalization?\u001b[39;00m\n\u001b[0;32m     10\u001b[0m \u001b[38;5;28mprint\u001b[39m(\u001b[38;5;124mf\u001b[39m\u001b[38;5;124m\"\u001b[39m\u001b[38;5;124mTrain Fitness: \u001b[39m\u001b[38;5;132;01m{\u001b[39;00mbest_fitness\u001b[38;5;132;01m}\u001b[39;00m\u001b[38;5;124m\"\u001b[39m)\n\u001b[0;32m     11\u001b[0m \u001b[38;5;66;03m# Calculate the fitness on original data\u001b[39;00m\n",
      "Cell \u001b[1;32mIn[51], line 188\u001b[0m, in \u001b[0;36mSymbolicRegression.evolve\u001b[1;34m(self)\u001b[0m\n\u001b[0;32m    181\u001b[0m     \u001b[38;5;28mself\u001b[39m\u001b[38;5;241m.\u001b[39mpopulation[i]\u001b[38;5;241m=\u001b[39mnp\u001b[38;5;241m.\u001b[39mdelete(\u001b[38;5;28mself\u001b[39m\u001b[38;5;241m.\u001b[39mpopulation[i],random_index)\n\u001b[0;32m    185\u001b[0m     \u001b[38;5;28mprint\u001b[39m(\u001b[38;5;124mf\u001b[39m\u001b[38;5;124m\"\u001b[39m\u001b[38;5;124mMigration at \u001b[39m\u001b[38;5;132;01m{\u001b[39;00mgeneration\u001b[38;5;132;01m}\u001b[39;00m\u001b[38;5;124m gen from \u001b[39m\u001b[38;5;132;01m{\u001b[39;00mi\u001b[38;5;132;01m}\u001b[39;00m\u001b[38;5;124m to \u001b[39m\u001b[38;5;132;01m{\u001b[39;00misland_to_migrate\u001b[38;5;132;01m}\u001b[39;00m\u001b[38;5;124m\"\u001b[39m)\n\u001b[1;32m--> 188\u001b[0m new_population\u001b[38;5;241m=\u001b[39m\u001b[38;5;28;43mself\u001b[39;49m\u001b[38;5;241;43m.\u001b[39;49m\u001b[43moffspring_generation\u001b[49m\u001b[43m(\u001b[49m\u001b[43misland\u001b[49m\u001b[38;5;241;43m=\u001b[39;49m\u001b[43mi\u001b[49m\u001b[43m)\u001b[49m\n\u001b[0;32m    191\u001b[0m \u001b[38;5;66;03m# for tree in new_population:\u001b[39;00m\n\u001b[0;32m    192\u001b[0m \u001b[38;5;66;03m#     tree.compute_fitness()\u001b[39;00m\n\u001b[0;32m    194\u001b[0m \u001b[38;5;28mself\u001b[39m\u001b[38;5;241m.\u001b[39mpopulation[i]\u001b[38;5;241m=\u001b[39mnp\u001b[38;5;241m.\u001b[39mconcatenate((\u001b[38;5;28mself\u001b[39m\u001b[38;5;241m.\u001b[39mpopulation[i],new_population))\n",
      "Cell \u001b[1;32mIn[51], line 105\u001b[0m, in \u001b[0;36mSymbolicRegression.offspring_generation\u001b[1;34m(self, island)\u001b[0m\n\u001b[0;32m    103\u001b[0m \u001b[38;5;28mself\u001b[39m\u001b[38;5;241m.\u001b[39mmutate(parent_clone)\n\u001b[0;32m    104\u001b[0m \u001b[38;5;66;03m# parent_clone.root.collapse_branch()\u001b[39;00m\n\u001b[1;32m--> 105\u001b[0m \u001b[43mparent_clone\u001b[49m\u001b[38;5;241;43m.\u001b[39;49m\u001b[43mcompute_fitness\u001b[49m\u001b[43m(\u001b[49m\u001b[43m)\u001b[49m\n\u001b[0;32m    106\u001b[0m \u001b[38;5;66;03m# if(parent_clone not in new_population):\u001b[39;00m\n\u001b[0;32m    107\u001b[0m offsprings \u001b[38;5;241m=\u001b[39m np\u001b[38;5;241m.\u001b[39mappend(offsprings, [parent_clone])\n",
      "File \u001b[1;32mc:\\Users\\Ferra\\Desktop\\reqr\\CI2024_Project2\\tree.py:592\u001b[0m, in \u001b[0;36mTree.compute_fitness\u001b[1;34m(self, test)\u001b[0m\n\u001b[0;32m    589\u001b[0m eval_formula \u001b[38;5;241m=\u001b[39m \u001b[38;5;28meval\u001b[39m(\u001b[38;5;124mf\u001b[39m\u001b[38;5;124m\"\u001b[39m\u001b[38;5;124mlambda x: \u001b[39m\u001b[38;5;132;01m{\u001b[39;00mformula\u001b[38;5;132;01m}\u001b[39;00m\u001b[38;5;124m\"\u001b[39m,{\u001b[38;5;124m\"\u001b[39m\u001b[38;5;124mnp\u001b[39m\u001b[38;5;124m\"\u001b[39m: np, \u001b[38;5;124m\"\u001b[39m\u001b[38;5;124mnan\u001b[39m\u001b[38;5;124m\"\u001b[39m: np\u001b[38;5;241m.\u001b[39mnan, \u001b[38;5;124m\"\u001b[39m\u001b[38;5;124minf\u001b[39m\u001b[38;5;124m\"\u001b[39m: np\u001b[38;5;241m.\u001b[39minf}) \n\u001b[0;32m    591\u001b[0m \u001b[38;5;66;03m# Exploiting np broadcasting\u001b[39;00m\n\u001b[1;32m--> 592\u001b[0m y_pred \u001b[38;5;241m=\u001b[39m \u001b[43meval_formula\u001b[49m\u001b[43m(\u001b[49m\u001b[43mx_data\u001b[49m\u001b[43m)\u001b[49m  \n\u001b[0;32m    595\u001b[0m \u001b[38;5;28;01mif\u001b[39;00m np\u001b[38;5;241m.\u001b[39many(np\u001b[38;5;241m.\u001b[39misnan(y_pred)) \u001b[38;5;129;01mor\u001b[39;00m np\u001b[38;5;241m.\u001b[39many(np\u001b[38;5;241m.\u001b[39misinf(y_pred)):\n\u001b[0;32m    596\u001b[0m     \u001b[38;5;28mself\u001b[39m\u001b[38;5;241m.\u001b[39mfitness \u001b[38;5;241m=\u001b[39m np\u001b[38;5;241m.\u001b[39minf\n",
      "File \u001b[1;32m<string>:1\u001b[0m, in \u001b[0;36m<lambda>\u001b[1;34m(x)\u001b[0m\n",
      "\u001b[1;31mKeyboardInterrupt\u001b[0m: "
     ]
    }
   ],
   "source": [
    "#UNCOMMENT TO PROFILE THE CODE (and comment the rest of the code)\n",
    "# cProfile.run(\"regressor.evolve()\",sort=\"tottime\") #for profiling so we can see the time taken by each function\n",
    "#the output will include the following columns:\n",
    "#tottime: Total time spent in the function (excluding time spent in other functions it calls).\n",
    "#cumtime: Cumulative time spent in the function (including time spent in sub-functions).\n",
    "\n",
    "# Execute the algorithm\n",
    "best_tree, best_fitness = regressor.evolve()    # FIX: high <= 0. There is a problem in mutate_subtree() after normalization?\n",
    "\n",
    "print(f\"Train Fitness: {best_fitness}\")\n",
    "# Calculate the fitness on original data\n",
    "best_tree.compute_fitness(test=\"test\")\n",
    "\n",
    "# Revert the formula\n",
    "final_formula = best_tree.to_np_formula()\n",
    "\n",
    "#FIXME: NORM\n",
    "# reverted_formula = revert_formula(final_formula, x_stats, y_stats)\n",
    "# print(f\"Reverted Formula:\\n{reverted_formula}\")\n",
    "\n",
    "print(f\"Test Fitness: {best_tree.fitness}\")\n",
    "print(f\"Train-Test Discrepancy: {best_fitness-best_tree.fitness}\")\n",
    "best_tree.compute_fitness(test=\"all\")\n",
    "print(f\"All Fitness: {best_tree.fitness}\")\n",
    "\n",
    "#FIXME: NORM\n",
    "# test_fitness_original=compute_fitness_from_formula(reverted_formula, x_test, y_test)\n",
    "# print(f\"Test Fitness Original: {test_fitness_original}\")\n",
    "# all_fitness_original=compute_fitness_from_formula(reverted_formula, x_train, y_train)\n",
    "# print(f\"all Fitness Original: {all_fitness_original}\")\n",
    "\n",
    "#Print the best tree\n",
    "print(f\"Best Fitness History: {regressor.best_fitness_history}, changed {len(regressor.best_fitness_history)} times\")\n",
    "print(\"Best Tree:\")\n",
    "best_tree.add_drawing()\n"
   ]
  },
  {
   "cell_type": "markdown",
   "metadata": {},
   "source": [
    "### Best Tree Drawing"
   ]
  },
  {
   "cell_type": "code",
   "execution_count": null,
   "metadata": {},
   "outputs": [],
   "source": [
    "#Collapse branches that can be simplified\n",
    "Tree.collapse_branch(best_tree.root,0,force_collapse=True)\n",
    "print(f\"Collapsed formula: {best_tree.to_np_formula()}\")\n",
    "print(\"Best Tree after collapsing:\")\n",
    "best_tree.add_drawing()\n"
   ]
  },
  {
   "cell_type": "markdown",
   "metadata": {},
   "source": [
    "### Some tests"
   ]
  },
  {
   "cell_type": "code",
   "execution_count": 50,
   "metadata": {},
   "outputs": [],
   "source": [
    "\n",
    "# def test_formula(x):\n",
    "#     pass\n",
    "\n",
    "\n",
    "\n",
    "# x_tot=np.concatenate((x_train,x_test),axis=1)\n",
    "# y_tot=np.concatenate((y_train,y_test))\n",
    "# squared_errors = 0\n",
    "# for i in range(1):\n",
    "#     y_pred = test_formula(x_tot[:, i])\n",
    "                 \n",
    "#     squared_errors += np.square(y_tot[i] - y_pred) \n",
    "\n",
    "# print( squared_errors / x_tot.shape[1])\n",
    "   \n",
    "\n",
    "# def testing(tree):\n",
    "#    tree.compute_fitness()\n",
    "#    tree.compute_fitness2()\n",
    "\n",
    "# cProfile.run(\"testing(best_tree)\",sort=\"tottime\") #for profiling so we can see the time taken by each function\n",
    "\n",
    "\n",
    "# best_tree.compute_fitness()\n",
    "# print(best_tree.fitness)\n",
    "# best_tree.compute_fitness2()\n",
    "# print(best_tree.fitness)\n"
   ]
  }
 ],
 "metadata": {
  "kernelspec": {
   "display_name": "3dv2",
   "language": "python",
   "name": "python3"
  },
  "language_info": {
   "codemirror_mode": {
    "name": "ipython",
    "version": 3
   },
   "file_extension": ".py",
   "mimetype": "text/x-python",
   "name": "python",
   "nbconvert_exporter": "python",
   "pygments_lexer": "ipython3",
   "version": "3.10.16"
  }
 },
 "nbformat": 4,
 "nbformat_minor": 2
}
