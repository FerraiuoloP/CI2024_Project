{
 "cells": [
  {
   "cell_type": "code",
   "execution_count": 1,
   "metadata": {},
   "outputs": [],
   "source": [
    "import numpy as np\n",
    "from icecream import ic\n",
    "from tqdm import tqdm\n"
   ]
  },
  {
   "cell_type": "markdown",
   "metadata": {},
   "source": [
    "### Defining 2 functions for testing (we should use the one the professor provided in the final code)"
   ]
  },
  {
   "cell_type": "code",
   "execution_count": 2,
   "metadata": {},
   "outputs": [],
   "source": [
    "#true functions for 2 and 3 variables\n",
    "def true_f(x: np.ndarray) -> np.ndarray:\n",
    "    return x[0] + np.sin(x[1]) / 5\n",
    "def true_f2(x: np.ndarray) -> np.ndarray:\n",
    "    return x[0] + np.sin(x[1]) / 5 + x[0] * x[2] / 10\n",
    "def true_f3(x: np.ndarray) -> np.ndarray:\n",
    "    return x[0] + np.sin(x[1]) / 5 + x[0] * x[2] / 10 + np.exp(x[3] + np.cos(x[4])) / 20"
   ]
  },
  {
   "cell_type": "code",
   "execution_count": 3,
   "metadata": {},
   "outputs": [],
   "source": [
    "\n",
    "# Define constants for dataset sizes.\n",
    "TEST_SIZE = 10_000\n",
    "TRAIN_SIZE = 100\n",
    "\n",
    "# This function generates a problem dataset for true_f.\n",
    "def gen_problem():\n",
    "    # Generate a 2D validation set where x[0] and x[1] are random samples within specified ranges.\n",
    "    x_validation = np.vstack(\n",
    "        [\n",
    "            np.random.random_sample(size=TEST_SIZE) * 2 * np.pi - np.pi,  # x[0] in range [-pi, pi]\n",
    "            np.random.random_sample(size=TEST_SIZE) * 2 - 1,             # x[1] in range [-1, 1]\n",
    "        ]\n",
    "    )\n",
    "\n",
    "\n",
    "    \n",
    "    # Calculate the true outputs for the validation set using true_f.\n",
    "    y_validation = true_f(x_validation)\n",
    "\n",
    "    # Randomly select indexes for training data.\n",
    "    train_indexes = np.random.choice(TEST_SIZE, size=TRAIN_SIZE, replace=False)\n",
    "\n",
    "    # Extract training data using selected indexes.\n",
    "    x_train = x_validation[:, train_indexes]\n",
    "    y_train = y_validation[train_indexes]\n",
    "\n",
    "    # Verify that y_train matches true_f applied to x_train.\n",
    "    assert np.all(y_train == true_f(x_train)), \"D'ho\"\n",
    "\n",
    "    return x_train, y_train\n",
    "\n",
    "# This function generates a problem dataset for true_f2.\n",
    "def gen_problem2():\n",
    "    # Generate a 3D validation set where x[0], x[1], and x[2] are random samples within specified ranges.\n",
    "    x_validation = np.vstack(\n",
    "        [\n",
    "            np.random.random_sample(size=TEST_SIZE) * np.exp(3) - np.exp(1),  # x[0] in range [e^1, e^3]\n",
    "            np.random.random_sample(size=TEST_SIZE) * 2 - 1,                 # x[1] in range [-1, 1]\n",
    "            np.random.random_sample(size=TEST_SIZE) * 57 - 1,               # x[2] in range [-1, 56]\n",
    "        ]\n",
    "    )\n",
    "\n",
    "    # Calculate the true outputs for the validation set using true_f2.\n",
    "    y_validation = true_f2(x_validation)\n",
    "\n",
    "    # Randomly select indexes for training data.\n",
    "    train_indexes = np.random.choice(TEST_SIZE, size=TRAIN_SIZE, replace=False)\n",
    "\n",
    "    # Extract training data using selected indexes.\n",
    "    x_train = x_validation[:, train_indexes]\n",
    "    y_train = y_validation[train_indexes]\n",
    "\n",
    "    # Verify that y_train matches true_f2 applied to x_train.\n",
    "    assert np.all(y_train == true_f2(x_train)), \"D'ho\"\n",
    "\n",
    "    return x_train, y_train\n",
    "\n",
    "# Uncomment these lines to save and load a problem dataset.\n",
    "# np.savez('problem_0.npz', x=x_train, y=y_train)\n",
    "# problem = np.load('problem_0.npz')\n",
    "# x = problem['x']\n",
    "# y = problem['y']\n",
    "def gen_problem3():\n",
    "    # Generate a 5D validation set where x[0], x[1], x[2], x[3], and x[4] are random samples within specified ranges.\n",
    "    x_validation = np.vstack(\n",
    "        [\n",
    "            np.random.random_sample(size=TEST_SIZE) * np.exp(3) - np.exp(1),  # x[0] in range [e^1, e^3]\n",
    "            np.random.random_sample(size=TEST_SIZE) * 2 - 1,                 # x[1] in range [-1, 1]\n",
    "            np.random.random_sample(size=TEST_SIZE) * 57 - 1,               # x[2] in range [-1, 56]\n",
    "            np.random.random_sample(size=TEST_SIZE) * 2 * np.pi - np.pi,    # x[3] in range [-pi, pi]\n",
    "            np.random.random_sample(size=TEST_SIZE) * 2 * np.pi - np.pi,    # x[4] in range [-pi, pi]\n",
    "        ]\n",
    "    )\n",
    "    y_validation = true_f3(x_validation)\n",
    "    train_indexes = np.random.choice(TEST_SIZE, size=TRAIN_SIZE, replace=False)\n",
    "    x_train = x_validation[:, train_indexes]\n",
    "    y_train = y_validation[train_indexes]\n",
    "    assert np.all(y_train == true_f3(x_train)), \"D'ho\"\n",
    "    return x_train, y_train\n",
    "\n",
    "\n",
    "\n",
    "\n",
    "\n",
    "\n",
    "\n",
    "\n",
    "\n",
    "\n",
    "\n",
    "\n",
    "# Generate a problem dataset using gen_problem2.\n",
    "problem = gen_problem3()\n",
    "x = problem[0]  # Training inputs.\n",
    "y = problem[1]  # Training outputs.\n",
    "\n",
    "# Determine the number of variables in the training inputs.\n",
    "number_vars = x.shape[0]\n",
    "\n",
    "# Compute the Mean Squared Error between outputs from my_f and true outputs.\n",
    "\n"
   ]
  },
  {
   "cell_type": "markdown",
   "metadata": {},
   "source": [
    "### Getting numpy functions"
   ]
  },
  {
   "cell_type": "code",
   "execution_count": 4,
   "metadata": {},
   "outputs": [],
   "source": [
    "unary_ops = [\n",
    "    np.negative,\n",
    "    np.abs,\n",
    "    # np.sqrt,\n",
    "    # np.exp,\n",
    "    # np.log,\n",
    "    np.sin,\n",
    "    np.cos,\n",
    "    np.tan,\n",
    "#     np.arcsin,\n",
    "#     np.arccos,\n",
    "#     np.arctan,\n",
    "#     np.ceil,\n",
    "#     np.floor\n",
    "]\n",
    "\n",
    "binary_ops = [\n",
    "    np.add,\n",
    "    np.subtract,\n",
    "    np.multiply,\n",
    "    np.divide,\n",
    "    np.power,\n",
    "    # np.maximum,\n",
    "    # np.minimum,\n",
    "    # np.mod\n",
    "]\n"
   ]
  },
  {
   "cell_type": "markdown",
   "metadata": {},
   "source": [
    "### Symbolic regression"
   ]
  },
  {
   "cell_type": "code",
   "execution_count": 5,
   "metadata": {},
   "outputs": [
    {
     "name": "stderr",
     "output_type": "stream",
     "text": [
      "  5%|▌         | 54/1000 [02:30<41:07,  2.61s/it] "
     ]
    },
    {
     "name": "stdout",
     "output_type": "stream",
     "text": [
      "Start takeover after 53 gen\n"
     ]
    },
    {
     "name": "stderr",
     "output_type": "stream",
     "text": [
      "  9%|▉         | 89/1000 [04:19<40:33,  2.67s/it]  "
     ]
    },
    {
     "name": "stdout",
     "output_type": "stream",
     "text": [
      "Start takeover after 88 gen\n"
     ]
    },
    {
     "name": "stderr",
     "output_type": "stream",
     "text": [
      " 12%|█▏        | 115/1000 [05:44<37:06,  2.52s/it] "
     ]
    },
    {
     "name": "stdout",
     "output_type": "stream",
     "text": [
      "Start takeover after 114 gen\n"
     ]
    },
    {
     "name": "stderr",
     "output_type": "stream",
     "text": [
      " 12%|█▏        | 121/1000 [06:13<48:01,  3.28s/it]  "
     ]
    },
    {
     "name": "stdout",
     "output_type": "stream",
     "text": [
      "Start takeover after 120 gen\n"
     ]
    },
    {
     "name": "stderr",
     "output_type": "stream",
     "text": [
      " 13%|█▎        | 128/1000 [06:48<47:04,  3.24s/it]  "
     ]
    },
    {
     "name": "stdout",
     "output_type": "stream",
     "text": [
      "Start takeover after 127 gen\n"
     ]
    },
    {
     "name": "stderr",
     "output_type": "stream",
     "text": [
      " 13%|█▎        | 134/1000 [07:19<49:46,  3.45s/it]  "
     ]
    },
    {
     "name": "stdout",
     "output_type": "stream",
     "text": [
      "Start takeover after 133 gen\n"
     ]
    },
    {
     "name": "stderr",
     "output_type": "stream",
     "text": [
      " 14%|█▍        | 142/1000 [07:55<42:32,  2.98s/it]  "
     ]
    },
    {
     "name": "stdout",
     "output_type": "stream",
     "text": [
      "Start takeover after 141 gen\n"
     ]
    },
    {
     "name": "stderr",
     "output_type": "stream",
     "text": [
      " 16%|█▌        | 160/1000 [08:56<35:04,  2.50s/it]  "
     ]
    },
    {
     "name": "stdout",
     "output_type": "stream",
     "text": [
      "Start takeover after 159 gen\n"
     ]
    },
    {
     "name": "stderr",
     "output_type": "stream",
     "text": [
      " 17%|█▋        | 173/1000 [09:43<34:49,  2.53s/it]  "
     ]
    },
    {
     "name": "stdout",
     "output_type": "stream",
     "text": [
      "Start takeover after 172 gen\n"
     ]
    },
    {
     "name": "stderr",
     "output_type": "stream",
     "text": [
      " 18%|█▊        | 180/1000 [10:16<42:01,  3.07s/it]  "
     ]
    },
    {
     "name": "stdout",
     "output_type": "stream",
     "text": [
      "Start takeover after 179 gen\n"
     ]
    },
    {
     "name": "stderr",
     "output_type": "stream",
     "text": [
      " 19%|█▊        | 187/1000 [10:48<41:36,  3.07s/it]  "
     ]
    },
    {
     "name": "stdout",
     "output_type": "stream",
     "text": [
      "Start takeover after 186 gen\n"
     ]
    },
    {
     "name": "stderr",
     "output_type": "stream",
     "text": [
      " 19%|█▉        | 194/1000 [11:21<41:50,  3.11s/it]  "
     ]
    },
    {
     "name": "stdout",
     "output_type": "stream",
     "text": [
      "Start takeover after 193 gen\n"
     ]
    },
    {
     "name": "stderr",
     "output_type": "stream",
     "text": [
      " 20%|██        | 201/1000 [11:52<40:31,  3.04s/it]  "
     ]
    },
    {
     "name": "stdout",
     "output_type": "stream",
     "text": [
      "Start takeover after 200 gen\n"
     ]
    },
    {
     "name": "stderr",
     "output_type": "stream",
     "text": [
      " 21%|██▏       | 213/1000 [12:38<29:03,  2.21s/it]  "
     ]
    },
    {
     "name": "stdout",
     "output_type": "stream",
     "text": [
      "Start takeover after 212 gen\n"
     ]
    },
    {
     "name": "stderr",
     "output_type": "stream",
     "text": [
      " 22%|██▏       | 218/1000 [13:05<45:51,  3.52s/it]  "
     ]
    },
    {
     "name": "stdout",
     "output_type": "stream",
     "text": [
      "Start takeover after 217 gen\n"
     ]
    },
    {
     "name": "stderr",
     "output_type": "stream",
     "text": [
      " 22%|██▏       | 224/1000 [13:35<42:35,  3.29s/it]  "
     ]
    },
    {
     "name": "stdout",
     "output_type": "stream",
     "text": [
      "Start takeover after 223 gen\n"
     ]
    },
    {
     "name": "stderr",
     "output_type": "stream",
     "text": [
      " 23%|██▎       | 229/1000 [14:03<46:51,  3.65s/it]  "
     ]
    },
    {
     "name": "stdout",
     "output_type": "stream",
     "text": [
      "Start takeover after 228 gen\n"
     ]
    },
    {
     "name": "stderr",
     "output_type": "stream",
     "text": [
      " 24%|██▎       | 235/1000 [14:33<42:43,  3.35s/it]  "
     ]
    },
    {
     "name": "stdout",
     "output_type": "stream",
     "text": [
      "Start takeover after 234 gen\n"
     ]
    },
    {
     "name": "stderr",
     "output_type": "stream",
     "text": [
      " 24%|██▍       | 245/1000 [15:10<28:21,  2.25s/it]  "
     ]
    },
    {
     "name": "stdout",
     "output_type": "stream",
     "text": [
      "Start takeover after 244 gen\n"
     ]
    },
    {
     "name": "stderr",
     "output_type": "stream",
     "text": [
      " 26%|██▌       | 255/1000 [15:47<27:32,  2.22s/it]  "
     ]
    },
    {
     "name": "stdout",
     "output_type": "stream",
     "text": [
      "Start takeover after 254 gen\n"
     ]
    },
    {
     "name": "stderr",
     "output_type": "stream",
     "text": [
      " 26%|██▌       | 260/1000 [16:16<46:12,  3.75s/it]  "
     ]
    },
    {
     "name": "stdout",
     "output_type": "stream",
     "text": [
      "Start takeover after 259 gen\n"
     ]
    },
    {
     "name": "stderr",
     "output_type": "stream",
     "text": [
      " 27%|██▋       | 271/1000 [16:59<27:47,  2.29s/it]  "
     ]
    },
    {
     "name": "stdout",
     "output_type": "stream",
     "text": [
      "Start takeover after 270 gen\n"
     ]
    },
    {
     "name": "stderr",
     "output_type": "stream",
     "text": [
      " 30%|██▉       | 296/1000 [18:14<26:59,  2.30s/it]  "
     ]
    },
    {
     "name": "stdout",
     "output_type": "stream",
     "text": [
      "Start takeover after 295 gen\n"
     ]
    },
    {
     "name": "stderr",
     "output_type": "stream",
     "text": [
      " 31%|███       | 309/1000 [19:02<26:34,  2.31s/it]  "
     ]
    },
    {
     "name": "stdout",
     "output_type": "stream",
     "text": [
      "Start takeover after 308 gen\n"
     ]
    },
    {
     "name": "stderr",
     "output_type": "stream",
     "text": [
      " 32%|███▏      | 317/1000 [19:40<33:22,  2.93s/it]  "
     ]
    },
    {
     "name": "stdout",
     "output_type": "stream",
     "text": [
      "Start takeover after 316 gen\n"
     ]
    },
    {
     "name": "stderr",
     "output_type": "stream",
     "text": [
      " 33%|███▎      | 332/1000 [20:32<25:58,  2.33s/it]  "
     ]
    },
    {
     "name": "stdout",
     "output_type": "stream",
     "text": [
      "Start takeover after 331 gen\n"
     ]
    },
    {
     "name": "stderr",
     "output_type": "stream",
     "text": [
      " 34%|███▍      | 339/1000 [21:04<31:49,  2.89s/it]  "
     ]
    },
    {
     "name": "stdout",
     "output_type": "stream",
     "text": [
      "Start takeover after 338 gen\n"
     ]
    },
    {
     "name": "stderr",
     "output_type": "stream",
     "text": [
      " 35%|███▍      | 346/1000 [21:47<37:26,  3.44s/it]  "
     ]
    },
    {
     "name": "stdout",
     "output_type": "stream",
     "text": [
      "Start takeover after 345 gen\n"
     ]
    },
    {
     "name": "stderr",
     "output_type": "stream",
     "text": [
      " 35%|███▌      | 353/1000 [22:19<32:24,  3.01s/it]  "
     ]
    },
    {
     "name": "stdout",
     "output_type": "stream",
     "text": [
      "Start takeover after 352 gen\n"
     ]
    },
    {
     "name": "stderr",
     "output_type": "stream",
     "text": [
      " 36%|███▌      | 361/1000 [22:54<28:55,  2.72s/it]  "
     ]
    },
    {
     "name": "stdout",
     "output_type": "stream",
     "text": [
      "Start takeover after 360 gen\n"
     ]
    },
    {
     "name": "stderr",
     "output_type": "stream",
     "text": [
      " 37%|███▋      | 368/1000 [23:27<31:20,  2.98s/it]  "
     ]
    },
    {
     "name": "stdout",
     "output_type": "stream",
     "text": [
      "Start takeover after 367 gen\n"
     ]
    },
    {
     "name": "stderr",
     "output_type": "stream",
     "text": [
      " 38%|███▊      | 376/1000 [24:03<28:28,  2.74s/it]  "
     ]
    },
    {
     "name": "stdout",
     "output_type": "stream",
     "text": [
      "Start takeover after 375 gen\n"
     ]
    },
    {
     "name": "stderr",
     "output_type": "stream",
     "text": [
      " 38%|███▊      | 383/1000 [24:35<29:53,  2.91s/it]  "
     ]
    },
    {
     "name": "stdout",
     "output_type": "stream",
     "text": [
      "Start takeover after 382 gen\n"
     ]
    },
    {
     "name": "stderr",
     "output_type": "stream",
     "text": [
      " 40%|███▉      | 397/1000 [25:21<21:44,  2.16s/it]  "
     ]
    },
    {
     "name": "stdout",
     "output_type": "stream",
     "text": [
      "Start takeover after 396 gen\n"
     ]
    },
    {
     "name": "stderr",
     "output_type": "stream",
     "text": [
      " 40%|████      | 404/1000 [25:53<28:46,  2.90s/it]"
     ]
    },
    {
     "name": "stdout",
     "output_type": "stream",
     "text": [
      "Start takeover after 403 gen\n"
     ]
    },
    {
     "name": "stderr",
     "output_type": "stream",
     "text": [
      " 41%|████      | 412/1000 [26:31<28:04,  2.86s/it]  "
     ]
    },
    {
     "name": "stdout",
     "output_type": "stream",
     "text": [
      "Start takeover after 411 gen\n"
     ]
    },
    {
     "name": "stderr",
     "output_type": "stream",
     "text": [
      " 42%|████▏     | 419/1000 [27:03<27:56,  2.89s/it]  "
     ]
    },
    {
     "name": "stdout",
     "output_type": "stream",
     "text": [
      "Start takeover after 418 gen\n"
     ]
    },
    {
     "name": "stderr",
     "output_type": "stream",
     "text": [
      " 43%|████▎     | 426/1000 [27:33<27:02,  2.83s/it]  "
     ]
    },
    {
     "name": "stdout",
     "output_type": "stream",
     "text": [
      "Start takeover after 425 gen\n"
     ]
    },
    {
     "name": "stderr",
     "output_type": "stream",
     "text": [
      " 43%|████▎     | 433/1000 [28:04<26:48,  2.84s/it]"
     ]
    },
    {
     "name": "stdout",
     "output_type": "stream",
     "text": [
      "Start takeover after 432 gen\n"
     ]
    },
    {
     "name": "stderr",
     "output_type": "stream",
     "text": [
      " 44%|████▍     | 440/1000 [28:36<27:28,  2.94s/it]  "
     ]
    },
    {
     "name": "stdout",
     "output_type": "stream",
     "text": [
      "Start takeover after 439 gen\n"
     ]
    },
    {
     "name": "stderr",
     "output_type": "stream",
     "text": [
      " 45%|████▍     | 447/1000 [29:08<27:12,  2.95s/it]"
     ]
    },
    {
     "name": "stdout",
     "output_type": "stream",
     "text": [
      "Start takeover after 446 gen\n"
     ]
    },
    {
     "name": "stderr",
     "output_type": "stream",
     "text": [
      " 45%|████▌     | 454/1000 [29:39<25:42,  2.83s/it]"
     ]
    },
    {
     "name": "stdout",
     "output_type": "stream",
     "text": [
      "Start takeover after 453 gen\n"
     ]
    },
    {
     "name": "stderr",
     "output_type": "stream",
     "text": [
      " 46%|████▌     | 460/1000 [30:09<28:58,  3.22s/it]"
     ]
    },
    {
     "name": "stdout",
     "output_type": "stream",
     "text": [
      "Start takeover after 459 gen\n"
     ]
    },
    {
     "name": "stderr",
     "output_type": "stream",
     "text": [
      " 47%|████▋     | 467/1000 [30:41<26:41,  3.00s/it]"
     ]
    },
    {
     "name": "stdout",
     "output_type": "stream",
     "text": [
      "Start takeover after 466 gen\n"
     ]
    },
    {
     "name": "stderr",
     "output_type": "stream",
     "text": [
      " 47%|████▋     | 474/1000 [31:13<24:54,  2.84s/it]"
     ]
    },
    {
     "name": "stdout",
     "output_type": "stream",
     "text": [
      "Start takeover after 473 gen\n"
     ]
    },
    {
     "name": "stderr",
     "output_type": "stream",
     "text": [
      " 48%|████▊     | 481/1000 [31:43<24:26,  2.83s/it]"
     ]
    },
    {
     "name": "stdout",
     "output_type": "stream",
     "text": [
      "Start takeover after 480 gen\n"
     ]
    },
    {
     "name": "stderr",
     "output_type": "stream",
     "text": [
      " 49%|████▉     | 488/1000 [32:16<25:08,  2.95s/it]"
     ]
    },
    {
     "name": "stdout",
     "output_type": "stream",
     "text": [
      "Start takeover after 487 gen\n"
     ]
    },
    {
     "name": "stderr",
     "output_type": "stream",
     "text": [
      " 50%|████▉     | 495/1000 [32:48<24:54,  2.96s/it]"
     ]
    },
    {
     "name": "stdout",
     "output_type": "stream",
     "text": [
      "Start takeover after 494 gen\n"
     ]
    },
    {
     "name": "stderr",
     "output_type": "stream",
     "text": [
      " 50%|█████     | 502/1000 [33:21<24:40,  2.97s/it]"
     ]
    },
    {
     "name": "stdout",
     "output_type": "stream",
     "text": [
      "Start takeover after 501 gen\n"
     ]
    },
    {
     "name": "stderr",
     "output_type": "stream",
     "text": [
      " 52%|█████▏    | 517/1000 [34:10<17:08,  2.13s/it]"
     ]
    },
    {
     "name": "stdout",
     "output_type": "stream",
     "text": [
      "Start takeover after 516 gen\n"
     ]
    },
    {
     "name": "stderr",
     "output_type": "stream",
     "text": [
      " 52%|█████▏    | 524/1000 [34:43<23:02,  2.90s/it]"
     ]
    },
    {
     "name": "stdout",
     "output_type": "stream",
     "text": [
      "Start takeover after 523 gen\n"
     ]
    },
    {
     "name": "stderr",
     "output_type": "stream",
     "text": [
      " 53%|█████▎    | 530/1000 [35:13<24:42,  3.15s/it]"
     ]
    },
    {
     "name": "stdout",
     "output_type": "stream",
     "text": [
      "Start takeover after 529 gen\n"
     ]
    },
    {
     "name": "stderr",
     "output_type": "stream",
     "text": [
      " 54%|█████▎    | 537/1000 [35:45<22:48,  2.96s/it]"
     ]
    },
    {
     "name": "stdout",
     "output_type": "stream",
     "text": [
      "Start takeover after 536 gen\n"
     ]
    },
    {
     "name": "stderr",
     "output_type": "stream",
     "text": [
      " 54%|█████▍    | 544/1000 [36:17<22:11,  2.92s/it]"
     ]
    },
    {
     "name": "stdout",
     "output_type": "stream",
     "text": [
      "Start takeover after 543 gen\n"
     ]
    },
    {
     "name": "stderr",
     "output_type": "stream",
     "text": [
      " 55%|█████▌    | 550/1000 [36:47<23:56,  3.19s/it]"
     ]
    },
    {
     "name": "stdout",
     "output_type": "stream",
     "text": [
      "Start takeover after 549 gen\n"
     ]
    },
    {
     "name": "stderr",
     "output_type": "stream",
     "text": [
      " 56%|█████▌    | 557/1000 [37:16<20:05,  2.72s/it]"
     ]
    },
    {
     "name": "stdout",
     "output_type": "stream",
     "text": [
      "Start takeover after 556 gen\n"
     ]
    },
    {
     "name": "stderr",
     "output_type": "stream",
     "text": [
      " 56%|█████▋    | 564/1000 [37:47<20:20,  2.80s/it]"
     ]
    },
    {
     "name": "stdout",
     "output_type": "stream",
     "text": [
      "Start takeover after 563 gen\n"
     ]
    },
    {
     "name": "stderr",
     "output_type": "stream",
     "text": [
      " 57%|█████▋    | 570/1000 [38:16<22:15,  3.11s/it]"
     ]
    },
    {
     "name": "stdout",
     "output_type": "stream",
     "text": [
      "Start takeover after 569 gen\n"
     ]
    },
    {
     "name": "stderr",
     "output_type": "stream",
     "text": [
      " 58%|█████▊    | 577/1000 [38:47<20:06,  2.85s/it]"
     ]
    },
    {
     "name": "stdout",
     "output_type": "stream",
     "text": [
      "Start takeover after 576 gen\n"
     ]
    },
    {
     "name": "stderr",
     "output_type": "stream",
     "text": [
      " 58%|█████▊    | 584/1000 [39:19<19:49,  2.86s/it]"
     ]
    },
    {
     "name": "stdout",
     "output_type": "stream",
     "text": [
      "Start takeover after 583 gen\n"
     ]
    },
    {
     "name": "stderr",
     "output_type": "stream",
     "text": [
      " 59%|█████▉    | 591/1000 [39:51<19:23,  2.84s/it]"
     ]
    },
    {
     "name": "stdout",
     "output_type": "stream",
     "text": [
      "Start takeover after 590 gen\n"
     ]
    },
    {
     "name": "stderr",
     "output_type": "stream",
     "text": [
      " 60%|█████▉    | 597/1000 [40:19<20:35,  3.07s/it]"
     ]
    },
    {
     "name": "stdout",
     "output_type": "stream",
     "text": [
      "Start takeover after 596 gen\n"
     ]
    },
    {
     "name": "stderr",
     "output_type": "stream",
     "text": [
      " 60%|██████    | 604/1000 [40:49<18:17,  2.77s/it]"
     ]
    },
    {
     "name": "stdout",
     "output_type": "stream",
     "text": [
      "Start takeover after 603 gen\n"
     ]
    },
    {
     "name": "stderr",
     "output_type": "stream",
     "text": [
      " 61%|██████    | 611/1000 [41:21<18:28,  2.85s/it]"
     ]
    },
    {
     "name": "stdout",
     "output_type": "stream",
     "text": [
      "Start takeover after 610 gen\n"
     ]
    },
    {
     "name": "stderr",
     "output_type": "stream",
     "text": [
      " 62%|██████▏   | 618/1000 [41:52<17:45,  2.79s/it]"
     ]
    },
    {
     "name": "stdout",
     "output_type": "stream",
     "text": [
      "Start takeover after 617 gen\n"
     ]
    },
    {
     "name": "stderr",
     "output_type": "stream",
     "text": [
      " 62%|██████▏   | 624/1000 [42:20<19:23,  3.09s/it]"
     ]
    },
    {
     "name": "stdout",
     "output_type": "stream",
     "text": [
      "Start takeover after 623 gen\n"
     ]
    },
    {
     "name": "stderr",
     "output_type": "stream",
     "text": [
      " 63%|██████▎   | 631/1000 [42:54<18:21,  2.98s/it]"
     ]
    },
    {
     "name": "stdout",
     "output_type": "stream",
     "text": [
      "Start takeover after 630 gen\n"
     ]
    },
    {
     "name": "stderr",
     "output_type": "stream",
     "text": [
      " 64%|██████▎   | 637/1000 [43:23<19:49,  3.28s/it]"
     ]
    },
    {
     "name": "stdout",
     "output_type": "stream",
     "text": [
      "Start takeover after 636 gen\n"
     ]
    },
    {
     "name": "stderr",
     "output_type": "stream",
     "text": [
      " 64%|██████▍   | 644/1000 [43:56<17:24,  2.94s/it]"
     ]
    },
    {
     "name": "stdout",
     "output_type": "stream",
     "text": [
      "Start takeover after 643 gen\n"
     ]
    },
    {
     "name": "stderr",
     "output_type": "stream",
     "text": [
      " 65%|██████▌   | 651/1000 [44:28<16:28,  2.83s/it]"
     ]
    },
    {
     "name": "stdout",
     "output_type": "stream",
     "text": [
      "Start takeover after 650 gen\n"
     ]
    },
    {
     "name": "stderr",
     "output_type": "stream",
     "text": [
      " 66%|██████▌   | 657/1000 [44:57<18:06,  3.17s/it]"
     ]
    },
    {
     "name": "stdout",
     "output_type": "stream",
     "text": [
      "Start takeover after 656 gen\n"
     ]
    },
    {
     "name": "stderr",
     "output_type": "stream",
     "text": [
      " 66%|██████▋   | 664/1000 [45:30<16:42,  2.98s/it]"
     ]
    },
    {
     "name": "stdout",
     "output_type": "stream",
     "text": [
      "Start takeover after 663 gen\n"
     ]
    },
    {
     "name": "stderr",
     "output_type": "stream",
     "text": [
      " 67%|██████▋   | 671/1000 [45:59<14:51,  2.71s/it]"
     ]
    },
    {
     "name": "stdout",
     "output_type": "stream",
     "text": [
      "Start takeover after 670 gen\n"
     ]
    },
    {
     "name": "stderr",
     "output_type": "stream",
     "text": [
      " 68%|██████▊   | 678/1000 [46:33<15:58,  2.98s/it]"
     ]
    },
    {
     "name": "stdout",
     "output_type": "stream",
     "text": [
      "Start takeover after 677 gen\n"
     ]
    },
    {
     "name": "stderr",
     "output_type": "stream",
     "text": [
      " 68%|██████▊   | 684/1000 [47:02<16:50,  3.20s/it]"
     ]
    },
    {
     "name": "stdout",
     "output_type": "stream",
     "text": [
      "Start takeover after 683 gen\n"
     ]
    },
    {
     "name": "stderr",
     "output_type": "stream",
     "text": [
      " 69%|██████▉   | 691/1000 [47:34<14:49,  2.88s/it]"
     ]
    },
    {
     "name": "stdout",
     "output_type": "stream",
     "text": [
      "Start takeover after 690 gen\n"
     ]
    },
    {
     "name": "stderr",
     "output_type": "stream",
     "text": [
      " 70%|██████▉   | 698/1000 [48:05<14:13,  2.83s/it]"
     ]
    },
    {
     "name": "stdout",
     "output_type": "stream",
     "text": [
      "Start takeover after 697 gen\n"
     ]
    },
    {
     "name": "stderr",
     "output_type": "stream",
     "text": [
      " 70%|███████   | 705/1000 [48:38<14:30,  2.95s/it]"
     ]
    },
    {
     "name": "stdout",
     "output_type": "stream",
     "text": [
      "Start takeover after 704 gen\n"
     ]
    },
    {
     "name": "stderr",
     "output_type": "stream",
     "text": [
      " 71%|███████   | 712/1000 [49:10<13:36,  2.83s/it]"
     ]
    },
    {
     "name": "stdout",
     "output_type": "stream",
     "text": [
      "Start takeover after 711 gen\n"
     ]
    },
    {
     "name": "stderr",
     "output_type": "stream",
     "text": [
      " 72%|███████▏  | 718/1000 [49:39<14:35,  3.11s/it]"
     ]
    },
    {
     "name": "stdout",
     "output_type": "stream",
     "text": [
      "Start takeover after 717 gen\n"
     ]
    },
    {
     "name": "stderr",
     "output_type": "stream",
     "text": [
      " 72%|███████▏  | 724/1000 [50:07<14:20,  3.12s/it]"
     ]
    },
    {
     "name": "stdout",
     "output_type": "stream",
     "text": [
      "Start takeover after 723 gen\n"
     ]
    },
    {
     "name": "stderr",
     "output_type": "stream",
     "text": [
      " 73%|███████▎  | 731/1000 [50:42<14:10,  3.16s/it]"
     ]
    },
    {
     "name": "stdout",
     "output_type": "stream",
     "text": [
      "Start takeover after 730 gen\n"
     ]
    },
    {
     "name": "stderr",
     "output_type": "stream",
     "text": [
      " 74%|███████▍  | 738/1000 [51:14<12:44,  2.92s/it]"
     ]
    },
    {
     "name": "stdout",
     "output_type": "stream",
     "text": [
      "Start takeover after 737 gen\n"
     ]
    },
    {
     "name": "stderr",
     "output_type": "stream",
     "text": [
      " 74%|███████▍  | 744/1000 [51:43<13:30,  3.17s/it]"
     ]
    },
    {
     "name": "stdout",
     "output_type": "stream",
     "text": [
      "Start takeover after 743 gen\n"
     ]
    },
    {
     "name": "stderr",
     "output_type": "stream",
     "text": [
      " 75%|███████▌  | 751/1000 [52:16<12:04,  2.91s/it]"
     ]
    },
    {
     "name": "stdout",
     "output_type": "stream",
     "text": [
      "Start takeover after 750 gen\n"
     ]
    },
    {
     "name": "stderr",
     "output_type": "stream",
     "text": [
      " 76%|███████▌  | 758/1000 [52:49<12:03,  2.99s/it]"
     ]
    },
    {
     "name": "stdout",
     "output_type": "stream",
     "text": [
      "Start takeover after 757 gen\n"
     ]
    },
    {
     "name": "stderr",
     "output_type": "stream",
     "text": [
      " 76%|███████▋  | 764/1000 [53:19<12:36,  3.21s/it]"
     ]
    },
    {
     "name": "stdout",
     "output_type": "stream",
     "text": [
      "Start takeover after 763 gen\n"
     ]
    },
    {
     "name": "stderr",
     "output_type": "stream",
     "text": [
      " 77%|███████▋  | 771/1000 [53:50<10:58,  2.88s/it]"
     ]
    },
    {
     "name": "stdout",
     "output_type": "stream",
     "text": [
      "Start takeover after 770 gen\n"
     ]
    },
    {
     "name": "stderr",
     "output_type": "stream",
     "text": [
      " 78%|███████▊  | 777/1000 [54:22<12:29,  3.36s/it]"
     ]
    },
    {
     "name": "stdout",
     "output_type": "stream",
     "text": [
      "Start takeover after 776 gen\n"
     ]
    },
    {
     "name": "stderr",
     "output_type": "stream",
     "text": [
      " 78%|███████▊  | 783/1000 [54:52<12:09,  3.36s/it]"
     ]
    },
    {
     "name": "stdout",
     "output_type": "stream",
     "text": [
      "Start takeover after 782 gen\n"
     ]
    },
    {
     "name": "stderr",
     "output_type": "stream",
     "text": [
      " 79%|███████▉  | 789/1000 [55:23<11:44,  3.34s/it]"
     ]
    },
    {
     "name": "stdout",
     "output_type": "stream",
     "text": [
      "Start takeover after 788 gen\n"
     ]
    },
    {
     "name": "stderr",
     "output_type": "stream",
     "text": [
      " 80%|███████▉  | 796/1000 [55:56<10:08,  2.98s/it]"
     ]
    },
    {
     "name": "stdout",
     "output_type": "stream",
     "text": [
      "Start takeover after 795 gen\n"
     ]
    },
    {
     "name": "stderr",
     "output_type": "stream",
     "text": [
      " 80%|████████  | 802/1000 [56:26<10:39,  3.23s/it]"
     ]
    },
    {
     "name": "stdout",
     "output_type": "stream",
     "text": [
      "Start takeover after 801 gen\n"
     ]
    },
    {
     "name": "stderr",
     "output_type": "stream",
     "text": [
      " 81%|████████  | 809/1000 [56:58<09:10,  2.88s/it]"
     ]
    },
    {
     "name": "stdout",
     "output_type": "stream",
     "text": [
      "Start takeover after 808 gen\n"
     ]
    },
    {
     "name": "stderr",
     "output_type": "stream",
     "text": [
      " 82%|████████▏ | 815/1000 [57:27<09:49,  3.19s/it]"
     ]
    },
    {
     "name": "stdout",
     "output_type": "stream",
     "text": [
      "Start takeover after 814 gen\n"
     ]
    },
    {
     "name": "stderr",
     "output_type": "stream",
     "text": [
      " 82%|████████▏ | 822/1000 [58:02<08:54,  3.00s/it]"
     ]
    },
    {
     "name": "stdout",
     "output_type": "stream",
     "text": [
      "Start takeover after 821 gen\n"
     ]
    },
    {
     "name": "stderr",
     "output_type": "stream",
     "text": [
      " 83%|████████▎ | 829/1000 [58:36<08:34,  3.01s/it]"
     ]
    },
    {
     "name": "stdout",
     "output_type": "stream",
     "text": [
      "Start takeover after 828 gen\n"
     ]
    },
    {
     "name": "stderr",
     "output_type": "stream",
     "text": [
      " 84%|████████▎ | 836/1000 [59:07<07:46,  2.84s/it]"
     ]
    },
    {
     "name": "stdout",
     "output_type": "stream",
     "text": [
      "Start takeover after 835 gen\n"
     ]
    },
    {
     "name": "stderr",
     "output_type": "stream",
     "text": [
      " 84%|████████▍ | 842/1000 [59:38<08:48,  3.34s/it]"
     ]
    },
    {
     "name": "stdout",
     "output_type": "stream",
     "text": [
      "Start takeover after 841 gen\n"
     ]
    },
    {
     "name": "stderr",
     "output_type": "stream",
     "text": [
      " 85%|████████▍ | 848/1000 [1:00:08<08:22,  3.31s/it]"
     ]
    },
    {
     "name": "stdout",
     "output_type": "stream",
     "text": [
      "Start takeover after 847 gen\n"
     ]
    },
    {
     "name": "stderr",
     "output_type": "stream",
     "text": [
      " 86%|████████▌ | 855/1000 [1:00:40<07:00,  2.90s/it]"
     ]
    },
    {
     "name": "stdout",
     "output_type": "stream",
     "text": [
      "Start takeover after 854 gen\n"
     ]
    },
    {
     "name": "stderr",
     "output_type": "stream",
     "text": [
      " 86%|████████▌ | 862/1000 [1:01:11<06:27,  2.80s/it]"
     ]
    },
    {
     "name": "stdout",
     "output_type": "stream",
     "text": [
      "Start takeover after 861 gen\n"
     ]
    },
    {
     "name": "stderr",
     "output_type": "stream",
     "text": [
      " 87%|████████▋ | 869/1000 [1:01:44<06:21,  2.91s/it]"
     ]
    },
    {
     "name": "stdout",
     "output_type": "stream",
     "text": [
      "Start takeover after 868 gen\n"
     ]
    },
    {
     "name": "stderr",
     "output_type": "stream",
     "text": [
      " 88%|████████▊ | 875/1000 [1:02:15<06:44,  3.24s/it]"
     ]
    },
    {
     "name": "stdout",
     "output_type": "stream",
     "text": [
      "Start takeover after 874 gen\n"
     ]
    },
    {
     "name": "stderr",
     "output_type": "stream",
     "text": [
      " 89%|████████▉ | 889/1000 [1:02:59<03:56,  2.13s/it]"
     ]
    },
    {
     "name": "stdout",
     "output_type": "stream",
     "text": [
      "Start takeover after 888 gen\n"
     ]
    },
    {
     "name": "stderr",
     "output_type": "stream",
     "text": [
      " 90%|████████▉ | 895/1000 [1:03:28<05:23,  3.08s/it]"
     ]
    },
    {
     "name": "stdout",
     "output_type": "stream",
     "text": [
      "Start takeover after 894 gen\n"
     ]
    },
    {
     "name": "stderr",
     "output_type": "stream",
     "text": [
      " 90%|█████████ | 901/1000 [1:03:58<05:23,  3.27s/it]"
     ]
    },
    {
     "name": "stdout",
     "output_type": "stream",
     "text": [
      "Start takeover after 900 gen\n"
     ]
    },
    {
     "name": "stderr",
     "output_type": "stream",
     "text": [
      " 91%|█████████ | 908/1000 [1:04:31<04:32,  2.96s/it]"
     ]
    },
    {
     "name": "stdout",
     "output_type": "stream",
     "text": [
      "Start takeover after 907 gen\n"
     ]
    },
    {
     "name": "stderr",
     "output_type": "stream",
     "text": [
      " 91%|█████████▏| 914/1000 [1:05:03<04:52,  3.41s/it]"
     ]
    },
    {
     "name": "stdout",
     "output_type": "stream",
     "text": [
      "Start takeover after 913 gen\n"
     ]
    },
    {
     "name": "stderr",
     "output_type": "stream",
     "text": [
      " 92%|█████████▏| 920/1000 [1:05:34<04:24,  3.31s/it]"
     ]
    },
    {
     "name": "stdout",
     "output_type": "stream",
     "text": [
      "Start takeover after 919 gen\n"
     ]
    },
    {
     "name": "stderr",
     "output_type": "stream",
     "text": [
      " 93%|█████████▎| 926/1000 [1:06:04<04:08,  3.36s/it]"
     ]
    },
    {
     "name": "stdout",
     "output_type": "stream",
     "text": [
      "Start takeover after 925 gen\n"
     ]
    },
    {
     "name": "stderr",
     "output_type": "stream",
     "text": [
      " 93%|█████████▎| 932/1000 [1:06:34<03:45,  3.32s/it]"
     ]
    },
    {
     "name": "stdout",
     "output_type": "stream",
     "text": [
      "Start takeover after 931 gen\n"
     ]
    },
    {
     "name": "stderr",
     "output_type": "stream",
     "text": [
      " 94%|█████████▍| 939/1000 [1:07:07<02:58,  2.92s/it]"
     ]
    },
    {
     "name": "stdout",
     "output_type": "stream",
     "text": [
      "Start takeover after 938 gen\n"
     ]
    },
    {
     "name": "stderr",
     "output_type": "stream",
     "text": [
      " 95%|█████████▍| 946/1000 [1:07:41<02:42,  3.01s/it]"
     ]
    },
    {
     "name": "stdout",
     "output_type": "stream",
     "text": [
      "Start takeover after 945 gen\n"
     ]
    },
    {
     "name": "stderr",
     "output_type": "stream",
     "text": [
      " 95%|█████████▌| 952/1000 [1:08:12<02:41,  3.37s/it]"
     ]
    },
    {
     "name": "stdout",
     "output_type": "stream",
     "text": [
      "Start takeover after 951 gen\n"
     ]
    },
    {
     "name": "stderr",
     "output_type": "stream",
     "text": [
      " 96%|█████████▌| 958/1000 [1:08:42<02:17,  3.27s/it]"
     ]
    },
    {
     "name": "stdout",
     "output_type": "stream",
     "text": [
      "Start takeover after 957 gen\n"
     ]
    },
    {
     "name": "stderr",
     "output_type": "stream",
     "text": [
      " 96%|█████████▋| 965/1000 [1:09:16<01:44,  2.99s/it]"
     ]
    },
    {
     "name": "stdout",
     "output_type": "stream",
     "text": [
      "Start takeover after 964 gen\n"
     ]
    },
    {
     "name": "stderr",
     "output_type": "stream",
     "text": [
      " 97%|█████████▋| 972/1000 [1:09:49<01:22,  2.95s/it]"
     ]
    },
    {
     "name": "stdout",
     "output_type": "stream",
     "text": [
      "Start takeover after 971 gen\n"
     ]
    },
    {
     "name": "stderr",
     "output_type": "stream",
     "text": [
      " 98%|█████████▊| 978/1000 [1:10:18<01:09,  3.14s/it]"
     ]
    },
    {
     "name": "stdout",
     "output_type": "stream",
     "text": [
      "Start takeover after 977 gen\n"
     ]
    },
    {
     "name": "stderr",
     "output_type": "stream",
     "text": [
      " 98%|█████████▊| 985/1000 [1:10:52<00:45,  3.01s/it]"
     ]
    },
    {
     "name": "stdout",
     "output_type": "stream",
     "text": [
      "Start takeover after 984 gen\n"
     ]
    },
    {
     "name": "stderr",
     "output_type": "stream",
     "text": [
      " 99%|█████████▉| 991/1000 [1:11:21<00:28,  3.13s/it]"
     ]
    },
    {
     "name": "stdout",
     "output_type": "stream",
     "text": [
      "Start takeover after 990 gen\n"
     ]
    },
    {
     "name": "stderr",
     "output_type": "stream",
     "text": [
      "100%|█████████▉| 997/1000 [1:11:50<00:09,  3.19s/it]"
     ]
    },
    {
     "name": "stdout",
     "output_type": "stream",
     "text": [
      "Start takeover after 996 gen\n"
     ]
    },
    {
     "name": "stderr",
     "output_type": "stream",
     "text": [
      "100%|██████████| 1000/1000 [1:12:15<00:00,  4.34s/it]"
     ]
    },
    {
     "name": "stdout",
     "output_type": "stream",
     "text": [
      "np.multiply(x0, np.multiply(np.add(np.add(np.multiply(x4, -0.38077239873450663), np.multiply(x3, x1)), x2), np.tan(np.tan(0.12550577676474137))))\n",
      "Best Fitness: 23.328835453876735\n",
      "Best Fitness History: [290.95243895862944, 269.24377563272463, 223.91340608315824, 160.71356805848944, 138.29853233923873, 137.93930402479455, 136.59815138692136, 136.58623971188723, 136.58618672131882, 136.54204555673797, 136.52373707361784, 136.51335105668204, 136.497469447812, 136.4844330476524, 136.46674288533166, 136.45998012719977, 136.43466168982198, 136.42859883747627, 136.42516988768384, 136.4232017143465, 136.41988922667124, 136.4195389029037, 114.27699334305305, 114.27692131253765, 114.27470502348126, 36.54036659054051, 35.593953315757105, 27.292264564946116, 26.04727897270551, 25.508022652192224, 25.00868120289558, 24.256227276469023, 23.970947588425002, 23.596467488322624, 23.55745182009173, 23.53542070601366, 23.333294070515112, 23.329793578010108, 23.329495598764268, 23.328846941585414, 23.328835453876735], changed 41 times\n",
      "Best Tree:\n"
     ]
    },
    {
     "name": "stderr",
     "output_type": "stream",
     "text": [
      "\n"
     ]
    },
    {
     "data": {
      "image/png": "[encoded data removed]",
      "text/plain": [
       "<Figure size 1200x800 with 1 Axes>"
      ]
     },
     "metadata": {},
     "output_type": "display_data"
    }
   ],
   "source": [
    "from tree import Tree\n",
    "\n",
    "class SymbolicRegression:\n",
    "    def __init__(self, population_size, max_generations, mutation_rate, elitism_size, grow_full_ratio,test_cases):\n",
    "        self.population_size = population_size\n",
    "        self.max_generations = max_generations\n",
    "        self.mutation_rate = mutation_rate\n",
    "        self.best_fitness_history = []\n",
    "        self.unary_ops = unary_ops\n",
    "        self.binary_ops = binary_ops\n",
    "        self.elitism_size = elitism_size\n",
    "        self.grow_full_ratio = grow_full_ratio\n",
    "        self.test_cases = test_cases\n",
    "\n",
    "        self.population = [Tree(\"grow\") for _ in range(int(population_size*self.grow_full_ratio))] + [Tree(\"full\") for _ in range(int(population_size*(1-self.grow_full_ratio)))]\n",
    "\n",
    "    \n",
    "    # Parents selection\n",
    "    def select_parents(self):\n",
    "        return np.random.choice(self.population, 2)\n",
    "    \n",
    "    def select_parents_tournament(self):\n",
    "        tournament_size = 7\n",
    "        tournament = list(np.random.choice(self.population, tournament_size))\n",
    "        tournament.sort(key=lambda x: x.fitness)\n",
    "        return tournament[0], tournament[1]\n",
    "    \n",
    "    def select_parents(self):\n",
    "        if np.random.rand() < 0:\n",
    "            return self.select_parents_tournament()\n",
    "        else:\n",
    "            return self.fitness_proportional_selection()\n",
    "        \n",
    "    # def select_parents_lexicase(self):\n",
    "    #     #select a random test case\n",
    "    #     for()\n",
    "    #     test_case = np.random.choice(self.test_cases)\n",
    "    #     #sort the population based on the fitness of the test case\n",
    "    #     self.population.sort(key=lambda x: Tree.evaluate_tree_recursive(x.root, test_case[0]))\n",
    "\n",
    "\n",
    "class SymbolicRegression:\n",
    "    def __init__(self, population_size, max_generations, mutation_rate, elitism_size, grow_full_ratio, test_cases):\n",
    "        self.population_size = population_size\n",
    "        self.max_generations = max_generations\n",
    "        self.mutation_rate = mutation_rate\n",
    "        self.best_fitness_history = []\n",
    "        self.unary_ops = unary_ops\n",
    "        self.binary_ops = binary_ops\n",
    "        self.elitism_size = elitism_size\n",
    "        self.grow_full_ratio = grow_full_ratio\n",
    "        self.test_cases = test_cases\n",
    "\n",
    "        self.population = [Tree(\"grow\") for _ in range(int(population_size * self.grow_full_ratio))] + \\\n",
    "                          [Tree(\"full\") for _ in range(int(population_size * (1 - self.grow_full_ratio)))]\n",
    "\n",
    "    # Parents selection\n",
    "    def select_parents(self):\n",
    "        if np.random.rand() < 0:\n",
    "            return self.select_parents_tournament()\n",
    "        else:\n",
    "            return self.rank_based_selection()\n",
    "\n",
    "    def select_parents_tournament(self):\n",
    "        tournament_size = 7\n",
    "        tournament = list(np.random.choice(self.population, tournament_size))\n",
    "        tournament.sort(key=lambda x: x.fitness)\n",
    "        return tournament[0], tournament[1]\n",
    "\n",
    "    # def fitness_proportional_selection(self, n_elems=2): #TODO:   implement this\n",
    "    def rank_based_selection(self, n_elems=2):\n",
    "        \"\"\"\n",
    "        Rank-based selection method.\n",
    "        Assigns probabilities based on inversed ranks instead of absolute fitness values.\n",
    "        \"\"\"\n",
    "        fitnesses = np.array([tree.fitness for tree in self.population])\n",
    "        ranks = np.argsort(fitnesses)\n",
    "        inversed_ranks = len(fitnesses) - ranks\n",
    "        probabilities = inversed_ranks / np.sum(inversed_ranks)\n",
    "        return np.random.choice(self.population, n_elems, p=probabilities)\n",
    "\n",
    "\n",
    "\n",
    "\n",
    "    def select_parents_roulette(self):\n",
    "        fitnesses = [tree.fitness for tree in self.population]\n",
    "        total_fitness = sum(fitnesses)\n",
    "        probabilities = [f / total_fitness for f in fitnesses]\n",
    "        parent1, parent2 = np.random.choice(self.population, size=2, p=probabilities)\n",
    "        return parent1, parent2\n",
    "\n",
    "    def mutate(self, tree):\n",
    "        if np.random.rand() < self.mutation_rate:\n",
    "            if np.random.rand() < 0.5:\n",
    "                tree.mutate_subtree()\n",
    "            else:\n",
    "                tree.mutate_single_node()\n",
    "\n",
    "    def offspring_generation(self):\n",
    "        new_population = []\n",
    "\n",
    "        # Elitism   \n",
    "        elite_individuals = self.population[:self.elitism_size]\n",
    "        new_population.extend(elite_individuals)\n",
    "\n",
    "        \n",
    "        #Main loop\n",
    "        while len(new_population) < self.population_size:\n",
    "                parent1, parent2 = self.select_parents()\n",
    "                offsprings=[]\n",
    "                if(np.random.rand() < 0.00):\n",
    "                    parent_clone=parent1.copy_tree()\n",
    "                    self.mutate(parent_clone)\n",
    "                    Tree.collapse_branch(parent_clone.root)\n",
    "                    offsprings.append(parent_clone)\n",
    "\n",
    "                else:    \n",
    "                    offspring1,offspring2=Tree.crossover(parent1, parent2)\n",
    "                    if(offspring1 is not None or offspring2 is not None):\n",
    "                        Tree.collapse_branch(offspring1.root)\n",
    "                        Tree.collapse_branch(offspring2.root)\n",
    "                    \n",
    "                        # self.mutate(offspring1)\n",
    "                        # self.mutate(offspring2)\n",
    "            \n",
    "                        offsprings.append(offspring1)\n",
    "                        offsprings.append(offspring2)\n",
    "                new_population.extend(offsprings)\n",
    "        return new_population\n",
    "\n",
    "\n",
    "    def evolve(self):\n",
    "        best_tree = None\n",
    "        best_fitness = np.inf\n",
    "        take_over = False\n",
    "        self.population.sort(key=lambda x: x.fitness) \n",
    "        for generation in tqdm(range(self.max_generations)):\n",
    "            \n",
    "            if take_over:\n",
    "                #trasform the population in set and then back to list to remove duplicates\n",
    "                self.population = list(set(self.population))\n",
    "                #sort the population based on fitness\n",
    "                self.population.sort(key=lambda x: x.fitness)\n",
    "                self.population = self.population[:int(self.population_size*0.1)]\n",
    "                new_trees = [Tree(\"full\") for _ in range(int(self.population_size*0.3))]+[Tree(\"grow\") for _ in range(int(self.population_size*0.3))]\n",
    "                self.population.extend(new_trees)\n",
    "            \n",
    "            \n",
    "            new_population=self.offspring_generation()\n",
    "            \n",
    "\n",
    "            self.population += new_population\n",
    "            for tree in self.population:\n",
    "                tree.compute_fitness()\n",
    "            generation_fitnesses = [tree.fitness for tree in self.population]\n",
    "            generation_best_fitness = min(generation_fitnesses)\n",
    "\n",
    "            if generation_best_fitness < best_fitness:\n",
    "                best_fitness = generation_best_fitness\n",
    "                best_tree = self.population[np.argmin(generation_fitnesses)]\n",
    "                self.best_fitness_history.append(best_fitness)\n",
    "            #trim the population to the best population_size\n",
    "            self.population.sort(key=lambda x: x.fitness)\n",
    "            self.population = self.population[:self.population_size]\n",
    "            # print(f\"Generation {generation + 1}, Best Fitness: {best_fitness}\")\n",
    "            \n",
    "\n",
    "            n_best = [elem for elem in self.population if elem.fitness == self.population[0].fitness]\n",
    "            take_over = False\n",
    "            if len(n_best) > 0.9 * self.population_size:\n",
    "                    take_over = True\n",
    "                    print(f\"Start takeover after {generation} gen\")\n",
    "            \n",
    "\n",
    "         \n",
    "                \n",
    "                \n",
    "        return best_tree, best_fitness\n",
    "\n",
    "\n",
    "TREE_DEPTH = 5\n",
    "VAR_NUM = 5\n",
    "Tree.set_params(unary_ops, binary_ops, VAR_NUM, 75,TREE_DEPTH, x, y)\n",
    "regressor = SymbolicRegression(\n",
    "    population_size=300,\n",
    "    max_generations=1000,\n",
    "    mutation_rate=0.1,\n",
    "    elitism_size=2,\n",
    "    grow_full_ratio=0.7,\n",
    "    test_cases=(x, y)\n",
    ")\n",
    "\n",
    "#TODO: fare in modo che la stessa variabile possa comparire piu' volte\n",
    "best_tree, best_fitness = regressor.evolve()\n",
    "print(best_tree.to_np_formula())\n",
    "print(f\"Best Fitness: {best_fitness}\")\n",
    "print(f\"Best Fitness History: {regressor.best_fitness_history}, changed {len(regressor.best_fitness_history)} times\")\n",
    "print(\"Best Tree:\")\n",
    "best_tree.add_drawing()\n",
    "\n",
    "\n",
    "\n",
    "# print(x.shape)\n",
    "# # print(x)\n",
    "# # print([x[0][0]]+[x[1][0]]+[x[2][0]])\n",
    "# print(regressor.population[0].fitness)\n",
    "# regressor.population[0].print_tree()\n",
    "# print(regressor.population[0].evaluate_tree([x[0][0]]+[x[1][0]]+[x[2][0]]))\n",
    "# print(regressor.population[0].evaluate_tree(x[:,0]))\n",
    "# print(\"Best Tree:\")\n",
    "# best_tree.print_tree()\n",
    "# print(f\"Best Fitness: {best_fitness}\")\n"
   ]
  },
  {
   "cell_type": "code",
   "execution_count": 6,
   "metadata": {},
   "outputs": [],
   "source": [
    "#print every tree in the population\n",
    "\n",
    "# for tree in regressor.population:\n",
    "\n",
    "#     tree.add_drawing()\n",
    "\n",
    "\n"
   ]
  },
  {
   "cell_type": "code",
   "execution_count": null,
   "metadata": {},
   "outputs": [],
   "source": []
  }
 ],
 "metadata": {
  "kernelspec": {
   "display_name": "Python 3",
   "language": "python",
   "name": "python3"
  },
  "language_info": {
   "codemirror_mode": {
    "name": "ipython",
    "version": 3
   },
   "file_extension": ".py",
   "mimetype": "text/x-python",
   "name": "python",
   "nbconvert_exporter": "python",
   "pygments_lexer": "ipython3",
   "version": "3.12.3"
  }
 },
 "nbformat": 4,
 "nbformat_minor": 2
}
